{
 "cells": [
  {
   "cell_type": "markdown",
   "id": "b0bccd77-9a6c-4397-8c2c-544d9da37828",
   "metadata": {},
   "source": [
    "<h1> LIBRERIAS PARA INTELIGENCIA ARTIFICIAL </h1>\n",
    "<strong>NUMPY</strong>\n",
    "<strong>PANDAS</strong>\n",
    "<strong>MATPLOTLIB</strong>\n",
    "<strong>SEABORN</strong>"
   ]
  },
  {
   "cell_type": "raw",
   "id": "c483e896-36a3-478b-9661-de349224838a",
   "metadata": {},
   "source": [
    "UTILIZAMOS ESTAS LIBRERÍAS PARA REALIZAR PREDICCIONES\n",
    "ANÁLISIS DE MUCHOS DATOS, "
   ]
  },
  {
   "cell_type": "raw",
   "id": "6e278745-bede-4351-84c5-383ec5d04e0a",
   "metadata": {},
   "source": [
    "-------------NUMPY------------\n",
    "NUMERICAL PYTHON"
   ]
  },
  {
   "cell_type": "raw",
   "id": "5a78f2ab-6892-4be8-add5-cb2c4b21e32c",
   "metadata": {},
   "source": [
    "PYTHON PARA INTELIGENCIA ARTIFICIAL"
   ]
  },
  {
   "cell_type": "raw",
   "id": "2f7d7f6c-91b6-4b37-b8dd-d9347ada83f1",
   "metadata": {},
   "source": [
    "-------------PANDAS-----------\n",
    "PANDAS ES UN PAQUETE PARA ANALIZAR Y MANIPULAR DATOS\n",
    "DEPENDE MUCHO DE NUMPY"
   ]
  },
  {
   "cell_type": "raw",
   "id": "2e9187e6-9d0d-4b51-9235-56968f841eaa",
   "metadata": {},
   "source": [
    "------MATPLOTLIB Y SEABORN---------\n",
    "ESTAS LIBRERÍAS NOS AYUDARÁN A VISUALIZAR DATOS"
   ]
  },
  {
   "cell_type": "markdown",
   "id": "942c2f9e-9973-407c-8569-dd4642f86f01",
   "metadata": {},
   "source": [
    "<h2>ACCEDER, INSERTAR Y ELIMINAR ELEMENTOS </h2>"
   ]
  },
  {
   "cell_type": "raw",
   "id": "2cbf09e8-c2cb-432f-9069-4bb37d850b46",
   "metadata": {},
   "source": [
    "EN ARRAYS Y ARRAYS MULTIDIMENSIONALES"
   ]
  },
  {
   "cell_type": "markdown",
   "id": "35bc19c7-f5ef-4a39-8223-4a9594b595c9",
   "metadata": {},
   "source": [
    "<h3> NUMPY </h3>"
   ]
  },
  {
   "cell_type": "code",
   "execution_count": 1,
   "id": "7c68c74a-e628-48df-b2e9-b3b8a473550e",
   "metadata": {},
   "outputs": [
    {
     "name": "stdout",
     "output_type": "stream",
     "text": [
      "1\n",
      "4\n"
     ]
    }
   ],
   "source": [
    "import numpy as np\n",
    "#acceder\n",
    "x = np.array([1,2,3,4])\n",
    "print(x[0])\n",
    "print(x[-1])\n"
   ]
  },
  {
   "cell_type": "code",
   "execution_count": 2,
   "id": "aa0c6d69-e3a3-4f1f-9ee1-3ce67810fe29",
   "metadata": {},
   "outputs": [
    {
     "name": "stdout",
     "output_type": "stream",
     "text": [
      "[30  2  3 60]\n"
     ]
    }
   ],
   "source": [
    "x[0] = 30 \n",
    "x[-1] = 60\n",
    "print(x)"
   ]
  },
  {
   "cell_type": "code",
   "execution_count": 3,
   "id": "ce25cc36-cde9-4002-ba59-9e2b17d16fe9",
   "metadata": {},
   "outputs": [
    {
     "name": "stdout",
     "output_type": "stream",
     "text": [
      "[[1 2 3]\n",
      " [4 5 6]]\n",
      "[1 2 3]\n",
      "2\n"
     ]
    }
   ],
   "source": [
    "x = np.array([[1,2,3],[4,5,6]])\n",
    "print(x)\n",
    "print(x[0])\n",
    "print(x[0,1])"
   ]
  },
  {
   "cell_type": "code",
   "execution_count": 4,
   "id": "3c201521-077e-4192-95b9-07f29161cf7c",
   "metadata": {},
   "outputs": [
    {
     "name": "stdout",
     "output_type": "stream",
     "text": [
      "[[ 1 20  3]\n",
      " [ 4  5  6]]\n"
     ]
    }
   ],
   "source": [
    "x[0,1] = 20\n",
    "print(x)"
   ]
  },
  {
   "cell_type": "code",
   "execution_count": 5,
   "id": "8e5e7c9f-8444-41d9-92b0-43c9741a9e60",
   "metadata": {},
   "outputs": [
    {
     "name": "stdout",
     "output_type": "stream",
     "text": [
      "[1 2 3 4 5]\n"
     ]
    }
   ],
   "source": [
    "#eliminar elementos de un array\n",
    "#delete\n",
    "x = np.array([1,2,3,4,5])\n",
    "print(x)"
   ]
  },
  {
   "cell_type": "code",
   "execution_count": 6,
   "id": "48bb1804-960f-4a6d-88f8-7434d78beb55",
   "metadata": {},
   "outputs": [
    {
     "name": "stdout",
     "output_type": "stream",
     "text": [
      "[1 3 4 5]\n"
     ]
    }
   ],
   "source": [
    "x= np.delete(x, [1])\n",
    "print(x)\n"
   ]
  },
  {
   "cell_type": "code",
   "execution_count": 7,
   "id": "9211ed77-593d-4c5c-b91e-0319c73d763c",
   "metadata": {},
   "outputs": [
    {
     "name": "stdout",
     "output_type": "stream",
     "text": [
      "[3 4 5]\n"
     ]
    }
   ],
   "source": [
    "x= np.delete(x, 0 )\n",
    "print(x)"
   ]
  },
  {
   "cell_type": "code",
   "execution_count": 8,
   "id": "0e6b009e-e2fb-40f7-9d4a-99ffbdb75b91",
   "metadata": {},
   "outputs": [
    {
     "name": "stdout",
     "output_type": "stream",
     "text": [
      "[[1 2 3]\n",
      " [4 5 6]]\n",
      "resultado\n",
      "[[2 3]\n",
      " [5 6]]\n"
     ]
    }
   ],
   "source": [
    "x = np.array([[1,2,3],[4,5,6]])\n",
    "print(x)\n",
    "# Si quiero columna 1 si quiero fila 0\n",
    "x = np.delete(x,0, axis = 1 )\n",
    "print(\"resultado\")\n",
    "print(x)"
   ]
  },
  {
   "cell_type": "code",
   "execution_count": 9,
   "id": "bdc789f3-8566-4c51-82ba-f9a1b126d406",
   "metadata": {},
   "outputs": [
    {
     "name": "stdout",
     "output_type": "stream",
     "text": [
      "[[1 2 3]\n",
      " [4 5 6]]\n",
      "resultado\n",
      "[[4 5 6]]\n"
     ]
    }
   ],
   "source": [
    "x = np.array([[1,2,3],[4,5,6]])\n",
    "print(x)\n",
    "# Si quiero columna 1 si quiero fila 0\n",
    "x = np.delete(x,0, axis = 0 )\n",
    "print(\"resultado\")\n",
    "print(x)"
   ]
  },
  {
   "cell_type": "code",
   "execution_count": 10,
   "id": "0dbd5f44-a6fc-4f19-8512-4ff4f9b1bd7b",
   "metadata": {},
   "outputs": [
    {
     "name": "stdout",
     "output_type": "stream",
     "text": [
      "[1 2 3 4]\n",
      "[1 2 3 4 5]\n"
     ]
    }
   ],
   "source": [
    "#append agregar elementos al final del arreglo\n",
    "x = np.array([1,2,3,4])\n",
    "print(x)\n",
    "x = np.append(x,5)\n",
    "print(x)\n"
   ]
  },
  {
   "cell_type": "code",
   "execution_count": 11,
   "id": "3811a50a-1bbb-48ef-9e21-d97d65e0b02e",
   "metadata": {},
   "outputs": [
    {
     "name": "stdout",
     "output_type": "stream",
     "text": [
      "[1 2 3 4 5 6 7]\n"
     ]
    }
   ],
   "source": [
    "#agregar muchos elementos\n",
    "x = np.append(x,[6,7])\n",
    "print(x)\n"
   ]
  },
  {
   "cell_type": "code",
   "execution_count": 12,
   "id": "215b11da-c318-4379-ab2e-96ebe94a4e91",
   "metadata": {},
   "outputs": [
    {
     "name": "stdout",
     "output_type": "stream",
     "text": [
      "Array original\n",
      "[[1 2 3]\n",
      " [4 5 6]]\n",
      "Array alterado\n",
      "[[1 2 3]\n",
      " [4 5 6]\n",
      " [7 8 9]]\n"
     ]
    }
   ],
   "source": [
    "#Arreglos de más de una dimensión\n",
    "x = np.array([[1,2,3],[4,5,6]])\n",
    "print(\"Array original\")\n",
    "print(x)\n",
    "x = np.append(x,[[7,8,9]], axis = 0 )\n",
    "print(\"Array alterado\")\n",
    "print(x)"
   ]
  },
  {
   "cell_type": "code",
   "execution_count": 13,
   "id": "933aae37-ea41-4aa1-aade-983586d953a1",
   "metadata": {},
   "outputs": [
    {
     "name": "stdout",
     "output_type": "stream",
     "text": [
      "Array original\n",
      "[[1 2 3]\n",
      " [4 5 6]\n",
      " [7 8 9]]\n",
      "Array alterado\n",
      "[[1 2 3 7]\n",
      " [4 5 6 9]]\n"
     ]
    }
   ],
   "source": [
    "#Arreglos de más de una dimensión\n",
    "y = np.array([[1,2,3],[4,5,6]])\n",
    "print(\"Array original\")\n",
    "print(x)\n",
    "y = np.append(y,[[7],[9]], axis = 1 )\n",
    "print(\"Array alterado\")\n",
    "print(y)"
   ]
  },
  {
   "cell_type": "code",
   "execution_count": 14,
   "id": "13f1ca06-929b-47a4-b0c6-738d169efe2a",
   "metadata": {},
   "outputs": [
    {
     "name": "stdout",
     "output_type": "stream",
     "text": [
      "[1 2 3 4]\n",
      "[10 20  1  2  5  3  4]\n"
     ]
    }
   ],
   "source": [
    "# agregar elementos en posiciones específicas\n",
    "#insert\n",
    "x = np.array([1,2,3,4])\n",
    "print(x)\n",
    "#PRIMER ARGUMENTO POSICIÓN\n",
    "# SEGUNDO ARGUMENTO ELEMENTO A AÑADIR\n",
    "x = np.insert(x,2,5)\n",
    "x = np.insert(x,0,[10,20])\n",
    "print(x)"
   ]
  },
  {
   "cell_type": "code",
   "execution_count": 15,
   "id": "4e145ce2-1651-49c7-bfa8-38d5cc8a9941",
   "metadata": {},
   "outputs": [
    {
     "name": "stdout",
     "output_type": "stream",
     "text": [
      "[[1 2 3]\n",
      " [4 5 6]]\n",
      "[[ 1  2  3]\n",
      " [20 30 40]\n",
      " [ 4  5  6]]\n"
     ]
    }
   ],
   "source": [
    "x = np.array([[1,2,3],[4,5,6]])\n",
    "print(x)\n",
    "x = np.insert(x,1,[20,30,40], axis= 0)\n",
    "print(x)"
   ]
  },
  {
   "cell_type": "code",
   "execution_count": 16,
   "id": "c59b1999-cf8d-499a-a63c-ba912e61ddf2",
   "metadata": {},
   "outputs": [
    {
     "name": "stdout",
     "output_type": "stream",
     "text": [
      "[[1 2 3]\n",
      " [4 5 6]]\n",
      "[[ 1  2  3]\n",
      " [99 99 99]\n",
      " [ 4  5  6]]\n"
     ]
    }
   ],
   "source": [
    "x = np.array([[1,2,3],[4,5,6]])\n",
    "print(x)\n",
    "x = np.insert(x,1,99, axis= 0)\n",
    "print(x)"
   ]
  },
  {
   "cell_type": "code",
   "execution_count": 17,
   "id": "0339fb3f-0386-401d-aac6-752ec127ba7f",
   "metadata": {},
   "outputs": [
    {
     "name": "stdout",
     "output_type": "stream",
     "text": [
      "[[1 2 3]\n",
      " [4 5 6]]\n",
      "[[ 1 99  2  3]\n",
      " [ 4 99  5  6]]\n"
     ]
    }
   ],
   "source": [
    "x = np.array([[1,2,3],[4,5,6]])\n",
    "print(x)\n",
    "x = np.insert(x,1,99, axis= 1)\n",
    "print(x)"
   ]
  },
  {
   "cell_type": "code",
   "execution_count": 18,
   "id": "f7883632-73a1-4104-9419-e4fa664e6f40",
   "metadata": {},
   "outputs": [
    {
     "name": "stdout",
     "output_type": "stream",
     "text": [
      "[1 2]\n",
      "[[3 4]\n",
      " [5 6]]\n",
      "[[1 2]\n",
      " [3 4]\n",
      " [5 6]]\n"
     ]
    }
   ],
   "source": [
    "# vstack\n",
    "x= np.array([1,2])\n",
    "y = np.array([[3,4],[5,6]])\n",
    "print(x)\n",
    "print(y)\n",
    "z = np.vstack((x,y))\n",
    "print(z)"
   ]
  },
  {
   "cell_type": "code",
   "execution_count": 19,
   "id": "3248f753-23f1-487e-bd34-606bbdb79f36",
   "metadata": {},
   "outputs": [
    {
     "name": "stdout",
     "output_type": "stream",
     "text": [
      "[1 2]\n",
      "[3 4]\n",
      "[[1 2]\n",
      " [3 4]]\n"
     ]
    }
   ],
   "source": [
    "b = np.array([1,2])\n",
    "v = np.array([3,4])\n",
    "print(b)\n",
    "print(v)\n",
    "ty = np.vstack((b,v))\n",
    "print(ty)"
   ]
  },
  {
   "cell_type": "raw",
   "id": "b1253315",
   "metadata": {},
   "source": [
    "VAMOS A COMPARAR EL RENDIMIENTO\n",
    "DE UNA LISTA CONVENCIONAL DE\n",
    "PYTHON VS LA LIBRERÌA NUMPY\n",
    "ESPECIALIZADA EN INTELIGENC"
   ]
  },
  {
   "cell_type": "code",
   "execution_count": 20,
   "id": "1fe460bf",
   "metadata": {},
   "outputs": [],
   "source": [
    "import numpy as np\n",
    "import time"
   ]
  },
  {
   "cell_type": "code",
   "execution_count": 21,
   "id": "35959b3a",
   "metadata": {},
   "outputs": [
    {
     "data": {
      "text/plain": [
       "array([0.33061544, 0.21209753, 0.55943562, ..., 0.02976337, 0.58951404,\n",
       "       0.19629816])"
      ]
     },
     "execution_count": 21,
     "metadata": {},
     "output_type": "execute_result"
    }
   ],
   "source": [
    "x = np.random.random(100000000)\n",
    "x"
   ]
  },
  {
   "cell_type": "code",
   "execution_count": 22,
   "id": "4dc61beb",
   "metadata": {},
   "outputs": [
    {
     "name": "stdout",
     "output_type": "stream",
     "text": [
      "20.924009799957275\n"
     ]
    }
   ],
   "source": [
    "# convencional\n",
    "# inicializar variable para saber cual es el tiempo en que\n",
    "# inicio a hacer la operaciòn y luego agregar el tiempo total\n",
    "start = time.time()\n",
    "# sum se utiliza para devolver la suma de una iterable\n",
    "#puede omitir el uso de for\n",
    "# len calcula el largo de un arreglo\n",
    "sum(x) / len(x)\n",
    "print(time.time() - start)"
   ]
  },
  {
   "cell_type": "code",
   "execution_count": 23,
   "id": "be6da7ea",
   "metadata": {},
   "outputs": [
    {
     "name": "stdout",
     "output_type": "stream",
     "text": [
      "0.34800124168395996\n"
     ]
    }
   ],
   "source": [
    "# numpy  \n",
    "start = time.time()\n",
    "np.mean(x)\n",
    "print(time.time() - start)"
   ]
  },
  {
   "cell_type": "raw",
   "id": "9b232a8a",
   "metadata": {},
   "source": [
    "PUDIMOS VER QUE CON NUMPY ES MUCHO MÀS RÀPIDO"
   ]
  },
  {
   "cell_type": "code",
   "execution_count": 24,
   "id": "3edf14a7",
   "metadata": {},
   "outputs": [
    {
     "data": {
      "text/plain": [
       "array([   400,  50000,   6000, 700000])"
      ]
     },
     "execution_count": 24,
     "metadata": {},
     "output_type": "execute_result"
    }
   ],
   "source": [
    "arreglo = np.array([400,50000,6000,700000])\n",
    "arreglo"
   ]
  },
  {
   "cell_type": "code",
   "execution_count": 25,
   "id": "98d21380",
   "metadata": {},
   "outputs": [
    {
     "name": "stdout",
     "output_type": "stream",
     "text": [
      "(4,)\n"
     ]
    }
   ],
   "source": [
    "#shape devolver dimensiòn del array\n",
    "print(arreglo.shape)"
   ]
  },
  {
   "cell_type": "code",
   "execution_count": 26,
   "id": "4aced81e",
   "metadata": {},
   "outputs": [
    {
     "name": "stdout",
     "output_type": "stream",
     "text": [
      "<class 'numpy.ndarray'>\n"
     ]
    }
   ],
   "source": [
    "#type puedo saber el tipod e objeto que es\n",
    "print(type(arreglo))"
   ]
  },
  {
   "cell_type": "code",
   "execution_count": 27,
   "id": "32aebdfc",
   "metadata": {},
   "outputs": [
    {
     "name": "stdout",
     "output_type": "stream",
     "text": [
      "int32\n"
     ]
    }
   ],
   "source": [
    "#dtype tipos de elemtnos dentro del array\n",
    "print(arreglo.dtype)"
   ]
  },
  {
   "cell_type": "code",
   "execution_count": 28,
   "id": "5022db9e",
   "metadata": {},
   "outputs": [
    {
     "name": "stdout",
     "output_type": "stream",
     "text": [
      "(2,)\n",
      "<class 'numpy.ndarray'>\n",
      "<U9\n"
     ]
    }
   ],
   "source": [
    "t = np.array(['Menes','cleopatra'])\n",
    "t\n",
    "print(t.shape)\n",
    "print(type(t))\n",
    "print(t.dtype)"
   ]
  },
  {
   "cell_type": "code",
   "execution_count": 29,
   "id": "dd05aa81",
   "metadata": {},
   "outputs": [
    {
     "name": "stdout",
     "output_type": "stream",
     "text": [
      "(2, 3)\n",
      "<class 'numpy.ndarray'>\n",
      "int32\n"
     ]
    }
   ],
   "source": [
    "arregloDos = np.array([[1,2,3],[6,7,8]])\n",
    "arregloDos\n",
    "print(arregloDos.shape)\n",
    "print(type(arregloDos))\n",
    "print(arregloDos.dtype)"
   ]
  },
  {
   "cell_type": "code",
   "execution_count": 30,
   "id": "09bf3286",
   "metadata": {
    "scrolled": true
   },
   "outputs": [
    {
     "name": "stdout",
     "output_type": "stream",
     "text": [
      "(5,)\n",
      "<class 'numpy.ndarray'>\n",
      "<U11\n"
     ]
    }
   ],
   "source": [
    "combinado = np.array([1,2,3,4,'Hola'])\n",
    "print(combinado.shape)\n",
    "print(type(combinado))\n",
    "print(combinado.dtype)\n",
    "#Agregar el tipo de dato que queremos"
   ]
  },
  {
   "cell_type": "code",
   "execution_count": 31,
   "id": "e69f0264",
   "metadata": {},
   "outputs": [
    {
     "name": "stdout",
     "output_type": "stream",
     "text": [
      "(4,)\n",
      "<class 'numpy.ndarray'>\n",
      "int64\n"
     ]
    }
   ],
   "source": [
    "xx = np.array([72,8,9,89], dtype= np.int64)\n",
    "print(xx.shape)\n",
    "print(type(xx))\n",
    "print(xx.dtype)\n",
    "#Agregar el tipo de dato que queremos para el arreglo"
   ]
  },
  {
   "cell_type": "markdown",
   "id": "a1fb2b3b",
   "metadata": {},
   "source": [
    "<h1> NUMPY FUNCTIONS </h1>"
   ]
  },
  {
   "cell_type": "code",
   "execution_count": 32,
   "id": "a9162ac4",
   "metadata": {},
   "outputs": [
    {
     "name": "stdout",
     "output_type": "stream",
     "text": [
      "[[0 0 0 0 0]\n",
      " [0 0 0 0 0]\n",
      " [0 0 0 0 0]]\n",
      "(3, 5)\n",
      "<class 'numpy.ndarray'>\n",
      "int32\n"
     ]
    }
   ],
   "source": [
    "# zeros\n",
    "import numpy as np\n",
    "x = np.zeros((3,5), dtype=int)\n",
    "print(x)\n",
    "print(x.shape)\n",
    "print(type(x))\n",
    "print(x.dtype)"
   ]
  },
  {
   "cell_type": "code",
   "execution_count": 33,
   "id": "9346c375",
   "metadata": {},
   "outputs": [
    {
     "name": "stdout",
     "output_type": "stream",
     "text": [
      "[[1 1 1 1 1]\n",
      " [1 1 1 1 1]\n",
      " [1 1 1 1 1]]\n",
      "(3, 5)\n",
      "<class 'numpy.ndarray'>\n",
      "int32\n"
     ]
    }
   ],
   "source": [
    "# ones\n",
    "x = np.ones((3,5),dtype=int)\n",
    "print(x)\n",
    "print(x.shape)\n",
    "print(type(x))\n",
    "print(x.dtype)"
   ]
  },
  {
   "cell_type": "code",
   "execution_count": 34,
   "id": "fbfb5aba",
   "metadata": {},
   "outputs": [
    {
     "name": "stdout",
     "output_type": "stream",
     "text": [
      "[[4 4 4 4]\n",
      " [4 4 4 4]\n",
      " [4 4 4 4]]\n"
     ]
    }
   ],
   "source": [
    "x = np.full((3,4),4)\n",
    "print(x)"
   ]
  },
  {
   "cell_type": "code",
   "execution_count": 35,
   "id": "c8b9f5be",
   "metadata": {},
   "outputs": [
    {
     "name": "stdout",
     "output_type": "stream",
     "text": [
      "[[0. 0. 0. 1. 0. 0.]\n",
      " [0. 0. 0. 0. 1. 0.]\n",
      " [0. 0. 0. 0. 0. 1.]\n",
      " [0. 0. 0. 0. 0. 0.]\n",
      " [0. 0. 0. 0. 0. 0.]\n",
      " [0. 0. 0. 0. 0. 0.]]\n",
      "Otro ejemplo\n",
      "[[1. 0. 0.]\n",
      " [0. 1. 0.]\n",
      " [0. 0. 1.]]\n",
      "Otro ejemplo\n",
      "[[1. 0. 0. 0. 0.]\n",
      " [0. 1. 0. 0. 0.]\n",
      " [0. 0. 1. 0. 0.]\n",
      " [0. 0. 0. 1. 0.]\n",
      " [0. 0. 0. 0. 1.]]\n"
     ]
    }
   ],
   "source": [
    "# eye\n",
    "x = np.eye(6,6,3)\n",
    "print(x)\n",
    "print('Otro ejemplo')\n",
    "z = np.eye(3)\n",
    "print(z)\n",
    "print('Otro ejemplo')\n",
    "y = np.eye(5,5)\n",
    "print(y)"
   ]
  },
  {
   "cell_type": "code",
   "execution_count": 36,
   "id": "37b825d1",
   "metadata": {},
   "outputs": [
    {
     "name": "stdout",
     "output_type": "stream",
     "text": [
      "[[7 0 0]\n",
      " [0 8 0]\n",
      " [0 0 9]]\n"
     ]
    }
   ],
   "source": [
    "# diag\n",
    "x = np.diag([7,8,9])\n",
    "print(x)"
   ]
  },
  {
   "cell_type": "code",
   "execution_count": 37,
   "id": "6bcc0f76",
   "metadata": {},
   "outputs": [
    {
     "name": "stdout",
     "output_type": "stream",
     "text": [
      "[0 1 2 3 4 5 6 7 8 9]\n",
      "[4 5 6 7 8 9]\n",
      "[4 6 8]\n"
     ]
    }
   ],
   "source": [
    "#arange\n",
    "x = np.arange(10)\n",
    "print(x)\n",
    "y = np.arange(4,10)\n",
    "print(y)\n",
    "z = np.arange(4,10,2)\n",
    "print(z)"
   ]
  },
  {
   "cell_type": "code",
   "execution_count": 38,
   "id": "068f88c2",
   "metadata": {},
   "outputs": [
    {
     "name": "stdout",
     "output_type": "stream",
     "text": [
      "[ 4.  6.  8. 10. 12.]\n"
     ]
    }
   ],
   "source": [
    "#linspace\n",
    "x = np.linspace(4,12,5)\n",
    "print(x)"
   ]
  },
  {
   "cell_type": "code",
   "execution_count": 39,
   "id": "a1263a67",
   "metadata": {},
   "outputs": [
    {
     "name": "stdout",
     "output_type": "stream",
     "text": [
      "[[0.70279515 0.85449315 0.86799263]\n",
      " [0.84665272 0.55770419 0.53305302]]\n"
     ]
    }
   ],
   "source": [
    "#random\n",
    "x = np.random.random((2,3))\n",
    "print(x)"
   ]
  },
  {
   "cell_type": "code",
   "execution_count": 40,
   "id": "745afac9",
   "metadata": {},
   "outputs": [
    {
     "name": "stdout",
     "output_type": "stream",
     "text": [
      "[[2 2 4 2]\n",
      " [5 5 5 7]\n",
      " [2 5 6 4]]\n"
     ]
    }
   ],
   "source": [
    "# randint\n",
    "x = np.random.randint(2,9,(3,4))\n",
    "print(x)"
   ]
  },
  {
   "cell_type": "code",
   "execution_count": 41,
   "id": "38366d47",
   "metadata": {},
   "outputs": [
    {
     "name": "stdout",
     "output_type": "stream",
     "text": [
      "[[2 2 4]\n",
      " [2 5 5]\n",
      " [5 7 2]\n",
      " [5 6 4]]\n"
     ]
    }
   ],
   "source": [
    "# reshape\n",
    "y = np.reshape(x,(4,3))\n",
    "print(y)"
   ]
  },
  {
   "cell_type": "raw",
   "id": "17d82153",
   "metadata": {},
   "source": [
    "NO PODEMOS CAMBIAR CON RESHAPE A MÀS ELEMENTOS O MENOS\n",
    "EN ESTE CASO LOS DOS TIENEN 12 ELEMENTOS"
   ]
  },
  {
   "cell_type": "markdown",
   "id": "7544f950",
   "metadata": {},
   "source": [
    "<h2> SLICING CON NUMPY </h2>"
   ]
  },
  {
   "cell_type": "markdown",
   "id": "952f20cb",
   "metadata": {},
   "source": [
    "<p> SLICING NOS SIRVE PARA ACCEDER A PARTES DE ARREGLOS MULTIDIMENSIONALES  </p>"
   ]
  },
  {
   "cell_type": "code",
   "execution_count": 42,
   "id": "0c1375b7",
   "metadata": {},
   "outputs": [],
   "source": [
    "import numpy as np"
   ]
  },
  {
   "cell_type": "code",
   "execution_count": 43,
   "id": "5e42d24e",
   "metadata": {},
   "outputs": [
    {
     "name": "stdout",
     "output_type": "stream",
     "text": [
      "[[ 0  1  2  3  4]\n",
      " [ 5  6  7  8  9]\n",
      " [10 11 12 13 14]\n",
      " [15 16 17 18 19]]\n"
     ]
    }
   ],
   "source": [
    "x = np.arange(20).reshape(4,5)\n",
    "print(x)"
   ]
  },
  {
   "cell_type": "code",
   "execution_count": 44,
   "id": "925f5b8f",
   "metadata": {},
   "outputs": [],
   "source": [
    "z = x[0:1]"
   ]
  },
  {
   "cell_type": "code",
   "execution_count": 45,
   "id": "f3dedb2f",
   "metadata": {},
   "outputs": [
    {
     "name": "stdout",
     "output_type": "stream",
     "text": [
      "[[0 1 2 3 4]]\n"
     ]
    }
   ],
   "source": [
    "print(z)"
   ]
  },
  {
   "cell_type": "code",
   "execution_count": 46,
   "id": "cdf0f8ff",
   "metadata": {},
   "outputs": [
    {
     "name": "stdout",
     "output_type": "stream",
     "text": [
      "[[3 4]\n",
      " [8 9]]\n"
     ]
    }
   ],
   "source": [
    "z = x[0:2,3:]\n",
    "print(z)"
   ]
  },
  {
   "cell_type": "code",
   "execution_count": 47,
   "id": "9fa66ee1",
   "metadata": {},
   "outputs": [
    {
     "name": "stdout",
     "output_type": "stream",
     "text": [
      "[[3 4]\n",
      " [8 9]]\n"
     ]
    }
   ],
   "source": [
    "z = x[0:2,[3,4]]\n",
    "print(z)"
   ]
  },
  {
   "cell_type": "code",
   "execution_count": 48,
   "id": "252acc5c",
   "metadata": {},
   "outputs": [
    {
     "name": "stdout",
     "output_type": "stream",
     "text": [
      "[[ 0  1  2  3  4]\n",
      " [ 5  6  7  8  9]\n",
      " [10 11 12 13 14]\n",
      " [15 16 17 18 19]]\n",
      "\n",
      "\n",
      "[[3 4]\n",
      " [8 9]]\n"
     ]
    }
   ],
   "source": [
    "print(x)\n",
    "print('\\n')\n",
    "print(z)"
   ]
  },
  {
   "cell_type": "code",
   "execution_count": 49,
   "id": "2d2877a9",
   "metadata": {},
   "outputs": [],
   "source": [
    "z[1,1] = 99"
   ]
  },
  {
   "cell_type": "code",
   "execution_count": 50,
   "id": "2aaac9a2",
   "metadata": {},
   "outputs": [
    {
     "name": "stdout",
     "output_type": "stream",
     "text": [
      "[[ 3  4]\n",
      " [ 8 99]]\n",
      "[[ 0  1  2  3  4]\n",
      " [ 5  6  7  8  9]\n",
      " [10 11 12 13 14]\n",
      " [15 16 17 18 19]]\n"
     ]
    }
   ],
   "source": [
    "print(z)\n",
    "print(x)"
   ]
  },
  {
   "cell_type": "code",
   "execution_count": 51,
   "id": "6a01bcae",
   "metadata": {},
   "outputs": [
    {
     "name": "stdout",
     "output_type": "stream",
     "text": [
      "[[ 0  1  2  3  4]\n",
      " [ 5  6  7  8  9]\n",
      " [10 11 12 13 14]\n",
      " [15 16 17 18 19]]\n"
     ]
    }
   ],
   "source": [
    "print(x)"
   ]
  },
  {
   "cell_type": "code",
   "execution_count": 52,
   "id": "12a69d84",
   "metadata": {},
   "outputs": [],
   "source": [
    "x[1,4] = 999"
   ]
  },
  {
   "cell_type": "code",
   "execution_count": 53,
   "id": "90abbdab",
   "metadata": {},
   "outputs": [
    {
     "name": "stdout",
     "output_type": "stream",
     "text": [
      "[[  0   1   2   3   4]\n",
      " [  5   6   7   8 999]\n",
      " [ 10  11  12  13  14]\n",
      " [ 15  16  17  18  19]]\n"
     ]
    }
   ],
   "source": [
    "print(x)"
   ]
  },
  {
   "cell_type": "code",
   "execution_count": 54,
   "id": "372a4112",
   "metadata": {},
   "outputs": [],
   "source": [
    "z[0,1] = 666"
   ]
  },
  {
   "cell_type": "code",
   "execution_count": 55,
   "id": "ab75946d",
   "metadata": {},
   "outputs": [
    {
     "name": "stdout",
     "output_type": "stream",
     "text": [
      "[[  0   1   2   3   4]\n",
      " [  5   6   7   8 999]\n",
      " [ 10  11  12  13  14]\n",
      " [ 15  16  17  18  19]]\n",
      "[[  3 666]\n",
      " [  8  99]]\n"
     ]
    }
   ],
   "source": [
    "print(x)\n",
    "print(z)"
   ]
  },
  {
   "cell_type": "code",
   "execution_count": 56,
   "id": "0a7c3b30",
   "metadata": {},
   "outputs": [
    {
     "name": "stdout",
     "output_type": "stream",
     "text": [
      "[[ 0  1  2  3  4]\n",
      " [ 5  6  7  8  9]\n",
      " [10 11 12 13 14]\n",
      " [15 16 17 18 19]]\n"
     ]
    }
   ],
   "source": [
    "x = np.arange(20).reshape(4,5)\n",
    "z = x[0:2,3:]\n",
    "print(x)"
   ]
  },
  {
   "cell_type": "code",
   "execution_count": 57,
   "id": "a87bec29",
   "metadata": {},
   "outputs": [
    {
     "name": "stdout",
     "output_type": "stream",
     "text": [
      "[[3 4]\n",
      " [8 9]]\n",
      "[[  3   4]\n",
      " [  8 999]]\n"
     ]
    }
   ],
   "source": [
    "y = x[0:2,3:].copy()\n",
    "print(y)\n",
    "z[1,1] = 999\n",
    "print(z)"
   ]
  },
  {
   "cell_type": "code",
   "execution_count": 58,
   "id": "9bc6e46f",
   "metadata": {},
   "outputs": [
    {
     "name": "stdout",
     "output_type": "stream",
     "text": [
      "[[  0   1   2   3   4]\n",
      " [  5   6   7   8 999]\n",
      " [ 10  11  12  13  14]\n",
      " [ 15  16  17  18  19]]\n"
     ]
    }
   ],
   "source": [
    "print(x)"
   ]
  },
  {
   "cell_type": "code",
   "execution_count": 59,
   "id": "e2230b11",
   "metadata": {},
   "outputs": [
    {
     "name": "stdout",
     "output_type": "stream",
     "text": [
      "[[3 4]\n",
      " [8 9]]\n"
     ]
    }
   ],
   "source": [
    "print(y)"
   ]
  },
  {
   "cell_type": "markdown",
   "id": "1c1578ef",
   "metadata": {},
   "source": [
    "<h1> INDEXACIÓN BOOLEANA </h1>\n"
   ]
  },
  {
   "cell_type": "code",
   "execution_count": 60,
   "id": "b6e60bee",
   "metadata": {},
   "outputs": [
    {
     "name": "stdout",
     "output_type": "stream",
     "text": [
      "[[ 0  1  2  3  4  5  6  7  8  9]\n",
      " [10 11 12 13 14 15 16 17 18 19]\n",
      " [20 21 22 23 24 25 26 27 28 29]\n",
      " [30 31 32 33 34 35 36 37 38 39]\n",
      " [40 41 42 43 44 45 46 47 48 49]]\n"
     ]
    }
   ],
   "source": [
    "t = np.arange(50).reshape(5,10)\n",
    "print(t)"
   ]
  },
  {
   "cell_type": "markdown",
   "id": "f0e3d3e0",
   "metadata": {},
   "source": [
    "<p>LA INDEXACIÓN BOOLEANA  NOS SIRVE PARA OBTENER CIERTOS ELEMENTOS\n",
    "SEGÚN UNAS CONDICIONES LÓGICAS</p>"
   ]
  },
  {
   "cell_type": "code",
   "execution_count": 61,
   "id": "c304bd7e",
   "metadata": {},
   "outputs": [
    {
     "name": "stdout",
     "output_type": "stream",
     "text": [
      "[26 27 28 29 30 31 32 33 34 35 36 37 38 39 40 41 42 43 44 45 46 47 48 49]\n"
     ]
    }
   ],
   "source": [
    "b = t[t>25]\n",
    "print(b)"
   ]
  },
  {
   "cell_type": "code",
   "execution_count": 62,
   "id": "cbfa09b9",
   "metadata": {},
   "outputs": [
    {
     "name": "stdout",
     "output_type": "stream",
     "text": [
      "[ 0  1  2  3  4  5  6  7  8  9 10 11 12 13 14 15 16 17 18 19 20 21 22 23\n",
      " 24 25 26 27 28 29 30 31 32 33 34 35 36 37 38 39 40]\n"
     ]
    }
   ],
   "source": [
    "print(t[t<=40])"
   ]
  },
  {
   "cell_type": "code",
   "execution_count": 63,
   "id": "71c81672",
   "metadata": {},
   "outputs": [
    {
     "name": "stdout",
     "output_type": "stream",
     "text": [
      "[26 27 28 29]\n"
     ]
    }
   ],
   "source": [
    "print(t[ (t>25) & (t<30) ])"
   ]
  },
  {
   "cell_type": "code",
   "execution_count": 64,
   "id": "f09e55f2",
   "metadata": {},
   "outputs": [
    {
     "name": "stdout",
     "output_type": "stream",
     "text": [
      "[[  0   1   2   3   4   5   6   7   8   9]\n",
      " [ 10  11  12  13  14  15  16  17  18  19]\n",
      " [ 20  21  22  23  24  25 666 666 666 666]\n",
      " [ 30  31  32  33  34  35  36  37  38  39]\n",
      " [ 40  41  42  43  44  45  46  47  48  49]]\n"
     ]
    }
   ],
   "source": [
    "t[ (t>25) & (t<30) ] = 666\n",
    "print(t)"
   ]
  },
  {
   "cell_type": "code",
   "execution_count": 65,
   "id": "d3fe984d",
   "metadata": {},
   "outputs": [
    {
     "name": "stdout",
     "output_type": "stream",
     "text": [
      "[16 14 14 20 10  4 20 13  2 12  8 20  1  5  7  7  1  5 11 14 15  5  6 18\n",
      " 23 16 24 24 24 14  6 17  9 12  7 10  1 14  3  9  5  6 18  8  2 16 18 16\n",
      " 21  9 24  6 16 16 24  3 24 17 24 17 17  9  6  5 15 18 18 16  8 13  5  5\n",
      " 10 14 16 12  8  4  5  2 13  6 10  7  7 24 19  9 14 23  3 24 19 20 23 10\n",
      " 17 18 24 11]\n"
     ]
    }
   ],
   "source": [
    "u = np.random.randint(1,25,size=(100))\n",
    "print(u)"
   ]
  },
  {
   "cell_type": "code",
   "execution_count": 66,
   "id": "834cfc10",
   "metadata": {},
   "outputs": [
    {
     "name": "stdout",
     "output_type": "stream",
     "text": [
      "[20 20 20 20]\n"
     ]
    }
   ],
   "source": [
    "print(u[u==20])"
   ]
  },
  {
   "cell_type": "markdown",
   "id": "fdf09a5c",
   "metadata": {},
   "source": [
    "<h1> OPERACIONES ARITMÉTICAS Y BROADCASTING </h1>\n"
   ]
  },
  {
   "cell_type": "code",
   "execution_count": 67,
   "id": "050034db",
   "metadata": {},
   "outputs": [
    {
     "name": "stdout",
     "output_type": "stream",
     "text": [
      "Array uno \n",
      " [0 1 2 3]\n",
      "Array dos \n",
      " [4 5 6 7]\n"
     ]
    }
   ],
   "source": [
    "array = np.arange(4)\n",
    "arrayDos = np.arange(4,8)\n",
    "print('Array uno \\n', array)\n",
    "print('Array dos \\n',arrayDos)"
   ]
  },
  {
   "cell_type": "code",
   "execution_count": 68,
   "id": "0886f30c",
   "metadata": {},
   "outputs": [
    {
     "name": "stdout",
     "output_type": "stream",
     "text": [
      "[ 4  6  8 10]\n"
     ]
    }
   ],
   "source": [
    "print(array + arrayDos)"
   ]
  },
  {
   "cell_type": "code",
   "execution_count": 69,
   "id": "7aa1c3d8",
   "metadata": {},
   "outputs": [
    {
     "name": "stdout",
     "output_type": "stream",
     "text": [
      "[ 4  6  8 10]\n"
     ]
    }
   ],
   "source": [
    "print(np.add(array,arrayDos))\n"
   ]
  },
  {
   "cell_type": "code",
   "execution_count": 70,
   "id": "70241054",
   "metadata": {},
   "outputs": [
    {
     "name": "stdout",
     "output_type": "stream",
     "text": [
      "[-4 -4 -4 -4]\n",
      "[-4 -4 -4 -4]\n"
     ]
    }
   ],
   "source": [
    "print(array-arrayDos)\n",
    "print(np.subtract(array,arrayDos))"
   ]
  },
  {
   "cell_type": "code",
   "execution_count": 71,
   "id": "241982db",
   "metadata": {},
   "outputs": [
    {
     "name": "stdout",
     "output_type": "stream",
     "text": [
      "[ 0  5 12 21]\n",
      "[ 0  5 12 21]\n"
     ]
    }
   ],
   "source": [
    "print(array*arrayDos)\n",
    "print(np.multiply(array,arrayDos))"
   ]
  },
  {
   "cell_type": "code",
   "execution_count": 72,
   "id": "c4e216ea",
   "metadata": {},
   "outputs": [
    {
     "name": "stdout",
     "output_type": "stream",
     "text": [
      "[0.         0.2        0.33333333 0.42857143]\n",
      "[0.         0.2        0.33333333 0.42857143]\n"
     ]
    }
   ],
   "source": [
    "print(array/arrayDos)\n",
    "print(np.divide(array,arrayDos))"
   ]
  },
  {
   "cell_type": "markdown",
   "id": "d67387b7",
   "metadata": {},
   "source": [
    "<h2 style=\"color:blue;\"> ARREGLOS MULTIDIMENSIÓN </h2>"
   ]
  },
  {
   "cell_type": "code",
   "execution_count": 73,
   "id": "f657605b",
   "metadata": {},
   "outputs": [
    {
     "name": "stdout",
     "output_type": "stream",
     "text": [
      "PRIMER ARREGLO: \n",
      "\n",
      "[[0 1]\n",
      " [2 3]]\n",
      "SEGUNDO ARREGLO: \n",
      "\n",
      "[[4 5]\n",
      " [6 7]]\n",
      "OPERACIONES: \n",
      "\n",
      "RESULTADO RESTA: \n",
      "\n",
      "[[-4 -4]\n",
      " [-4 -4]]\n",
      " RESULTADO DIVISIÓN: \n",
      "\n",
      "[[0.         0.2       ]\n",
      " [0.33333333 0.42857143]]\n",
      "RESULTADO SUMA: \n",
      " \n",
      "[[ 4  6]\n",
      " [ 8 10]]\n",
      "RESULTADO MULTIPLICACIÓN: \n",
      " \n",
      "\n",
      "[[ 0  5]\n",
      " [12 21]]\n"
     ]
    }
   ],
   "source": [
    "print(\"PRIMER ARREGLO: \\n\")\n",
    "arreglo = np.arange(4).reshape(2,2)\n",
    "print(arreglo)\n",
    "print(\"SEGUNDO ARREGLO: \\n\")\n",
    "arregloDos = np.arange(4,8).reshape(2,2)\n",
    "print(arregloDos)\n",
    "print(\"OPERACIONES: \\n\")\n",
    "print(\"RESULTADO RESTA: \\n\")\n",
    "print(np.subtract(arreglo,arregloDos))\n",
    "print(\" RESULTADO DIVISIÓN: \\n\")\n",
    "print(np.divide(arreglo,arregloDos))\n",
    "print(\"RESULTADO SUMA: \\n \")\n",
    "print(np.add(arreglo,arregloDos))\n",
    "print(\"RESULTADO MULTIPLICACIÓN: \\n \\n\")\n",
    "print(np.multiply(arreglo,arregloDos))"
   ]
  },
  {
   "cell_type": "code",
   "execution_count": 74,
   "id": "51a13d6f",
   "metadata": {},
   "outputs": [
    {
     "name": "stdout",
     "output_type": "stream",
     "text": [
      "[0.         1.         1.41421356 1.73205081]\n"
     ]
    }
   ],
   "source": [
    "print(np.sqrt(array))"
   ]
  },
  {
   "cell_type": "code",
   "execution_count": 75,
   "id": "40ebab48",
   "metadata": {},
   "outputs": [
    {
     "name": "stdout",
     "output_type": "stream",
     "text": [
      "[ 1.          2.71828183  7.3890561  20.08553692]\n"
     ]
    }
   ],
   "source": [
    "print(np.exp(array))"
   ]
  },
  {
   "cell_type": "code",
   "execution_count": 76,
   "id": "b80f51f6",
   "metadata": {},
   "outputs": [
    {
     "name": "stdout",
     "output_type": "stream",
     "text": [
      "[0 1 4 9]\n"
     ]
    }
   ],
   "source": [
    "print(np.power(array,2))"
   ]
  },
  {
   "cell_type": "code",
   "execution_count": 77,
   "id": "ba1f9c44",
   "metadata": {},
   "outputs": [
    {
     "name": "stdout",
     "output_type": "stream",
     "text": [
      "[[0 1]\n",
      " [2 3]]\n",
      "\n",
      "\n",
      "[1. 2.]\n",
      "[0.5 2.5]\n",
      "1.5\n"
     ]
    }
   ],
   "source": [
    "#mean --> que es el promedio\n",
    "#std -> desviación estandar\n",
    "#median -> mediana\n",
    "print(arreglo)\n",
    "print(\"\\n\")\n",
    "# EN MEAN 0 SIGNIFICA COLUMNA , 1 FILA a diferencia de otras funciones\n",
    "print(np.mean( arreglo, axis= 0))\n",
    "print(np.mean( arreglo, axis= 1))\n",
    "# Tambien con arrays de una sola dimensión como ARRAY\n",
    "print(np.mean( array, axis= 0))\n",
    "\n"
   ]
  },
  {
   "cell_type": "code",
   "execution_count": 78,
   "id": "32e36a60",
   "metadata": {},
   "outputs": [
    {
     "name": "stdout",
     "output_type": "stream",
     "text": [
      "1.118033988749895\n",
      "1.118033988749895\n"
     ]
    }
   ],
   "source": [
    "print(np.std(array))\n",
    "print(np.std(arrayDos))"
   ]
  },
  {
   "cell_type": "code",
   "execution_count": 79,
   "id": "08e3e8b2",
   "metadata": {},
   "outputs": [
    {
     "name": "stdout",
     "output_type": "stream",
     "text": [
      "1.5\n",
      "5.5\n"
     ]
    }
   ],
   "source": [
    "print(np.median(array))\n",
    "print(np.median(arrayDos))"
   ]
  },
  {
   "cell_type": "code",
   "execution_count": 80,
   "id": "c5773500",
   "metadata": {},
   "outputs": [
    {
     "name": "stdout",
     "output_type": "stream",
     "text": [
      "3\n"
     ]
    }
   ],
   "source": [
    "print(np.max(array))"
   ]
  },
  {
   "cell_type": "code",
   "execution_count": 81,
   "id": "91445e82",
   "metadata": {},
   "outputs": [
    {
     "name": "stdout",
     "output_type": "stream",
     "text": [
      "0\n"
     ]
    }
   ],
   "source": [
    "print(np.min(array))"
   ]
  },
  {
   "cell_type": "code",
   "execution_count": 82,
   "id": "24d4e676",
   "metadata": {},
   "outputs": [
    {
     "data": {
      "text/plain": [
       "array([[0, 1],\n",
       "       [2, 3]])"
      ]
     },
     "execution_count": 82,
     "metadata": {},
     "output_type": "execute_result"
    }
   ],
   "source": [
    "#BROADCASTING\n",
    "xx = np.arange(4).reshape(2,2)\n",
    "xx"
   ]
  },
  {
   "cell_type": "code",
   "execution_count": 83,
   "id": "4cc07072",
   "metadata": {},
   "outputs": [
    {
     "name": "stdout",
     "output_type": "stream",
     "text": [
      "[[4 5]\n",
      " [6 7]]\n"
     ]
    }
   ],
   "source": [
    "print(xx+4)"
   ]
  },
  {
   "cell_type": "code",
   "execution_count": 84,
   "id": "6e2e3809",
   "metadata": {},
   "outputs": [
    {
     "data": {
      "text/plain": [
       "array([7, 8])"
      ]
     },
     "execution_count": 84,
     "metadata": {},
     "output_type": "execute_result"
    }
   ],
   "source": [
    "yy = np.array((7,8))\n",
    "yy"
   ]
  },
  {
   "cell_type": "code",
   "execution_count": 85,
   "id": "df268185",
   "metadata": {},
   "outputs": [
    {
     "name": "stdout",
     "output_type": "stream",
     "text": [
      "[[ 7  9]\n",
      " [ 9 11]]\n"
     ]
    }
   ],
   "source": [
    "print(xx+yy)"
   ]
  },
  {
   "cell_type": "markdown",
   "id": "3a199501",
   "metadata": {},
   "source": [
    "<h1 style=\"text-align:center; color:orange;\"> PANDAS </h1>"
   ]
  },
  {
   "cell_type": "markdown",
   "id": "fa833291",
   "metadata": {},
   "source": [
    "<h2> SERIES </h2>"
   ]
  },
  {
   "cell_type": "code",
   "execution_count": 86,
   "id": "4f25ec00",
   "metadata": {},
   "outputs": [],
   "source": [
    "import pandas as pd\n"
   ]
  },
  {
   "cell_type": "code",
   "execution_count": 87,
   "id": "13f26bc2",
   "metadata": {},
   "outputs": [
    {
     "data": {
      "text/plain": [
       "name       Luis\n",
       "country     Usa\n",
       "age          40\n",
       "dtype: object"
      ]
     },
     "execution_count": 87,
     "metadata": {},
     "output_type": "execute_result"
    }
   ],
   "source": [
    "students = pd.Series(data=['Luis','Usa',40],index=['name','country','age'])\n",
    "students"
   ]
  },
  {
   "cell_type": "code",
   "execution_count": 88,
   "id": "1e739194",
   "metadata": {},
   "outputs": [
    {
     "name": "stdout",
     "output_type": "stream",
     "text": [
      "(3,)\n",
      "1\n",
      "3\n"
     ]
    }
   ],
   "source": [
    "print(students.shape)\n",
    "print(students.ndim)\n",
    "print(students.size)"
   ]
  },
  {
   "cell_type": "code",
   "execution_count": 89,
   "id": "db6b4cc3",
   "metadata": {},
   "outputs": [
    {
     "name": "stdout",
     "output_type": "stream",
     "text": [
      "['Luis' 'Usa' 40]\n"
     ]
    }
   ],
   "source": [
    "print(students.values)"
   ]
  },
  {
   "cell_type": "code",
   "execution_count": 90,
   "id": "69c64893",
   "metadata": {},
   "outputs": [
    {
     "name": "stdout",
     "output_type": "stream",
     "text": [
      "Index(['name', 'country', 'age'], dtype='object')\n"
     ]
    }
   ],
   "source": [
    "print(students.index)"
   ]
  },
  {
   "cell_type": "code",
   "execution_count": 91,
   "id": "5d6e82a5",
   "metadata": {},
   "outputs": [
    {
     "name": "stdout",
     "output_type": "stream",
     "text": [
      "True\n"
     ]
    }
   ],
   "source": [
    "print('name' in students)"
   ]
  },
  {
   "cell_type": "code",
   "execution_count": 92,
   "id": "41b99892",
   "metadata": {},
   "outputs": [
    {
     "name": "stdout",
     "output_type": "stream",
     "text": [
      "True\n",
      "False\n",
      "True\n"
     ]
    }
   ],
   "source": [
    "#PALABRA RESERVADA IS --> PARA COMPARAR DOS VARIABLES \n",
    "# SI SE REFIEREN AL MISMO OBJETO\n",
    "# USA == PARA COMPARAR SI LOS ELEMENTOS DE DOS VARIABLES SON IGUALES\n",
    "x = [\"apple\", \"banana\", \"cherry\"]\n",
    "\n",
    "y = [\"apple\", \"banana\", \"cherry\"]\n",
    "\n",
    "print(x == y)\n",
    "print(x is y)\n",
    "y = x\n",
    "print(x is y)\n"
   ]
  },
  {
   "cell_type": "markdown",
   "id": "55d9ce54",
   "metadata": {},
   "source": [
    "<h1> ACCEDER, MOFIFICAR ELIMINAR ELEMENTOS EN SERIES</h1>"
   ]
  },
  {
   "cell_type": "code",
   "execution_count": 93,
   "id": "b188f620",
   "metadata": {},
   "outputs": [
    {
     "data": {
      "text/plain": [
       "name       Luis\n",
       "country     Usa\n",
       "age          40\n",
       "dtype: object"
      ]
     },
     "execution_count": 93,
     "metadata": {},
     "output_type": "execute_result"
    }
   ],
   "source": [
    "students"
   ]
  },
  {
   "cell_type": "code",
   "execution_count": 94,
   "id": "d06d5e55",
   "metadata": {},
   "outputs": [
    {
     "name": "stdout",
     "output_type": "stream",
     "text": [
      "Luis\n",
      "40\n"
     ]
    }
   ],
   "source": [
    "# ACCEDER A ELEMENTOS\n",
    "#INDICE\n",
    "print(students['name'])\n",
    "print(students['age'])"
   ]
  },
  {
   "cell_type": "code",
   "execution_count": 95,
   "id": "918b60f0",
   "metadata": {},
   "outputs": [
    {
     "name": "stdout",
     "output_type": "stream",
     "text": [
      "name    Luis\n",
      "age       40\n",
      "dtype: object\n"
     ]
    }
   ],
   "source": [
    "print(students[['name','age']])"
   ]
  },
  {
   "cell_type": "code",
   "execution_count": 96,
   "id": "27d2b526",
   "metadata": {},
   "outputs": [
    {
     "name": "stdout",
     "output_type": "stream",
     "text": [
      "Luis\n",
      "Usa\n",
      "40\n"
     ]
    }
   ],
   "source": [
    "print(students[0])\n",
    "print(students[1])\n",
    "print(students[-1])\n"
   ]
  },
  {
   "cell_type": "code",
   "execution_count": 97,
   "id": "99bf41f9",
   "metadata": {},
   "outputs": [
    {
     "name": "stdout",
     "output_type": "stream",
     "text": [
      "name       Luis\n",
      "country     Usa\n",
      "dtype: object\n"
     ]
    }
   ],
   "source": [
    "print(students[[0,1]])"
   ]
  },
  {
   "cell_type": "code",
   "execution_count": 98,
   "id": "adcf4fab",
   "metadata": {},
   "outputs": [
    {
     "name": "stdout",
     "output_type": "stream",
     "text": [
      "Usa\n",
      "Luis\n"
     ]
    }
   ],
   "source": [
    "print(students.loc['country'])\n",
    "print(students.loc['name'])"
   ]
  },
  {
   "cell_type": "code",
   "execution_count": 99,
   "id": "fef509f5",
   "metadata": {},
   "outputs": [
    {
     "name": "stdout",
     "output_type": "stream",
     "text": [
      "Luis\n",
      "Usa\n"
     ]
    }
   ],
   "source": [
    "print(students.iloc[0])\n",
    "print(students.iloc[1])"
   ]
  },
  {
   "cell_type": "code",
   "execution_count": 100,
   "id": "73690be2",
   "metadata": {},
   "outputs": [],
   "source": [
    "students.drop(['age'], inplace = True)"
   ]
  },
  {
   "cell_type": "code",
   "execution_count": 101,
   "id": "587b9abc",
   "metadata": {},
   "outputs": [
    {
     "name": "stdout",
     "output_type": "stream",
     "text": [
      "name       Luis\n",
      "country     Usa\n",
      "dtype: object\n"
     ]
    }
   ],
   "source": [
    "print(students)"
   ]
  },
  {
   "cell_type": "code",
   "execution_count": 102,
   "id": "b29fc100",
   "metadata": {},
   "outputs": [
    {
     "data": {
      "text/plain": [
       "mango      20\n",
       "manzana    40\n",
       "banano     60\n",
       "dtype: int64"
      ]
     },
     "execution_count": 102,
     "metadata": {},
     "output_type": "execute_result"
    }
   ],
   "source": [
    "fruits = pd.Series(data=[20,40,60],index=['mango','manzana','banano'])\n",
    "fruits"
   ]
  },
  {
   "cell_type": "code",
   "execution_count": 103,
   "id": "dc3143d9",
   "metadata": {},
   "outputs": [
    {
     "name": "stdout",
     "output_type": "stream",
     "text": [
      "mango      23\n",
      "manzana    43\n",
      "banano     63\n",
      "dtype: int64\n"
     ]
    }
   ],
   "source": [
    "print(fruits + 3)"
   ]
  },
  {
   "cell_type": "code",
   "execution_count": 104,
   "id": "9e8e2aa0",
   "metadata": {},
   "outputs": [
    {
     "name": "stdout",
     "output_type": "stream",
     "text": [
      "mango      17\n",
      "manzana    37\n",
      "banano     57\n",
      "dtype: int64\n",
      "mango       40\n",
      "manzana     80\n",
      "banano     120\n",
      "dtype: int64\n",
      "mango      2.0\n",
      "manzana    4.0\n",
      "banano     6.0\n",
      "dtype: float64\n"
     ]
    }
   ],
   "source": [
    "print(fruits -3)\n",
    "print(fruits*2)\n",
    "print(fruits/10)"
   ]
  },
  {
   "cell_type": "code",
   "execution_count": 105,
   "id": "5f22ed1b",
   "metadata": {},
   "outputs": [
    {
     "name": "stdout",
     "output_type": "stream",
     "text": [
      "mango      4.472136\n",
      "manzana    6.324555\n",
      "banano     7.745967\n",
      "dtype: float64\n"
     ]
    }
   ],
   "source": [
    "import numpy as np\n",
    "print(np.sqrt(fruits))"
   ]
  },
  {
   "cell_type": "code",
   "execution_count": 106,
   "id": "dab1af29",
   "metadata": {},
   "outputs": [
    {
     "name": "stdout",
     "output_type": "stream",
     "text": [
      "mango      4.851652e+08\n",
      "manzana    2.353853e+17\n",
      "banano     1.142007e+26\n",
      "dtype: float64\n"
     ]
    }
   ],
   "source": [
    "print(np.exp(fruits))"
   ]
  },
  {
   "cell_type": "code",
   "execution_count": 107,
   "id": "f9a5e798",
   "metadata": {},
   "outputs": [
    {
     "name": "stdout",
     "output_type": "stream",
     "text": [
      "mango       400\n",
      "manzana    1600\n",
      "banano     3600\n",
      "dtype: int64\n"
     ]
    }
   ],
   "source": [
    "print(np.power(fruits,2))"
   ]
  },
  {
   "cell_type": "code",
   "execution_count": 108,
   "id": "c9b28d66",
   "metadata": {},
   "outputs": [
    {
     "name": "stdout",
     "output_type": "stream",
     "text": [
      "23\n"
     ]
    }
   ],
   "source": [
    "print(fruits['mango']+3)"
   ]
  },
  {
   "cell_type": "code",
   "execution_count": 109,
   "id": "0543ec0d",
   "metadata": {},
   "outputs": [
    {
     "name": "stdout",
     "output_type": "stream",
     "text": [
      "4.0\n"
     ]
    }
   ],
   "source": [
    "print(fruits.loc['manzana'] /10)"
   ]
  },
  {
   "cell_type": "code",
   "execution_count": 110,
   "id": "78ff9975",
   "metadata": {},
   "outputs": [
    {
     "name": "stdout",
     "output_type": "stream",
     "text": [
      "manzana    400\n",
      "banano     600\n",
      "dtype: int64\n"
     ]
    }
   ],
   "source": [
    "print(fruits[['manzana','banano']]*10)"
   ]
  },
  {
   "cell_type": "code",
   "execution_count": 111,
   "id": "34413fc9",
   "metadata": {},
   "outputs": [
    {
     "data": {
      "text/html": [
       "<div>\n",
       "<style scoped>\n",
       "    .dataframe tbody tr th:only-of-type {\n",
       "        vertical-align: middle;\n",
       "    }\n",
       "\n",
       "    .dataframe tbody tr th {\n",
       "        vertical-align: top;\n",
       "    }\n",
       "\n",
       "    .dataframe thead th {\n",
       "        text-align: right;\n",
       "    }\n",
       "</style>\n",
       "<table border=\"1\" class=\"dataframe\">\n",
       "  <thead>\n",
       "    <tr style=\"text-align: right;\">\n",
       "      <th></th>\n",
       "      <th>Paul</th>\n",
       "      <th>Mary</th>\n",
       "    </tr>\n",
       "  </thead>\n",
       "  <tbody>\n",
       "    <tr>\n",
       "      <th>0</th>\n",
       "      <td>10</td>\n",
       "      <td>40</td>\n",
       "    </tr>\n",
       "    <tr>\n",
       "      <th>1</th>\n",
       "      <td>20</td>\n",
       "      <td>50</td>\n",
       "    </tr>\n",
       "    <tr>\n",
       "      <th>2</th>\n",
       "      <td>30</td>\n",
       "      <td>60</td>\n",
       "    </tr>\n",
       "  </tbody>\n",
       "</table>\n",
       "</div>"
      ],
      "text/plain": [
       "   Paul  Mary\n",
       "0    10    40\n",
       "1    20    50\n",
       "2    30    60"
      ]
     },
     "execution_count": 111,
     "metadata": {},
     "output_type": "execute_result"
    }
   ],
   "source": [
    "import pandas as pd\n",
    "items = {'Paul': [10,20,30],'Mary':[40,50,60]}\n",
    "df = pd.DataFrame(items)\n",
    "df"
   ]
  },
  {
   "cell_type": "code",
   "execution_count": 112,
   "id": "0c7f84c8",
   "metadata": {},
   "outputs": [
    {
     "data": {
      "text/html": [
       "<div>\n",
       "<style scoped>\n",
       "    .dataframe tbody tr th:only-of-type {\n",
       "        vertical-align: middle;\n",
       "    }\n",
       "\n",
       "    .dataframe tbody tr th {\n",
       "        vertical-align: top;\n",
       "    }\n",
       "\n",
       "    .dataframe thead th {\n",
       "        text-align: right;\n",
       "    }\n",
       "</style>\n",
       "<table border=\"1\" class=\"dataframe\">\n",
       "  <thead>\n",
       "    <tr style=\"text-align: right;\">\n",
       "      <th></th>\n",
       "      <th>Paul</th>\n",
       "      <th>Mary</th>\n",
       "    </tr>\n",
       "  </thead>\n",
       "  <tbody>\n",
       "    <tr>\n",
       "      <th>apple</th>\n",
       "      <td>10.0</td>\n",
       "      <td>40.0</td>\n",
       "    </tr>\n",
       "    <tr>\n",
       "      <th>banana</th>\n",
       "      <td>20.0</td>\n",
       "      <td>NaN</td>\n",
       "    </tr>\n",
       "    <tr>\n",
       "      <th>mango</th>\n",
       "      <td>30.0</td>\n",
       "      <td>60.0</td>\n",
       "    </tr>\n",
       "    <tr>\n",
       "      <th>orange</th>\n",
       "      <td>NaN</td>\n",
       "      <td>50.0</td>\n",
       "    </tr>\n",
       "  </tbody>\n",
       "</table>\n",
       "</div>"
      ],
      "text/plain": [
       "        Paul  Mary\n",
       "apple   10.0  40.0\n",
       "banana  20.0   NaN\n",
       "mango   30.0  60.0\n",
       "orange   NaN  50.0"
      ]
     },
     "execution_count": 112,
     "metadata": {},
     "output_type": "execute_result"
    }
   ],
   "source": [
    "items = {'Paul': pd.Series([10,20,30],['apple','banana','mango']),\n",
    "         'Mary': pd.Series([40,50,60],['apple','orange','mango'])}\n",
    "df = pd.DataFrame(items)\n",
    "df\n",
    "         "
   ]
  },
  {
   "cell_type": "code",
   "execution_count": 113,
   "id": "fb29a4b5",
   "metadata": {},
   "outputs": [
    {
     "data": {
      "text/plain": [
       "Index(['apple', 'banana', 'mango', 'orange'], dtype='object')"
      ]
     },
     "execution_count": 113,
     "metadata": {},
     "output_type": "execute_result"
    }
   ],
   "source": [
    "df.index"
   ]
  },
  {
   "cell_type": "code",
   "execution_count": 114,
   "id": "4e84d173",
   "metadata": {},
   "outputs": [
    {
     "data": {
      "text/plain": [
       "array([[10., 40.],\n",
       "       [20., nan],\n",
       "       [30., 60.],\n",
       "       [nan, 50.]])"
      ]
     },
     "execution_count": 114,
     "metadata": {},
     "output_type": "execute_result"
    }
   ],
   "source": [
    "df.values"
   ]
  },
  {
   "cell_type": "code",
   "execution_count": 115,
   "id": "3f7c04bc",
   "metadata": {},
   "outputs": [
    {
     "data": {
      "text/plain": [
       "Index(['Paul', 'Mary'], dtype='object')"
      ]
     },
     "execution_count": 115,
     "metadata": {},
     "output_type": "execute_result"
    }
   ],
   "source": [
    "df.columns"
   ]
  },
  {
   "cell_type": "code",
   "execution_count": 116,
   "id": "44016ea5",
   "metadata": {},
   "outputs": [
    {
     "data": {
      "text/plain": [
       "(4, 2)"
      ]
     },
     "execution_count": 116,
     "metadata": {},
     "output_type": "execute_result"
    }
   ],
   "source": [
    "df.shape"
   ]
  },
  {
   "cell_type": "code",
   "execution_count": 117,
   "id": "b4271a94",
   "metadata": {},
   "outputs": [
    {
     "data": {
      "text/html": [
       "<div>\n",
       "<style scoped>\n",
       "    .dataframe tbody tr th:only-of-type {\n",
       "        vertical-align: middle;\n",
       "    }\n",
       "\n",
       "    .dataframe tbody tr th {\n",
       "        vertical-align: top;\n",
       "    }\n",
       "\n",
       "    .dataframe thead th {\n",
       "        text-align: right;\n",
       "    }\n",
       "</style>\n",
       "<table border=\"1\" class=\"dataframe\">\n",
       "  <thead>\n",
       "    <tr style=\"text-align: right;\">\n",
       "      <th></th>\n",
       "      <th>Paul</th>\n",
       "      <th>Mary</th>\n",
       "    </tr>\n",
       "  </thead>\n",
       "  <tbody>\n",
       "    <tr>\n",
       "      <th>apple</th>\n",
       "      <td>10.0</td>\n",
       "      <td>40.0</td>\n",
       "    </tr>\n",
       "    <tr>\n",
       "      <th>banana</th>\n",
       "      <td>20.0</td>\n",
       "      <td>NaN</td>\n",
       "    </tr>\n",
       "    <tr>\n",
       "      <th>mango</th>\n",
       "      <td>30.0</td>\n",
       "      <td>60.0</td>\n",
       "    </tr>\n",
       "    <tr>\n",
       "      <th>orange</th>\n",
       "      <td>NaN</td>\n",
       "      <td>50.0</td>\n",
       "    </tr>\n",
       "  </tbody>\n",
       "</table>\n",
       "</div>"
      ],
      "text/plain": [
       "        Paul  Mary\n",
       "apple   10.0  40.0\n",
       "banana  20.0   NaN\n",
       "mango   30.0  60.0\n",
       "orange   NaN  50.0"
      ]
     },
     "execution_count": 117,
     "metadata": {},
     "output_type": "execute_result"
    }
   ],
   "source": [
    "df"
   ]
  },
  {
   "cell_type": "code",
   "execution_count": 118,
   "id": "9e05c9db",
   "metadata": {},
   "outputs": [
    {
     "data": {
      "text/html": [
       "<div>\n",
       "<style scoped>\n",
       "    .dataframe tbody tr th:only-of-type {\n",
       "        vertical-align: middle;\n",
       "    }\n",
       "\n",
       "    .dataframe tbody tr th {\n",
       "        vertical-align: top;\n",
       "    }\n",
       "\n",
       "    .dataframe thead th {\n",
       "        text-align: right;\n",
       "    }\n",
       "</style>\n",
       "<table border=\"1\" class=\"dataframe\">\n",
       "  <thead>\n",
       "    <tr style=\"text-align: right;\">\n",
       "      <th></th>\n",
       "      <th>Paul</th>\n",
       "    </tr>\n",
       "  </thead>\n",
       "  <tbody>\n",
       "    <tr>\n",
       "      <th>apple</th>\n",
       "      <td>10</td>\n",
       "    </tr>\n",
       "    <tr>\n",
       "      <th>banana</th>\n",
       "      <td>20</td>\n",
       "    </tr>\n",
       "  </tbody>\n",
       "</table>\n",
       "</div>"
      ],
      "text/plain": [
       "        Paul\n",
       "apple     10\n",
       "banana    20"
      ]
     },
     "execution_count": 118,
     "metadata": {},
     "output_type": "execute_result"
    }
   ],
   "source": [
    "df = pd.DataFrame(items,columns = {'Paul'},index=['apple','banana'])\n",
    "df"
   ]
  },
  {
   "cell_type": "markdown",
   "id": "39496268",
   "metadata": {},
   "source": [
    "<h3> CREAR UN DATAFRAME CREANDO UN ARCHIVO </h3>"
   ]
  },
  {
   "cell_type": "markdown",
   "id": "1293b39b",
   "metadata": {},
   "source": [
    "<style> body{\n",
    "    background-color: black !important ;\n",
    "    color: white !important;\n",
    "    }  </style>"
   ]
  },
  {
   "cell_type": "markdown",
   "id": "817d3706",
   "metadata": {},
   "source": [
    "<div style=\"background-color: black; color: white;\"> <h1> APRENDIENDO CON AEON MERX</h1> </div>"
   ]
  },
  {
   "cell_type": "code",
   "execution_count": 119,
   "id": "ff80a3f2",
   "metadata": {},
   "outputs": [
    {
     "data": {
      "text/html": [
       "<div>\n",
       "<style scoped>\n",
       "    .dataframe tbody tr th:only-of-type {\n",
       "        vertical-align: middle;\n",
       "    }\n",
       "\n",
       "    .dataframe tbody tr th {\n",
       "        vertical-align: top;\n",
       "    }\n",
       "\n",
       "    .dataframe thead th {\n",
       "        text-align: right;\n",
       "    }\n",
       "</style>\n",
       "<table border=\"1\" class=\"dataframe\">\n",
       "  <thead>\n",
       "    <tr style=\"text-align: right;\">\n",
       "      <th></th>\n",
       "      <th>Unnamed: 0</th>\n",
       "      <th>ID</th>\n",
       "      <th>Name</th>\n",
       "      <th>Age</th>\n",
       "      <th>Photo</th>\n",
       "      <th>Nationality</th>\n",
       "      <th>Flag</th>\n",
       "      <th>Overall</th>\n",
       "      <th>Potential</th>\n",
       "      <th>Club</th>\n",
       "      <th>...</th>\n",
       "      <th>Composure</th>\n",
       "      <th>Marking</th>\n",
       "      <th>StandingTackle</th>\n",
       "      <th>SlidingTackle</th>\n",
       "      <th>GKDiving</th>\n",
       "      <th>GKHandling</th>\n",
       "      <th>GKKicking</th>\n",
       "      <th>GKPositioning</th>\n",
       "      <th>GKReflexes</th>\n",
       "      <th>Release Clause</th>\n",
       "    </tr>\n",
       "  </thead>\n",
       "  <tbody>\n",
       "    <tr>\n",
       "      <th>0</th>\n",
       "      <td>0</td>\n",
       "      <td>158023</td>\n",
       "      <td>L. Messi</td>\n",
       "      <td>31</td>\n",
       "      <td>https://cdn.sofifa.org/players/4/19/158023.png</td>\n",
       "      <td>Argentina</td>\n",
       "      <td>https://cdn.sofifa.org/flags/52.png</td>\n",
       "      <td>94</td>\n",
       "      <td>94</td>\n",
       "      <td>FC Barcelona</td>\n",
       "      <td>...</td>\n",
       "      <td>96.0</td>\n",
       "      <td>33.0</td>\n",
       "      <td>28.0</td>\n",
       "      <td>26.0</td>\n",
       "      <td>6.0</td>\n",
       "      <td>11.0</td>\n",
       "      <td>15.0</td>\n",
       "      <td>14.0</td>\n",
       "      <td>8.0</td>\n",
       "      <td>€226.5M</td>\n",
       "    </tr>\n",
       "    <tr>\n",
       "      <th>1</th>\n",
       "      <td>1</td>\n",
       "      <td>20801</td>\n",
       "      <td>Cristiano Ronaldo</td>\n",
       "      <td>33</td>\n",
       "      <td>https://cdn.sofifa.org/players/4/19/20801.png</td>\n",
       "      <td>Portugal</td>\n",
       "      <td>https://cdn.sofifa.org/flags/38.png</td>\n",
       "      <td>94</td>\n",
       "      <td>94</td>\n",
       "      <td>Juventus</td>\n",
       "      <td>...</td>\n",
       "      <td>95.0</td>\n",
       "      <td>28.0</td>\n",
       "      <td>31.0</td>\n",
       "      <td>23.0</td>\n",
       "      <td>7.0</td>\n",
       "      <td>11.0</td>\n",
       "      <td>15.0</td>\n",
       "      <td>14.0</td>\n",
       "      <td>11.0</td>\n",
       "      <td>€127.1M</td>\n",
       "    </tr>\n",
       "    <tr>\n",
       "      <th>2</th>\n",
       "      <td>2</td>\n",
       "      <td>190871</td>\n",
       "      <td>Neymar Jr</td>\n",
       "      <td>26</td>\n",
       "      <td>https://cdn.sofifa.org/players/4/19/190871.png</td>\n",
       "      <td>Brazil</td>\n",
       "      <td>https://cdn.sofifa.org/flags/54.png</td>\n",
       "      <td>92</td>\n",
       "      <td>93</td>\n",
       "      <td>Paris Saint-Germain</td>\n",
       "      <td>...</td>\n",
       "      <td>94.0</td>\n",
       "      <td>27.0</td>\n",
       "      <td>24.0</td>\n",
       "      <td>33.0</td>\n",
       "      <td>9.0</td>\n",
       "      <td>9.0</td>\n",
       "      <td>15.0</td>\n",
       "      <td>15.0</td>\n",
       "      <td>11.0</td>\n",
       "      <td>€228.1M</td>\n",
       "    </tr>\n",
       "    <tr>\n",
       "      <th>3</th>\n",
       "      <td>3</td>\n",
       "      <td>193080</td>\n",
       "      <td>De Gea</td>\n",
       "      <td>27</td>\n",
       "      <td>https://cdn.sofifa.org/players/4/19/193080.png</td>\n",
       "      <td>Spain</td>\n",
       "      <td>https://cdn.sofifa.org/flags/45.png</td>\n",
       "      <td>91</td>\n",
       "      <td>93</td>\n",
       "      <td>Manchester United</td>\n",
       "      <td>...</td>\n",
       "      <td>68.0</td>\n",
       "      <td>15.0</td>\n",
       "      <td>21.0</td>\n",
       "      <td>13.0</td>\n",
       "      <td>90.0</td>\n",
       "      <td>85.0</td>\n",
       "      <td>87.0</td>\n",
       "      <td>88.0</td>\n",
       "      <td>94.0</td>\n",
       "      <td>€138.6M</td>\n",
       "    </tr>\n",
       "    <tr>\n",
       "      <th>4</th>\n",
       "      <td>4</td>\n",
       "      <td>192985</td>\n",
       "      <td>K. De Bruyne</td>\n",
       "      <td>27</td>\n",
       "      <td>https://cdn.sofifa.org/players/4/19/192985.png</td>\n",
       "      <td>Belgium</td>\n",
       "      <td>https://cdn.sofifa.org/flags/7.png</td>\n",
       "      <td>91</td>\n",
       "      <td>92</td>\n",
       "      <td>Manchester City</td>\n",
       "      <td>...</td>\n",
       "      <td>88.0</td>\n",
       "      <td>68.0</td>\n",
       "      <td>58.0</td>\n",
       "      <td>51.0</td>\n",
       "      <td>15.0</td>\n",
       "      <td>13.0</td>\n",
       "      <td>5.0</td>\n",
       "      <td>10.0</td>\n",
       "      <td>13.0</td>\n",
       "      <td>€196.4M</td>\n",
       "    </tr>\n",
       "    <tr>\n",
       "      <th>...</th>\n",
       "      <td>...</td>\n",
       "      <td>...</td>\n",
       "      <td>...</td>\n",
       "      <td>...</td>\n",
       "      <td>...</td>\n",
       "      <td>...</td>\n",
       "      <td>...</td>\n",
       "      <td>...</td>\n",
       "      <td>...</td>\n",
       "      <td>...</td>\n",
       "      <td>...</td>\n",
       "      <td>...</td>\n",
       "      <td>...</td>\n",
       "      <td>...</td>\n",
       "      <td>...</td>\n",
       "      <td>...</td>\n",
       "      <td>...</td>\n",
       "      <td>...</td>\n",
       "      <td>...</td>\n",
       "      <td>...</td>\n",
       "      <td>...</td>\n",
       "    </tr>\n",
       "    <tr>\n",
       "      <th>18202</th>\n",
       "      <td>18202</td>\n",
       "      <td>238813</td>\n",
       "      <td>J. Lundstram</td>\n",
       "      <td>19</td>\n",
       "      <td>https://cdn.sofifa.org/players/4/19/238813.png</td>\n",
       "      <td>England</td>\n",
       "      <td>https://cdn.sofifa.org/flags/14.png</td>\n",
       "      <td>47</td>\n",
       "      <td>65</td>\n",
       "      <td>Crewe Alexandra</td>\n",
       "      <td>...</td>\n",
       "      <td>45.0</td>\n",
       "      <td>40.0</td>\n",
       "      <td>48.0</td>\n",
       "      <td>47.0</td>\n",
       "      <td>10.0</td>\n",
       "      <td>13.0</td>\n",
       "      <td>7.0</td>\n",
       "      <td>8.0</td>\n",
       "      <td>9.0</td>\n",
       "      <td>€143K</td>\n",
       "    </tr>\n",
       "    <tr>\n",
       "      <th>18203</th>\n",
       "      <td>18203</td>\n",
       "      <td>243165</td>\n",
       "      <td>N. Christoffersson</td>\n",
       "      <td>19</td>\n",
       "      <td>https://cdn.sofifa.org/players/4/19/243165.png</td>\n",
       "      <td>Sweden</td>\n",
       "      <td>https://cdn.sofifa.org/flags/46.png</td>\n",
       "      <td>47</td>\n",
       "      <td>63</td>\n",
       "      <td>Trelleborgs FF</td>\n",
       "      <td>...</td>\n",
       "      <td>42.0</td>\n",
       "      <td>22.0</td>\n",
       "      <td>15.0</td>\n",
       "      <td>19.0</td>\n",
       "      <td>10.0</td>\n",
       "      <td>9.0</td>\n",
       "      <td>9.0</td>\n",
       "      <td>5.0</td>\n",
       "      <td>12.0</td>\n",
       "      <td>€113K</td>\n",
       "    </tr>\n",
       "    <tr>\n",
       "      <th>18204</th>\n",
       "      <td>18204</td>\n",
       "      <td>241638</td>\n",
       "      <td>B. Worman</td>\n",
       "      <td>16</td>\n",
       "      <td>https://cdn.sofifa.org/players/4/19/241638.png</td>\n",
       "      <td>England</td>\n",
       "      <td>https://cdn.sofifa.org/flags/14.png</td>\n",
       "      <td>47</td>\n",
       "      <td>67</td>\n",
       "      <td>Cambridge United</td>\n",
       "      <td>...</td>\n",
       "      <td>41.0</td>\n",
       "      <td>32.0</td>\n",
       "      <td>13.0</td>\n",
       "      <td>11.0</td>\n",
       "      <td>6.0</td>\n",
       "      <td>5.0</td>\n",
       "      <td>10.0</td>\n",
       "      <td>6.0</td>\n",
       "      <td>13.0</td>\n",
       "      <td>€165K</td>\n",
       "    </tr>\n",
       "    <tr>\n",
       "      <th>18205</th>\n",
       "      <td>18205</td>\n",
       "      <td>246268</td>\n",
       "      <td>D. Walker-Rice</td>\n",
       "      <td>17</td>\n",
       "      <td>https://cdn.sofifa.org/players/4/19/246268.png</td>\n",
       "      <td>England</td>\n",
       "      <td>https://cdn.sofifa.org/flags/14.png</td>\n",
       "      <td>47</td>\n",
       "      <td>66</td>\n",
       "      <td>Tranmere Rovers</td>\n",
       "      <td>...</td>\n",
       "      <td>46.0</td>\n",
       "      <td>20.0</td>\n",
       "      <td>25.0</td>\n",
       "      <td>27.0</td>\n",
       "      <td>14.0</td>\n",
       "      <td>6.0</td>\n",
       "      <td>14.0</td>\n",
       "      <td>8.0</td>\n",
       "      <td>9.0</td>\n",
       "      <td>€143K</td>\n",
       "    </tr>\n",
       "    <tr>\n",
       "      <th>18206</th>\n",
       "      <td>18206</td>\n",
       "      <td>246269</td>\n",
       "      <td>G. Nugent</td>\n",
       "      <td>16</td>\n",
       "      <td>https://cdn.sofifa.org/players/4/19/246269.png</td>\n",
       "      <td>England</td>\n",
       "      <td>https://cdn.sofifa.org/flags/14.png</td>\n",
       "      <td>46</td>\n",
       "      <td>66</td>\n",
       "      <td>Tranmere Rovers</td>\n",
       "      <td>...</td>\n",
       "      <td>43.0</td>\n",
       "      <td>40.0</td>\n",
       "      <td>43.0</td>\n",
       "      <td>50.0</td>\n",
       "      <td>10.0</td>\n",
       "      <td>15.0</td>\n",
       "      <td>9.0</td>\n",
       "      <td>12.0</td>\n",
       "      <td>9.0</td>\n",
       "      <td>€165K</td>\n",
       "    </tr>\n",
       "  </tbody>\n",
       "</table>\n",
       "<p>18207 rows × 89 columns</p>\n",
       "</div>"
      ],
      "text/plain": [
       "       Unnamed: 0      ID                Name  Age  \\\n",
       "0               0  158023            L. Messi   31   \n",
       "1               1   20801   Cristiano Ronaldo   33   \n",
       "2               2  190871           Neymar Jr   26   \n",
       "3               3  193080              De Gea   27   \n",
       "4               4  192985        K. De Bruyne   27   \n",
       "...           ...     ...                 ...  ...   \n",
       "18202       18202  238813        J. Lundstram   19   \n",
       "18203       18203  243165  N. Christoffersson   19   \n",
       "18204       18204  241638           B. Worman   16   \n",
       "18205       18205  246268      D. Walker-Rice   17   \n",
       "18206       18206  246269           G. Nugent   16   \n",
       "\n",
       "                                                Photo Nationality  \\\n",
       "0      https://cdn.sofifa.org/players/4/19/158023.png   Argentina   \n",
       "1       https://cdn.sofifa.org/players/4/19/20801.png    Portugal   \n",
       "2      https://cdn.sofifa.org/players/4/19/190871.png      Brazil   \n",
       "3      https://cdn.sofifa.org/players/4/19/193080.png       Spain   \n",
       "4      https://cdn.sofifa.org/players/4/19/192985.png     Belgium   \n",
       "...                                               ...         ...   \n",
       "18202  https://cdn.sofifa.org/players/4/19/238813.png     England   \n",
       "18203  https://cdn.sofifa.org/players/4/19/243165.png      Sweden   \n",
       "18204  https://cdn.sofifa.org/players/4/19/241638.png     England   \n",
       "18205  https://cdn.sofifa.org/players/4/19/246268.png     England   \n",
       "18206  https://cdn.sofifa.org/players/4/19/246269.png     England   \n",
       "\n",
       "                                      Flag  Overall  Potential  \\\n",
       "0      https://cdn.sofifa.org/flags/52.png       94         94   \n",
       "1      https://cdn.sofifa.org/flags/38.png       94         94   \n",
       "2      https://cdn.sofifa.org/flags/54.png       92         93   \n",
       "3      https://cdn.sofifa.org/flags/45.png       91         93   \n",
       "4       https://cdn.sofifa.org/flags/7.png       91         92   \n",
       "...                                    ...      ...        ...   \n",
       "18202  https://cdn.sofifa.org/flags/14.png       47         65   \n",
       "18203  https://cdn.sofifa.org/flags/46.png       47         63   \n",
       "18204  https://cdn.sofifa.org/flags/14.png       47         67   \n",
       "18205  https://cdn.sofifa.org/flags/14.png       47         66   \n",
       "18206  https://cdn.sofifa.org/flags/14.png       46         66   \n",
       "\n",
       "                      Club  ... Composure Marking StandingTackle  \\\n",
       "0             FC Barcelona  ...      96.0    33.0           28.0   \n",
       "1                 Juventus  ...      95.0    28.0           31.0   \n",
       "2      Paris Saint-Germain  ...      94.0    27.0           24.0   \n",
       "3        Manchester United  ...      68.0    15.0           21.0   \n",
       "4          Manchester City  ...      88.0    68.0           58.0   \n",
       "...                    ...  ...       ...     ...            ...   \n",
       "18202      Crewe Alexandra  ...      45.0    40.0           48.0   \n",
       "18203       Trelleborgs FF  ...      42.0    22.0           15.0   \n",
       "18204     Cambridge United  ...      41.0    32.0           13.0   \n",
       "18205      Tranmere Rovers  ...      46.0    20.0           25.0   \n",
       "18206      Tranmere Rovers  ...      43.0    40.0           43.0   \n",
       "\n",
       "       SlidingTackle GKDiving  GKHandling  GKKicking  GKPositioning  \\\n",
       "0               26.0      6.0        11.0       15.0           14.0   \n",
       "1               23.0      7.0        11.0       15.0           14.0   \n",
       "2               33.0      9.0         9.0       15.0           15.0   \n",
       "3               13.0     90.0        85.0       87.0           88.0   \n",
       "4               51.0     15.0        13.0        5.0           10.0   \n",
       "...              ...      ...         ...        ...            ...   \n",
       "18202           47.0     10.0        13.0        7.0            8.0   \n",
       "18203           19.0     10.0         9.0        9.0            5.0   \n",
       "18204           11.0      6.0         5.0       10.0            6.0   \n",
       "18205           27.0     14.0         6.0       14.0            8.0   \n",
       "18206           50.0     10.0        15.0        9.0           12.0   \n",
       "\n",
       "      GKReflexes Release Clause  \n",
       "0            8.0        €226.5M  \n",
       "1           11.0        €127.1M  \n",
       "2           11.0        €228.1M  \n",
       "3           94.0        €138.6M  \n",
       "4           13.0        €196.4M  \n",
       "...          ...            ...  \n",
       "18202        9.0          €143K  \n",
       "18203       12.0          €113K  \n",
       "18204       13.0          €165K  \n",
       "18205        9.0          €143K  \n",
       "18206        9.0          €165K  \n",
       "\n",
       "[18207 rows x 89 columns]"
      ]
     },
     "execution_count": 119,
     "metadata": {},
     "output_type": "execute_result"
    }
   ],
   "source": [
    "# csv\n",
    "import pandas as pd\n",
    "df = pd.read_csv('data_fifa.csv')\n",
    "df"
   ]
  },
  {
   "cell_type": "code",
   "execution_count": 120,
   "id": "60b03684",
   "metadata": {},
   "outputs": [
    {
     "data": {
      "text/html": [
       "<div>\n",
       "<style scoped>\n",
       "    .dataframe tbody tr th:only-of-type {\n",
       "        vertical-align: middle;\n",
       "    }\n",
       "\n",
       "    .dataframe tbody tr th {\n",
       "        vertical-align: top;\n",
       "    }\n",
       "\n",
       "    .dataframe thead th {\n",
       "        text-align: right;\n",
       "    }\n",
       "</style>\n",
       "<table border=\"1\" class=\"dataframe\">\n",
       "  <thead>\n",
       "    <tr style=\"text-align: right;\">\n",
       "      <th></th>\n",
       "      <th>Unnamed: 0</th>\n",
       "      <th>ID</th>\n",
       "      <th>Name</th>\n",
       "      <th>Age</th>\n",
       "      <th>Photo</th>\n",
       "      <th>Nationality</th>\n",
       "      <th>Flag</th>\n",
       "      <th>Overall</th>\n",
       "      <th>Potential</th>\n",
       "      <th>Club</th>\n",
       "      <th>...</th>\n",
       "      <th>Composure</th>\n",
       "      <th>Marking</th>\n",
       "      <th>StandingTackle</th>\n",
       "      <th>SlidingTackle</th>\n",
       "      <th>GKDiving</th>\n",
       "      <th>GKHandling</th>\n",
       "      <th>GKKicking</th>\n",
       "      <th>GKPositioning</th>\n",
       "      <th>GKReflexes</th>\n",
       "      <th>Release Clause</th>\n",
       "    </tr>\n",
       "  </thead>\n",
       "  <tbody>\n",
       "    <tr>\n",
       "      <th>0</th>\n",
       "      <td>0</td>\n",
       "      <td>158023</td>\n",
       "      <td>L. Messi</td>\n",
       "      <td>31</td>\n",
       "      <td>https://cdn.sofifa.org/players/4/19/158023.png</td>\n",
       "      <td>Argentina</td>\n",
       "      <td>https://cdn.sofifa.org/flags/52.png</td>\n",
       "      <td>94</td>\n",
       "      <td>94</td>\n",
       "      <td>FC Barcelona</td>\n",
       "      <td>...</td>\n",
       "      <td>96.0</td>\n",
       "      <td>33.0</td>\n",
       "      <td>28.0</td>\n",
       "      <td>26.0</td>\n",
       "      <td>6.0</td>\n",
       "      <td>11.0</td>\n",
       "      <td>15.0</td>\n",
       "      <td>14.0</td>\n",
       "      <td>8.0</td>\n",
       "      <td>€226.5M</td>\n",
       "    </tr>\n",
       "    <tr>\n",
       "      <th>1</th>\n",
       "      <td>1</td>\n",
       "      <td>20801</td>\n",
       "      <td>Cristiano Ronaldo</td>\n",
       "      <td>33</td>\n",
       "      <td>https://cdn.sofifa.org/players/4/19/20801.png</td>\n",
       "      <td>Portugal</td>\n",
       "      <td>https://cdn.sofifa.org/flags/38.png</td>\n",
       "      <td>94</td>\n",
       "      <td>94</td>\n",
       "      <td>Juventus</td>\n",
       "      <td>...</td>\n",
       "      <td>95.0</td>\n",
       "      <td>28.0</td>\n",
       "      <td>31.0</td>\n",
       "      <td>23.0</td>\n",
       "      <td>7.0</td>\n",
       "      <td>11.0</td>\n",
       "      <td>15.0</td>\n",
       "      <td>14.0</td>\n",
       "      <td>11.0</td>\n",
       "      <td>€127.1M</td>\n",
       "    </tr>\n",
       "    <tr>\n",
       "      <th>2</th>\n",
       "      <td>2</td>\n",
       "      <td>190871</td>\n",
       "      <td>Neymar Jr</td>\n",
       "      <td>26</td>\n",
       "      <td>https://cdn.sofifa.org/players/4/19/190871.png</td>\n",
       "      <td>Brazil</td>\n",
       "      <td>https://cdn.sofifa.org/flags/54.png</td>\n",
       "      <td>92</td>\n",
       "      <td>93</td>\n",
       "      <td>Paris Saint-Germain</td>\n",
       "      <td>...</td>\n",
       "      <td>94.0</td>\n",
       "      <td>27.0</td>\n",
       "      <td>24.0</td>\n",
       "      <td>33.0</td>\n",
       "      <td>9.0</td>\n",
       "      <td>9.0</td>\n",
       "      <td>15.0</td>\n",
       "      <td>15.0</td>\n",
       "      <td>11.0</td>\n",
       "      <td>€228.1M</td>\n",
       "    </tr>\n",
       "    <tr>\n",
       "      <th>3</th>\n",
       "      <td>3</td>\n",
       "      <td>193080</td>\n",
       "      <td>De Gea</td>\n",
       "      <td>27</td>\n",
       "      <td>https://cdn.sofifa.org/players/4/19/193080.png</td>\n",
       "      <td>Spain</td>\n",
       "      <td>https://cdn.sofifa.org/flags/45.png</td>\n",
       "      <td>91</td>\n",
       "      <td>93</td>\n",
       "      <td>Manchester United</td>\n",
       "      <td>...</td>\n",
       "      <td>68.0</td>\n",
       "      <td>15.0</td>\n",
       "      <td>21.0</td>\n",
       "      <td>13.0</td>\n",
       "      <td>90.0</td>\n",
       "      <td>85.0</td>\n",
       "      <td>87.0</td>\n",
       "      <td>88.0</td>\n",
       "      <td>94.0</td>\n",
       "      <td>€138.6M</td>\n",
       "    </tr>\n",
       "    <tr>\n",
       "      <th>4</th>\n",
       "      <td>4</td>\n",
       "      <td>192985</td>\n",
       "      <td>K. De Bruyne</td>\n",
       "      <td>27</td>\n",
       "      <td>https://cdn.sofifa.org/players/4/19/192985.png</td>\n",
       "      <td>Belgium</td>\n",
       "      <td>https://cdn.sofifa.org/flags/7.png</td>\n",
       "      <td>91</td>\n",
       "      <td>92</td>\n",
       "      <td>Manchester City</td>\n",
       "      <td>...</td>\n",
       "      <td>88.0</td>\n",
       "      <td>68.0</td>\n",
       "      <td>58.0</td>\n",
       "      <td>51.0</td>\n",
       "      <td>15.0</td>\n",
       "      <td>13.0</td>\n",
       "      <td>5.0</td>\n",
       "      <td>10.0</td>\n",
       "      <td>13.0</td>\n",
       "      <td>€196.4M</td>\n",
       "    </tr>\n",
       "  </tbody>\n",
       "</table>\n",
       "<p>5 rows × 89 columns</p>\n",
       "</div>"
      ],
      "text/plain": [
       "   Unnamed: 0      ID               Name  Age  \\\n",
       "0           0  158023           L. Messi   31   \n",
       "1           1   20801  Cristiano Ronaldo   33   \n",
       "2           2  190871          Neymar Jr   26   \n",
       "3           3  193080             De Gea   27   \n",
       "4           4  192985       K. De Bruyne   27   \n",
       "\n",
       "                                            Photo Nationality  \\\n",
       "0  https://cdn.sofifa.org/players/4/19/158023.png   Argentina   \n",
       "1   https://cdn.sofifa.org/players/4/19/20801.png    Portugal   \n",
       "2  https://cdn.sofifa.org/players/4/19/190871.png      Brazil   \n",
       "3  https://cdn.sofifa.org/players/4/19/193080.png       Spain   \n",
       "4  https://cdn.sofifa.org/players/4/19/192985.png     Belgium   \n",
       "\n",
       "                                  Flag  Overall  Potential  \\\n",
       "0  https://cdn.sofifa.org/flags/52.png       94         94   \n",
       "1  https://cdn.sofifa.org/flags/38.png       94         94   \n",
       "2  https://cdn.sofifa.org/flags/54.png       92         93   \n",
       "3  https://cdn.sofifa.org/flags/45.png       91         93   \n",
       "4   https://cdn.sofifa.org/flags/7.png       91         92   \n",
       "\n",
       "                  Club  ... Composure Marking StandingTackle  SlidingTackle  \\\n",
       "0         FC Barcelona  ...      96.0    33.0           28.0           26.0   \n",
       "1             Juventus  ...      95.0    28.0           31.0           23.0   \n",
       "2  Paris Saint-Germain  ...      94.0    27.0           24.0           33.0   \n",
       "3    Manchester United  ...      68.0    15.0           21.0           13.0   \n",
       "4      Manchester City  ...      88.0    68.0           58.0           51.0   \n",
       "\n",
       "  GKDiving  GKHandling  GKKicking  GKPositioning GKReflexes Release Clause  \n",
       "0      6.0        11.0       15.0           14.0        8.0        €226.5M  \n",
       "1      7.0        11.0       15.0           14.0       11.0        €127.1M  \n",
       "2      9.0         9.0       15.0           15.0       11.0        €228.1M  \n",
       "3     90.0        85.0       87.0           88.0       94.0        €138.6M  \n",
       "4     15.0        13.0        5.0           10.0       13.0        €196.4M  \n",
       "\n",
       "[5 rows x 89 columns]"
      ]
     },
     "execution_count": 120,
     "metadata": {},
     "output_type": "execute_result"
    }
   ],
   "source": [
    "df.head()"
   ]
  },
  {
   "cell_type": "code",
   "execution_count": 121,
   "id": "fea9e449",
   "metadata": {},
   "outputs": [
    {
     "data": {
      "text/html": [
       "<div>\n",
       "<style scoped>\n",
       "    .dataframe tbody tr th:only-of-type {\n",
       "        vertical-align: middle;\n",
       "    }\n",
       "\n",
       "    .dataframe tbody tr th {\n",
       "        vertical-align: top;\n",
       "    }\n",
       "\n",
       "    .dataframe thead th {\n",
       "        text-align: right;\n",
       "    }\n",
       "</style>\n",
       "<table border=\"1\" class=\"dataframe\">\n",
       "  <thead>\n",
       "    <tr style=\"text-align: right;\">\n",
       "      <th></th>\n",
       "      <th>Unnamed: 0</th>\n",
       "      <th>ID</th>\n",
       "      <th>Name</th>\n",
       "      <th>Age</th>\n",
       "      <th>Photo</th>\n",
       "      <th>Nationality</th>\n",
       "      <th>Flag</th>\n",
       "      <th>Overall</th>\n",
       "      <th>Potential</th>\n",
       "      <th>Club</th>\n",
       "      <th>...</th>\n",
       "      <th>Composure</th>\n",
       "      <th>Marking</th>\n",
       "      <th>StandingTackle</th>\n",
       "      <th>SlidingTackle</th>\n",
       "      <th>GKDiving</th>\n",
       "      <th>GKHandling</th>\n",
       "      <th>GKKicking</th>\n",
       "      <th>GKPositioning</th>\n",
       "      <th>GKReflexes</th>\n",
       "      <th>Release Clause</th>\n",
       "    </tr>\n",
       "  </thead>\n",
       "  <tbody>\n",
       "    <tr>\n",
       "      <th>0</th>\n",
       "      <td>0</td>\n",
       "      <td>158023</td>\n",
       "      <td>L. Messi</td>\n",
       "      <td>31</td>\n",
       "      <td>https://cdn.sofifa.org/players/4/19/158023.png</td>\n",
       "      <td>Argentina</td>\n",
       "      <td>https://cdn.sofifa.org/flags/52.png</td>\n",
       "      <td>94</td>\n",
       "      <td>94</td>\n",
       "      <td>FC Barcelona</td>\n",
       "      <td>...</td>\n",
       "      <td>96.0</td>\n",
       "      <td>33.0</td>\n",
       "      <td>28.0</td>\n",
       "      <td>26.0</td>\n",
       "      <td>6.0</td>\n",
       "      <td>11.0</td>\n",
       "      <td>15.0</td>\n",
       "      <td>14.0</td>\n",
       "      <td>8.0</td>\n",
       "      <td>€226.5M</td>\n",
       "    </tr>\n",
       "    <tr>\n",
       "      <th>1</th>\n",
       "      <td>1</td>\n",
       "      <td>20801</td>\n",
       "      <td>Cristiano Ronaldo</td>\n",
       "      <td>33</td>\n",
       "      <td>https://cdn.sofifa.org/players/4/19/20801.png</td>\n",
       "      <td>Portugal</td>\n",
       "      <td>https://cdn.sofifa.org/flags/38.png</td>\n",
       "      <td>94</td>\n",
       "      <td>94</td>\n",
       "      <td>Juventus</td>\n",
       "      <td>...</td>\n",
       "      <td>95.0</td>\n",
       "      <td>28.0</td>\n",
       "      <td>31.0</td>\n",
       "      <td>23.0</td>\n",
       "      <td>7.0</td>\n",
       "      <td>11.0</td>\n",
       "      <td>15.0</td>\n",
       "      <td>14.0</td>\n",
       "      <td>11.0</td>\n",
       "      <td>€127.1M</td>\n",
       "    </tr>\n",
       "    <tr>\n",
       "      <th>2</th>\n",
       "      <td>2</td>\n",
       "      <td>190871</td>\n",
       "      <td>Neymar Jr</td>\n",
       "      <td>26</td>\n",
       "      <td>https://cdn.sofifa.org/players/4/19/190871.png</td>\n",
       "      <td>Brazil</td>\n",
       "      <td>https://cdn.sofifa.org/flags/54.png</td>\n",
       "      <td>92</td>\n",
       "      <td>93</td>\n",
       "      <td>Paris Saint-Germain</td>\n",
       "      <td>...</td>\n",
       "      <td>94.0</td>\n",
       "      <td>27.0</td>\n",
       "      <td>24.0</td>\n",
       "      <td>33.0</td>\n",
       "      <td>9.0</td>\n",
       "      <td>9.0</td>\n",
       "      <td>15.0</td>\n",
       "      <td>15.0</td>\n",
       "      <td>11.0</td>\n",
       "      <td>€228.1M</td>\n",
       "    </tr>\n",
       "    <tr>\n",
       "      <th>3</th>\n",
       "      <td>3</td>\n",
       "      <td>193080</td>\n",
       "      <td>De Gea</td>\n",
       "      <td>27</td>\n",
       "      <td>https://cdn.sofifa.org/players/4/19/193080.png</td>\n",
       "      <td>Spain</td>\n",
       "      <td>https://cdn.sofifa.org/flags/45.png</td>\n",
       "      <td>91</td>\n",
       "      <td>93</td>\n",
       "      <td>Manchester United</td>\n",
       "      <td>...</td>\n",
       "      <td>68.0</td>\n",
       "      <td>15.0</td>\n",
       "      <td>21.0</td>\n",
       "      <td>13.0</td>\n",
       "      <td>90.0</td>\n",
       "      <td>85.0</td>\n",
       "      <td>87.0</td>\n",
       "      <td>88.0</td>\n",
       "      <td>94.0</td>\n",
       "      <td>€138.6M</td>\n",
       "    </tr>\n",
       "    <tr>\n",
       "      <th>4</th>\n",
       "      <td>4</td>\n",
       "      <td>192985</td>\n",
       "      <td>K. De Bruyne</td>\n",
       "      <td>27</td>\n",
       "      <td>https://cdn.sofifa.org/players/4/19/192985.png</td>\n",
       "      <td>Belgium</td>\n",
       "      <td>https://cdn.sofifa.org/flags/7.png</td>\n",
       "      <td>91</td>\n",
       "      <td>92</td>\n",
       "      <td>Manchester City</td>\n",
       "      <td>...</td>\n",
       "      <td>88.0</td>\n",
       "      <td>68.0</td>\n",
       "      <td>58.0</td>\n",
       "      <td>51.0</td>\n",
       "      <td>15.0</td>\n",
       "      <td>13.0</td>\n",
       "      <td>5.0</td>\n",
       "      <td>10.0</td>\n",
       "      <td>13.0</td>\n",
       "      <td>€196.4M</td>\n",
       "    </tr>\n",
       "    <tr>\n",
       "      <th>5</th>\n",
       "      <td>5</td>\n",
       "      <td>183277</td>\n",
       "      <td>E. Hazard</td>\n",
       "      <td>27</td>\n",
       "      <td>https://cdn.sofifa.org/players/4/19/183277.png</td>\n",
       "      <td>Belgium</td>\n",
       "      <td>https://cdn.sofifa.org/flags/7.png</td>\n",
       "      <td>91</td>\n",
       "      <td>91</td>\n",
       "      <td>Chelsea</td>\n",
       "      <td>...</td>\n",
       "      <td>91.0</td>\n",
       "      <td>34.0</td>\n",
       "      <td>27.0</td>\n",
       "      <td>22.0</td>\n",
       "      <td>11.0</td>\n",
       "      <td>12.0</td>\n",
       "      <td>6.0</td>\n",
       "      <td>8.0</td>\n",
       "      <td>8.0</td>\n",
       "      <td>€172.1M</td>\n",
       "    </tr>\n",
       "    <tr>\n",
       "      <th>6</th>\n",
       "      <td>6</td>\n",
       "      <td>177003</td>\n",
       "      <td>L. Modrić</td>\n",
       "      <td>32</td>\n",
       "      <td>https://cdn.sofifa.org/players/4/19/177003.png</td>\n",
       "      <td>Croatia</td>\n",
       "      <td>https://cdn.sofifa.org/flags/10.png</td>\n",
       "      <td>91</td>\n",
       "      <td>91</td>\n",
       "      <td>Real Madrid</td>\n",
       "      <td>...</td>\n",
       "      <td>84.0</td>\n",
       "      <td>60.0</td>\n",
       "      <td>76.0</td>\n",
       "      <td>73.0</td>\n",
       "      <td>13.0</td>\n",
       "      <td>9.0</td>\n",
       "      <td>7.0</td>\n",
       "      <td>14.0</td>\n",
       "      <td>9.0</td>\n",
       "      <td>€137.4M</td>\n",
       "    </tr>\n",
       "    <tr>\n",
       "      <th>7</th>\n",
       "      <td>7</td>\n",
       "      <td>176580</td>\n",
       "      <td>L. Suárez</td>\n",
       "      <td>31</td>\n",
       "      <td>https://cdn.sofifa.org/players/4/19/176580.png</td>\n",
       "      <td>Uruguay</td>\n",
       "      <td>https://cdn.sofifa.org/flags/60.png</td>\n",
       "      <td>91</td>\n",
       "      <td>91</td>\n",
       "      <td>FC Barcelona</td>\n",
       "      <td>...</td>\n",
       "      <td>85.0</td>\n",
       "      <td>62.0</td>\n",
       "      <td>45.0</td>\n",
       "      <td>38.0</td>\n",
       "      <td>27.0</td>\n",
       "      <td>25.0</td>\n",
       "      <td>31.0</td>\n",
       "      <td>33.0</td>\n",
       "      <td>37.0</td>\n",
       "      <td>€164M</td>\n",
       "    </tr>\n",
       "    <tr>\n",
       "      <th>8</th>\n",
       "      <td>8</td>\n",
       "      <td>155862</td>\n",
       "      <td>Sergio Ramos</td>\n",
       "      <td>32</td>\n",
       "      <td>https://cdn.sofifa.org/players/4/19/155862.png</td>\n",
       "      <td>Spain</td>\n",
       "      <td>https://cdn.sofifa.org/flags/45.png</td>\n",
       "      <td>91</td>\n",
       "      <td>91</td>\n",
       "      <td>Real Madrid</td>\n",
       "      <td>...</td>\n",
       "      <td>82.0</td>\n",
       "      <td>87.0</td>\n",
       "      <td>92.0</td>\n",
       "      <td>91.0</td>\n",
       "      <td>11.0</td>\n",
       "      <td>8.0</td>\n",
       "      <td>9.0</td>\n",
       "      <td>7.0</td>\n",
       "      <td>11.0</td>\n",
       "      <td>€104.6M</td>\n",
       "    </tr>\n",
       "    <tr>\n",
       "      <th>9</th>\n",
       "      <td>9</td>\n",
       "      <td>200389</td>\n",
       "      <td>J. Oblak</td>\n",
       "      <td>25</td>\n",
       "      <td>https://cdn.sofifa.org/players/4/19/200389.png</td>\n",
       "      <td>Slovenia</td>\n",
       "      <td>https://cdn.sofifa.org/flags/44.png</td>\n",
       "      <td>90</td>\n",
       "      <td>93</td>\n",
       "      <td>Atlético Madrid</td>\n",
       "      <td>...</td>\n",
       "      <td>70.0</td>\n",
       "      <td>27.0</td>\n",
       "      <td>12.0</td>\n",
       "      <td>18.0</td>\n",
       "      <td>86.0</td>\n",
       "      <td>92.0</td>\n",
       "      <td>78.0</td>\n",
       "      <td>88.0</td>\n",
       "      <td>89.0</td>\n",
       "      <td>€144.5M</td>\n",
       "    </tr>\n",
       "  </tbody>\n",
       "</table>\n",
       "<p>10 rows × 89 columns</p>\n",
       "</div>"
      ],
      "text/plain": [
       "   Unnamed: 0      ID               Name  Age  \\\n",
       "0           0  158023           L. Messi   31   \n",
       "1           1   20801  Cristiano Ronaldo   33   \n",
       "2           2  190871          Neymar Jr   26   \n",
       "3           3  193080             De Gea   27   \n",
       "4           4  192985       K. De Bruyne   27   \n",
       "5           5  183277          E. Hazard   27   \n",
       "6           6  177003          L. Modrić   32   \n",
       "7           7  176580          L. Suárez   31   \n",
       "8           8  155862       Sergio Ramos   32   \n",
       "9           9  200389           J. Oblak   25   \n",
       "\n",
       "                                            Photo Nationality  \\\n",
       "0  https://cdn.sofifa.org/players/4/19/158023.png   Argentina   \n",
       "1   https://cdn.sofifa.org/players/4/19/20801.png    Portugal   \n",
       "2  https://cdn.sofifa.org/players/4/19/190871.png      Brazil   \n",
       "3  https://cdn.sofifa.org/players/4/19/193080.png       Spain   \n",
       "4  https://cdn.sofifa.org/players/4/19/192985.png     Belgium   \n",
       "5  https://cdn.sofifa.org/players/4/19/183277.png     Belgium   \n",
       "6  https://cdn.sofifa.org/players/4/19/177003.png     Croatia   \n",
       "7  https://cdn.sofifa.org/players/4/19/176580.png     Uruguay   \n",
       "8  https://cdn.sofifa.org/players/4/19/155862.png       Spain   \n",
       "9  https://cdn.sofifa.org/players/4/19/200389.png    Slovenia   \n",
       "\n",
       "                                  Flag  Overall  Potential  \\\n",
       "0  https://cdn.sofifa.org/flags/52.png       94         94   \n",
       "1  https://cdn.sofifa.org/flags/38.png       94         94   \n",
       "2  https://cdn.sofifa.org/flags/54.png       92         93   \n",
       "3  https://cdn.sofifa.org/flags/45.png       91         93   \n",
       "4   https://cdn.sofifa.org/flags/7.png       91         92   \n",
       "5   https://cdn.sofifa.org/flags/7.png       91         91   \n",
       "6  https://cdn.sofifa.org/flags/10.png       91         91   \n",
       "7  https://cdn.sofifa.org/flags/60.png       91         91   \n",
       "8  https://cdn.sofifa.org/flags/45.png       91         91   \n",
       "9  https://cdn.sofifa.org/flags/44.png       90         93   \n",
       "\n",
       "                  Club  ... Composure Marking StandingTackle  SlidingTackle  \\\n",
       "0         FC Barcelona  ...      96.0    33.0           28.0           26.0   \n",
       "1             Juventus  ...      95.0    28.0           31.0           23.0   \n",
       "2  Paris Saint-Germain  ...      94.0    27.0           24.0           33.0   \n",
       "3    Manchester United  ...      68.0    15.0           21.0           13.0   \n",
       "4      Manchester City  ...      88.0    68.0           58.0           51.0   \n",
       "5              Chelsea  ...      91.0    34.0           27.0           22.0   \n",
       "6          Real Madrid  ...      84.0    60.0           76.0           73.0   \n",
       "7         FC Barcelona  ...      85.0    62.0           45.0           38.0   \n",
       "8          Real Madrid  ...      82.0    87.0           92.0           91.0   \n",
       "9      Atlético Madrid  ...      70.0    27.0           12.0           18.0   \n",
       "\n",
       "  GKDiving  GKHandling  GKKicking  GKPositioning GKReflexes Release Clause  \n",
       "0      6.0        11.0       15.0           14.0        8.0        €226.5M  \n",
       "1      7.0        11.0       15.0           14.0       11.0        €127.1M  \n",
       "2      9.0         9.0       15.0           15.0       11.0        €228.1M  \n",
       "3     90.0        85.0       87.0           88.0       94.0        €138.6M  \n",
       "4     15.0        13.0        5.0           10.0       13.0        €196.4M  \n",
       "5     11.0        12.0        6.0            8.0        8.0        €172.1M  \n",
       "6     13.0         9.0        7.0           14.0        9.0        €137.4M  \n",
       "7     27.0        25.0       31.0           33.0       37.0          €164M  \n",
       "8     11.0         8.0        9.0            7.0       11.0        €104.6M  \n",
       "9     86.0        92.0       78.0           88.0       89.0        €144.5M  \n",
       "\n",
       "[10 rows x 89 columns]"
      ]
     },
     "execution_count": 121,
     "metadata": {},
     "output_type": "execute_result"
    }
   ],
   "source": [
    "df.head(10)"
   ]
  },
  {
   "cell_type": "code",
   "execution_count": 122,
   "id": "a7874746",
   "metadata": {},
   "outputs": [
    {
     "data": {
      "text/html": [
       "<div>\n",
       "<style scoped>\n",
       "    .dataframe tbody tr th:only-of-type {\n",
       "        vertical-align: middle;\n",
       "    }\n",
       "\n",
       "    .dataframe tbody tr th {\n",
       "        vertical-align: top;\n",
       "    }\n",
       "\n",
       "    .dataframe thead th {\n",
       "        text-align: right;\n",
       "    }\n",
       "</style>\n",
       "<table border=\"1\" class=\"dataframe\">\n",
       "  <thead>\n",
       "    <tr style=\"text-align: right;\">\n",
       "      <th></th>\n",
       "      <th>Unnamed: 0</th>\n",
       "      <th>ID</th>\n",
       "      <th>Name</th>\n",
       "      <th>Age</th>\n",
       "      <th>Photo</th>\n",
       "      <th>Nationality</th>\n",
       "      <th>Flag</th>\n",
       "      <th>Overall</th>\n",
       "      <th>Potential</th>\n",
       "      <th>Club</th>\n",
       "      <th>...</th>\n",
       "      <th>Composure</th>\n",
       "      <th>Marking</th>\n",
       "      <th>StandingTackle</th>\n",
       "      <th>SlidingTackle</th>\n",
       "      <th>GKDiving</th>\n",
       "      <th>GKHandling</th>\n",
       "      <th>GKKicking</th>\n",
       "      <th>GKPositioning</th>\n",
       "      <th>GKReflexes</th>\n",
       "      <th>Release Clause</th>\n",
       "    </tr>\n",
       "  </thead>\n",
       "  <tbody>\n",
       "    <tr>\n",
       "      <th>18202</th>\n",
       "      <td>18202</td>\n",
       "      <td>238813</td>\n",
       "      <td>J. Lundstram</td>\n",
       "      <td>19</td>\n",
       "      <td>https://cdn.sofifa.org/players/4/19/238813.png</td>\n",
       "      <td>England</td>\n",
       "      <td>https://cdn.sofifa.org/flags/14.png</td>\n",
       "      <td>47</td>\n",
       "      <td>65</td>\n",
       "      <td>Crewe Alexandra</td>\n",
       "      <td>...</td>\n",
       "      <td>45.0</td>\n",
       "      <td>40.0</td>\n",
       "      <td>48.0</td>\n",
       "      <td>47.0</td>\n",
       "      <td>10.0</td>\n",
       "      <td>13.0</td>\n",
       "      <td>7.0</td>\n",
       "      <td>8.0</td>\n",
       "      <td>9.0</td>\n",
       "      <td>€143K</td>\n",
       "    </tr>\n",
       "    <tr>\n",
       "      <th>18203</th>\n",
       "      <td>18203</td>\n",
       "      <td>243165</td>\n",
       "      <td>N. Christoffersson</td>\n",
       "      <td>19</td>\n",
       "      <td>https://cdn.sofifa.org/players/4/19/243165.png</td>\n",
       "      <td>Sweden</td>\n",
       "      <td>https://cdn.sofifa.org/flags/46.png</td>\n",
       "      <td>47</td>\n",
       "      <td>63</td>\n",
       "      <td>Trelleborgs FF</td>\n",
       "      <td>...</td>\n",
       "      <td>42.0</td>\n",
       "      <td>22.0</td>\n",
       "      <td>15.0</td>\n",
       "      <td>19.0</td>\n",
       "      <td>10.0</td>\n",
       "      <td>9.0</td>\n",
       "      <td>9.0</td>\n",
       "      <td>5.0</td>\n",
       "      <td>12.0</td>\n",
       "      <td>€113K</td>\n",
       "    </tr>\n",
       "    <tr>\n",
       "      <th>18204</th>\n",
       "      <td>18204</td>\n",
       "      <td>241638</td>\n",
       "      <td>B. Worman</td>\n",
       "      <td>16</td>\n",
       "      <td>https://cdn.sofifa.org/players/4/19/241638.png</td>\n",
       "      <td>England</td>\n",
       "      <td>https://cdn.sofifa.org/flags/14.png</td>\n",
       "      <td>47</td>\n",
       "      <td>67</td>\n",
       "      <td>Cambridge United</td>\n",
       "      <td>...</td>\n",
       "      <td>41.0</td>\n",
       "      <td>32.0</td>\n",
       "      <td>13.0</td>\n",
       "      <td>11.0</td>\n",
       "      <td>6.0</td>\n",
       "      <td>5.0</td>\n",
       "      <td>10.0</td>\n",
       "      <td>6.0</td>\n",
       "      <td>13.0</td>\n",
       "      <td>€165K</td>\n",
       "    </tr>\n",
       "    <tr>\n",
       "      <th>18205</th>\n",
       "      <td>18205</td>\n",
       "      <td>246268</td>\n",
       "      <td>D. Walker-Rice</td>\n",
       "      <td>17</td>\n",
       "      <td>https://cdn.sofifa.org/players/4/19/246268.png</td>\n",
       "      <td>England</td>\n",
       "      <td>https://cdn.sofifa.org/flags/14.png</td>\n",
       "      <td>47</td>\n",
       "      <td>66</td>\n",
       "      <td>Tranmere Rovers</td>\n",
       "      <td>...</td>\n",
       "      <td>46.0</td>\n",
       "      <td>20.0</td>\n",
       "      <td>25.0</td>\n",
       "      <td>27.0</td>\n",
       "      <td>14.0</td>\n",
       "      <td>6.0</td>\n",
       "      <td>14.0</td>\n",
       "      <td>8.0</td>\n",
       "      <td>9.0</td>\n",
       "      <td>€143K</td>\n",
       "    </tr>\n",
       "    <tr>\n",
       "      <th>18206</th>\n",
       "      <td>18206</td>\n",
       "      <td>246269</td>\n",
       "      <td>G. Nugent</td>\n",
       "      <td>16</td>\n",
       "      <td>https://cdn.sofifa.org/players/4/19/246269.png</td>\n",
       "      <td>England</td>\n",
       "      <td>https://cdn.sofifa.org/flags/14.png</td>\n",
       "      <td>46</td>\n",
       "      <td>66</td>\n",
       "      <td>Tranmere Rovers</td>\n",
       "      <td>...</td>\n",
       "      <td>43.0</td>\n",
       "      <td>40.0</td>\n",
       "      <td>43.0</td>\n",
       "      <td>50.0</td>\n",
       "      <td>10.0</td>\n",
       "      <td>15.0</td>\n",
       "      <td>9.0</td>\n",
       "      <td>12.0</td>\n",
       "      <td>9.0</td>\n",
       "      <td>€165K</td>\n",
       "    </tr>\n",
       "  </tbody>\n",
       "</table>\n",
       "<p>5 rows × 89 columns</p>\n",
       "</div>"
      ],
      "text/plain": [
       "       Unnamed: 0      ID                Name  Age  \\\n",
       "18202       18202  238813        J. Lundstram   19   \n",
       "18203       18203  243165  N. Christoffersson   19   \n",
       "18204       18204  241638           B. Worman   16   \n",
       "18205       18205  246268      D. Walker-Rice   17   \n",
       "18206       18206  246269           G. Nugent   16   \n",
       "\n",
       "                                                Photo Nationality  \\\n",
       "18202  https://cdn.sofifa.org/players/4/19/238813.png     England   \n",
       "18203  https://cdn.sofifa.org/players/4/19/243165.png      Sweden   \n",
       "18204  https://cdn.sofifa.org/players/4/19/241638.png     England   \n",
       "18205  https://cdn.sofifa.org/players/4/19/246268.png     England   \n",
       "18206  https://cdn.sofifa.org/players/4/19/246269.png     England   \n",
       "\n",
       "                                      Flag  Overall  Potential  \\\n",
       "18202  https://cdn.sofifa.org/flags/14.png       47         65   \n",
       "18203  https://cdn.sofifa.org/flags/46.png       47         63   \n",
       "18204  https://cdn.sofifa.org/flags/14.png       47         67   \n",
       "18205  https://cdn.sofifa.org/flags/14.png       47         66   \n",
       "18206  https://cdn.sofifa.org/flags/14.png       46         66   \n",
       "\n",
       "                   Club  ... Composure Marking StandingTackle  SlidingTackle  \\\n",
       "18202   Crewe Alexandra  ...      45.0    40.0           48.0           47.0   \n",
       "18203    Trelleborgs FF  ...      42.0    22.0           15.0           19.0   \n",
       "18204  Cambridge United  ...      41.0    32.0           13.0           11.0   \n",
       "18205   Tranmere Rovers  ...      46.0    20.0           25.0           27.0   \n",
       "18206   Tranmere Rovers  ...      43.0    40.0           43.0           50.0   \n",
       "\n",
       "      GKDiving  GKHandling  GKKicking  GKPositioning GKReflexes Release Clause  \n",
       "18202     10.0        13.0        7.0            8.0        9.0          €143K  \n",
       "18203     10.0         9.0        9.0            5.0       12.0          €113K  \n",
       "18204      6.0         5.0       10.0            6.0       13.0          €165K  \n",
       "18205     14.0         6.0       14.0            8.0        9.0          €143K  \n",
       "18206     10.0        15.0        9.0           12.0        9.0          €165K  \n",
       "\n",
       "[5 rows x 89 columns]"
      ]
     },
     "execution_count": 122,
     "metadata": {},
     "output_type": "execute_result"
    }
   ],
   "source": [
    "\n",
    "df.tail()"
   ]
  },
  {
   "cell_type": "code",
   "execution_count": 123,
   "id": "ffa4d882",
   "metadata": {},
   "outputs": [
    {
     "name": "stderr",
     "output_type": "stream",
     "text": [
      "C:\\Users\\andre\\AppData\\Local\\Temp\\ipykernel_7628\\3483635431.py:2: FutureWarning: Dropping of nuisance columns in DataFrame reductions (with 'numeric_only=None') is deprecated; in a future version this will raise TypeError.  Select only valid columns before calling the reduction.\n",
      "  df.max()\n"
     ]
    },
    {
     "data": {
      "text/plain": [
       "Unnamed: 0                                                         18206\n",
       "ID                                                                246620\n",
       "Name                                                       Óscar Whalley\n",
       "Age                                                                   45\n",
       "Photo                       https://cdn.sofifa.org/players/4/19/9833.png\n",
       "Nationality                                                     Zimbabwe\n",
       "Flag                                 https://cdn.sofifa.org/flags/99.png\n",
       "Overall                                                               94\n",
       "Potential                                                             95\n",
       "Club Logo                   https://cdn.sofifa.org/teams/2/light/983.png\n",
       "Value                                                                €9M\n",
       "Wage                                                                 €9K\n",
       "Special                                                             2346\n",
       "International Reputation                                             5.0\n",
       "Weak Foot                                                            5.0\n",
       "Skill Moves                                                          5.0\n",
       "Jersey Number                                                       99.0\n",
       "Crossing                                                            93.0\n",
       "Finishing                                                           95.0\n",
       "HeadingAccuracy                                                     94.0\n",
       "ShortPassing                                                        93.0\n",
       "Volleys                                                             90.0\n",
       "Dribbling                                                           97.0\n",
       "Curve                                                               94.0\n",
       "FKAccuracy                                                          94.0\n",
       "LongPassing                                                         93.0\n",
       "BallControl                                                         96.0\n",
       "Acceleration                                                        97.0\n",
       "SprintSpeed                                                         96.0\n",
       "Agility                                                             96.0\n",
       "Reactions                                                           96.0\n",
       "Balance                                                             96.0\n",
       "ShotPower                                                           95.0\n",
       "Jumping                                                             95.0\n",
       "Stamina                                                             96.0\n",
       "Strength                                                            97.0\n",
       "LongShots                                                           94.0\n",
       "Aggression                                                          95.0\n",
       "Interceptions                                                       92.0\n",
       "Positioning                                                         95.0\n",
       "Vision                                                              94.0\n",
       "Penalties                                                           92.0\n",
       "Composure                                                           96.0\n",
       "Marking                                                             94.0\n",
       "StandingTackle                                                      93.0\n",
       "SlidingTackle                                                       91.0\n",
       "GKDiving                                                            90.0\n",
       "GKHandling                                                          92.0\n",
       "GKKicking                                                           91.0\n",
       "GKPositioning                                                       90.0\n",
       "GKReflexes                                                          94.0\n",
       "dtype: object"
      ]
     },
     "execution_count": 123,
     "metadata": {},
     "output_type": "execute_result"
    }
   ],
   "source": [
    "df.max()"
   ]
  },
  {
   "cell_type": "code",
   "execution_count": 124,
   "id": "2f23003a",
   "metadata": {},
   "outputs": [
    {
     "data": {
      "text/html": [
       "<div>\n",
       "<style scoped>\n",
       "    .dataframe tbody tr th:only-of-type {\n",
       "        vertical-align: middle;\n",
       "    }\n",
       "\n",
       "    .dataframe tbody tr th {\n",
       "        vertical-align: top;\n",
       "    }\n",
       "\n",
       "    .dataframe thead th {\n",
       "        text-align: right;\n",
       "    }\n",
       "</style>\n",
       "<table border=\"1\" class=\"dataframe\">\n",
       "  <thead>\n",
       "    <tr style=\"text-align: right;\">\n",
       "      <th></th>\n",
       "      <th>Unnamed: 0</th>\n",
       "      <th>ID</th>\n",
       "      <th>Name</th>\n",
       "      <th>Age</th>\n",
       "      <th>Photo</th>\n",
       "      <th>Nationality</th>\n",
       "      <th>Flag</th>\n",
       "      <th>Overall</th>\n",
       "      <th>Potential</th>\n",
       "      <th>Club</th>\n",
       "      <th>...</th>\n",
       "      <th>Composure</th>\n",
       "      <th>Marking</th>\n",
       "      <th>StandingTackle</th>\n",
       "      <th>SlidingTackle</th>\n",
       "      <th>GKDiving</th>\n",
       "      <th>GKHandling</th>\n",
       "      <th>GKKicking</th>\n",
       "      <th>GKPositioning</th>\n",
       "      <th>GKReflexes</th>\n",
       "      <th>Release Clause</th>\n",
       "    </tr>\n",
       "  </thead>\n",
       "  <tbody>\n",
       "    <tr>\n",
       "      <th>18205</th>\n",
       "      <td>18205</td>\n",
       "      <td>246268</td>\n",
       "      <td>D. Walker-Rice</td>\n",
       "      <td>17</td>\n",
       "      <td>https://cdn.sofifa.org/players/4/19/246268.png</td>\n",
       "      <td>England</td>\n",
       "      <td>https://cdn.sofifa.org/flags/14.png</td>\n",
       "      <td>47</td>\n",
       "      <td>66</td>\n",
       "      <td>Tranmere Rovers</td>\n",
       "      <td>...</td>\n",
       "      <td>46.0</td>\n",
       "      <td>20.0</td>\n",
       "      <td>25.0</td>\n",
       "      <td>27.0</td>\n",
       "      <td>14.0</td>\n",
       "      <td>6.0</td>\n",
       "      <td>14.0</td>\n",
       "      <td>8.0</td>\n",
       "      <td>9.0</td>\n",
       "      <td>€143K</td>\n",
       "    </tr>\n",
       "    <tr>\n",
       "      <th>18206</th>\n",
       "      <td>18206</td>\n",
       "      <td>246269</td>\n",
       "      <td>G. Nugent</td>\n",
       "      <td>16</td>\n",
       "      <td>https://cdn.sofifa.org/players/4/19/246269.png</td>\n",
       "      <td>England</td>\n",
       "      <td>https://cdn.sofifa.org/flags/14.png</td>\n",
       "      <td>46</td>\n",
       "      <td>66</td>\n",
       "      <td>Tranmere Rovers</td>\n",
       "      <td>...</td>\n",
       "      <td>43.0</td>\n",
       "      <td>40.0</td>\n",
       "      <td>43.0</td>\n",
       "      <td>50.0</td>\n",
       "      <td>10.0</td>\n",
       "      <td>15.0</td>\n",
       "      <td>9.0</td>\n",
       "      <td>12.0</td>\n",
       "      <td>9.0</td>\n",
       "      <td>€165K</td>\n",
       "    </tr>\n",
       "  </tbody>\n",
       "</table>\n",
       "<p>2 rows × 89 columns</p>\n",
       "</div>"
      ],
      "text/plain": [
       "       Unnamed: 0      ID            Name  Age  \\\n",
       "18205       18205  246268  D. Walker-Rice   17   \n",
       "18206       18206  246269       G. Nugent   16   \n",
       "\n",
       "                                                Photo Nationality  \\\n",
       "18205  https://cdn.sofifa.org/players/4/19/246268.png     England   \n",
       "18206  https://cdn.sofifa.org/players/4/19/246269.png     England   \n",
       "\n",
       "                                      Flag  Overall  Potential  \\\n",
       "18205  https://cdn.sofifa.org/flags/14.png       47         66   \n",
       "18206  https://cdn.sofifa.org/flags/14.png       46         66   \n",
       "\n",
       "                  Club  ... Composure Marking StandingTackle  SlidingTackle  \\\n",
       "18205  Tranmere Rovers  ...      46.0    20.0           25.0           27.0   \n",
       "18206  Tranmere Rovers  ...      43.0    40.0           43.0           50.0   \n",
       "\n",
       "      GKDiving  GKHandling  GKKicking  GKPositioning GKReflexes Release Clause  \n",
       "18205     14.0         6.0       14.0            8.0        9.0          €143K  \n",
       "18206     10.0        15.0        9.0           12.0        9.0          €165K  \n",
       "\n",
       "[2 rows x 89 columns]"
      ]
     },
     "execution_count": 124,
     "metadata": {},
     "output_type": "execute_result"
    }
   ],
   "source": [
    "df.tail(2)"
   ]
  },
  {
   "cell_type": "code",
   "execution_count": 125,
   "id": "8411244d",
   "metadata": {},
   "outputs": [
    {
     "name": "stderr",
     "output_type": "stream",
     "text": [
      "C:\\Users\\andre\\AppData\\Local\\Temp\\ipykernel_7628\\3483635431.py:2: FutureWarning: Dropping of nuisance columns in DataFrame reductions (with 'numeric_only=None') is deprecated; in a future version this will raise TypeError.  Select only valid columns before calling the reduction.\n",
      "  df.max()\n"
     ]
    },
    {
     "data": {
      "text/plain": [
       "Unnamed: 0                                                         18206\n",
       "ID                                                                246620\n",
       "Name                                                       Óscar Whalley\n",
       "Age                                                                   45\n",
       "Photo                       https://cdn.sofifa.org/players/4/19/9833.png\n",
       "Nationality                                                     Zimbabwe\n",
       "Flag                                 https://cdn.sofifa.org/flags/99.png\n",
       "Overall                                                               94\n",
       "Potential                                                             95\n",
       "Club Logo                   https://cdn.sofifa.org/teams/2/light/983.png\n",
       "Value                                                                €9M\n",
       "Wage                                                                 €9K\n",
       "Special                                                             2346\n",
       "International Reputation                                             5.0\n",
       "Weak Foot                                                            5.0\n",
       "Skill Moves                                                          5.0\n",
       "Jersey Number                                                       99.0\n",
       "Crossing                                                            93.0\n",
       "Finishing                                                           95.0\n",
       "HeadingAccuracy                                                     94.0\n",
       "ShortPassing                                                        93.0\n",
       "Volleys                                                             90.0\n",
       "Dribbling                                                           97.0\n",
       "Curve                                                               94.0\n",
       "FKAccuracy                                                          94.0\n",
       "LongPassing                                                         93.0\n",
       "BallControl                                                         96.0\n",
       "Acceleration                                                        97.0\n",
       "SprintSpeed                                                         96.0\n",
       "Agility                                                             96.0\n",
       "Reactions                                                           96.0\n",
       "Balance                                                             96.0\n",
       "ShotPower                                                           95.0\n",
       "Jumping                                                             95.0\n",
       "Stamina                                                             96.0\n",
       "Strength                                                            97.0\n",
       "LongShots                                                           94.0\n",
       "Aggression                                                          95.0\n",
       "Interceptions                                                       92.0\n",
       "Positioning                                                         95.0\n",
       "Vision                                                              94.0\n",
       "Penalties                                                           92.0\n",
       "Composure                                                           96.0\n",
       "Marking                                                             94.0\n",
       "StandingTackle                                                      93.0\n",
       "SlidingTackle                                                       91.0\n",
       "GKDiving                                                            90.0\n",
       "GKHandling                                                          92.0\n",
       "GKKicking                                                           91.0\n",
       "GKPositioning                                                       90.0\n",
       "GKReflexes                                                          94.0\n",
       "dtype: object"
      ]
     },
     "execution_count": 125,
     "metadata": {},
     "output_type": "execute_result"
    }
   ],
   "source": [
    "df.max()"
   ]
  },
  {
   "cell_type": "code",
   "execution_count": 126,
   "id": "69a87619",
   "metadata": {},
   "outputs": [
    {
     "name": "stderr",
     "output_type": "stream",
     "text": [
      "C:\\Users\\andre\\AppData\\Local\\Temp\\ipykernel_7628\\3939624150.py:2: FutureWarning: Dropping of nuisance columns in DataFrame reductions (with 'numeric_only=None') is deprecated; in a future version this will raise TypeError.  Select only valid columns before calling the reduction.\n",
      "  df.min()\n"
     ]
    },
    {
     "data": {
      "text/plain": [
       "Unnamed: 0                                                               0\n",
       "ID                                                                      16\n",
       "Name                                                              A. Abang\n",
       "Age                                                                     16\n",
       "Photo                       https://cdn.sofifa.org/players/4/19/100803.png\n",
       "Nationality                                                    Afghanistan\n",
       "Flag                                    https://cdn.sofifa.org/flags/1.png\n",
       "Overall                                                                 46\n",
       "Potential                                                               48\n",
       "Club Logo                             https://cdn.sofifa.org/flags/103.png\n",
       "Value                                                                   €0\n",
       "Wage                                                                    €0\n",
       "Special                                                                731\n",
       "International Reputation                                               1.0\n",
       "Weak Foot                                                              1.0\n",
       "Skill Moves                                                            1.0\n",
       "Jersey Number                                                          1.0\n",
       "Crossing                                                               5.0\n",
       "Finishing                                                              2.0\n",
       "HeadingAccuracy                                                        4.0\n",
       "ShortPassing                                                           7.0\n",
       "Volleys                                                                4.0\n",
       "Dribbling                                                              4.0\n",
       "Curve                                                                  6.0\n",
       "FKAccuracy                                                             3.0\n",
       "LongPassing                                                            9.0\n",
       "BallControl                                                            5.0\n",
       "Acceleration                                                          12.0\n",
       "SprintSpeed                                                           12.0\n",
       "Agility                                                               14.0\n",
       "Reactions                                                             21.0\n",
       "Balance                                                               16.0\n",
       "ShotPower                                                              2.0\n",
       "Jumping                                                               15.0\n",
       "Stamina                                                               12.0\n",
       "Strength                                                              17.0\n",
       "LongShots                                                              3.0\n",
       "Aggression                                                            11.0\n",
       "Interceptions                                                          3.0\n",
       "Positioning                                                            2.0\n",
       "Vision                                                                10.0\n",
       "Penalties                                                              5.0\n",
       "Composure                                                              3.0\n",
       "Marking                                                                3.0\n",
       "StandingTackle                                                         2.0\n",
       "SlidingTackle                                                          3.0\n",
       "GKDiving                                                               1.0\n",
       "GKHandling                                                             1.0\n",
       "GKKicking                                                              1.0\n",
       "GKPositioning                                                          1.0\n",
       "GKReflexes                                                             1.0\n",
       "dtype: object"
      ]
     },
     "execution_count": 126,
     "metadata": {},
     "output_type": "execute_result"
    }
   ],
   "source": [
    "df.min()"
   ]
  },
  {
   "cell_type": "code",
   "execution_count": 127,
   "id": "ee39b2c4",
   "metadata": {},
   "outputs": [
    {
     "data": {
      "text/html": [
       "<div>\n",
       "<style scoped>\n",
       "    .dataframe tbody tr th:only-of-type {\n",
       "        vertical-align: middle;\n",
       "    }\n",
       "\n",
       "    .dataframe tbody tr th {\n",
       "        vertical-align: top;\n",
       "    }\n",
       "\n",
       "    .dataframe thead th {\n",
       "        text-align: right;\n",
       "    }\n",
       "</style>\n",
       "<table border=\"1\" class=\"dataframe\">\n",
       "  <thead>\n",
       "    <tr style=\"text-align: right;\">\n",
       "      <th></th>\n",
       "      <th>Unnamed: 0</th>\n",
       "      <th>ID</th>\n",
       "      <th>Age</th>\n",
       "      <th>Overall</th>\n",
       "      <th>Potential</th>\n",
       "      <th>Special</th>\n",
       "      <th>International Reputation</th>\n",
       "      <th>Weak Foot</th>\n",
       "      <th>Skill Moves</th>\n",
       "      <th>Jersey Number</th>\n",
       "      <th>...</th>\n",
       "      <th>Penalties</th>\n",
       "      <th>Composure</th>\n",
       "      <th>Marking</th>\n",
       "      <th>StandingTackle</th>\n",
       "      <th>SlidingTackle</th>\n",
       "      <th>GKDiving</th>\n",
       "      <th>GKHandling</th>\n",
       "      <th>GKKicking</th>\n",
       "      <th>GKPositioning</th>\n",
       "      <th>GKReflexes</th>\n",
       "    </tr>\n",
       "  </thead>\n",
       "  <tbody>\n",
       "    <tr>\n",
       "      <th>Unnamed: 0</th>\n",
       "      <td>1.000000</td>\n",
       "      <td>0.415757</td>\n",
       "      <td>-0.454846</td>\n",
       "      <td>-0.972791</td>\n",
       "      <td>-0.633395</td>\n",
       "      <td>-0.596508</td>\n",
       "      <td>-0.413322</td>\n",
       "      <td>-0.204026</td>\n",
       "      <td>-0.415672</td>\n",
       "      <td>0.213645</td>\n",
       "      <td>...</td>\n",
       "      <td>-0.337899</td>\n",
       "      <td>-0.716173</td>\n",
       "      <td>-0.280829</td>\n",
       "      <td>-0.248564</td>\n",
       "      <td>-0.220034</td>\n",
       "      <td>0.027757</td>\n",
       "      <td>0.027026</td>\n",
       "      <td>0.030654</td>\n",
       "      <td>0.019842</td>\n",
       "      <td>0.025610</td>\n",
       "    </tr>\n",
       "    <tr>\n",
       "      <th>ID</th>\n",
       "      <td>0.415757</td>\n",
       "      <td>1.000000</td>\n",
       "      <td>-0.739208</td>\n",
       "      <td>-0.417025</td>\n",
       "      <td>0.047074</td>\n",
       "      <td>-0.231352</td>\n",
       "      <td>-0.356191</td>\n",
       "      <td>-0.075784</td>\n",
       "      <td>-0.056914</td>\n",
       "      <td>0.182074</td>\n",
       "      <td>...</td>\n",
       "      <td>-0.140657</td>\n",
       "      <td>-0.384473</td>\n",
       "      <td>-0.110198</td>\n",
       "      <td>-0.085929</td>\n",
       "      <td>-0.068409</td>\n",
       "      <td>-0.105594</td>\n",
       "      <td>-0.111149</td>\n",
       "      <td>-0.106652</td>\n",
       "      <td>-0.118250</td>\n",
       "      <td>-0.105778</td>\n",
       "    </tr>\n",
       "    <tr>\n",
       "      <th>Age</th>\n",
       "      <td>-0.454846</td>\n",
       "      <td>-0.739208</td>\n",
       "      <td>1.000000</td>\n",
       "      <td>0.452350</td>\n",
       "      <td>-0.253312</td>\n",
       "      <td>0.236695</td>\n",
       "      <td>0.253765</td>\n",
       "      <td>0.059867</td>\n",
       "      <td>0.027649</td>\n",
       "      <td>-0.241156</td>\n",
       "      <td>...</td>\n",
       "      <td>0.139535</td>\n",
       "      <td>0.391023</td>\n",
       "      <td>0.142817</td>\n",
       "      <td>0.119745</td>\n",
       "      <td>0.103089</td>\n",
       "      <td>0.101277</td>\n",
       "      <td>0.106419</td>\n",
       "      <td>0.104964</td>\n",
       "      <td>0.116402</td>\n",
       "      <td>0.103313</td>\n",
       "    </tr>\n",
       "    <tr>\n",
       "      <th>Overall</th>\n",
       "      <td>-0.972791</td>\n",
       "      <td>-0.417025</td>\n",
       "      <td>0.452350</td>\n",
       "      <td>1.000000</td>\n",
       "      <td>0.660939</td>\n",
       "      <td>0.606960</td>\n",
       "      <td>0.499491</td>\n",
       "      <td>0.212015</td>\n",
       "      <td>0.414463</td>\n",
       "      <td>-0.218931</td>\n",
       "      <td>...</td>\n",
       "      <td>0.341429</td>\n",
       "      <td>0.727655</td>\n",
       "      <td>0.286505</td>\n",
       "      <td>0.252629</td>\n",
       "      <td>0.222811</td>\n",
       "      <td>-0.025937</td>\n",
       "      <td>-0.025062</td>\n",
       "      <td>-0.029372</td>\n",
       "      <td>-0.017674</td>\n",
       "      <td>-0.023276</td>\n",
       "    </tr>\n",
       "    <tr>\n",
       "      <th>Potential</th>\n",
       "      <td>-0.633395</td>\n",
       "      <td>0.047074</td>\n",
       "      <td>-0.253312</td>\n",
       "      <td>0.660939</td>\n",
       "      <td>1.000000</td>\n",
       "      <td>0.383727</td>\n",
       "      <td>0.372993</td>\n",
       "      <td>0.162346</td>\n",
       "      <td>0.354290</td>\n",
       "      <td>-0.010474</td>\n",
       "      <td>...</td>\n",
       "      <td>0.224281</td>\n",
       "      <td>0.440008</td>\n",
       "      <td>0.162801</td>\n",
       "      <td>0.143564</td>\n",
       "      <td>0.128980</td>\n",
       "      <td>-0.053446</td>\n",
       "      <td>-0.054672</td>\n",
       "      <td>-0.059061</td>\n",
       "      <td>-0.052589</td>\n",
       "      <td>-0.053341</td>\n",
       "    </tr>\n",
       "    <tr>\n",
       "      <th>Special</th>\n",
       "      <td>-0.596508</td>\n",
       "      <td>-0.231352</td>\n",
       "      <td>0.236695</td>\n",
       "      <td>0.606960</td>\n",
       "      <td>0.383727</td>\n",
       "      <td>1.000000</td>\n",
       "      <td>0.292208</td>\n",
       "      <td>0.341855</td>\n",
       "      <td>0.763412</td>\n",
       "      <td>-0.133716</td>\n",
       "      <td>...</td>\n",
       "      <td>0.734533</td>\n",
       "      <td>0.752331</td>\n",
       "      <td>0.561866</td>\n",
       "      <td>0.538802</td>\n",
       "      <td>0.506968</td>\n",
       "      <td>-0.674637</td>\n",
       "      <td>-0.673625</td>\n",
       "      <td>-0.670254</td>\n",
       "      <td>-0.668272</td>\n",
       "      <td>-0.673238</td>\n",
       "    </tr>\n",
       "    <tr>\n",
       "      <th>International Reputation</th>\n",
       "      <td>-0.413322</td>\n",
       "      <td>-0.356191</td>\n",
       "      <td>0.253765</td>\n",
       "      <td>0.499491</td>\n",
       "      <td>0.372993</td>\n",
       "      <td>0.292208</td>\n",
       "      <td>1.000000</td>\n",
       "      <td>0.128317</td>\n",
       "      <td>0.208153</td>\n",
       "      <td>-0.077298</td>\n",
       "      <td>...</td>\n",
       "      <td>0.218620</td>\n",
       "      <td>0.392787</td>\n",
       "      <td>0.115208</td>\n",
       "      <td>0.092846</td>\n",
       "      <td>0.079176</td>\n",
       "      <td>0.004526</td>\n",
       "      <td>0.003942</td>\n",
       "      <td>0.000651</td>\n",
       "      <td>0.006904</td>\n",
       "      <td>0.003444</td>\n",
       "    </tr>\n",
       "    <tr>\n",
       "      <th>Weak Foot</th>\n",
       "      <td>-0.204026</td>\n",
       "      <td>-0.075784</td>\n",
       "      <td>0.059867</td>\n",
       "      <td>0.212015</td>\n",
       "      <td>0.162346</td>\n",
       "      <td>0.341855</td>\n",
       "      <td>0.128317</td>\n",
       "      <td>1.000000</td>\n",
       "      <td>0.340721</td>\n",
       "      <td>-0.035410</td>\n",
       "      <td>...</td>\n",
       "      <td>0.330252</td>\n",
       "      <td>0.278132</td>\n",
       "      <td>0.065673</td>\n",
       "      <td>0.042646</td>\n",
       "      <td>0.026105</td>\n",
       "      <td>-0.231905</td>\n",
       "      <td>-0.233098</td>\n",
       "      <td>-0.229395</td>\n",
       "      <td>-0.231298</td>\n",
       "      <td>-0.232574</td>\n",
       "    </tr>\n",
       "    <tr>\n",
       "      <th>Skill Moves</th>\n",
       "      <td>-0.415672</td>\n",
       "      <td>-0.056914</td>\n",
       "      <td>0.027649</td>\n",
       "      <td>0.414463</td>\n",
       "      <td>0.354290</td>\n",
       "      <td>0.763412</td>\n",
       "      <td>0.208153</td>\n",
       "      <td>0.340721</td>\n",
       "      <td>1.000000</td>\n",
       "      <td>-0.035194</td>\n",
       "      <td>...</td>\n",
       "      <td>0.690434</td>\n",
       "      <td>0.586836</td>\n",
       "      <td>0.241428</td>\n",
       "      <td>0.210517</td>\n",
       "      <td>0.178607</td>\n",
       "      <td>-0.621675</td>\n",
       "      <td>-0.619755</td>\n",
       "      <td>-0.616990</td>\n",
       "      <td>-0.618853</td>\n",
       "      <td>-0.621925</td>\n",
       "    </tr>\n",
       "    <tr>\n",
       "      <th>Jersey Number</th>\n",
       "      <td>0.213645</td>\n",
       "      <td>0.182074</td>\n",
       "      <td>-0.241156</td>\n",
       "      <td>-0.218931</td>\n",
       "      <td>-0.010474</td>\n",
       "      <td>-0.133716</td>\n",
       "      <td>-0.077298</td>\n",
       "      <td>-0.035410</td>\n",
       "      <td>-0.035194</td>\n",
       "      <td>1.000000</td>\n",
       "      <td>...</td>\n",
       "      <td>-0.028023</td>\n",
       "      <td>-0.167523</td>\n",
       "      <td>-0.142474</td>\n",
       "      <td>-0.133285</td>\n",
       "      <td>-0.124610</td>\n",
       "      <td>0.004807</td>\n",
       "      <td>0.001543</td>\n",
       "      <td>0.001162</td>\n",
       "      <td>-0.002736</td>\n",
       "      <td>0.003255</td>\n",
       "    </tr>\n",
       "    <tr>\n",
       "      <th>Crossing</th>\n",
       "      <td>-0.390062</td>\n",
       "      <td>-0.131994</td>\n",
       "      <td>0.130545</td>\n",
       "      <td>0.394972</td>\n",
       "      <td>0.246319</td>\n",
       "      <td>0.866417</td>\n",
       "      <td>0.191770</td>\n",
       "      <td>0.307925</td>\n",
       "      <td>0.741035</td>\n",
       "      <td>-0.076585</td>\n",
       "      <td>...</td>\n",
       "      <td>0.645805</td>\n",
       "      <td>0.575446</td>\n",
       "      <td>0.443101</td>\n",
       "      <td>0.428963</td>\n",
       "      <td>0.409961</td>\n",
       "      <td>-0.663053</td>\n",
       "      <td>-0.660193</td>\n",
       "      <td>-0.659767</td>\n",
       "      <td>-0.660160</td>\n",
       "      <td>-0.662539</td>\n",
       "    </tr>\n",
       "    <tr>\n",
       "      <th>Finishing</th>\n",
       "      <td>-0.325529</td>\n",
       "      <td>-0.082323</td>\n",
       "      <td>0.068660</td>\n",
       "      <td>0.332515</td>\n",
       "      <td>0.243355</td>\n",
       "      <td>0.724244</td>\n",
       "      <td>0.178373</td>\n",
       "      <td>0.357416</td>\n",
       "      <td>0.743439</td>\n",
       "      <td>-0.006639</td>\n",
       "      <td>...</td>\n",
       "      <td>0.837827</td>\n",
       "      <td>0.533414</td>\n",
       "      <td>0.024218</td>\n",
       "      <td>-0.033023</td>\n",
       "      <td>-0.071811</td>\n",
       "      <td>-0.588752</td>\n",
       "      <td>-0.587145</td>\n",
       "      <td>-0.583268</td>\n",
       "      <td>-0.584852</td>\n",
       "      <td>-0.586913</td>\n",
       "    </tr>\n",
       "    <tr>\n",
       "      <th>HeadingAccuracy</th>\n",
       "      <td>-0.337766</td>\n",
       "      <td>-0.106815</td>\n",
       "      <td>0.147183</td>\n",
       "      <td>0.340776</td>\n",
       "      <td>0.200988</td>\n",
       "      <td>0.644421</td>\n",
       "      <td>0.157483</td>\n",
       "      <td>0.183238</td>\n",
       "      <td>0.443005</td>\n",
       "      <td>-0.091688</td>\n",
       "      <td>...</td>\n",
       "      <td>0.551978</td>\n",
       "      <td>0.507208</td>\n",
       "      <td>0.583123</td>\n",
       "      <td>0.561063</td>\n",
       "      <td>0.533643</td>\n",
       "      <td>-0.750417</td>\n",
       "      <td>-0.749888</td>\n",
       "      <td>-0.746444</td>\n",
       "      <td>-0.744443</td>\n",
       "      <td>-0.748895</td>\n",
       "    </tr>\n",
       "    <tr>\n",
       "      <th>ShortPassing</th>\n",
       "      <td>-0.492495</td>\n",
       "      <td>-0.136279</td>\n",
       "      <td>0.132894</td>\n",
       "      <td>0.502550</td>\n",
       "      <td>0.369189</td>\n",
       "      <td>0.906729</td>\n",
       "      <td>0.242803</td>\n",
       "      <td>0.322133</td>\n",
       "      <td>0.730363</td>\n",
       "      <td>-0.100241</td>\n",
       "      <td>...</td>\n",
       "      <td>0.676063</td>\n",
       "      <td>0.685137</td>\n",
       "      <td>0.559576</td>\n",
       "      <td>0.541131</td>\n",
       "      <td>0.508644</td>\n",
       "      <td>-0.729785</td>\n",
       "      <td>-0.728024</td>\n",
       "      <td>-0.724381</td>\n",
       "      <td>-0.723782</td>\n",
       "      <td>-0.728721</td>\n",
       "    </tr>\n",
       "    <tr>\n",
       "      <th>Volleys</th>\n",
       "      <td>-0.384285</td>\n",
       "      <td>-0.159915</td>\n",
       "      <td>0.142472</td>\n",
       "      <td>0.391338</td>\n",
       "      <td>0.254906</td>\n",
       "      <td>0.773974</td>\n",
       "      <td>0.243089</td>\n",
       "      <td>0.357340</td>\n",
       "      <td>0.745077</td>\n",
       "      <td>-0.026731</td>\n",
       "      <td>...</td>\n",
       "      <td>0.829257</td>\n",
       "      <td>0.595281</td>\n",
       "      <td>0.120919</td>\n",
       "      <td>0.072788</td>\n",
       "      <td>0.035457</td>\n",
       "      <td>-0.590808</td>\n",
       "      <td>-0.588668</td>\n",
       "      <td>-0.584954</td>\n",
       "      <td>-0.586131</td>\n",
       "      <td>-0.588670</td>\n",
       "    </tr>\n",
       "    <tr>\n",
       "      <th>Dribbling</th>\n",
       "      <td>-0.364106</td>\n",
       "      <td>-0.030340</td>\n",
       "      <td>0.010166</td>\n",
       "      <td>0.372426</td>\n",
       "      <td>0.315019</td>\n",
       "      <td>0.874274</td>\n",
       "      <td>0.179041</td>\n",
       "      <td>0.352658</td>\n",
       "      <td>0.839757</td>\n",
       "      <td>-0.028021</td>\n",
       "      <td>...</td>\n",
       "      <td>0.769594</td>\n",
       "      <td>0.597498</td>\n",
       "      <td>0.336072</td>\n",
       "      <td>0.301251</td>\n",
       "      <td>0.273963</td>\n",
       "      <td>-0.754625</td>\n",
       "      <td>-0.753181</td>\n",
       "      <td>-0.749816</td>\n",
       "      <td>-0.751348</td>\n",
       "      <td>-0.754341</td>\n",
       "    </tr>\n",
       "    <tr>\n",
       "      <th>Curve</th>\n",
       "      <td>-0.416378</td>\n",
       "      <td>-0.169511</td>\n",
       "      <td>0.143276</td>\n",
       "      <td>0.419491</td>\n",
       "      <td>0.279944</td>\n",
       "      <td>0.851900</td>\n",
       "      <td>0.233681</td>\n",
       "      <td>0.345468</td>\n",
       "      <td>0.771052</td>\n",
       "      <td>-0.055428</td>\n",
       "      <td>...</td>\n",
       "      <td>0.751833</td>\n",
       "      <td>0.616532</td>\n",
       "      <td>0.289529</td>\n",
       "      <td>0.261481</td>\n",
       "      <td>0.232869</td>\n",
       "      <td>-0.606286</td>\n",
       "      <td>-0.603141</td>\n",
       "      <td>-0.600266</td>\n",
       "      <td>-0.603540</td>\n",
       "      <td>-0.604960</td>\n",
       "    </tr>\n",
       "    <tr>\n",
       "      <th>FKAccuracy</th>\n",
       "      <td>-0.395433</td>\n",
       "      <td>-0.199549</td>\n",
       "      <td>0.193467</td>\n",
       "      <td>0.396892</td>\n",
       "      <td>0.230544</td>\n",
       "      <td>0.806414</td>\n",
       "      <td>0.223564</td>\n",
       "      <td>0.330472</td>\n",
       "      <td>0.701068</td>\n",
       "      <td>-0.068843</td>\n",
       "      <td>...</td>\n",
       "      <td>0.734440</td>\n",
       "      <td>0.585120</td>\n",
       "      <td>0.297976</td>\n",
       "      <td>0.279153</td>\n",
       "      <td>0.247903</td>\n",
       "      <td>-0.556605</td>\n",
       "      <td>-0.553644</td>\n",
       "      <td>-0.549911</td>\n",
       "      <td>-0.552641</td>\n",
       "      <td>-0.554920</td>\n",
       "    </tr>\n",
       "    <tr>\n",
       "      <th>LongPassing</th>\n",
       "      <td>-0.477500</td>\n",
       "      <td>-0.186764</td>\n",
       "      <td>0.181310</td>\n",
       "      <td>0.483909</td>\n",
       "      <td>0.321437</td>\n",
       "      <td>0.846302</td>\n",
       "      <td>0.239525</td>\n",
       "      <td>0.277174</td>\n",
       "      <td>0.622342</td>\n",
       "      <td>-0.117424</td>\n",
       "      <td>...</td>\n",
       "      <td>0.542247</td>\n",
       "      <td>0.645797</td>\n",
       "      <td>0.587106</td>\n",
       "      <td>0.587430</td>\n",
       "      <td>0.562230</td>\n",
       "      <td>-0.596820</td>\n",
       "      <td>-0.594999</td>\n",
       "      <td>-0.591453</td>\n",
       "      <td>-0.591561</td>\n",
       "      <td>-0.595887</td>\n",
       "    </tr>\n",
       "    <tr>\n",
       "      <th>BallControl</th>\n",
       "      <td>-0.449655</td>\n",
       "      <td>-0.100184</td>\n",
       "      <td>0.084969</td>\n",
       "      <td>0.460197</td>\n",
       "      <td>0.354396</td>\n",
       "      <td>0.912107</td>\n",
       "      <td>0.217946</td>\n",
       "      <td>0.356383</td>\n",
       "      <td>0.818051</td>\n",
       "      <td>-0.073210</td>\n",
       "      <td>...</td>\n",
       "      <td>0.769791</td>\n",
       "      <td>0.674881</td>\n",
       "      <td>0.452705</td>\n",
       "      <td>0.417566</td>\n",
       "      <td>0.384802</td>\n",
       "      <td>-0.788444</td>\n",
       "      <td>-0.786797</td>\n",
       "      <td>-0.783423</td>\n",
       "      <td>-0.783607</td>\n",
       "      <td>-0.787939</td>\n",
       "    </tr>\n",
       "    <tr>\n",
       "      <th>Acceleration</th>\n",
       "      <td>-0.185030</td>\n",
       "      <td>0.133236</td>\n",
       "      <td>-0.158667</td>\n",
       "      <td>0.196869</td>\n",
       "      <td>0.234608</td>\n",
       "      <td>0.654337</td>\n",
       "      <td>0.044319</td>\n",
       "      <td>0.261435</td>\n",
       "      <td>0.652356</td>\n",
       "      <td>-0.004395</td>\n",
       "      <td>...</td>\n",
       "      <td>0.532908</td>\n",
       "      <td>0.347427</td>\n",
       "      <td>0.195369</td>\n",
       "      <td>0.163000</td>\n",
       "      <td>0.157565</td>\n",
       "      <td>-0.593008</td>\n",
       "      <td>-0.594866</td>\n",
       "      <td>-0.592127</td>\n",
       "      <td>-0.592143</td>\n",
       "      <td>-0.593201</td>\n",
       "    </tr>\n",
       "    <tr>\n",
       "      <th>SprintSpeed</th>\n",
       "      <td>-0.198797</td>\n",
       "      <td>0.132437</td>\n",
       "      <td>-0.151682</td>\n",
       "      <td>0.210647</td>\n",
       "      <td>0.236771</td>\n",
       "      <td>0.645963</td>\n",
       "      <td>0.044070</td>\n",
       "      <td>0.248822</td>\n",
       "      <td>0.624098</td>\n",
       "      <td>-0.015069</td>\n",
       "      <td>...</td>\n",
       "      <td>0.521071</td>\n",
       "      <td>0.351607</td>\n",
       "      <td>0.212575</td>\n",
       "      <td>0.178214</td>\n",
       "      <td>0.171980</td>\n",
       "      <td>-0.597677</td>\n",
       "      <td>-0.599694</td>\n",
       "      <td>-0.597320</td>\n",
       "      <td>-0.596498</td>\n",
       "      <td>-0.597837</td>\n",
       "    </tr>\n",
       "    <tr>\n",
       "      <th>Agility</th>\n",
       "      <td>-0.256270</td>\n",
       "      <td>-0.019897</td>\n",
       "      <td>-0.019395</td>\n",
       "      <td>0.264952</td>\n",
       "      <td>0.222310</td>\n",
       "      <td>0.699673</td>\n",
       "      <td>0.100869</td>\n",
       "      <td>0.302062</td>\n",
       "      <td>0.681765</td>\n",
       "      <td>-0.034158</td>\n",
       "      <td>...</td>\n",
       "      <td>0.566175</td>\n",
       "      <td>0.432511</td>\n",
       "      <td>0.167122</td>\n",
       "      <td>0.129204</td>\n",
       "      <td>0.116686</td>\n",
       "      <td>-0.527756</td>\n",
       "      <td>-0.528482</td>\n",
       "      <td>-0.527164</td>\n",
       "      <td>-0.526983</td>\n",
       "      <td>-0.528899</td>\n",
       "    </tr>\n",
       "    <tr>\n",
       "      <th>Reactions</th>\n",
       "      <td>-0.832156</td>\n",
       "      <td>-0.408617</td>\n",
       "      <td>0.453124</td>\n",
       "      <td>0.850045</td>\n",
       "      <td>0.513425</td>\n",
       "      <td>0.597169</td>\n",
       "      <td>0.445614</td>\n",
       "      <td>0.201341</td>\n",
       "      <td>0.377044</td>\n",
       "      <td>-0.192622</td>\n",
       "      <td>...</td>\n",
       "      <td>0.346143</td>\n",
       "      <td>0.685558</td>\n",
       "      <td>0.283607</td>\n",
       "      <td>0.255399</td>\n",
       "      <td>0.228355</td>\n",
       "      <td>-0.062967</td>\n",
       "      <td>-0.061940</td>\n",
       "      <td>-0.065927</td>\n",
       "      <td>-0.055031</td>\n",
       "      <td>-0.059961</td>\n",
       "    </tr>\n",
       "    <tr>\n",
       "      <th>Balance</th>\n",
       "      <td>-0.097160</td>\n",
       "      <td>0.048463</td>\n",
       "      <td>-0.089877</td>\n",
       "      <td>0.103160</td>\n",
       "      <td>0.138025</td>\n",
       "      <td>0.586788</td>\n",
       "      <td>0.050076</td>\n",
       "      <td>0.254022</td>\n",
       "      <td>0.578459</td>\n",
       "      <td>0.008009</td>\n",
       "      <td>...</td>\n",
       "      <td>0.482794</td>\n",
       "      <td>0.310763</td>\n",
       "      <td>0.178695</td>\n",
       "      <td>0.154045</td>\n",
       "      <td>0.152470</td>\n",
       "      <td>-0.504727</td>\n",
       "      <td>-0.506102</td>\n",
       "      <td>-0.503970</td>\n",
       "      <td>-0.503652</td>\n",
       "      <td>-0.505974</td>\n",
       "    </tr>\n",
       "    <tr>\n",
       "      <th>ShotPower</th>\n",
       "      <td>-0.440023</td>\n",
       "      <td>-0.166133</td>\n",
       "      <td>0.156947</td>\n",
       "      <td>0.441118</td>\n",
       "      <td>0.288318</td>\n",
       "      <td>0.835277</td>\n",
       "      <td>0.227772</td>\n",
       "      <td>0.332855</td>\n",
       "      <td>0.718237</td>\n",
       "      <td>-0.053860</td>\n",
       "      <td>...</td>\n",
       "      <td>0.795220</td>\n",
       "      <td>0.634495</td>\n",
       "      <td>0.296944</td>\n",
       "      <td>0.256403</td>\n",
       "      <td>0.220237</td>\n",
       "      <td>-0.654117</td>\n",
       "      <td>-0.654099</td>\n",
       "      <td>-0.649403</td>\n",
       "      <td>-0.651409</td>\n",
       "      <td>-0.653475</td>\n",
       "    </tr>\n",
       "    <tr>\n",
       "      <th>Jumping</th>\n",
       "      <td>-0.261581</td>\n",
       "      <td>-0.169369</td>\n",
       "      <td>0.177167</td>\n",
       "      <td>0.264435</td>\n",
       "      <td>0.109151</td>\n",
       "      <td>0.321846</td>\n",
       "      <td>0.120931</td>\n",
       "      <td>0.069752</td>\n",
       "      <td>0.107553</td>\n",
       "      <td>-0.104179</td>\n",
       "      <td>...</td>\n",
       "      <td>0.133294</td>\n",
       "      <td>0.252353</td>\n",
       "      <td>0.279196</td>\n",
       "      <td>0.260645</td>\n",
       "      <td>0.260261</td>\n",
       "      <td>-0.192700</td>\n",
       "      <td>-0.193692</td>\n",
       "      <td>-0.195282</td>\n",
       "      <td>-0.189079</td>\n",
       "      <td>-0.192050</td>\n",
       "    </tr>\n",
       "    <tr>\n",
       "      <th>Stamina</th>\n",
       "      <td>-0.358451</td>\n",
       "      <td>-0.053895</td>\n",
       "      <td>0.097793</td>\n",
       "      <td>0.365656</td>\n",
       "      <td>0.202563</td>\n",
       "      <td>0.792762</td>\n",
       "      <td>0.094780</td>\n",
       "      <td>0.232094</td>\n",
       "      <td>0.570226</td>\n",
       "      <td>-0.127822</td>\n",
       "      <td>...</td>\n",
       "      <td>0.516426</td>\n",
       "      <td>0.523112</td>\n",
       "      <td>0.587782</td>\n",
       "      <td>0.570055</td>\n",
       "      <td>0.544702</td>\n",
       "      <td>-0.701467</td>\n",
       "      <td>-0.698556</td>\n",
       "      <td>-0.696729</td>\n",
       "      <td>-0.696073</td>\n",
       "      <td>-0.699670</td>\n",
       "    </tr>\n",
       "    <tr>\n",
       "      <th>Strength</th>\n",
       "      <td>-0.342839</td>\n",
       "      <td>-0.259756</td>\n",
       "      <td>0.332798</td>\n",
       "      <td>0.349326</td>\n",
       "      <td>0.075769</td>\n",
       "      <td>0.192990</td>\n",
       "      <td>0.131280</td>\n",
       "      <td>-0.008470</td>\n",
       "      <td>-0.041475</td>\n",
       "      <td>-0.158411</td>\n",
       "      <td>...</td>\n",
       "      <td>0.054491</td>\n",
       "      <td>0.280522</td>\n",
       "      <td>0.333334</td>\n",
       "      <td>0.332159</td>\n",
       "      <td>0.304849</td>\n",
       "      <td>-0.111012</td>\n",
       "      <td>-0.109660</td>\n",
       "      <td>-0.110253</td>\n",
       "      <td>-0.103878</td>\n",
       "      <td>-0.107497</td>\n",
       "    </tr>\n",
       "    <tr>\n",
       "      <th>LongShots</th>\n",
       "      <td>-0.417853</td>\n",
       "      <td>-0.161549</td>\n",
       "      <td>0.155096</td>\n",
       "      <td>0.420795</td>\n",
       "      <td>0.266740</td>\n",
       "      <td>0.840049</td>\n",
       "      <td>0.213960</td>\n",
       "      <td>0.355967</td>\n",
       "      <td>0.752980</td>\n",
       "      <td>-0.046174</td>\n",
       "      <td>...</td>\n",
       "      <td>0.812446</td>\n",
       "      <td>0.616102</td>\n",
       "      <td>0.215510</td>\n",
       "      <td>0.172331</td>\n",
       "      <td>0.133603</td>\n",
       "      <td>-0.612381</td>\n",
       "      <td>-0.610739</td>\n",
       "      <td>-0.605952</td>\n",
       "      <td>-0.607200</td>\n",
       "      <td>-0.610087</td>\n",
       "    </tr>\n",
       "    <tr>\n",
       "      <th>Aggression</th>\n",
       "      <td>-0.397067</td>\n",
       "      <td>-0.228329</td>\n",
       "      <td>0.265190</td>\n",
       "      <td>0.395470</td>\n",
       "      <td>0.171174</td>\n",
       "      <td>0.666236</td>\n",
       "      <td>0.173327</td>\n",
       "      <td>0.131524</td>\n",
       "      <td>0.347795</td>\n",
       "      <td>-0.146907</td>\n",
       "      <td>...</td>\n",
       "      <td>0.336089</td>\n",
       "      <td>0.515776</td>\n",
       "      <td>0.723961</td>\n",
       "      <td>0.744216</td>\n",
       "      <td>0.721384</td>\n",
       "      <td>-0.575843</td>\n",
       "      <td>-0.576114</td>\n",
       "      <td>-0.573607</td>\n",
       "      <td>-0.571201</td>\n",
       "      <td>-0.575142</td>\n",
       "    </tr>\n",
       "    <tr>\n",
       "      <th>Interceptions</th>\n",
       "      <td>-0.319162</td>\n",
       "      <td>-0.160602</td>\n",
       "      <td>0.197845</td>\n",
       "      <td>0.321326</td>\n",
       "      <td>0.154908</td>\n",
       "      <td>0.561676</td>\n",
       "      <td>0.129586</td>\n",
       "      <td>0.053097</td>\n",
       "      <td>0.209604</td>\n",
       "      <td>-0.158526</td>\n",
       "      <td>...</td>\n",
       "      <td>0.110834</td>\n",
       "      <td>0.397450</td>\n",
       "      <td>0.888349</td>\n",
       "      <td>0.941471</td>\n",
       "      <td>0.928282</td>\n",
       "      <td>-0.485585</td>\n",
       "      <td>-0.486324</td>\n",
       "      <td>-0.485394</td>\n",
       "      <td>-0.481279</td>\n",
       "      <td>-0.486036</td>\n",
       "    </tr>\n",
       "    <tr>\n",
       "      <th>Positioning</th>\n",
       "      <td>-0.351820</td>\n",
       "      <td>-0.088330</td>\n",
       "      <td>0.082443</td>\n",
       "      <td>0.356493</td>\n",
       "      <td>0.245616</td>\n",
       "      <td>0.824307</td>\n",
       "      <td>0.183003</td>\n",
       "      <td>0.346896</td>\n",
       "      <td>0.781248</td>\n",
       "      <td>-0.025422</td>\n",
       "      <td>...</td>\n",
       "      <td>0.801268</td>\n",
       "      <td>0.580498</td>\n",
       "      <td>0.202597</td>\n",
       "      <td>0.158060</td>\n",
       "      <td>0.124228</td>\n",
       "      <td>-0.679480</td>\n",
       "      <td>-0.677699</td>\n",
       "      <td>-0.674393</td>\n",
       "      <td>-0.675569</td>\n",
       "      <td>-0.678582</td>\n",
       "    </tr>\n",
       "    <tr>\n",
       "      <th>Vision</th>\n",
       "      <td>-0.490296</td>\n",
       "      <td>-0.215170</td>\n",
       "      <td>0.187422</td>\n",
       "      <td>0.498894</td>\n",
       "      <td>0.348141</td>\n",
       "      <td>0.761992</td>\n",
       "      <td>0.284600</td>\n",
       "      <td>0.337897</td>\n",
       "      <td>0.674057</td>\n",
       "      <td>-0.078050</td>\n",
       "      <td>...</td>\n",
       "      <td>0.632927</td>\n",
       "      <td>0.636280</td>\n",
       "      <td>0.176760</td>\n",
       "      <td>0.146460</td>\n",
       "      <td>0.113228</td>\n",
       "      <td>-0.381899</td>\n",
       "      <td>-0.377807</td>\n",
       "      <td>-0.374737</td>\n",
       "      <td>-0.375775</td>\n",
       "      <td>-0.381158</td>\n",
       "    </tr>\n",
       "    <tr>\n",
       "      <th>Penalties</th>\n",
       "      <td>-0.337899</td>\n",
       "      <td>-0.140657</td>\n",
       "      <td>0.139535</td>\n",
       "      <td>0.341429</td>\n",
       "      <td>0.224281</td>\n",
       "      <td>0.734533</td>\n",
       "      <td>0.218620</td>\n",
       "      <td>0.330252</td>\n",
       "      <td>0.690434</td>\n",
       "      <td>-0.028023</td>\n",
       "      <td>...</td>\n",
       "      <td>1.000000</td>\n",
       "      <td>0.551801</td>\n",
       "      <td>0.152296</td>\n",
       "      <td>0.101920</td>\n",
       "      <td>0.066693</td>\n",
       "      <td>-0.620069</td>\n",
       "      <td>-0.618968</td>\n",
       "      <td>-0.614006</td>\n",
       "      <td>-0.617074</td>\n",
       "      <td>-0.619099</td>\n",
       "    </tr>\n",
       "    <tr>\n",
       "      <th>Composure</th>\n",
       "      <td>-0.716173</td>\n",
       "      <td>-0.384473</td>\n",
       "      <td>0.391023</td>\n",
       "      <td>0.727655</td>\n",
       "      <td>0.440008</td>\n",
       "      <td>0.752331</td>\n",
       "      <td>0.392787</td>\n",
       "      <td>0.278132</td>\n",
       "      <td>0.586836</td>\n",
       "      <td>-0.167523</td>\n",
       "      <td>...</td>\n",
       "      <td>0.551801</td>\n",
       "      <td>1.000000</td>\n",
       "      <td>0.384081</td>\n",
       "      <td>0.351726</td>\n",
       "      <td>0.317492</td>\n",
       "      <td>-0.378750</td>\n",
       "      <td>-0.375720</td>\n",
       "      <td>-0.374897</td>\n",
       "      <td>-0.370234</td>\n",
       "      <td>-0.377626</td>\n",
       "    </tr>\n",
       "    <tr>\n",
       "      <th>Marking</th>\n",
       "      <td>-0.280829</td>\n",
       "      <td>-0.110198</td>\n",
       "      <td>0.142817</td>\n",
       "      <td>0.286505</td>\n",
       "      <td>0.162801</td>\n",
       "      <td>0.561866</td>\n",
       "      <td>0.115208</td>\n",
       "      <td>0.065673</td>\n",
       "      <td>0.241428</td>\n",
       "      <td>-0.142474</td>\n",
       "      <td>...</td>\n",
       "      <td>0.152296</td>\n",
       "      <td>0.384081</td>\n",
       "      <td>1.000000</td>\n",
       "      <td>0.906541</td>\n",
       "      <td>0.895908</td>\n",
       "      <td>-0.550978</td>\n",
       "      <td>-0.552263</td>\n",
       "      <td>-0.549498</td>\n",
       "      <td>-0.546670</td>\n",
       "      <td>-0.551290</td>\n",
       "    </tr>\n",
       "    <tr>\n",
       "      <th>StandingTackle</th>\n",
       "      <td>-0.248564</td>\n",
       "      <td>-0.085929</td>\n",
       "      <td>0.119745</td>\n",
       "      <td>0.252629</td>\n",
       "      <td>0.143564</td>\n",
       "      <td>0.538802</td>\n",
       "      <td>0.092846</td>\n",
       "      <td>0.042646</td>\n",
       "      <td>0.210517</td>\n",
       "      <td>-0.133285</td>\n",
       "      <td>...</td>\n",
       "      <td>0.101920</td>\n",
       "      <td>0.351726</td>\n",
       "      <td>0.906541</td>\n",
       "      <td>1.000000</td>\n",
       "      <td>0.974659</td>\n",
       "      <td>-0.530989</td>\n",
       "      <td>-0.532160</td>\n",
       "      <td>-0.531092</td>\n",
       "      <td>-0.527792</td>\n",
       "      <td>-0.531474</td>\n",
       "    </tr>\n",
       "    <tr>\n",
       "      <th>SlidingTackle</th>\n",
       "      <td>-0.220034</td>\n",
       "      <td>-0.068409</td>\n",
       "      <td>0.103089</td>\n",
       "      <td>0.222811</td>\n",
       "      <td>0.128980</td>\n",
       "      <td>0.506968</td>\n",
       "      <td>0.079176</td>\n",
       "      <td>0.026105</td>\n",
       "      <td>0.178607</td>\n",
       "      <td>-0.124610</td>\n",
       "      <td>...</td>\n",
       "      <td>0.066693</td>\n",
       "      <td>0.317492</td>\n",
       "      <td>0.895908</td>\n",
       "      <td>0.974659</td>\n",
       "      <td>1.000000</td>\n",
       "      <td>-0.509337</td>\n",
       "      <td>-0.510591</td>\n",
       "      <td>-0.509378</td>\n",
       "      <td>-0.505792</td>\n",
       "      <td>-0.509425</td>\n",
       "    </tr>\n",
       "    <tr>\n",
       "      <th>GKDiving</th>\n",
       "      <td>0.027757</td>\n",
       "      <td>-0.105594</td>\n",
       "      <td>0.101277</td>\n",
       "      <td>-0.025937</td>\n",
       "      <td>-0.053446</td>\n",
       "      <td>-0.674637</td>\n",
       "      <td>0.004526</td>\n",
       "      <td>-0.231905</td>\n",
       "      <td>-0.621675</td>\n",
       "      <td>0.004807</td>\n",
       "      <td>...</td>\n",
       "      <td>-0.620069</td>\n",
       "      <td>-0.378750</td>\n",
       "      <td>-0.550978</td>\n",
       "      <td>-0.530989</td>\n",
       "      <td>-0.509337</td>\n",
       "      <td>1.000000</td>\n",
       "      <td>0.970280</td>\n",
       "      <td>0.965685</td>\n",
       "      <td>0.969864</td>\n",
       "      <td>0.973320</td>\n",
       "    </tr>\n",
       "    <tr>\n",
       "      <th>GKHandling</th>\n",
       "      <td>0.027026</td>\n",
       "      <td>-0.111149</td>\n",
       "      <td>0.106419</td>\n",
       "      <td>-0.025062</td>\n",
       "      <td>-0.054672</td>\n",
       "      <td>-0.673625</td>\n",
       "      <td>0.003942</td>\n",
       "      <td>-0.233098</td>\n",
       "      <td>-0.619755</td>\n",
       "      <td>0.001543</td>\n",
       "      <td>...</td>\n",
       "      <td>-0.618968</td>\n",
       "      <td>-0.375720</td>\n",
       "      <td>-0.552263</td>\n",
       "      <td>-0.532160</td>\n",
       "      <td>-0.510591</td>\n",
       "      <td>0.970280</td>\n",
       "      <td>1.000000</td>\n",
       "      <td>0.965239</td>\n",
       "      <td>0.969408</td>\n",
       "      <td>0.970264</td>\n",
       "    </tr>\n",
       "    <tr>\n",
       "      <th>GKKicking</th>\n",
       "      <td>0.030654</td>\n",
       "      <td>-0.106652</td>\n",
       "      <td>0.104964</td>\n",
       "      <td>-0.029372</td>\n",
       "      <td>-0.059061</td>\n",
       "      <td>-0.670254</td>\n",
       "      <td>0.000651</td>\n",
       "      <td>-0.229395</td>\n",
       "      <td>-0.616990</td>\n",
       "      <td>0.001162</td>\n",
       "      <td>...</td>\n",
       "      <td>-0.614006</td>\n",
       "      <td>-0.374897</td>\n",
       "      <td>-0.549498</td>\n",
       "      <td>-0.531092</td>\n",
       "      <td>-0.509378</td>\n",
       "      <td>0.965685</td>\n",
       "      <td>0.965239</td>\n",
       "      <td>1.000000</td>\n",
       "      <td>0.964336</td>\n",
       "      <td>0.966337</td>\n",
       "    </tr>\n",
       "    <tr>\n",
       "      <th>GKPositioning</th>\n",
       "      <td>0.019842</td>\n",
       "      <td>-0.118250</td>\n",
       "      <td>0.116402</td>\n",
       "      <td>-0.017674</td>\n",
       "      <td>-0.052589</td>\n",
       "      <td>-0.668272</td>\n",
       "      <td>0.006904</td>\n",
       "      <td>-0.231298</td>\n",
       "      <td>-0.618853</td>\n",
       "      <td>-0.002736</td>\n",
       "      <td>...</td>\n",
       "      <td>-0.617074</td>\n",
       "      <td>-0.370234</td>\n",
       "      <td>-0.546670</td>\n",
       "      <td>-0.527792</td>\n",
       "      <td>-0.505792</td>\n",
       "      <td>0.969864</td>\n",
       "      <td>0.969408</td>\n",
       "      <td>0.964336</td>\n",
       "      <td>1.000000</td>\n",
       "      <td>0.970130</td>\n",
       "    </tr>\n",
       "    <tr>\n",
       "      <th>GKReflexes</th>\n",
       "      <td>0.025610</td>\n",
       "      <td>-0.105778</td>\n",
       "      <td>0.103313</td>\n",
       "      <td>-0.023276</td>\n",
       "      <td>-0.053341</td>\n",
       "      <td>-0.673238</td>\n",
       "      <td>0.003444</td>\n",
       "      <td>-0.232574</td>\n",
       "      <td>-0.621925</td>\n",
       "      <td>0.003255</td>\n",
       "      <td>...</td>\n",
       "      <td>-0.619099</td>\n",
       "      <td>-0.377626</td>\n",
       "      <td>-0.551290</td>\n",
       "      <td>-0.531474</td>\n",
       "      <td>-0.509425</td>\n",
       "      <td>0.973320</td>\n",
       "      <td>0.970264</td>\n",
       "      <td>0.966337</td>\n",
       "      <td>0.970130</td>\n",
       "      <td>1.000000</td>\n",
       "    </tr>\n",
       "  </tbody>\n",
       "</table>\n",
       "<p>44 rows × 44 columns</p>\n",
       "</div>"
      ],
      "text/plain": [
       "                          Unnamed: 0        ID       Age   Overall  Potential  \\\n",
       "Unnamed: 0                  1.000000  0.415757 -0.454846 -0.972791  -0.633395   \n",
       "ID                          0.415757  1.000000 -0.739208 -0.417025   0.047074   \n",
       "Age                        -0.454846 -0.739208  1.000000  0.452350  -0.253312   \n",
       "Overall                    -0.972791 -0.417025  0.452350  1.000000   0.660939   \n",
       "Potential                  -0.633395  0.047074 -0.253312  0.660939   1.000000   \n",
       "Special                    -0.596508 -0.231352  0.236695  0.606960   0.383727   \n",
       "International Reputation   -0.413322 -0.356191  0.253765  0.499491   0.372993   \n",
       "Weak Foot                  -0.204026 -0.075784  0.059867  0.212015   0.162346   \n",
       "Skill Moves                -0.415672 -0.056914  0.027649  0.414463   0.354290   \n",
       "Jersey Number               0.213645  0.182074 -0.241156 -0.218931  -0.010474   \n",
       "Crossing                   -0.390062 -0.131994  0.130545  0.394972   0.246319   \n",
       "Finishing                  -0.325529 -0.082323  0.068660  0.332515   0.243355   \n",
       "HeadingAccuracy            -0.337766 -0.106815  0.147183  0.340776   0.200988   \n",
       "ShortPassing               -0.492495 -0.136279  0.132894  0.502550   0.369189   \n",
       "Volleys                    -0.384285 -0.159915  0.142472  0.391338   0.254906   \n",
       "Dribbling                  -0.364106 -0.030340  0.010166  0.372426   0.315019   \n",
       "Curve                      -0.416378 -0.169511  0.143276  0.419491   0.279944   \n",
       "FKAccuracy                 -0.395433 -0.199549  0.193467  0.396892   0.230544   \n",
       "LongPassing                -0.477500 -0.186764  0.181310  0.483909   0.321437   \n",
       "BallControl                -0.449655 -0.100184  0.084969  0.460197   0.354396   \n",
       "Acceleration               -0.185030  0.133236 -0.158667  0.196869   0.234608   \n",
       "SprintSpeed                -0.198797  0.132437 -0.151682  0.210647   0.236771   \n",
       "Agility                    -0.256270 -0.019897 -0.019395  0.264952   0.222310   \n",
       "Reactions                  -0.832156 -0.408617  0.453124  0.850045   0.513425   \n",
       "Balance                    -0.097160  0.048463 -0.089877  0.103160   0.138025   \n",
       "ShotPower                  -0.440023 -0.166133  0.156947  0.441118   0.288318   \n",
       "Jumping                    -0.261581 -0.169369  0.177167  0.264435   0.109151   \n",
       "Stamina                    -0.358451 -0.053895  0.097793  0.365656   0.202563   \n",
       "Strength                   -0.342839 -0.259756  0.332798  0.349326   0.075769   \n",
       "LongShots                  -0.417853 -0.161549  0.155096  0.420795   0.266740   \n",
       "Aggression                 -0.397067 -0.228329  0.265190  0.395470   0.171174   \n",
       "Interceptions              -0.319162 -0.160602  0.197845  0.321326   0.154908   \n",
       "Positioning                -0.351820 -0.088330  0.082443  0.356493   0.245616   \n",
       "Vision                     -0.490296 -0.215170  0.187422  0.498894   0.348141   \n",
       "Penalties                  -0.337899 -0.140657  0.139535  0.341429   0.224281   \n",
       "Composure                  -0.716173 -0.384473  0.391023  0.727655   0.440008   \n",
       "Marking                    -0.280829 -0.110198  0.142817  0.286505   0.162801   \n",
       "StandingTackle             -0.248564 -0.085929  0.119745  0.252629   0.143564   \n",
       "SlidingTackle              -0.220034 -0.068409  0.103089  0.222811   0.128980   \n",
       "GKDiving                    0.027757 -0.105594  0.101277 -0.025937  -0.053446   \n",
       "GKHandling                  0.027026 -0.111149  0.106419 -0.025062  -0.054672   \n",
       "GKKicking                   0.030654 -0.106652  0.104964 -0.029372  -0.059061   \n",
       "GKPositioning               0.019842 -0.118250  0.116402 -0.017674  -0.052589   \n",
       "GKReflexes                  0.025610 -0.105778  0.103313 -0.023276  -0.053341   \n",
       "\n",
       "                           Special  International Reputation  Weak Foot  \\\n",
       "Unnamed: 0               -0.596508                 -0.413322  -0.204026   \n",
       "ID                       -0.231352                 -0.356191  -0.075784   \n",
       "Age                       0.236695                  0.253765   0.059867   \n",
       "Overall                   0.606960                  0.499491   0.212015   \n",
       "Potential                 0.383727                  0.372993   0.162346   \n",
       "Special                   1.000000                  0.292208   0.341855   \n",
       "International Reputation  0.292208                  1.000000   0.128317   \n",
       "Weak Foot                 0.341855                  0.128317   1.000000   \n",
       "Skill Moves               0.763412                  0.208153   0.340721   \n",
       "Jersey Number            -0.133716                 -0.077298  -0.035410   \n",
       "Crossing                  0.866417                  0.191770   0.307925   \n",
       "Finishing                 0.724244                  0.178373   0.357416   \n",
       "HeadingAccuracy           0.644421                  0.157483   0.183238   \n",
       "ShortPassing              0.906729                  0.242803   0.322133   \n",
       "Volleys                   0.773974                  0.243089   0.357340   \n",
       "Dribbling                 0.874274                  0.179041   0.352658   \n",
       "Curve                     0.851900                  0.233681   0.345468   \n",
       "FKAccuracy                0.806414                  0.223564   0.330472   \n",
       "LongPassing               0.846302                  0.239525   0.277174   \n",
       "BallControl               0.912107                  0.217946   0.356383   \n",
       "Acceleration              0.654337                  0.044319   0.261435   \n",
       "SprintSpeed               0.645963                  0.044070   0.248822   \n",
       "Agility                   0.699673                  0.100869   0.302062   \n",
       "Reactions                 0.597169                  0.445614   0.201341   \n",
       "Balance                   0.586788                  0.050076   0.254022   \n",
       "ShotPower                 0.835277                  0.227772   0.332855   \n",
       "Jumping                   0.321846                  0.120931   0.069752   \n",
       "Stamina                   0.792762                  0.094780   0.232094   \n",
       "Strength                  0.192990                  0.131280  -0.008470   \n",
       "LongShots                 0.840049                  0.213960   0.355967   \n",
       "Aggression                0.666236                  0.173327   0.131524   \n",
       "Interceptions             0.561676                  0.129586   0.053097   \n",
       "Positioning               0.824307                  0.183003   0.346896   \n",
       "Vision                    0.761992                  0.284600   0.337897   \n",
       "Penalties                 0.734533                  0.218620   0.330252   \n",
       "Composure                 0.752331                  0.392787   0.278132   \n",
       "Marking                   0.561866                  0.115208   0.065673   \n",
       "StandingTackle            0.538802                  0.092846   0.042646   \n",
       "SlidingTackle             0.506968                  0.079176   0.026105   \n",
       "GKDiving                 -0.674637                  0.004526  -0.231905   \n",
       "GKHandling               -0.673625                  0.003942  -0.233098   \n",
       "GKKicking                -0.670254                  0.000651  -0.229395   \n",
       "GKPositioning            -0.668272                  0.006904  -0.231298   \n",
       "GKReflexes               -0.673238                  0.003444  -0.232574   \n",
       "\n",
       "                          Skill Moves  Jersey Number  ...  Penalties  \\\n",
       "Unnamed: 0                  -0.415672       0.213645  ...  -0.337899   \n",
       "ID                          -0.056914       0.182074  ...  -0.140657   \n",
       "Age                          0.027649      -0.241156  ...   0.139535   \n",
       "Overall                      0.414463      -0.218931  ...   0.341429   \n",
       "Potential                    0.354290      -0.010474  ...   0.224281   \n",
       "Special                      0.763412      -0.133716  ...   0.734533   \n",
       "International Reputation     0.208153      -0.077298  ...   0.218620   \n",
       "Weak Foot                    0.340721      -0.035410  ...   0.330252   \n",
       "Skill Moves                  1.000000      -0.035194  ...   0.690434   \n",
       "Jersey Number               -0.035194       1.000000  ...  -0.028023   \n",
       "Crossing                     0.741035      -0.076585  ...   0.645805   \n",
       "Finishing                    0.743439      -0.006639  ...   0.837827   \n",
       "HeadingAccuracy              0.443005      -0.091688  ...   0.551978   \n",
       "ShortPassing                 0.730363      -0.100241  ...   0.676063   \n",
       "Volleys                      0.745077      -0.026731  ...   0.829257   \n",
       "Dribbling                    0.839757      -0.028021  ...   0.769594   \n",
       "Curve                        0.771052      -0.055428  ...   0.751833   \n",
       "FKAccuracy                   0.701068      -0.068843  ...   0.734440   \n",
       "LongPassing                  0.622342      -0.117424  ...   0.542247   \n",
       "BallControl                  0.818051      -0.073210  ...   0.769791   \n",
       "Acceleration                 0.652356      -0.004395  ...   0.532908   \n",
       "SprintSpeed                  0.624098      -0.015069  ...   0.521071   \n",
       "Agility                      0.681765      -0.034158  ...   0.566175   \n",
       "Reactions                    0.377044      -0.192622  ...   0.346143   \n",
       "Balance                      0.578459       0.008009  ...   0.482794   \n",
       "ShotPower                    0.718237      -0.053860  ...   0.795220   \n",
       "Jumping                      0.107553      -0.104179  ...   0.133294   \n",
       "Stamina                      0.570226      -0.127822  ...   0.516426   \n",
       "Strength                    -0.041475      -0.158411  ...   0.054491   \n",
       "LongShots                    0.752980      -0.046174  ...   0.812446   \n",
       "Aggression                   0.347795      -0.146907  ...   0.336089   \n",
       "Interceptions                0.209604      -0.158526  ...   0.110834   \n",
       "Positioning                  0.781248      -0.025422  ...   0.801268   \n",
       "Vision                       0.674057      -0.078050  ...   0.632927   \n",
       "Penalties                    0.690434      -0.028023  ...   1.000000   \n",
       "Composure                    0.586836      -0.167523  ...   0.551801   \n",
       "Marking                      0.241428      -0.142474  ...   0.152296   \n",
       "StandingTackle               0.210517      -0.133285  ...   0.101920   \n",
       "SlidingTackle                0.178607      -0.124610  ...   0.066693   \n",
       "GKDiving                    -0.621675       0.004807  ...  -0.620069   \n",
       "GKHandling                  -0.619755       0.001543  ...  -0.618968   \n",
       "GKKicking                   -0.616990       0.001162  ...  -0.614006   \n",
       "GKPositioning               -0.618853      -0.002736  ...  -0.617074   \n",
       "GKReflexes                  -0.621925       0.003255  ...  -0.619099   \n",
       "\n",
       "                          Composure   Marking  StandingTackle  SlidingTackle  \\\n",
       "Unnamed: 0                -0.716173 -0.280829       -0.248564      -0.220034   \n",
       "ID                        -0.384473 -0.110198       -0.085929      -0.068409   \n",
       "Age                        0.391023  0.142817        0.119745       0.103089   \n",
       "Overall                    0.727655  0.286505        0.252629       0.222811   \n",
       "Potential                  0.440008  0.162801        0.143564       0.128980   \n",
       "Special                    0.752331  0.561866        0.538802       0.506968   \n",
       "International Reputation   0.392787  0.115208        0.092846       0.079176   \n",
       "Weak Foot                  0.278132  0.065673        0.042646       0.026105   \n",
       "Skill Moves                0.586836  0.241428        0.210517       0.178607   \n",
       "Jersey Number             -0.167523 -0.142474       -0.133285      -0.124610   \n",
       "Crossing                   0.575446  0.443101        0.428963       0.409961   \n",
       "Finishing                  0.533414  0.024218       -0.033023      -0.071811   \n",
       "HeadingAccuracy            0.507208  0.583123        0.561063       0.533643   \n",
       "ShortPassing               0.685137  0.559576        0.541131       0.508644   \n",
       "Volleys                    0.595281  0.120919        0.072788       0.035457   \n",
       "Dribbling                  0.597498  0.336072        0.301251       0.273963   \n",
       "Curve                      0.616532  0.289529        0.261481       0.232869   \n",
       "FKAccuracy                 0.585120  0.297976        0.279153       0.247903   \n",
       "LongPassing                0.645797  0.587106        0.587430       0.562230   \n",
       "BallControl                0.674881  0.452705        0.417566       0.384802   \n",
       "Acceleration               0.347427  0.195369        0.163000       0.157565   \n",
       "SprintSpeed                0.351607  0.212575        0.178214       0.171980   \n",
       "Agility                    0.432511  0.167122        0.129204       0.116686   \n",
       "Reactions                  0.685558  0.283607        0.255399       0.228355   \n",
       "Balance                    0.310763  0.178695        0.154045       0.152470   \n",
       "ShotPower                  0.634495  0.296944        0.256403       0.220237   \n",
       "Jumping                    0.252353  0.279196        0.260645       0.260261   \n",
       "Stamina                    0.523112  0.587782        0.570055       0.544702   \n",
       "Strength                   0.280522  0.333334        0.332159       0.304849   \n",
       "LongShots                  0.616102  0.215510        0.172331       0.133603   \n",
       "Aggression                 0.515776  0.723961        0.744216       0.721384   \n",
       "Interceptions              0.397450  0.888349        0.941471       0.928282   \n",
       "Positioning                0.580498  0.202597        0.158060       0.124228   \n",
       "Vision                     0.636280  0.176760        0.146460       0.113228   \n",
       "Penalties                  0.551801  0.152296        0.101920       0.066693   \n",
       "Composure                  1.000000  0.384081        0.351726       0.317492   \n",
       "Marking                    0.384081  1.000000        0.906541       0.895908   \n",
       "StandingTackle             0.351726  0.906541        1.000000       0.974659   \n",
       "SlidingTackle              0.317492  0.895908        0.974659       1.000000   \n",
       "GKDiving                  -0.378750 -0.550978       -0.530989      -0.509337   \n",
       "GKHandling                -0.375720 -0.552263       -0.532160      -0.510591   \n",
       "GKKicking                 -0.374897 -0.549498       -0.531092      -0.509378   \n",
       "GKPositioning             -0.370234 -0.546670       -0.527792      -0.505792   \n",
       "GKReflexes                -0.377626 -0.551290       -0.531474      -0.509425   \n",
       "\n",
       "                          GKDiving  GKHandling  GKKicking  GKPositioning  \\\n",
       "Unnamed: 0                0.027757    0.027026   0.030654       0.019842   \n",
       "ID                       -0.105594   -0.111149  -0.106652      -0.118250   \n",
       "Age                       0.101277    0.106419   0.104964       0.116402   \n",
       "Overall                  -0.025937   -0.025062  -0.029372      -0.017674   \n",
       "Potential                -0.053446   -0.054672  -0.059061      -0.052589   \n",
       "Special                  -0.674637   -0.673625  -0.670254      -0.668272   \n",
       "International Reputation  0.004526    0.003942   0.000651       0.006904   \n",
       "Weak Foot                -0.231905   -0.233098  -0.229395      -0.231298   \n",
       "Skill Moves              -0.621675   -0.619755  -0.616990      -0.618853   \n",
       "Jersey Number             0.004807    0.001543   0.001162      -0.002736   \n",
       "Crossing                 -0.663053   -0.660193  -0.659767      -0.660160   \n",
       "Finishing                -0.588752   -0.587145  -0.583268      -0.584852   \n",
       "HeadingAccuracy          -0.750417   -0.749888  -0.746444      -0.744443   \n",
       "ShortPassing             -0.729785   -0.728024  -0.724381      -0.723782   \n",
       "Volleys                  -0.590808   -0.588668  -0.584954      -0.586131   \n",
       "Dribbling                -0.754625   -0.753181  -0.749816      -0.751348   \n",
       "Curve                    -0.606286   -0.603141  -0.600266      -0.603540   \n",
       "FKAccuracy               -0.556605   -0.553644  -0.549911      -0.552641   \n",
       "LongPassing              -0.596820   -0.594999  -0.591453      -0.591561   \n",
       "BallControl              -0.788444   -0.786797  -0.783423      -0.783607   \n",
       "Acceleration             -0.593008   -0.594866  -0.592127      -0.592143   \n",
       "SprintSpeed              -0.597677   -0.599694  -0.597320      -0.596498   \n",
       "Agility                  -0.527756   -0.528482  -0.527164      -0.526983   \n",
       "Reactions                -0.062967   -0.061940  -0.065927      -0.055031   \n",
       "Balance                  -0.504727   -0.506102  -0.503970      -0.503652   \n",
       "ShotPower                -0.654117   -0.654099  -0.649403      -0.651409   \n",
       "Jumping                  -0.192700   -0.193692  -0.195282      -0.189079   \n",
       "Stamina                  -0.701467   -0.698556  -0.696729      -0.696073   \n",
       "Strength                 -0.111012   -0.109660  -0.110253      -0.103878   \n",
       "LongShots                -0.612381   -0.610739  -0.605952      -0.607200   \n",
       "Aggression               -0.575843   -0.576114  -0.573607      -0.571201   \n",
       "Interceptions            -0.485585   -0.486324  -0.485394      -0.481279   \n",
       "Positioning              -0.679480   -0.677699  -0.674393      -0.675569   \n",
       "Vision                   -0.381899   -0.377807  -0.374737      -0.375775   \n",
       "Penalties                -0.620069   -0.618968  -0.614006      -0.617074   \n",
       "Composure                -0.378750   -0.375720  -0.374897      -0.370234   \n",
       "Marking                  -0.550978   -0.552263  -0.549498      -0.546670   \n",
       "StandingTackle           -0.530989   -0.532160  -0.531092      -0.527792   \n",
       "SlidingTackle            -0.509337   -0.510591  -0.509378      -0.505792   \n",
       "GKDiving                  1.000000    0.970280   0.965685       0.969864   \n",
       "GKHandling                0.970280    1.000000   0.965239       0.969408   \n",
       "GKKicking                 0.965685    0.965239   1.000000       0.964336   \n",
       "GKPositioning             0.969864    0.969408   0.964336       1.000000   \n",
       "GKReflexes                0.973320    0.970264   0.966337       0.970130   \n",
       "\n",
       "                          GKReflexes  \n",
       "Unnamed: 0                  0.025610  \n",
       "ID                         -0.105778  \n",
       "Age                         0.103313  \n",
       "Overall                    -0.023276  \n",
       "Potential                  -0.053341  \n",
       "Special                    -0.673238  \n",
       "International Reputation    0.003444  \n",
       "Weak Foot                  -0.232574  \n",
       "Skill Moves                -0.621925  \n",
       "Jersey Number               0.003255  \n",
       "Crossing                   -0.662539  \n",
       "Finishing                  -0.586913  \n",
       "HeadingAccuracy            -0.748895  \n",
       "ShortPassing               -0.728721  \n",
       "Volleys                    -0.588670  \n",
       "Dribbling                  -0.754341  \n",
       "Curve                      -0.604960  \n",
       "FKAccuracy                 -0.554920  \n",
       "LongPassing                -0.595887  \n",
       "BallControl                -0.787939  \n",
       "Acceleration               -0.593201  \n",
       "SprintSpeed                -0.597837  \n",
       "Agility                    -0.528899  \n",
       "Reactions                  -0.059961  \n",
       "Balance                    -0.505974  \n",
       "ShotPower                  -0.653475  \n",
       "Jumping                    -0.192050  \n",
       "Stamina                    -0.699670  \n",
       "Strength                   -0.107497  \n",
       "LongShots                  -0.610087  \n",
       "Aggression                 -0.575142  \n",
       "Interceptions              -0.486036  \n",
       "Positioning                -0.678582  \n",
       "Vision                     -0.381158  \n",
       "Penalties                  -0.619099  \n",
       "Composure                  -0.377626  \n",
       "Marking                    -0.551290  \n",
       "StandingTackle             -0.531474  \n",
       "SlidingTackle              -0.509425  \n",
       "GKDiving                    0.973320  \n",
       "GKHandling                  0.970264  \n",
       "GKKicking                   0.966337  \n",
       "GKPositioning               0.970130  \n",
       "GKReflexes                  1.000000  \n",
       "\n",
       "[44 rows x 44 columns]"
      ]
     },
     "execution_count": 127,
     "metadata": {},
     "output_type": "execute_result"
    }
   ],
   "source": [
    "df.corr()"
   ]
  },
  {
   "cell_type": "code",
   "execution_count": 128,
   "id": "22e17854",
   "metadata": {},
   "outputs": [
    {
     "data": {
      "text/html": [
       "<div>\n",
       "<style scoped>\n",
       "    .dataframe tbody tr th:only-of-type {\n",
       "        vertical-align: middle;\n",
       "    }\n",
       "\n",
       "    .dataframe tbody tr th {\n",
       "        vertical-align: top;\n",
       "    }\n",
       "\n",
       "    .dataframe thead th {\n",
       "        text-align: right;\n",
       "    }\n",
       "</style>\n",
       "<table border=\"1\" class=\"dataframe\">\n",
       "  <thead>\n",
       "    <tr style=\"text-align: right;\">\n",
       "      <th></th>\n",
       "      <th>Unnamed: 0</th>\n",
       "      <th>ID</th>\n",
       "      <th>Name</th>\n",
       "      <th>Age</th>\n",
       "      <th>Photo</th>\n",
       "      <th>Nationality</th>\n",
       "      <th>Flag</th>\n",
       "      <th>Overall</th>\n",
       "      <th>Potential</th>\n",
       "      <th>Club</th>\n",
       "      <th>...</th>\n",
       "      <th>Composure</th>\n",
       "      <th>Marking</th>\n",
       "      <th>StandingTackle</th>\n",
       "      <th>SlidingTackle</th>\n",
       "      <th>GKDiving</th>\n",
       "      <th>GKHandling</th>\n",
       "      <th>GKKicking</th>\n",
       "      <th>GKPositioning</th>\n",
       "      <th>GKReflexes</th>\n",
       "      <th>Release Clause</th>\n",
       "    </tr>\n",
       "  </thead>\n",
       "  <tbody>\n",
       "    <tr>\n",
       "      <th>0</th>\n",
       "      <td>0</td>\n",
       "      <td>158023</td>\n",
       "      <td>L. Messi</td>\n",
       "      <td>31</td>\n",
       "      <td>https://cdn.sofifa.org/players/4/19/158023.png</td>\n",
       "      <td>Argentina</td>\n",
       "      <td>https://cdn.sofifa.org/flags/52.png</td>\n",
       "      <td>94</td>\n",
       "      <td>94</td>\n",
       "      <td>FC Barcelona</td>\n",
       "      <td>...</td>\n",
       "      <td>96.0</td>\n",
       "      <td>33.0</td>\n",
       "      <td>28.0</td>\n",
       "      <td>26.0</td>\n",
       "      <td>6.0</td>\n",
       "      <td>11.0</td>\n",
       "      <td>15.0</td>\n",
       "      <td>14.0</td>\n",
       "      <td>8.0</td>\n",
       "      <td>€226.5M</td>\n",
       "    </tr>\n",
       "    <tr>\n",
       "      <th>1</th>\n",
       "      <td>1</td>\n",
       "      <td>20801</td>\n",
       "      <td>Cristiano Ronaldo</td>\n",
       "      <td>33</td>\n",
       "      <td>https://cdn.sofifa.org/players/4/19/20801.png</td>\n",
       "      <td>Portugal</td>\n",
       "      <td>https://cdn.sofifa.org/flags/38.png</td>\n",
       "      <td>94</td>\n",
       "      <td>94</td>\n",
       "      <td>Juventus</td>\n",
       "      <td>...</td>\n",
       "      <td>95.0</td>\n",
       "      <td>28.0</td>\n",
       "      <td>31.0</td>\n",
       "      <td>23.0</td>\n",
       "      <td>7.0</td>\n",
       "      <td>11.0</td>\n",
       "      <td>15.0</td>\n",
       "      <td>14.0</td>\n",
       "      <td>11.0</td>\n",
       "      <td>€127.1M</td>\n",
       "    </tr>\n",
       "    <tr>\n",
       "      <th>2</th>\n",
       "      <td>2</td>\n",
       "      <td>190871</td>\n",
       "      <td>Neymar Jr</td>\n",
       "      <td>26</td>\n",
       "      <td>https://cdn.sofifa.org/players/4/19/190871.png</td>\n",
       "      <td>Brazil</td>\n",
       "      <td>https://cdn.sofifa.org/flags/54.png</td>\n",
       "      <td>92</td>\n",
       "      <td>93</td>\n",
       "      <td>Paris Saint-Germain</td>\n",
       "      <td>...</td>\n",
       "      <td>94.0</td>\n",
       "      <td>27.0</td>\n",
       "      <td>24.0</td>\n",
       "      <td>33.0</td>\n",
       "      <td>9.0</td>\n",
       "      <td>9.0</td>\n",
       "      <td>15.0</td>\n",
       "      <td>15.0</td>\n",
       "      <td>11.0</td>\n",
       "      <td>€228.1M</td>\n",
       "    </tr>\n",
       "  </tbody>\n",
       "</table>\n",
       "<p>3 rows × 89 columns</p>\n",
       "</div>"
      ],
      "text/plain": [
       "   Unnamed: 0      ID               Name  Age  \\\n",
       "0           0  158023           L. Messi   31   \n",
       "1           1   20801  Cristiano Ronaldo   33   \n",
       "2           2  190871          Neymar Jr   26   \n",
       "\n",
       "                                            Photo Nationality  \\\n",
       "0  https://cdn.sofifa.org/players/4/19/158023.png   Argentina   \n",
       "1   https://cdn.sofifa.org/players/4/19/20801.png    Portugal   \n",
       "2  https://cdn.sofifa.org/players/4/19/190871.png      Brazil   \n",
       "\n",
       "                                  Flag  Overall  Potential  \\\n",
       "0  https://cdn.sofifa.org/flags/52.png       94         94   \n",
       "1  https://cdn.sofifa.org/flags/38.png       94         94   \n",
       "2  https://cdn.sofifa.org/flags/54.png       92         93   \n",
       "\n",
       "                  Club  ... Composure Marking StandingTackle  SlidingTackle  \\\n",
       "0         FC Barcelona  ...      96.0    33.0           28.0           26.0   \n",
       "1             Juventus  ...      95.0    28.0           31.0           23.0   \n",
       "2  Paris Saint-Germain  ...      94.0    27.0           24.0           33.0   \n",
       "\n",
       "  GKDiving  GKHandling  GKKicking  GKPositioning GKReflexes Release Clause  \n",
       "0      6.0        11.0       15.0           14.0        8.0        €226.5M  \n",
       "1      7.0        11.0       15.0           14.0       11.0        €127.1M  \n",
       "2      9.0         9.0       15.0           15.0       11.0        €228.1M  \n",
       "\n",
       "[3 rows x 89 columns]"
      ]
     },
     "execution_count": 128,
     "metadata": {},
     "output_type": "execute_result"
    }
   ],
   "source": [
    "df.head(3)"
   ]
  },
  {
   "cell_type": "code",
   "execution_count": 129,
   "id": "8062cb87",
   "metadata": {},
   "outputs": [
    {
     "data": {
      "text/html": [
       "<div>\n",
       "<style scoped>\n",
       "    .dataframe tbody tr th:only-of-type {\n",
       "        vertical-align: middle;\n",
       "    }\n",
       "\n",
       "    .dataframe tbody tr th {\n",
       "        vertical-align: top;\n",
       "    }\n",
       "\n",
       "    .dataframe thead th {\n",
       "        text-align: right;\n",
       "    }\n",
       "</style>\n",
       "<table border=\"1\" class=\"dataframe\">\n",
       "  <thead>\n",
       "    <tr style=\"text-align: right;\">\n",
       "      <th></th>\n",
       "      <th>Unnamed: 0</th>\n",
       "      <th>ID</th>\n",
       "      <th>Name</th>\n",
       "      <th>Age</th>\n",
       "      <th>Photo</th>\n",
       "      <th>Nationality</th>\n",
       "      <th>Flag</th>\n",
       "      <th>Overall</th>\n",
       "      <th>Potential</th>\n",
       "      <th>Club</th>\n",
       "      <th>...</th>\n",
       "      <th>Composure</th>\n",
       "      <th>Marking</th>\n",
       "      <th>StandingTackle</th>\n",
       "      <th>SlidingTackle</th>\n",
       "      <th>GKDiving</th>\n",
       "      <th>GKHandling</th>\n",
       "      <th>GKKicking</th>\n",
       "      <th>GKPositioning</th>\n",
       "      <th>GKReflexes</th>\n",
       "      <th>Release Clause</th>\n",
       "    </tr>\n",
       "  </thead>\n",
       "  <tbody>\n",
       "    <tr>\n",
       "      <th>0</th>\n",
       "      <td>0</td>\n",
       "      <td>158023</td>\n",
       "      <td>L. Messi</td>\n",
       "      <td>31</td>\n",
       "      <td>https://cdn.sofifa.org/players/4/19/158023.png</td>\n",
       "      <td>Argentina</td>\n",
       "      <td>https://cdn.sofifa.org/flags/52.png</td>\n",
       "      <td>94</td>\n",
       "      <td>94</td>\n",
       "      <td>FC Barcelona</td>\n",
       "      <td>...</td>\n",
       "      <td>96.0</td>\n",
       "      <td>33.0</td>\n",
       "      <td>28.0</td>\n",
       "      <td>26.0</td>\n",
       "      <td>6.0</td>\n",
       "      <td>11.0</td>\n",
       "      <td>15.0</td>\n",
       "      <td>14.0</td>\n",
       "      <td>8.0</td>\n",
       "      <td>€226.5M</td>\n",
       "    </tr>\n",
       "    <tr>\n",
       "      <th>7</th>\n",
       "      <td>7</td>\n",
       "      <td>176580</td>\n",
       "      <td>L. Suárez</td>\n",
       "      <td>31</td>\n",
       "      <td>https://cdn.sofifa.org/players/4/19/176580.png</td>\n",
       "      <td>Uruguay</td>\n",
       "      <td>https://cdn.sofifa.org/flags/60.png</td>\n",
       "      <td>91</td>\n",
       "      <td>91</td>\n",
       "      <td>FC Barcelona</td>\n",
       "      <td>...</td>\n",
       "      <td>85.0</td>\n",
       "      <td>62.0</td>\n",
       "      <td>45.0</td>\n",
       "      <td>38.0</td>\n",
       "      <td>27.0</td>\n",
       "      <td>25.0</td>\n",
       "      <td>31.0</td>\n",
       "      <td>33.0</td>\n",
       "      <td>37.0</td>\n",
       "      <td>€164M</td>\n",
       "    </tr>\n",
       "    <tr>\n",
       "      <th>18</th>\n",
       "      <td>18</td>\n",
       "      <td>192448</td>\n",
       "      <td>M. ter Stegen</td>\n",
       "      <td>26</td>\n",
       "      <td>https://cdn.sofifa.org/players/4/19/192448.png</td>\n",
       "      <td>Germany</td>\n",
       "      <td>https://cdn.sofifa.org/flags/21.png</td>\n",
       "      <td>89</td>\n",
       "      <td>92</td>\n",
       "      <td>FC Barcelona</td>\n",
       "      <td>...</td>\n",
       "      <td>69.0</td>\n",
       "      <td>25.0</td>\n",
       "      <td>13.0</td>\n",
       "      <td>10.0</td>\n",
       "      <td>87.0</td>\n",
       "      <td>85.0</td>\n",
       "      <td>88.0</td>\n",
       "      <td>85.0</td>\n",
       "      <td>90.0</td>\n",
       "      <td>€123.3M</td>\n",
       "    </tr>\n",
       "    <tr>\n",
       "      <th>20</th>\n",
       "      <td>20</td>\n",
       "      <td>189511</td>\n",
       "      <td>Sergio Busquets</td>\n",
       "      <td>29</td>\n",
       "      <td>https://cdn.sofifa.org/players/4/19/189511.png</td>\n",
       "      <td>Spain</td>\n",
       "      <td>https://cdn.sofifa.org/flags/45.png</td>\n",
       "      <td>89</td>\n",
       "      <td>89</td>\n",
       "      <td>FC Barcelona</td>\n",
       "      <td>...</td>\n",
       "      <td>90.0</td>\n",
       "      <td>90.0</td>\n",
       "      <td>86.0</td>\n",
       "      <td>80.0</td>\n",
       "      <td>5.0</td>\n",
       "      <td>8.0</td>\n",
       "      <td>13.0</td>\n",
       "      <td>9.0</td>\n",
       "      <td>13.0</td>\n",
       "      <td>€105.6M</td>\n",
       "    </tr>\n",
       "    <tr>\n",
       "      <th>32</th>\n",
       "      <td>32</td>\n",
       "      <td>189242</td>\n",
       "      <td>Coutinho</td>\n",
       "      <td>26</td>\n",
       "      <td>https://cdn.sofifa.org/players/4/19/189242.png</td>\n",
       "      <td>Brazil</td>\n",
       "      <td>https://cdn.sofifa.org/flags/54.png</td>\n",
       "      <td>88</td>\n",
       "      <td>89</td>\n",
       "      <td>FC Barcelona</td>\n",
       "      <td>...</td>\n",
       "      <td>85.0</td>\n",
       "      <td>55.0</td>\n",
       "      <td>54.0</td>\n",
       "      <td>47.0</td>\n",
       "      <td>12.0</td>\n",
       "      <td>7.0</td>\n",
       "      <td>9.0</td>\n",
       "      <td>14.0</td>\n",
       "      <td>6.0</td>\n",
       "      <td>€147.7M</td>\n",
       "    </tr>\n",
       "    <tr>\n",
       "      <th>42</th>\n",
       "      <td>42</td>\n",
       "      <td>205600</td>\n",
       "      <td>S. Umtiti</td>\n",
       "      <td>24</td>\n",
       "      <td>https://cdn.sofifa.org/players/4/19/205600.png</td>\n",
       "      <td>France</td>\n",
       "      <td>https://cdn.sofifa.org/flags/18.png</td>\n",
       "      <td>87</td>\n",
       "      <td>92</td>\n",
       "      <td>FC Barcelona</td>\n",
       "      <td>...</td>\n",
       "      <td>82.0</td>\n",
       "      <td>90.0</td>\n",
       "      <td>89.0</td>\n",
       "      <td>86.0</td>\n",
       "      <td>15.0</td>\n",
       "      <td>10.0</td>\n",
       "      <td>14.0</td>\n",
       "      <td>12.0</td>\n",
       "      <td>15.0</td>\n",
       "      <td>€121.1M</td>\n",
       "    </tr>\n",
       "    <tr>\n",
       "      <th>49</th>\n",
       "      <td>49</td>\n",
       "      <td>189332</td>\n",
       "      <td>Jordi Alba</td>\n",
       "      <td>29</td>\n",
       "      <td>https://cdn.sofifa.org/players/4/19/189332.png</td>\n",
       "      <td>Spain</td>\n",
       "      <td>https://cdn.sofifa.org/flags/45.png</td>\n",
       "      <td>87</td>\n",
       "      <td>87</td>\n",
       "      <td>FC Barcelona</td>\n",
       "      <td>...</td>\n",
       "      <td>79.0</td>\n",
       "      <td>72.0</td>\n",
       "      <td>84.0</td>\n",
       "      <td>85.0</td>\n",
       "      <td>13.0</td>\n",
       "      <td>15.0</td>\n",
       "      <td>13.0</td>\n",
       "      <td>6.0</td>\n",
       "      <td>13.0</td>\n",
       "      <td>€77.9M</td>\n",
       "    </tr>\n",
       "    <tr>\n",
       "      <th>53</th>\n",
       "      <td>53</td>\n",
       "      <td>168651</td>\n",
       "      <td>I. Rakitić</td>\n",
       "      <td>30</td>\n",
       "      <td>https://cdn.sofifa.org/players/4/19/168651.png</td>\n",
       "      <td>Croatia</td>\n",
       "      <td>https://cdn.sofifa.org/flags/10.png</td>\n",
       "      <td>87</td>\n",
       "      <td>87</td>\n",
       "      <td>FC Barcelona</td>\n",
       "      <td>...</td>\n",
       "      <td>81.0</td>\n",
       "      <td>72.0</td>\n",
       "      <td>74.0</td>\n",
       "      <td>70.0</td>\n",
       "      <td>14.0</td>\n",
       "      <td>11.0</td>\n",
       "      <td>12.0</td>\n",
       "      <td>5.0</td>\n",
       "      <td>9.0</td>\n",
       "      <td>€95.3M</td>\n",
       "    </tr>\n",
       "    <tr>\n",
       "      <th>54</th>\n",
       "      <td>54</td>\n",
       "      <td>152729</td>\n",
       "      <td>Piqué</td>\n",
       "      <td>31</td>\n",
       "      <td>https://cdn.sofifa.org/players/4/19/152729.png</td>\n",
       "      <td>Spain</td>\n",
       "      <td>https://cdn.sofifa.org/flags/45.png</td>\n",
       "      <td>87</td>\n",
       "      <td>87</td>\n",
       "      <td>FC Barcelona</td>\n",
       "      <td>...</td>\n",
       "      <td>86.0</td>\n",
       "      <td>91.0</td>\n",
       "      <td>86.0</td>\n",
       "      <td>84.0</td>\n",
       "      <td>10.0</td>\n",
       "      <td>11.0</td>\n",
       "      <td>14.0</td>\n",
       "      <td>15.0</td>\n",
       "      <td>8.0</td>\n",
       "      <td>€69.7M</td>\n",
       "    </tr>\n",
       "    <tr>\n",
       "      <th>96</th>\n",
       "      <td>96</td>\n",
       "      <td>181872</td>\n",
       "      <td>A. Vidal</td>\n",
       "      <td>31</td>\n",
       "      <td>https://cdn.sofifa.org/players/4/19/181872.png</td>\n",
       "      <td>Chile</td>\n",
       "      <td>https://cdn.sofifa.org/flags/55.png</td>\n",
       "      <td>85</td>\n",
       "      <td>85</td>\n",
       "      <td>FC Barcelona</td>\n",
       "      <td>...</td>\n",
       "      <td>81.0</td>\n",
       "      <td>82.0</td>\n",
       "      <td>87.0</td>\n",
       "      <td>86.0</td>\n",
       "      <td>4.0</td>\n",
       "      <td>2.0</td>\n",
       "      <td>4.0</td>\n",
       "      <td>2.0</td>\n",
       "      <td>4.0</td>\n",
       "      <td>€53.3M</td>\n",
       "    </tr>\n",
       "    <tr>\n",
       "      <th>155</th>\n",
       "      <td>155</td>\n",
       "      <td>231443</td>\n",
       "      <td>O. Dembélé</td>\n",
       "      <td>21</td>\n",
       "      <td>https://cdn.sofifa.org/players/4/19/231443.png</td>\n",
       "      <td>France</td>\n",
       "      <td>https://cdn.sofifa.org/flags/18.png</td>\n",
       "      <td>83</td>\n",
       "      <td>92</td>\n",
       "      <td>FC Barcelona</td>\n",
       "      <td>...</td>\n",
       "      <td>75.0</td>\n",
       "      <td>42.0</td>\n",
       "      <td>30.0</td>\n",
       "      <td>33.0</td>\n",
       "      <td>6.0</td>\n",
       "      <td>6.0</td>\n",
       "      <td>14.0</td>\n",
       "      <td>10.0</td>\n",
       "      <td>13.0</td>\n",
       "      <td>€90M</td>\n",
       "    </tr>\n",
       "    <tr>\n",
       "      <th>192</th>\n",
       "      <td>192</td>\n",
       "      <td>199564</td>\n",
       "      <td>Sergi Roberto</td>\n",
       "      <td>26</td>\n",
       "      <td>https://cdn.sofifa.org/players/4/19/199564.png</td>\n",
       "      <td>Spain</td>\n",
       "      <td>https://cdn.sofifa.org/flags/45.png</td>\n",
       "      <td>83</td>\n",
       "      <td>86</td>\n",
       "      <td>FC Barcelona</td>\n",
       "      <td>...</td>\n",
       "      <td>76.0</td>\n",
       "      <td>75.0</td>\n",
       "      <td>83.0</td>\n",
       "      <td>83.0</td>\n",
       "      <td>14.0</td>\n",
       "      <td>16.0</td>\n",
       "      <td>11.0</td>\n",
       "      <td>15.0</td>\n",
       "      <td>10.0</td>\n",
       "      <td>€56.3M</td>\n",
       "    </tr>\n",
       "    <tr>\n",
       "      <th>228</th>\n",
       "      <td>228</td>\n",
       "      <td>230658</td>\n",
       "      <td>Arthur</td>\n",
       "      <td>21</td>\n",
       "      <td>https://cdn.sofifa.org/players/4/19/230658.png</td>\n",
       "      <td>Brazil</td>\n",
       "      <td>https://cdn.sofifa.org/flags/54.png</td>\n",
       "      <td>82</td>\n",
       "      <td>90</td>\n",
       "      <td>FC Barcelona</td>\n",
       "      <td>...</td>\n",
       "      <td>84.0</td>\n",
       "      <td>65.0</td>\n",
       "      <td>76.0</td>\n",
       "      <td>70.0</td>\n",
       "      <td>6.0</td>\n",
       "      <td>13.0</td>\n",
       "      <td>13.0</td>\n",
       "      <td>11.0</td>\n",
       "      <td>12.0</td>\n",
       "      <td>€73.1M</td>\n",
       "    </tr>\n",
       "    <tr>\n",
       "      <th>236</th>\n",
       "      <td>236</td>\n",
       "      <td>222737</td>\n",
       "      <td>Malcom</td>\n",
       "      <td>21</td>\n",
       "      <td>https://cdn.sofifa.org/players/4/19/222737.png</td>\n",
       "      <td>Brazil</td>\n",
       "      <td>https://cdn.sofifa.org/flags/54.png</td>\n",
       "      <td>82</td>\n",
       "      <td>89</td>\n",
       "      <td>FC Barcelona</td>\n",
       "      <td>...</td>\n",
       "      <td>78.0</td>\n",
       "      <td>21.0</td>\n",
       "      <td>28.0</td>\n",
       "      <td>17.0</td>\n",
       "      <td>8.0</td>\n",
       "      <td>14.0</td>\n",
       "      <td>15.0</td>\n",
       "      <td>7.0</td>\n",
       "      <td>9.0</td>\n",
       "      <td>€70.9M</td>\n",
       "    </tr>\n",
       "    <tr>\n",
       "      <th>239</th>\n",
       "      <td>239</td>\n",
       "      <td>220440</td>\n",
       "      <td>C. Lenglet</td>\n",
       "      <td>23</td>\n",
       "      <td>https://cdn.sofifa.org/players/4/19/220440.png</td>\n",
       "      <td>France</td>\n",
       "      <td>https://cdn.sofifa.org/flags/18.png</td>\n",
       "      <td>82</td>\n",
       "      <td>88</td>\n",
       "      <td>FC Barcelona</td>\n",
       "      <td>...</td>\n",
       "      <td>74.0</td>\n",
       "      <td>85.0</td>\n",
       "      <td>82.0</td>\n",
       "      <td>81.0</td>\n",
       "      <td>10.0</td>\n",
       "      <td>10.0</td>\n",
       "      <td>9.0</td>\n",
       "      <td>12.0</td>\n",
       "      <td>7.0</td>\n",
       "      <td>€58.5M</td>\n",
       "    </tr>\n",
       "    <tr>\n",
       "      <th>263</th>\n",
       "      <td>263</td>\n",
       "      <td>201400</td>\n",
       "      <td>Rafinha</td>\n",
       "      <td>25</td>\n",
       "      <td>https://cdn.sofifa.org/players/4/19/201400.png</td>\n",
       "      <td>Brazil</td>\n",
       "      <td>https://cdn.sofifa.org/flags/54.png</td>\n",
       "      <td>82</td>\n",
       "      <td>87</td>\n",
       "      <td>FC Barcelona</td>\n",
       "      <td>...</td>\n",
       "      <td>80.0</td>\n",
       "      <td>68.0</td>\n",
       "      <td>74.0</td>\n",
       "      <td>66.0</td>\n",
       "      <td>11.0</td>\n",
       "      <td>6.0</td>\n",
       "      <td>15.0</td>\n",
       "      <td>13.0</td>\n",
       "      <td>7.0</td>\n",
       "      <td>€62.7M</td>\n",
       "    </tr>\n",
       "    <tr>\n",
       "      <th>266</th>\n",
       "      <td>266</td>\n",
       "      <td>199987</td>\n",
       "      <td>J. Cillessen</td>\n",
       "      <td>29</td>\n",
       "      <td>https://cdn.sofifa.org/players/4/19/199987.png</td>\n",
       "      <td>Netherlands</td>\n",
       "      <td>https://cdn.sofifa.org/flags/34.png</td>\n",
       "      <td>82</td>\n",
       "      <td>84</td>\n",
       "      <td>FC Barcelona</td>\n",
       "      <td>...</td>\n",
       "      <td>61.0</td>\n",
       "      <td>18.0</td>\n",
       "      <td>12.0</td>\n",
       "      <td>11.0</td>\n",
       "      <td>80.0</td>\n",
       "      <td>83.0</td>\n",
       "      <td>75.0</td>\n",
       "      <td>81.0</td>\n",
       "      <td>80.0</td>\n",
       "      <td>€38.3M</td>\n",
       "    </tr>\n",
       "    <tr>\n",
       "      <th>324</th>\n",
       "      <td>324</td>\n",
       "      <td>227928</td>\n",
       "      <td>Nélson Semedo</td>\n",
       "      <td>24</td>\n",
       "      <td>https://cdn.sofifa.org/players/4/19/227928.png</td>\n",
       "      <td>Portugal</td>\n",
       "      <td>https://cdn.sofifa.org/flags/38.png</td>\n",
       "      <td>81</td>\n",
       "      <td>86</td>\n",
       "      <td>FC Barcelona</td>\n",
       "      <td>...</td>\n",
       "      <td>75.0</td>\n",
       "      <td>75.0</td>\n",
       "      <td>78.0</td>\n",
       "      <td>79.0</td>\n",
       "      <td>16.0</td>\n",
       "      <td>12.0</td>\n",
       "      <td>10.0</td>\n",
       "      <td>14.0</td>\n",
       "      <td>12.0</td>\n",
       "      <td>€42.5M</td>\n",
       "    </tr>\n",
       "    <tr>\n",
       "      <th>613</th>\n",
       "      <td>613</td>\n",
       "      <td>205192</td>\n",
       "      <td>Denis Suárez</td>\n",
       "      <td>24</td>\n",
       "      <td>https://cdn.sofifa.org/players/4/19/205192.png</td>\n",
       "      <td>Spain</td>\n",
       "      <td>https://cdn.sofifa.org/flags/45.png</td>\n",
       "      <td>79</td>\n",
       "      <td>86</td>\n",
       "      <td>FC Barcelona</td>\n",
       "      <td>...</td>\n",
       "      <td>70.0</td>\n",
       "      <td>69.0</td>\n",
       "      <td>59.0</td>\n",
       "      <td>42.0</td>\n",
       "      <td>10.0</td>\n",
       "      <td>14.0</td>\n",
       "      <td>10.0</td>\n",
       "      <td>7.0</td>\n",
       "      <td>7.0</td>\n",
       "      <td>€39.4M</td>\n",
       "    </tr>\n",
       "    <tr>\n",
       "      <th>1007</th>\n",
       "      <td>1007</td>\n",
       "      <td>220253</td>\n",
       "      <td>Munir</td>\n",
       "      <td>22</td>\n",
       "      <td>https://cdn.sofifa.org/players/4/19/220253.png</td>\n",
       "      <td>Spain</td>\n",
       "      <td>https://cdn.sofifa.org/flags/45.png</td>\n",
       "      <td>77</td>\n",
       "      <td>83</td>\n",
       "      <td>FC Barcelona</td>\n",
       "      <td>...</td>\n",
       "      <td>76.0</td>\n",
       "      <td>38.0</td>\n",
       "      <td>24.0</td>\n",
       "      <td>22.0</td>\n",
       "      <td>9.0</td>\n",
       "      <td>12.0</td>\n",
       "      <td>6.0</td>\n",
       "      <td>13.0</td>\n",
       "      <td>16.0</td>\n",
       "      <td>€28.1M</td>\n",
       "    </tr>\n",
       "    <tr>\n",
       "      <th>1037</th>\n",
       "      <td>1037</td>\n",
       "      <td>157304</td>\n",
       "      <td>T. Vermaelen</td>\n",
       "      <td>32</td>\n",
       "      <td>https://cdn.sofifa.org/players/4/19/157304.png</td>\n",
       "      <td>Belgium</td>\n",
       "      <td>https://cdn.sofifa.org/flags/7.png</td>\n",
       "      <td>77</td>\n",
       "      <td>77</td>\n",
       "      <td>FC Barcelona</td>\n",
       "      <td>...</td>\n",
       "      <td>72.0</td>\n",
       "      <td>72.0</td>\n",
       "      <td>79.0</td>\n",
       "      <td>80.0</td>\n",
       "      <td>9.0</td>\n",
       "      <td>10.0</td>\n",
       "      <td>7.0</td>\n",
       "      <td>11.0</td>\n",
       "      <td>15.0</td>\n",
       "      <td>€10.3M</td>\n",
       "    </tr>\n",
       "    <tr>\n",
       "      <th>3118</th>\n",
       "      <td>3118</td>\n",
       "      <td>208088</td>\n",
       "      <td>Sergi Samper</td>\n",
       "      <td>23</td>\n",
       "      <td>https://cdn.sofifa.org/players/4/19/208088.png</td>\n",
       "      <td>Spain</td>\n",
       "      <td>https://cdn.sofifa.org/flags/45.png</td>\n",
       "      <td>73</td>\n",
       "      <td>80</td>\n",
       "      <td>FC Barcelona</td>\n",
       "      <td>...</td>\n",
       "      <td>75.0</td>\n",
       "      <td>75.0</td>\n",
       "      <td>71.0</td>\n",
       "      <td>62.0</td>\n",
       "      <td>12.0</td>\n",
       "      <td>10.0</td>\n",
       "      <td>13.0</td>\n",
       "      <td>11.0</td>\n",
       "      <td>6.0</td>\n",
       "      <td>€10.8M</td>\n",
       "    </tr>\n",
       "    <tr>\n",
       "      <th>3684</th>\n",
       "      <td>3684</td>\n",
       "      <td>233113</td>\n",
       "      <td>Aleñá</td>\n",
       "      <td>20</td>\n",
       "      <td>https://cdn.sofifa.org/players/4/19/233113.png</td>\n",
       "      <td>Spain</td>\n",
       "      <td>https://cdn.sofifa.org/flags/45.png</td>\n",
       "      <td>72</td>\n",
       "      <td>85</td>\n",
       "      <td>FC Barcelona</td>\n",
       "      <td>...</td>\n",
       "      <td>70.0</td>\n",
       "      <td>70.0</td>\n",
       "      <td>62.0</td>\n",
       "      <td>48.0</td>\n",
       "      <td>12.0</td>\n",
       "      <td>9.0</td>\n",
       "      <td>10.0</td>\n",
       "      <td>8.0</td>\n",
       "      <td>12.0</td>\n",
       "      <td>€16.1M</td>\n",
       "    </tr>\n",
       "    <tr>\n",
       "      <th>6000</th>\n",
       "      <td>6000</td>\n",
       "      <td>237156</td>\n",
       "      <td>M. Wagué</td>\n",
       "      <td>19</td>\n",
       "      <td>https://cdn.sofifa.org/players/4/19/237156.png</td>\n",
       "      <td>Senegal</td>\n",
       "      <td>https://cdn.sofifa.org/flags/136.png</td>\n",
       "      <td>69</td>\n",
       "      <td>81</td>\n",
       "      <td>FC Barcelona</td>\n",
       "      <td>...</td>\n",
       "      <td>66.0</td>\n",
       "      <td>61.0</td>\n",
       "      <td>68.0</td>\n",
       "      <td>68.0</td>\n",
       "      <td>11.0</td>\n",
       "      <td>10.0</td>\n",
       "      <td>12.0</td>\n",
       "      <td>15.0</td>\n",
       "      <td>15.0</td>\n",
       "      <td>€3.6M</td>\n",
       "    </tr>\n",
       "    <tr>\n",
       "      <th>6102</th>\n",
       "      <td>6102</td>\n",
       "      <td>242816</td>\n",
       "      <td>Riqui Puig</td>\n",
       "      <td>18</td>\n",
       "      <td>https://cdn.sofifa.org/players/4/19/242816.png</td>\n",
       "      <td>Spain</td>\n",
       "      <td>https://cdn.sofifa.org/flags/45.png</td>\n",
       "      <td>69</td>\n",
       "      <td>89</td>\n",
       "      <td>FC Barcelona</td>\n",
       "      <td>...</td>\n",
       "      <td>70.0</td>\n",
       "      <td>53.0</td>\n",
       "      <td>57.0</td>\n",
       "      <td>53.0</td>\n",
       "      <td>12.0</td>\n",
       "      <td>15.0</td>\n",
       "      <td>14.0</td>\n",
       "      <td>12.0</td>\n",
       "      <td>9.0</td>\n",
       "      <td>€6.5M</td>\n",
       "    </tr>\n",
       "    <tr>\n",
       "      <th>8284</th>\n",
       "      <td>8284</td>\n",
       "      <td>239249</td>\n",
       "      <td>Oriol Busquets</td>\n",
       "      <td>19</td>\n",
       "      <td>https://cdn.sofifa.org/players/4/19/239249.png</td>\n",
       "      <td>Spain</td>\n",
       "      <td>https://cdn.sofifa.org/flags/45.png</td>\n",
       "      <td>67</td>\n",
       "      <td>82</td>\n",
       "      <td>FC Barcelona</td>\n",
       "      <td>...</td>\n",
       "      <td>70.0</td>\n",
       "      <td>64.0</td>\n",
       "      <td>63.0</td>\n",
       "      <td>61.0</td>\n",
       "      <td>9.0</td>\n",
       "      <td>6.0</td>\n",
       "      <td>5.0</td>\n",
       "      <td>10.0</td>\n",
       "      <td>12.0</td>\n",
       "      <td>€4M</td>\n",
       "    </tr>\n",
       "    <tr>\n",
       "      <th>8289</th>\n",
       "      <td>8289</td>\n",
       "      <td>239250</td>\n",
       "      <td>Abel Ruiz</td>\n",
       "      <td>18</td>\n",
       "      <td>https://cdn.sofifa.org/players/4/19/239250.png</td>\n",
       "      <td>Spain</td>\n",
       "      <td>https://cdn.sofifa.org/flags/45.png</td>\n",
       "      <td>67</td>\n",
       "      <td>83</td>\n",
       "      <td>FC Barcelona</td>\n",
       "      <td>...</td>\n",
       "      <td>57.0</td>\n",
       "      <td>45.0</td>\n",
       "      <td>12.0</td>\n",
       "      <td>12.0</td>\n",
       "      <td>6.0</td>\n",
       "      <td>10.0</td>\n",
       "      <td>10.0</td>\n",
       "      <td>10.0</td>\n",
       "      <td>8.0</td>\n",
       "      <td>€4.2M</td>\n",
       "    </tr>\n",
       "    <tr>\n",
       "      <th>8857</th>\n",
       "      <td>8857</td>\n",
       "      <td>240915</td>\n",
       "      <td>Miranda</td>\n",
       "      <td>18</td>\n",
       "      <td>https://cdn.sofifa.org/players/4/19/240915.png</td>\n",
       "      <td>Spain</td>\n",
       "      <td>https://cdn.sofifa.org/flags/45.png</td>\n",
       "      <td>66</td>\n",
       "      <td>81</td>\n",
       "      <td>FC Barcelona</td>\n",
       "      <td>...</td>\n",
       "      <td>59.0</td>\n",
       "      <td>64.0</td>\n",
       "      <td>69.0</td>\n",
       "      <td>67.0</td>\n",
       "      <td>11.0</td>\n",
       "      <td>8.0</td>\n",
       "      <td>12.0</td>\n",
       "      <td>9.0</td>\n",
       "      <td>6.0</td>\n",
       "      <td>€3.2M</td>\n",
       "    </tr>\n",
       "    <tr>\n",
       "      <th>10526</th>\n",
       "      <td>10526</td>\n",
       "      <td>241810</td>\n",
       "      <td>Chumi</td>\n",
       "      <td>19</td>\n",
       "      <td>https://cdn.sofifa.org/players/4/19/241810.png</td>\n",
       "      <td>Spain</td>\n",
       "      <td>https://cdn.sofifa.org/flags/45.png</td>\n",
       "      <td>65</td>\n",
       "      <td>82</td>\n",
       "      <td>FC Barcelona</td>\n",
       "      <td>...</td>\n",
       "      <td>62.0</td>\n",
       "      <td>70.0</td>\n",
       "      <td>65.0</td>\n",
       "      <td>63.0</td>\n",
       "      <td>7.0</td>\n",
       "      <td>14.0</td>\n",
       "      <td>9.0</td>\n",
       "      <td>11.0</td>\n",
       "      <td>14.0</td>\n",
       "      <td>€2.8M</td>\n",
       "    </tr>\n",
       "    <tr>\n",
       "      <th>10777</th>\n",
       "      <td>10777</td>\n",
       "      <td>237522</td>\n",
       "      <td>Jorge Cuenca</td>\n",
       "      <td>18</td>\n",
       "      <td>https://cdn.sofifa.org/players/4/19/237522.png</td>\n",
       "      <td>Spain</td>\n",
       "      <td>https://cdn.sofifa.org/flags/45.png</td>\n",
       "      <td>65</td>\n",
       "      <td>78</td>\n",
       "      <td>FC Barcelona</td>\n",
       "      <td>...</td>\n",
       "      <td>57.0</td>\n",
       "      <td>62.0</td>\n",
       "      <td>66.0</td>\n",
       "      <td>63.0</td>\n",
       "      <td>10.0</td>\n",
       "      <td>12.0</td>\n",
       "      <td>5.0</td>\n",
       "      <td>14.0</td>\n",
       "      <td>12.0</td>\n",
       "      <td>€2.3M</td>\n",
       "    </tr>\n",
       "    <tr>\n",
       "      <th>11300</th>\n",
       "      <td>11300</td>\n",
       "      <td>246599</td>\n",
       "      <td>Guillem Jaime</td>\n",
       "      <td>19</td>\n",
       "      <td>https://cdn.sofifa.org/players/4/19/246599.png</td>\n",
       "      <td>Spain</td>\n",
       "      <td>https://cdn.sofifa.org/flags/45.png</td>\n",
       "      <td>64</td>\n",
       "      <td>80</td>\n",
       "      <td>FC Barcelona</td>\n",
       "      <td>...</td>\n",
       "      <td>66.0</td>\n",
       "      <td>52.0</td>\n",
       "      <td>55.0</td>\n",
       "      <td>56.0</td>\n",
       "      <td>9.0</td>\n",
       "      <td>11.0</td>\n",
       "      <td>12.0</td>\n",
       "      <td>10.0</td>\n",
       "      <td>6.0</td>\n",
       "      <td>€2.6M</td>\n",
       "    </tr>\n",
       "    <tr>\n",
       "      <th>12502</th>\n",
       "      <td>12502</td>\n",
       "      <td>225395</td>\n",
       "      <td>Ezkieta</td>\n",
       "      <td>21</td>\n",
       "      <td>https://cdn.sofifa.org/players/4/19/225395.png</td>\n",
       "      <td>Spain</td>\n",
       "      <td>https://cdn.sofifa.org/flags/45.png</td>\n",
       "      <td>63</td>\n",
       "      <td>75</td>\n",
       "      <td>FC Barcelona</td>\n",
       "      <td>...</td>\n",
       "      <td>33.0</td>\n",
       "      <td>13.0</td>\n",
       "      <td>17.0</td>\n",
       "      <td>15.0</td>\n",
       "      <td>65.0</td>\n",
       "      <td>58.0</td>\n",
       "      <td>59.0</td>\n",
       "      <td>59.0</td>\n",
       "      <td>64.0</td>\n",
       "      <td>€1.2M</td>\n",
       "    </tr>\n",
       "    <tr>\n",
       "      <th>14286</th>\n",
       "      <td>14286</td>\n",
       "      <td>246139</td>\n",
       "      <td>Iñaki Peña</td>\n",
       "      <td>19</td>\n",
       "      <td>https://cdn.sofifa.org/players/4/19/246139.png</td>\n",
       "      <td>Spain</td>\n",
       "      <td>https://cdn.sofifa.org/flags/45.png</td>\n",
       "      <td>61</td>\n",
       "      <td>78</td>\n",
       "      <td>FC Barcelona</td>\n",
       "      <td>...</td>\n",
       "      <td>38.0</td>\n",
       "      <td>9.0</td>\n",
       "      <td>10.0</td>\n",
       "      <td>11.0</td>\n",
       "      <td>63.0</td>\n",
       "      <td>57.0</td>\n",
       "      <td>64.0</td>\n",
       "      <td>57.0</td>\n",
       "      <td>62.0</td>\n",
       "      <td>€1.2M</td>\n",
       "    </tr>\n",
       "  </tbody>\n",
       "</table>\n",
       "<p>33 rows × 89 columns</p>\n",
       "</div>"
      ],
      "text/plain": [
       "       Unnamed: 0      ID             Name  Age  \\\n",
       "0               0  158023         L. Messi   31   \n",
       "7               7  176580        L. Suárez   31   \n",
       "18             18  192448    M. ter Stegen   26   \n",
       "20             20  189511  Sergio Busquets   29   \n",
       "32             32  189242         Coutinho   26   \n",
       "42             42  205600        S. Umtiti   24   \n",
       "49             49  189332       Jordi Alba   29   \n",
       "53             53  168651       I. Rakitić   30   \n",
       "54             54  152729            Piqué   31   \n",
       "96             96  181872         A. Vidal   31   \n",
       "155           155  231443       O. Dembélé   21   \n",
       "192           192  199564    Sergi Roberto   26   \n",
       "228           228  230658           Arthur   21   \n",
       "236           236  222737           Malcom   21   \n",
       "239           239  220440       C. Lenglet   23   \n",
       "263           263  201400          Rafinha   25   \n",
       "266           266  199987     J. Cillessen   29   \n",
       "324           324  227928    Nélson Semedo   24   \n",
       "613           613  205192     Denis Suárez   24   \n",
       "1007         1007  220253            Munir   22   \n",
       "1037         1037  157304     T. Vermaelen   32   \n",
       "3118         3118  208088     Sergi Samper   23   \n",
       "3684         3684  233113            Aleñá   20   \n",
       "6000         6000  237156         M. Wagué   19   \n",
       "6102         6102  242816       Riqui Puig   18   \n",
       "8284         8284  239249   Oriol Busquets   19   \n",
       "8289         8289  239250        Abel Ruiz   18   \n",
       "8857         8857  240915          Miranda   18   \n",
       "10526       10526  241810            Chumi   19   \n",
       "10777       10777  237522     Jorge Cuenca   18   \n",
       "11300       11300  246599    Guillem Jaime   19   \n",
       "12502       12502  225395          Ezkieta   21   \n",
       "14286       14286  246139       Iñaki Peña   19   \n",
       "\n",
       "                                                Photo  Nationality  \\\n",
       "0      https://cdn.sofifa.org/players/4/19/158023.png    Argentina   \n",
       "7      https://cdn.sofifa.org/players/4/19/176580.png      Uruguay   \n",
       "18     https://cdn.sofifa.org/players/4/19/192448.png      Germany   \n",
       "20     https://cdn.sofifa.org/players/4/19/189511.png        Spain   \n",
       "32     https://cdn.sofifa.org/players/4/19/189242.png       Brazil   \n",
       "42     https://cdn.sofifa.org/players/4/19/205600.png       France   \n",
       "49     https://cdn.sofifa.org/players/4/19/189332.png        Spain   \n",
       "53     https://cdn.sofifa.org/players/4/19/168651.png      Croatia   \n",
       "54     https://cdn.sofifa.org/players/4/19/152729.png        Spain   \n",
       "96     https://cdn.sofifa.org/players/4/19/181872.png        Chile   \n",
       "155    https://cdn.sofifa.org/players/4/19/231443.png       France   \n",
       "192    https://cdn.sofifa.org/players/4/19/199564.png        Spain   \n",
       "228    https://cdn.sofifa.org/players/4/19/230658.png       Brazil   \n",
       "236    https://cdn.sofifa.org/players/4/19/222737.png       Brazil   \n",
       "239    https://cdn.sofifa.org/players/4/19/220440.png       France   \n",
       "263    https://cdn.sofifa.org/players/4/19/201400.png       Brazil   \n",
       "266    https://cdn.sofifa.org/players/4/19/199987.png  Netherlands   \n",
       "324    https://cdn.sofifa.org/players/4/19/227928.png     Portugal   \n",
       "613    https://cdn.sofifa.org/players/4/19/205192.png        Spain   \n",
       "1007   https://cdn.sofifa.org/players/4/19/220253.png        Spain   \n",
       "1037   https://cdn.sofifa.org/players/4/19/157304.png      Belgium   \n",
       "3118   https://cdn.sofifa.org/players/4/19/208088.png        Spain   \n",
       "3684   https://cdn.sofifa.org/players/4/19/233113.png        Spain   \n",
       "6000   https://cdn.sofifa.org/players/4/19/237156.png      Senegal   \n",
       "6102   https://cdn.sofifa.org/players/4/19/242816.png        Spain   \n",
       "8284   https://cdn.sofifa.org/players/4/19/239249.png        Spain   \n",
       "8289   https://cdn.sofifa.org/players/4/19/239250.png        Spain   \n",
       "8857   https://cdn.sofifa.org/players/4/19/240915.png        Spain   \n",
       "10526  https://cdn.sofifa.org/players/4/19/241810.png        Spain   \n",
       "10777  https://cdn.sofifa.org/players/4/19/237522.png        Spain   \n",
       "11300  https://cdn.sofifa.org/players/4/19/246599.png        Spain   \n",
       "12502  https://cdn.sofifa.org/players/4/19/225395.png        Spain   \n",
       "14286  https://cdn.sofifa.org/players/4/19/246139.png        Spain   \n",
       "\n",
       "                                       Flag  Overall  Potential          Club  \\\n",
       "0       https://cdn.sofifa.org/flags/52.png       94         94  FC Barcelona   \n",
       "7       https://cdn.sofifa.org/flags/60.png       91         91  FC Barcelona   \n",
       "18      https://cdn.sofifa.org/flags/21.png       89         92  FC Barcelona   \n",
       "20      https://cdn.sofifa.org/flags/45.png       89         89  FC Barcelona   \n",
       "32      https://cdn.sofifa.org/flags/54.png       88         89  FC Barcelona   \n",
       "42      https://cdn.sofifa.org/flags/18.png       87         92  FC Barcelona   \n",
       "49      https://cdn.sofifa.org/flags/45.png       87         87  FC Barcelona   \n",
       "53      https://cdn.sofifa.org/flags/10.png       87         87  FC Barcelona   \n",
       "54      https://cdn.sofifa.org/flags/45.png       87         87  FC Barcelona   \n",
       "96      https://cdn.sofifa.org/flags/55.png       85         85  FC Barcelona   \n",
       "155     https://cdn.sofifa.org/flags/18.png       83         92  FC Barcelona   \n",
       "192     https://cdn.sofifa.org/flags/45.png       83         86  FC Barcelona   \n",
       "228     https://cdn.sofifa.org/flags/54.png       82         90  FC Barcelona   \n",
       "236     https://cdn.sofifa.org/flags/54.png       82         89  FC Barcelona   \n",
       "239     https://cdn.sofifa.org/flags/18.png       82         88  FC Barcelona   \n",
       "263     https://cdn.sofifa.org/flags/54.png       82         87  FC Barcelona   \n",
       "266     https://cdn.sofifa.org/flags/34.png       82         84  FC Barcelona   \n",
       "324     https://cdn.sofifa.org/flags/38.png       81         86  FC Barcelona   \n",
       "613     https://cdn.sofifa.org/flags/45.png       79         86  FC Barcelona   \n",
       "1007    https://cdn.sofifa.org/flags/45.png       77         83  FC Barcelona   \n",
       "1037     https://cdn.sofifa.org/flags/7.png       77         77  FC Barcelona   \n",
       "3118    https://cdn.sofifa.org/flags/45.png       73         80  FC Barcelona   \n",
       "3684    https://cdn.sofifa.org/flags/45.png       72         85  FC Barcelona   \n",
       "6000   https://cdn.sofifa.org/flags/136.png       69         81  FC Barcelona   \n",
       "6102    https://cdn.sofifa.org/flags/45.png       69         89  FC Barcelona   \n",
       "8284    https://cdn.sofifa.org/flags/45.png       67         82  FC Barcelona   \n",
       "8289    https://cdn.sofifa.org/flags/45.png       67         83  FC Barcelona   \n",
       "8857    https://cdn.sofifa.org/flags/45.png       66         81  FC Barcelona   \n",
       "10526   https://cdn.sofifa.org/flags/45.png       65         82  FC Barcelona   \n",
       "10777   https://cdn.sofifa.org/flags/45.png       65         78  FC Barcelona   \n",
       "11300   https://cdn.sofifa.org/flags/45.png       64         80  FC Barcelona   \n",
       "12502   https://cdn.sofifa.org/flags/45.png       63         75  FC Barcelona   \n",
       "14286   https://cdn.sofifa.org/flags/45.png       61         78  FC Barcelona   \n",
       "\n",
       "       ... Composure Marking StandingTackle  SlidingTackle GKDiving  \\\n",
       "0      ...      96.0    33.0           28.0           26.0      6.0   \n",
       "7      ...      85.0    62.0           45.0           38.0     27.0   \n",
       "18     ...      69.0    25.0           13.0           10.0     87.0   \n",
       "20     ...      90.0    90.0           86.0           80.0      5.0   \n",
       "32     ...      85.0    55.0           54.0           47.0     12.0   \n",
       "42     ...      82.0    90.0           89.0           86.0     15.0   \n",
       "49     ...      79.0    72.0           84.0           85.0     13.0   \n",
       "53     ...      81.0    72.0           74.0           70.0     14.0   \n",
       "54     ...      86.0    91.0           86.0           84.0     10.0   \n",
       "96     ...      81.0    82.0           87.0           86.0      4.0   \n",
       "155    ...      75.0    42.0           30.0           33.0      6.0   \n",
       "192    ...      76.0    75.0           83.0           83.0     14.0   \n",
       "228    ...      84.0    65.0           76.0           70.0      6.0   \n",
       "236    ...      78.0    21.0           28.0           17.0      8.0   \n",
       "239    ...      74.0    85.0           82.0           81.0     10.0   \n",
       "263    ...      80.0    68.0           74.0           66.0     11.0   \n",
       "266    ...      61.0    18.0           12.0           11.0     80.0   \n",
       "324    ...      75.0    75.0           78.0           79.0     16.0   \n",
       "613    ...      70.0    69.0           59.0           42.0     10.0   \n",
       "1007   ...      76.0    38.0           24.0           22.0      9.0   \n",
       "1037   ...      72.0    72.0           79.0           80.0      9.0   \n",
       "3118   ...      75.0    75.0           71.0           62.0     12.0   \n",
       "3684   ...      70.0    70.0           62.0           48.0     12.0   \n",
       "6000   ...      66.0    61.0           68.0           68.0     11.0   \n",
       "6102   ...      70.0    53.0           57.0           53.0     12.0   \n",
       "8284   ...      70.0    64.0           63.0           61.0      9.0   \n",
       "8289   ...      57.0    45.0           12.0           12.0      6.0   \n",
       "8857   ...      59.0    64.0           69.0           67.0     11.0   \n",
       "10526  ...      62.0    70.0           65.0           63.0      7.0   \n",
       "10777  ...      57.0    62.0           66.0           63.0     10.0   \n",
       "11300  ...      66.0    52.0           55.0           56.0      9.0   \n",
       "12502  ...      33.0    13.0           17.0           15.0     65.0   \n",
       "14286  ...      38.0     9.0           10.0           11.0     63.0   \n",
       "\n",
       "       GKHandling  GKKicking  GKPositioning GKReflexes Release Clause  \n",
       "0            11.0       15.0           14.0        8.0        €226.5M  \n",
       "7            25.0       31.0           33.0       37.0          €164M  \n",
       "18           85.0       88.0           85.0       90.0        €123.3M  \n",
       "20            8.0       13.0            9.0       13.0        €105.6M  \n",
       "32            7.0        9.0           14.0        6.0        €147.7M  \n",
       "42           10.0       14.0           12.0       15.0        €121.1M  \n",
       "49           15.0       13.0            6.0       13.0         €77.9M  \n",
       "53           11.0       12.0            5.0        9.0         €95.3M  \n",
       "54           11.0       14.0           15.0        8.0         €69.7M  \n",
       "96            2.0        4.0            2.0        4.0         €53.3M  \n",
       "155           6.0       14.0           10.0       13.0           €90M  \n",
       "192          16.0       11.0           15.0       10.0         €56.3M  \n",
       "228          13.0       13.0           11.0       12.0         €73.1M  \n",
       "236          14.0       15.0            7.0        9.0         €70.9M  \n",
       "239          10.0        9.0           12.0        7.0         €58.5M  \n",
       "263           6.0       15.0           13.0        7.0         €62.7M  \n",
       "266          83.0       75.0           81.0       80.0         €38.3M  \n",
       "324          12.0       10.0           14.0       12.0         €42.5M  \n",
       "613          14.0       10.0            7.0        7.0         €39.4M  \n",
       "1007         12.0        6.0           13.0       16.0         €28.1M  \n",
       "1037         10.0        7.0           11.0       15.0         €10.3M  \n",
       "3118         10.0       13.0           11.0        6.0         €10.8M  \n",
       "3684          9.0       10.0            8.0       12.0         €16.1M  \n",
       "6000         10.0       12.0           15.0       15.0          €3.6M  \n",
       "6102         15.0       14.0           12.0        9.0          €6.5M  \n",
       "8284          6.0        5.0           10.0       12.0            €4M  \n",
       "8289         10.0       10.0           10.0        8.0          €4.2M  \n",
       "8857          8.0       12.0            9.0        6.0          €3.2M  \n",
       "10526        14.0        9.0           11.0       14.0          €2.8M  \n",
       "10777        12.0        5.0           14.0       12.0          €2.3M  \n",
       "11300        11.0       12.0           10.0        6.0          €2.6M  \n",
       "12502        58.0       59.0           59.0       64.0          €1.2M  \n",
       "14286        57.0       64.0           57.0       62.0          €1.2M  \n",
       "\n",
       "[33 rows x 89 columns]"
      ]
     },
     "execution_count": 129,
     "metadata": {},
     "output_type": "execute_result"
    }
   ],
   "source": [
    "df[df['Club'] == 'FC Barcelona']"
   ]
  },
  {
   "cell_type": "code",
   "execution_count": 130,
   "id": "527862ed",
   "metadata": {},
   "outputs": [
    {
     "data": {
      "text/html": [
       "<div>\n",
       "<style scoped>\n",
       "    .dataframe tbody tr th:only-of-type {\n",
       "        vertical-align: middle;\n",
       "    }\n",
       "\n",
       "    .dataframe tbody tr th {\n",
       "        vertical-align: top;\n",
       "    }\n",
       "\n",
       "    .dataframe thead th {\n",
       "        text-align: right;\n",
       "    }\n",
       "</style>\n",
       "<table border=\"1\" class=\"dataframe\">\n",
       "  <thead>\n",
       "    <tr style=\"text-align: right;\">\n",
       "      <th></th>\n",
       "      <th>Unnamed: 0</th>\n",
       "      <th>ID</th>\n",
       "      <th>Name</th>\n",
       "      <th>Age</th>\n",
       "      <th>Photo</th>\n",
       "      <th>Nationality</th>\n",
       "      <th>Flag</th>\n",
       "      <th>Overall</th>\n",
       "      <th>Potential</th>\n",
       "      <th>Club</th>\n",
       "      <th>...</th>\n",
       "      <th>Composure</th>\n",
       "      <th>Marking</th>\n",
       "      <th>StandingTackle</th>\n",
       "      <th>SlidingTackle</th>\n",
       "      <th>GKDiving</th>\n",
       "      <th>GKHandling</th>\n",
       "      <th>GKKicking</th>\n",
       "      <th>GKPositioning</th>\n",
       "      <th>GKReflexes</th>\n",
       "      <th>Release Clause</th>\n",
       "    </tr>\n",
       "  </thead>\n",
       "  <tbody>\n",
       "    <tr>\n",
       "      <th>0</th>\n",
       "      <td>0</td>\n",
       "      <td>158023</td>\n",
       "      <td>L. Messi</td>\n",
       "      <td>31</td>\n",
       "      <td>https://cdn.sofifa.org/players/4/19/158023.png</td>\n",
       "      <td>Argentina</td>\n",
       "      <td>https://cdn.sofifa.org/flags/52.png</td>\n",
       "      <td>94</td>\n",
       "      <td>94</td>\n",
       "      <td>FC Barcelona</td>\n",
       "      <td>...</td>\n",
       "      <td>96.0</td>\n",
       "      <td>33.0</td>\n",
       "      <td>28.0</td>\n",
       "      <td>26.0</td>\n",
       "      <td>6.0</td>\n",
       "      <td>11.0</td>\n",
       "      <td>15.0</td>\n",
       "      <td>14.0</td>\n",
       "      <td>8.0</td>\n",
       "      <td>€226.5M</td>\n",
       "    </tr>\n",
       "    <tr>\n",
       "      <th>1</th>\n",
       "      <td>1</td>\n",
       "      <td>20801</td>\n",
       "      <td>Cristiano Ronaldo</td>\n",
       "      <td>33</td>\n",
       "      <td>https://cdn.sofifa.org/players/4/19/20801.png</td>\n",
       "      <td>Portugal</td>\n",
       "      <td>https://cdn.sofifa.org/flags/38.png</td>\n",
       "      <td>94</td>\n",
       "      <td>94</td>\n",
       "      <td>Juventus</td>\n",
       "      <td>...</td>\n",
       "      <td>95.0</td>\n",
       "      <td>28.0</td>\n",
       "      <td>31.0</td>\n",
       "      <td>23.0</td>\n",
       "      <td>7.0</td>\n",
       "      <td>11.0</td>\n",
       "      <td>15.0</td>\n",
       "      <td>14.0</td>\n",
       "      <td>11.0</td>\n",
       "      <td>€127.1M</td>\n",
       "    </tr>\n",
       "  </tbody>\n",
       "</table>\n",
       "<p>2 rows × 89 columns</p>\n",
       "</div>"
      ],
      "text/plain": [
       "   Unnamed: 0      ID               Name  Age  \\\n",
       "0           0  158023           L. Messi   31   \n",
       "1           1   20801  Cristiano Ronaldo   33   \n",
       "\n",
       "                                            Photo Nationality  \\\n",
       "0  https://cdn.sofifa.org/players/4/19/158023.png   Argentina   \n",
       "1   https://cdn.sofifa.org/players/4/19/20801.png    Portugal   \n",
       "\n",
       "                                  Flag  Overall  Potential          Club  ...  \\\n",
       "0  https://cdn.sofifa.org/flags/52.png       94         94  FC Barcelona  ...   \n",
       "1  https://cdn.sofifa.org/flags/38.png       94         94      Juventus  ...   \n",
       "\n",
       "  Composure Marking StandingTackle  SlidingTackle GKDiving  GKHandling  \\\n",
       "0      96.0    33.0           28.0           26.0      6.0        11.0   \n",
       "1      95.0    28.0           31.0           23.0      7.0        11.0   \n",
       "\n",
       "   GKKicking  GKPositioning GKReflexes Release Clause  \n",
       "0       15.0           14.0        8.0        €226.5M  \n",
       "1       15.0           14.0       11.0        €127.1M  \n",
       "\n",
       "[2 rows x 89 columns]"
      ]
     },
     "execution_count": 130,
     "metadata": {},
     "output_type": "execute_result"
    }
   ],
   "source": [
    "df[df['Overall']== df['Overall'].max()]"
   ]
  },
  {
   "cell_type": "code",
   "execution_count": 131,
   "id": "bea211d4",
   "metadata": {},
   "outputs": [
    {
     "data": {
      "text/html": [
       "<div>\n",
       "<style scoped>\n",
       "    .dataframe tbody tr th:only-of-type {\n",
       "        vertical-align: middle;\n",
       "    }\n",
       "\n",
       "    .dataframe tbody tr th {\n",
       "        vertical-align: top;\n",
       "    }\n",
       "\n",
       "    .dataframe thead th {\n",
       "        text-align: right;\n",
       "    }\n",
       "</style>\n",
       "<table border=\"1\" class=\"dataframe\">\n",
       "  <thead>\n",
       "    <tr style=\"text-align: right;\">\n",
       "      <th></th>\n",
       "      <th>Unnamed: 0</th>\n",
       "      <th>ID</th>\n",
       "      <th>Name</th>\n",
       "      <th>Age</th>\n",
       "      <th>Photo</th>\n",
       "      <th>Nationality</th>\n",
       "      <th>Flag</th>\n",
       "      <th>Overall</th>\n",
       "      <th>Potential</th>\n",
       "      <th>Club</th>\n",
       "      <th>...</th>\n",
       "      <th>Composure</th>\n",
       "      <th>Marking</th>\n",
       "      <th>StandingTackle</th>\n",
       "      <th>SlidingTackle</th>\n",
       "      <th>GKDiving</th>\n",
       "      <th>GKHandling</th>\n",
       "      <th>GKKicking</th>\n",
       "      <th>GKPositioning</th>\n",
       "      <th>GKReflexes</th>\n",
       "      <th>Release Clause</th>\n",
       "    </tr>\n",
       "  </thead>\n",
       "  <tbody>\n",
       "    <tr>\n",
       "      <th>18206</th>\n",
       "      <td>18206</td>\n",
       "      <td>246269</td>\n",
       "      <td>G. Nugent</td>\n",
       "      <td>16</td>\n",
       "      <td>https://cdn.sofifa.org/players/4/19/246269.png</td>\n",
       "      <td>England</td>\n",
       "      <td>https://cdn.sofifa.org/flags/14.png</td>\n",
       "      <td>46</td>\n",
       "      <td>66</td>\n",
       "      <td>Tranmere Rovers</td>\n",
       "      <td>...</td>\n",
       "      <td>43.0</td>\n",
       "      <td>40.0</td>\n",
       "      <td>43.0</td>\n",
       "      <td>50.0</td>\n",
       "      <td>10.0</td>\n",
       "      <td>15.0</td>\n",
       "      <td>9.0</td>\n",
       "      <td>12.0</td>\n",
       "      <td>9.0</td>\n",
       "      <td>€165K</td>\n",
       "    </tr>\n",
       "  </tbody>\n",
       "</table>\n",
       "<p>1 rows × 89 columns</p>\n",
       "</div>"
      ],
      "text/plain": [
       "       Unnamed: 0      ID       Name  Age  \\\n",
       "18206       18206  246269  G. Nugent   16   \n",
       "\n",
       "                                                Photo Nationality  \\\n",
       "18206  https://cdn.sofifa.org/players/4/19/246269.png     England   \n",
       "\n",
       "                                      Flag  Overall  Potential  \\\n",
       "18206  https://cdn.sofifa.org/flags/14.png       46         66   \n",
       "\n",
       "                  Club  ... Composure Marking StandingTackle  SlidingTackle  \\\n",
       "18206  Tranmere Rovers  ...      43.0    40.0           43.0           50.0   \n",
       "\n",
       "      GKDiving  GKHandling  GKKicking  GKPositioning GKReflexes Release Clause  \n",
       "18206     10.0        15.0        9.0           12.0        9.0          €165K  \n",
       "\n",
       "[1 rows x 89 columns]"
      ]
     },
     "execution_count": 131,
     "metadata": {},
     "output_type": "execute_result"
    }
   ],
   "source": [
    "df[df['Overall']== df['Overall'].min()]"
   ]
  },
  {
   "cell_type": "code",
   "execution_count": 132,
   "id": "384fef07",
   "metadata": {},
   "outputs": [
    {
     "data": {
      "text/html": [
       "<div>\n",
       "<style scoped>\n",
       "    .dataframe tbody tr th:only-of-type {\n",
       "        vertical-align: middle;\n",
       "    }\n",
       "\n",
       "    .dataframe tbody tr th {\n",
       "        vertical-align: top;\n",
       "    }\n",
       "\n",
       "    .dataframe thead th {\n",
       "        text-align: right;\n",
       "    }\n",
       "</style>\n",
       "<table border=\"1\" class=\"dataframe\">\n",
       "  <thead>\n",
       "    <tr style=\"text-align: right;\">\n",
       "      <th></th>\n",
       "      <th>Unnamed: 0</th>\n",
       "      <th>ID</th>\n",
       "      <th>Name</th>\n",
       "      <th>Age</th>\n",
       "      <th>Photo</th>\n",
       "      <th>Nationality</th>\n",
       "      <th>Flag</th>\n",
       "      <th>Overall</th>\n",
       "      <th>Potential</th>\n",
       "      <th>Club</th>\n",
       "      <th>...</th>\n",
       "      <th>Composure</th>\n",
       "      <th>Marking</th>\n",
       "      <th>StandingTackle</th>\n",
       "      <th>SlidingTackle</th>\n",
       "      <th>GKDiving</th>\n",
       "      <th>GKHandling</th>\n",
       "      <th>GKKicking</th>\n",
       "      <th>GKPositioning</th>\n",
       "      <th>GKReflexes</th>\n",
       "      <th>Release Clause</th>\n",
       "    </tr>\n",
       "  </thead>\n",
       "  <tbody>\n",
       "    <tr>\n",
       "      <th>3</th>\n",
       "      <td>3</td>\n",
       "      <td>193080</td>\n",
       "      <td>De Gea</td>\n",
       "      <td>27</td>\n",
       "      <td>https://cdn.sofifa.org/players/4/19/193080.png</td>\n",
       "      <td>Spain</td>\n",
       "      <td>https://cdn.sofifa.org/flags/45.png</td>\n",
       "      <td>91</td>\n",
       "      <td>93</td>\n",
       "      <td>Manchester United</td>\n",
       "      <td>...</td>\n",
       "      <td>68.0</td>\n",
       "      <td>15.0</td>\n",
       "      <td>21.0</td>\n",
       "      <td>13.0</td>\n",
       "      <td>90.0</td>\n",
       "      <td>85.0</td>\n",
       "      <td>87.0</td>\n",
       "      <td>88.0</td>\n",
       "      <td>94.0</td>\n",
       "      <td>€138.6M</td>\n",
       "    </tr>\n",
       "    <tr>\n",
       "      <th>8</th>\n",
       "      <td>8</td>\n",
       "      <td>155862</td>\n",
       "      <td>Sergio Ramos</td>\n",
       "      <td>32</td>\n",
       "      <td>https://cdn.sofifa.org/players/4/19/155862.png</td>\n",
       "      <td>Spain</td>\n",
       "      <td>https://cdn.sofifa.org/flags/45.png</td>\n",
       "      <td>91</td>\n",
       "      <td>91</td>\n",
       "      <td>Real Madrid</td>\n",
       "      <td>...</td>\n",
       "      <td>82.0</td>\n",
       "      <td>87.0</td>\n",
       "      <td>92.0</td>\n",
       "      <td>91.0</td>\n",
       "      <td>11.0</td>\n",
       "      <td>8.0</td>\n",
       "      <td>9.0</td>\n",
       "      <td>7.0</td>\n",
       "      <td>11.0</td>\n",
       "      <td>€104.6M</td>\n",
       "    </tr>\n",
       "    <tr>\n",
       "      <th>13</th>\n",
       "      <td>13</td>\n",
       "      <td>168542</td>\n",
       "      <td>David Silva</td>\n",
       "      <td>32</td>\n",
       "      <td>https://cdn.sofifa.org/players/4/19/168542.png</td>\n",
       "      <td>Spain</td>\n",
       "      <td>https://cdn.sofifa.org/flags/45.png</td>\n",
       "      <td>90</td>\n",
       "      <td>90</td>\n",
       "      <td>Manchester City</td>\n",
       "      <td>...</td>\n",
       "      <td>93.0</td>\n",
       "      <td>59.0</td>\n",
       "      <td>53.0</td>\n",
       "      <td>29.0</td>\n",
       "      <td>6.0</td>\n",
       "      <td>15.0</td>\n",
       "      <td>7.0</td>\n",
       "      <td>6.0</td>\n",
       "      <td>12.0</td>\n",
       "      <td>€111M</td>\n",
       "    </tr>\n",
       "    <tr>\n",
       "      <th>20</th>\n",
       "      <td>20</td>\n",
       "      <td>189511</td>\n",
       "      <td>Sergio Busquets</td>\n",
       "      <td>29</td>\n",
       "      <td>https://cdn.sofifa.org/players/4/19/189511.png</td>\n",
       "      <td>Spain</td>\n",
       "      <td>https://cdn.sofifa.org/flags/45.png</td>\n",
       "      <td>89</td>\n",
       "      <td>89</td>\n",
       "      <td>FC Barcelona</td>\n",
       "      <td>...</td>\n",
       "      <td>90.0</td>\n",
       "      <td>90.0</td>\n",
       "      <td>86.0</td>\n",
       "      <td>80.0</td>\n",
       "      <td>5.0</td>\n",
       "      <td>8.0</td>\n",
       "      <td>13.0</td>\n",
       "      <td>9.0</td>\n",
       "      <td>13.0</td>\n",
       "      <td>€105.6M</td>\n",
       "    </tr>\n",
       "    <tr>\n",
       "      <th>30</th>\n",
       "      <td>30</td>\n",
       "      <td>197781</td>\n",
       "      <td>Isco</td>\n",
       "      <td>26</td>\n",
       "      <td>https://cdn.sofifa.org/players/4/19/197781.png</td>\n",
       "      <td>Spain</td>\n",
       "      <td>https://cdn.sofifa.org/flags/45.png</td>\n",
       "      <td>88</td>\n",
       "      <td>91</td>\n",
       "      <td>Real Madrid</td>\n",
       "      <td>...</td>\n",
       "      <td>86.0</td>\n",
       "      <td>60.0</td>\n",
       "      <td>64.0</td>\n",
       "      <td>51.0</td>\n",
       "      <td>10.0</td>\n",
       "      <td>8.0</td>\n",
       "      <td>12.0</td>\n",
       "      <td>15.0</td>\n",
       "      <td>6.0</td>\n",
       "      <td>€156.2M</td>\n",
       "    </tr>\n",
       "    <tr>\n",
       "      <th>...</th>\n",
       "      <td>...</td>\n",
       "      <td>...</td>\n",
       "      <td>...</td>\n",
       "      <td>...</td>\n",
       "      <td>...</td>\n",
       "      <td>...</td>\n",
       "      <td>...</td>\n",
       "      <td>...</td>\n",
       "      <td>...</td>\n",
       "      <td>...</td>\n",
       "      <td>...</td>\n",
       "      <td>...</td>\n",
       "      <td>...</td>\n",
       "      <td>...</td>\n",
       "      <td>...</td>\n",
       "      <td>...</td>\n",
       "      <td>...</td>\n",
       "      <td>...</td>\n",
       "      <td>...</td>\n",
       "      <td>...</td>\n",
       "      <td>...</td>\n",
       "    </tr>\n",
       "    <tr>\n",
       "      <th>17043</th>\n",
       "      <td>17043</td>\n",
       "      <td>220190</td>\n",
       "      <td>Cristian Arco</td>\n",
       "      <td>23</td>\n",
       "      <td>https://cdn.sofifa.org/players/4/19/220190.png</td>\n",
       "      <td>Spain</td>\n",
       "      <td>https://cdn.sofifa.org/flags/45.png</td>\n",
       "      <td>55</td>\n",
       "      <td>61</td>\n",
       "      <td>Cádiz CF</td>\n",
       "      <td>...</td>\n",
       "      <td>24.0</td>\n",
       "      <td>12.0</td>\n",
       "      <td>19.0</td>\n",
       "      <td>17.0</td>\n",
       "      <td>56.0</td>\n",
       "      <td>53.0</td>\n",
       "      <td>55.0</td>\n",
       "      <td>53.0</td>\n",
       "      <td>52.0</td>\n",
       "      <td>€162K</td>\n",
       "    </tr>\n",
       "    <tr>\n",
       "      <th>17070</th>\n",
       "      <td>17070</td>\n",
       "      <td>244016</td>\n",
       "      <td>Taliby</td>\n",
       "      <td>21</td>\n",
       "      <td>https://cdn.sofifa.org/players/4/19/244016.png</td>\n",
       "      <td>Spain</td>\n",
       "      <td>https://cdn.sofifa.org/flags/45.png</td>\n",
       "      <td>55</td>\n",
       "      <td>64</td>\n",
       "      <td>CD Numancia</td>\n",
       "      <td>...</td>\n",
       "      <td>35.0</td>\n",
       "      <td>23.0</td>\n",
       "      <td>10.0</td>\n",
       "      <td>12.0</td>\n",
       "      <td>55.0</td>\n",
       "      <td>53.0</td>\n",
       "      <td>51.0</td>\n",
       "      <td>53.0</td>\n",
       "      <td>61.0</td>\n",
       "      <td>€180K</td>\n",
       "    </tr>\n",
       "    <tr>\n",
       "      <th>17116</th>\n",
       "      <td>17116</td>\n",
       "      <td>245597</td>\n",
       "      <td>Víctor Gómez</td>\n",
       "      <td>18</td>\n",
       "      <td>https://cdn.sofifa.org/players/4/19/245597.png</td>\n",
       "      <td>Spain</td>\n",
       "      <td>https://cdn.sofifa.org/flags/45.png</td>\n",
       "      <td>55</td>\n",
       "      <td>73</td>\n",
       "      <td>RCD Espanyol</td>\n",
       "      <td>...</td>\n",
       "      <td>42.0</td>\n",
       "      <td>56.0</td>\n",
       "      <td>48.0</td>\n",
       "      <td>46.0</td>\n",
       "      <td>11.0</td>\n",
       "      <td>9.0</td>\n",
       "      <td>12.0</td>\n",
       "      <td>12.0</td>\n",
       "      <td>6.0</td>\n",
       "      <td>€436K</td>\n",
       "    </tr>\n",
       "    <tr>\n",
       "      <th>17274</th>\n",
       "      <td>17274</td>\n",
       "      <td>243194</td>\n",
       "      <td>Hugo Díaz</td>\n",
       "      <td>21</td>\n",
       "      <td>https://cdn.sofifa.org/players/4/19/243194.png</td>\n",
       "      <td>Spain</td>\n",
       "      <td>https://cdn.sofifa.org/flags/45.png</td>\n",
       "      <td>55</td>\n",
       "      <td>70</td>\n",
       "      <td>Leeds United</td>\n",
       "      <td>...</td>\n",
       "      <td>37.0</td>\n",
       "      <td>60.0</td>\n",
       "      <td>61.0</td>\n",
       "      <td>59.0</td>\n",
       "      <td>15.0</td>\n",
       "      <td>14.0</td>\n",
       "      <td>15.0</td>\n",
       "      <td>8.0</td>\n",
       "      <td>11.0</td>\n",
       "      <td>€455K</td>\n",
       "    </tr>\n",
       "    <tr>\n",
       "      <th>17926</th>\n",
       "      <td>17926</td>\n",
       "      <td>244559</td>\n",
       "      <td>Carlos Mendes Gomes</td>\n",
       "      <td>19</td>\n",
       "      <td>https://cdn.sofifa.org/players/4/19/244559.png</td>\n",
       "      <td>Spain</td>\n",
       "      <td>https://cdn.sofifa.org/flags/45.png</td>\n",
       "      <td>51</td>\n",
       "      <td>61</td>\n",
       "      <td>Morecambe</td>\n",
       "      <td>...</td>\n",
       "      <td>39.0</td>\n",
       "      <td>38.0</td>\n",
       "      <td>27.0</td>\n",
       "      <td>26.0</td>\n",
       "      <td>10.0</td>\n",
       "      <td>6.0</td>\n",
       "      <td>8.0</td>\n",
       "      <td>12.0</td>\n",
       "      <td>11.0</td>\n",
       "      <td>€117K</td>\n",
       "    </tr>\n",
       "  </tbody>\n",
       "</table>\n",
       "<p>1072 rows × 89 columns</p>\n",
       "</div>"
      ],
      "text/plain": [
       "       Unnamed: 0      ID                 Name  Age  \\\n",
       "3               3  193080               De Gea   27   \n",
       "8               8  155862         Sergio Ramos   32   \n",
       "13             13  168542          David Silva   32   \n",
       "20             20  189511      Sergio Busquets   29   \n",
       "30             30  197781                 Isco   26   \n",
       "...           ...     ...                  ...  ...   \n",
       "17043       17043  220190        Cristian Arco   23   \n",
       "17070       17070  244016               Taliby   21   \n",
       "17116       17116  245597         Víctor Gómez   18   \n",
       "17274       17274  243194            Hugo Díaz   21   \n",
       "17926       17926  244559  Carlos Mendes Gomes   19   \n",
       "\n",
       "                                                Photo Nationality  \\\n",
       "3      https://cdn.sofifa.org/players/4/19/193080.png       Spain   \n",
       "8      https://cdn.sofifa.org/players/4/19/155862.png       Spain   \n",
       "13     https://cdn.sofifa.org/players/4/19/168542.png       Spain   \n",
       "20     https://cdn.sofifa.org/players/4/19/189511.png       Spain   \n",
       "30     https://cdn.sofifa.org/players/4/19/197781.png       Spain   \n",
       "...                                               ...         ...   \n",
       "17043  https://cdn.sofifa.org/players/4/19/220190.png       Spain   \n",
       "17070  https://cdn.sofifa.org/players/4/19/244016.png       Spain   \n",
       "17116  https://cdn.sofifa.org/players/4/19/245597.png       Spain   \n",
       "17274  https://cdn.sofifa.org/players/4/19/243194.png       Spain   \n",
       "17926  https://cdn.sofifa.org/players/4/19/244559.png       Spain   \n",
       "\n",
       "                                      Flag  Overall  Potential  \\\n",
       "3      https://cdn.sofifa.org/flags/45.png       91         93   \n",
       "8      https://cdn.sofifa.org/flags/45.png       91         91   \n",
       "13     https://cdn.sofifa.org/flags/45.png       90         90   \n",
       "20     https://cdn.sofifa.org/flags/45.png       89         89   \n",
       "30     https://cdn.sofifa.org/flags/45.png       88         91   \n",
       "...                                    ...      ...        ...   \n",
       "17043  https://cdn.sofifa.org/flags/45.png       55         61   \n",
       "17070  https://cdn.sofifa.org/flags/45.png       55         64   \n",
       "17116  https://cdn.sofifa.org/flags/45.png       55         73   \n",
       "17274  https://cdn.sofifa.org/flags/45.png       55         70   \n",
       "17926  https://cdn.sofifa.org/flags/45.png       51         61   \n",
       "\n",
       "                    Club  ... Composure Marking StandingTackle  SlidingTackle  \\\n",
       "3      Manchester United  ...      68.0    15.0           21.0           13.0   \n",
       "8            Real Madrid  ...      82.0    87.0           92.0           91.0   \n",
       "13       Manchester City  ...      93.0    59.0           53.0           29.0   \n",
       "20          FC Barcelona  ...      90.0    90.0           86.0           80.0   \n",
       "30           Real Madrid  ...      86.0    60.0           64.0           51.0   \n",
       "...                  ...  ...       ...     ...            ...            ...   \n",
       "17043           Cádiz CF  ...      24.0    12.0           19.0           17.0   \n",
       "17070        CD Numancia  ...      35.0    23.0           10.0           12.0   \n",
       "17116       RCD Espanyol  ...      42.0    56.0           48.0           46.0   \n",
       "17274       Leeds United  ...      37.0    60.0           61.0           59.0   \n",
       "17926          Morecambe  ...      39.0    38.0           27.0           26.0   \n",
       "\n",
       "      GKDiving  GKHandling  GKKicking  GKPositioning GKReflexes Release Clause  \n",
       "3         90.0        85.0       87.0           88.0       94.0        €138.6M  \n",
       "8         11.0         8.0        9.0            7.0       11.0        €104.6M  \n",
       "13         6.0        15.0        7.0            6.0       12.0          €111M  \n",
       "20         5.0         8.0       13.0            9.0       13.0        €105.6M  \n",
       "30        10.0         8.0       12.0           15.0        6.0        €156.2M  \n",
       "...        ...         ...        ...            ...        ...            ...  \n",
       "17043     56.0        53.0       55.0           53.0       52.0          €162K  \n",
       "17070     55.0        53.0       51.0           53.0       61.0          €180K  \n",
       "17116     11.0         9.0       12.0           12.0        6.0          €436K  \n",
       "17274     15.0        14.0       15.0            8.0       11.0          €455K  \n",
       "17926     10.0         6.0        8.0           12.0       11.0          €117K  \n",
       "\n",
       "[1072 rows x 89 columns]"
      ]
     },
     "execution_count": 132,
     "metadata": {},
     "output_type": "execute_result"
    }
   ],
   "source": [
    "df[df['Nationality']== 'Spain']"
   ]
  },
  {
   "cell_type": "code",
   "execution_count": 133,
   "id": "21faf830",
   "metadata": {},
   "outputs": [
    {
     "data": {
      "text/html": [
       "<div>\n",
       "<style scoped>\n",
       "    .dataframe tbody tr th:only-of-type {\n",
       "        vertical-align: middle;\n",
       "    }\n",
       "\n",
       "    .dataframe tbody tr th {\n",
       "        vertical-align: top;\n",
       "    }\n",
       "\n",
       "    .dataframe thead th {\n",
       "        text-align: right;\n",
       "    }\n",
       "</style>\n",
       "<table border=\"1\" class=\"dataframe\">\n",
       "  <thead>\n",
       "    <tr style=\"text-align: right;\">\n",
       "      <th></th>\n",
       "      <th>Unnamed: 0</th>\n",
       "      <th>ID</th>\n",
       "      <th>Name</th>\n",
       "      <th>Age</th>\n",
       "      <th>Photo</th>\n",
       "      <th>Nationality</th>\n",
       "      <th>Flag</th>\n",
       "      <th>Overall</th>\n",
       "      <th>Potential</th>\n",
       "      <th>Club</th>\n",
       "      <th>...</th>\n",
       "      <th>Composure</th>\n",
       "      <th>Marking</th>\n",
       "      <th>StandingTackle</th>\n",
       "      <th>SlidingTackle</th>\n",
       "      <th>GKDiving</th>\n",
       "      <th>GKHandling</th>\n",
       "      <th>GKKicking</th>\n",
       "      <th>GKPositioning</th>\n",
       "      <th>GKReflexes</th>\n",
       "      <th>Release Clause</th>\n",
       "    </tr>\n",
       "  </thead>\n",
       "  <tbody>\n",
       "    <tr>\n",
       "      <th>0</th>\n",
       "      <td>0</td>\n",
       "      <td>158023</td>\n",
       "      <td>L. Messi</td>\n",
       "      <td>31</td>\n",
       "      <td>https://cdn.sofifa.org/players/4/19/158023.png</td>\n",
       "      <td>Argentina</td>\n",
       "      <td>https://cdn.sofifa.org/flags/52.png</td>\n",
       "      <td>94</td>\n",
       "      <td>94</td>\n",
       "      <td>FC Barcelona</td>\n",
       "      <td>...</td>\n",
       "      <td>96.0</td>\n",
       "      <td>33.0</td>\n",
       "      <td>28.0</td>\n",
       "      <td>26.0</td>\n",
       "      <td>6.0</td>\n",
       "      <td>11.0</td>\n",
       "      <td>15.0</td>\n",
       "      <td>14.0</td>\n",
       "      <td>8.0</td>\n",
       "      <td>€226.5M</td>\n",
       "    </tr>\n",
       "    <tr>\n",
       "      <th>1</th>\n",
       "      <td>1</td>\n",
       "      <td>20801</td>\n",
       "      <td>Cristiano Ronaldo</td>\n",
       "      <td>33</td>\n",
       "      <td>https://cdn.sofifa.org/players/4/19/20801.png</td>\n",
       "      <td>Portugal</td>\n",
       "      <td>https://cdn.sofifa.org/flags/38.png</td>\n",
       "      <td>94</td>\n",
       "      <td>94</td>\n",
       "      <td>Juventus</td>\n",
       "      <td>...</td>\n",
       "      <td>95.0</td>\n",
       "      <td>28.0</td>\n",
       "      <td>31.0</td>\n",
       "      <td>23.0</td>\n",
       "      <td>7.0</td>\n",
       "      <td>11.0</td>\n",
       "      <td>15.0</td>\n",
       "      <td>14.0</td>\n",
       "      <td>11.0</td>\n",
       "      <td>€127.1M</td>\n",
       "    </tr>\n",
       "    <tr>\n",
       "      <th>2</th>\n",
       "      <td>2</td>\n",
       "      <td>190871</td>\n",
       "      <td>Neymar Jr</td>\n",
       "      <td>26</td>\n",
       "      <td>https://cdn.sofifa.org/players/4/19/190871.png</td>\n",
       "      <td>Brazil</td>\n",
       "      <td>https://cdn.sofifa.org/flags/54.png</td>\n",
       "      <td>92</td>\n",
       "      <td>93</td>\n",
       "      <td>Paris Saint-Germain</td>\n",
       "      <td>...</td>\n",
       "      <td>94.0</td>\n",
       "      <td>27.0</td>\n",
       "      <td>24.0</td>\n",
       "      <td>33.0</td>\n",
       "      <td>9.0</td>\n",
       "      <td>9.0</td>\n",
       "      <td>15.0</td>\n",
       "      <td>15.0</td>\n",
       "      <td>11.0</td>\n",
       "      <td>€228.1M</td>\n",
       "    </tr>\n",
       "    <tr>\n",
       "      <th>3</th>\n",
       "      <td>3</td>\n",
       "      <td>193080</td>\n",
       "      <td>De Gea</td>\n",
       "      <td>27</td>\n",
       "      <td>https://cdn.sofifa.org/players/4/19/193080.png</td>\n",
       "      <td>Spain</td>\n",
       "      <td>https://cdn.sofifa.org/flags/45.png</td>\n",
       "      <td>91</td>\n",
       "      <td>93</td>\n",
       "      <td>Manchester United</td>\n",
       "      <td>...</td>\n",
       "      <td>68.0</td>\n",
       "      <td>15.0</td>\n",
       "      <td>21.0</td>\n",
       "      <td>13.0</td>\n",
       "      <td>90.0</td>\n",
       "      <td>85.0</td>\n",
       "      <td>87.0</td>\n",
       "      <td>88.0</td>\n",
       "      <td>94.0</td>\n",
       "      <td>€138.6M</td>\n",
       "    </tr>\n",
       "    <tr>\n",
       "      <th>4</th>\n",
       "      <td>4</td>\n",
       "      <td>192985</td>\n",
       "      <td>K. De Bruyne</td>\n",
       "      <td>27</td>\n",
       "      <td>https://cdn.sofifa.org/players/4/19/192985.png</td>\n",
       "      <td>Belgium</td>\n",
       "      <td>https://cdn.sofifa.org/flags/7.png</td>\n",
       "      <td>91</td>\n",
       "      <td>92</td>\n",
       "      <td>Manchester City</td>\n",
       "      <td>...</td>\n",
       "      <td>88.0</td>\n",
       "      <td>68.0</td>\n",
       "      <td>58.0</td>\n",
       "      <td>51.0</td>\n",
       "      <td>15.0</td>\n",
       "      <td>13.0</td>\n",
       "      <td>5.0</td>\n",
       "      <td>10.0</td>\n",
       "      <td>13.0</td>\n",
       "      <td>€196.4M</td>\n",
       "    </tr>\n",
       "    <tr>\n",
       "      <th>...</th>\n",
       "      <td>...</td>\n",
       "      <td>...</td>\n",
       "      <td>...</td>\n",
       "      <td>...</td>\n",
       "      <td>...</td>\n",
       "      <td>...</td>\n",
       "      <td>...</td>\n",
       "      <td>...</td>\n",
       "      <td>...</td>\n",
       "      <td>...</td>\n",
       "      <td>...</td>\n",
       "      <td>...</td>\n",
       "      <td>...</td>\n",
       "      <td>...</td>\n",
       "      <td>...</td>\n",
       "      <td>...</td>\n",
       "      <td>...</td>\n",
       "      <td>...</td>\n",
       "      <td>...</td>\n",
       "      <td>...</td>\n",
       "      <td>...</td>\n",
       "    </tr>\n",
       "    <tr>\n",
       "      <th>18202</th>\n",
       "      <td>18202</td>\n",
       "      <td>238813</td>\n",
       "      <td>J. Lundstram</td>\n",
       "      <td>19</td>\n",
       "      <td>https://cdn.sofifa.org/players/4/19/238813.png</td>\n",
       "      <td>England</td>\n",
       "      <td>https://cdn.sofifa.org/flags/14.png</td>\n",
       "      <td>47</td>\n",
       "      <td>65</td>\n",
       "      <td>Crewe Alexandra</td>\n",
       "      <td>...</td>\n",
       "      <td>45.0</td>\n",
       "      <td>40.0</td>\n",
       "      <td>48.0</td>\n",
       "      <td>47.0</td>\n",
       "      <td>10.0</td>\n",
       "      <td>13.0</td>\n",
       "      <td>7.0</td>\n",
       "      <td>8.0</td>\n",
       "      <td>9.0</td>\n",
       "      <td>€143K</td>\n",
       "    </tr>\n",
       "    <tr>\n",
       "      <th>18203</th>\n",
       "      <td>18203</td>\n",
       "      <td>243165</td>\n",
       "      <td>N. Christoffersson</td>\n",
       "      <td>19</td>\n",
       "      <td>https://cdn.sofifa.org/players/4/19/243165.png</td>\n",
       "      <td>Sweden</td>\n",
       "      <td>https://cdn.sofifa.org/flags/46.png</td>\n",
       "      <td>47</td>\n",
       "      <td>63</td>\n",
       "      <td>Trelleborgs FF</td>\n",
       "      <td>...</td>\n",
       "      <td>42.0</td>\n",
       "      <td>22.0</td>\n",
       "      <td>15.0</td>\n",
       "      <td>19.0</td>\n",
       "      <td>10.0</td>\n",
       "      <td>9.0</td>\n",
       "      <td>9.0</td>\n",
       "      <td>5.0</td>\n",
       "      <td>12.0</td>\n",
       "      <td>€113K</td>\n",
       "    </tr>\n",
       "    <tr>\n",
       "      <th>18204</th>\n",
       "      <td>18204</td>\n",
       "      <td>241638</td>\n",
       "      <td>B. Worman</td>\n",
       "      <td>16</td>\n",
       "      <td>https://cdn.sofifa.org/players/4/19/241638.png</td>\n",
       "      <td>England</td>\n",
       "      <td>https://cdn.sofifa.org/flags/14.png</td>\n",
       "      <td>47</td>\n",
       "      <td>67</td>\n",
       "      <td>Cambridge United</td>\n",
       "      <td>...</td>\n",
       "      <td>41.0</td>\n",
       "      <td>32.0</td>\n",
       "      <td>13.0</td>\n",
       "      <td>11.0</td>\n",
       "      <td>6.0</td>\n",
       "      <td>5.0</td>\n",
       "      <td>10.0</td>\n",
       "      <td>6.0</td>\n",
       "      <td>13.0</td>\n",
       "      <td>€165K</td>\n",
       "    </tr>\n",
       "    <tr>\n",
       "      <th>18205</th>\n",
       "      <td>18205</td>\n",
       "      <td>246268</td>\n",
       "      <td>D. Walker-Rice</td>\n",
       "      <td>17</td>\n",
       "      <td>https://cdn.sofifa.org/players/4/19/246268.png</td>\n",
       "      <td>England</td>\n",
       "      <td>https://cdn.sofifa.org/flags/14.png</td>\n",
       "      <td>47</td>\n",
       "      <td>66</td>\n",
       "      <td>Tranmere Rovers</td>\n",
       "      <td>...</td>\n",
       "      <td>46.0</td>\n",
       "      <td>20.0</td>\n",
       "      <td>25.0</td>\n",
       "      <td>27.0</td>\n",
       "      <td>14.0</td>\n",
       "      <td>6.0</td>\n",
       "      <td>14.0</td>\n",
       "      <td>8.0</td>\n",
       "      <td>9.0</td>\n",
       "      <td>€143K</td>\n",
       "    </tr>\n",
       "    <tr>\n",
       "      <th>18206</th>\n",
       "      <td>18206</td>\n",
       "      <td>246269</td>\n",
       "      <td>G. Nugent</td>\n",
       "      <td>16</td>\n",
       "      <td>https://cdn.sofifa.org/players/4/19/246269.png</td>\n",
       "      <td>England</td>\n",
       "      <td>https://cdn.sofifa.org/flags/14.png</td>\n",
       "      <td>46</td>\n",
       "      <td>66</td>\n",
       "      <td>Tranmere Rovers</td>\n",
       "      <td>...</td>\n",
       "      <td>43.0</td>\n",
       "      <td>40.0</td>\n",
       "      <td>43.0</td>\n",
       "      <td>50.0</td>\n",
       "      <td>10.0</td>\n",
       "      <td>15.0</td>\n",
       "      <td>9.0</td>\n",
       "      <td>12.0</td>\n",
       "      <td>9.0</td>\n",
       "      <td>€165K</td>\n",
       "    </tr>\n",
       "  </tbody>\n",
       "</table>\n",
       "<p>18207 rows × 89 columns</p>\n",
       "</div>"
      ],
      "text/plain": [
       "       Unnamed: 0      ID                Name  Age  \\\n",
       "0               0  158023            L. Messi   31   \n",
       "1               1   20801   Cristiano Ronaldo   33   \n",
       "2               2  190871           Neymar Jr   26   \n",
       "3               3  193080              De Gea   27   \n",
       "4               4  192985        K. De Bruyne   27   \n",
       "...           ...     ...                 ...  ...   \n",
       "18202       18202  238813        J. Lundstram   19   \n",
       "18203       18203  243165  N. Christoffersson   19   \n",
       "18204       18204  241638           B. Worman   16   \n",
       "18205       18205  246268      D. Walker-Rice   17   \n",
       "18206       18206  246269           G. Nugent   16   \n",
       "\n",
       "                                                Photo Nationality  \\\n",
       "0      https://cdn.sofifa.org/players/4/19/158023.png   Argentina   \n",
       "1       https://cdn.sofifa.org/players/4/19/20801.png    Portugal   \n",
       "2      https://cdn.sofifa.org/players/4/19/190871.png      Brazil   \n",
       "3      https://cdn.sofifa.org/players/4/19/193080.png       Spain   \n",
       "4      https://cdn.sofifa.org/players/4/19/192985.png     Belgium   \n",
       "...                                               ...         ...   \n",
       "18202  https://cdn.sofifa.org/players/4/19/238813.png     England   \n",
       "18203  https://cdn.sofifa.org/players/4/19/243165.png      Sweden   \n",
       "18204  https://cdn.sofifa.org/players/4/19/241638.png     England   \n",
       "18205  https://cdn.sofifa.org/players/4/19/246268.png     England   \n",
       "18206  https://cdn.sofifa.org/players/4/19/246269.png     England   \n",
       "\n",
       "                                      Flag  Overall  Potential  \\\n",
       "0      https://cdn.sofifa.org/flags/52.png       94         94   \n",
       "1      https://cdn.sofifa.org/flags/38.png       94         94   \n",
       "2      https://cdn.sofifa.org/flags/54.png       92         93   \n",
       "3      https://cdn.sofifa.org/flags/45.png       91         93   \n",
       "4       https://cdn.sofifa.org/flags/7.png       91         92   \n",
       "...                                    ...      ...        ...   \n",
       "18202  https://cdn.sofifa.org/flags/14.png       47         65   \n",
       "18203  https://cdn.sofifa.org/flags/46.png       47         63   \n",
       "18204  https://cdn.sofifa.org/flags/14.png       47         67   \n",
       "18205  https://cdn.sofifa.org/flags/14.png       47         66   \n",
       "18206  https://cdn.sofifa.org/flags/14.png       46         66   \n",
       "\n",
       "                      Club  ... Composure Marking StandingTackle  \\\n",
       "0             FC Barcelona  ...      96.0    33.0           28.0   \n",
       "1                 Juventus  ...      95.0    28.0           31.0   \n",
       "2      Paris Saint-Germain  ...      94.0    27.0           24.0   \n",
       "3        Manchester United  ...      68.0    15.0           21.0   \n",
       "4          Manchester City  ...      88.0    68.0           58.0   \n",
       "...                    ...  ...       ...     ...            ...   \n",
       "18202      Crewe Alexandra  ...      45.0    40.0           48.0   \n",
       "18203       Trelleborgs FF  ...      42.0    22.0           15.0   \n",
       "18204     Cambridge United  ...      41.0    32.0           13.0   \n",
       "18205      Tranmere Rovers  ...      46.0    20.0           25.0   \n",
       "18206      Tranmere Rovers  ...      43.0    40.0           43.0   \n",
       "\n",
       "       SlidingTackle GKDiving  GKHandling  GKKicking  GKPositioning  \\\n",
       "0               26.0      6.0        11.0       15.0           14.0   \n",
       "1               23.0      7.0        11.0       15.0           14.0   \n",
       "2               33.0      9.0         9.0       15.0           15.0   \n",
       "3               13.0     90.0        85.0       87.0           88.0   \n",
       "4               51.0     15.0        13.0        5.0           10.0   \n",
       "...              ...      ...         ...        ...            ...   \n",
       "18202           47.0     10.0        13.0        7.0            8.0   \n",
       "18203           19.0     10.0         9.0        9.0            5.0   \n",
       "18204           11.0      6.0         5.0       10.0            6.0   \n",
       "18205           27.0     14.0         6.0       14.0            8.0   \n",
       "18206           50.0     10.0        15.0        9.0           12.0   \n",
       "\n",
       "      GKReflexes Release Clause  \n",
       "0            8.0        €226.5M  \n",
       "1           11.0        €127.1M  \n",
       "2           11.0        €228.1M  \n",
       "3           94.0        €138.6M  \n",
       "4           13.0        €196.4M  \n",
       "...          ...            ...  \n",
       "18202        9.0          €143K  \n",
       "18203       12.0          €113K  \n",
       "18204       13.0          €165K  \n",
       "18205        9.0          €143K  \n",
       "18206        9.0          €165K  \n",
       "\n",
       "[18207 rows x 89 columns]"
      ]
     },
     "execution_count": 133,
     "metadata": {},
     "output_type": "execute_result"
    }
   ],
   "source": [
    "df"
   ]
  },
  {
   "cell_type": "code",
   "execution_count": 134,
   "id": "13e98e78",
   "metadata": {},
   "outputs": [],
   "source": [
    "import pandas as pd\n",
    "import matplotlib.pyplot as plt\n",
    "import seaborn as sns \n",
    "%matplotlib inline"
   ]
  },
  {
   "cell_type": "code",
   "execution_count": 135,
   "id": "3b24e908",
   "metadata": {},
   "outputs": [
    {
     "name": "stdout",
     "output_type": "stream",
     "text": [
      "Index(['Unnamed: 0', 'ID', 'Name', 'Age', 'Photo', 'Nationality', 'Flag',\n",
      "       'Overall', 'Potential', 'Club', 'Club Logo', 'Value', 'Wage', 'Special',\n",
      "       'Preferred Foot', 'International Reputation', 'Weak Foot',\n",
      "       'Skill Moves', 'Work Rate', 'Body Type', 'Real Face', 'Position',\n",
      "       'Jersey Number', 'Joined', 'Loaned From', 'Contract Valid Until',\n",
      "       'Height', 'Weight', 'LS', 'ST', 'RS', 'LW', 'LF', 'CF', 'RF', 'RW',\n",
      "       'LAM', 'CAM', 'RAM', 'LM', 'LCM', 'CM', 'RCM', 'RM', 'LWB', 'LDM',\n",
      "       'CDM', 'RDM', 'RWB', 'LB', 'LCB', 'CB', 'RCB', 'RB', 'Crossing',\n",
      "       'Finishing', 'HeadingAccuracy', 'ShortPassing', 'Volleys', 'Dribbling',\n",
      "       'Curve', 'FKAccuracy', 'LongPassing', 'BallControl', 'Acceleration',\n",
      "       'SprintSpeed', 'Agility', 'Reactions', 'Balance', 'ShotPower',\n",
      "       'Jumping', 'Stamina', 'Strength', 'LongShots', 'Aggression',\n",
      "       'Interceptions', 'Positioning', 'Vision', 'Penalties', 'Composure',\n",
      "       'Marking', 'StandingTackle', 'SlidingTackle', 'GKDiving', 'GKHandling',\n",
      "       'GKKicking', 'GKPositioning', 'GKReflexes', 'Release Clause'],\n",
      "      dtype='object')\n"
     ]
    }
   ],
   "source": [
    "df = pd.read_csv('data_fifa.csv')\n",
    "print(df.columns)"
   ]
  },
  {
   "cell_type": "code",
   "execution_count": 152,
   "id": "8497db89",
   "metadata": {},
   "outputs": [
    {
     "data": {
      "text/plain": [
       "<AxesSubplot:xlabel='Real Face', ylabel='count'>"
      ]
     },
     "execution_count": 152,
     "metadata": {},
     "output_type": "execute_result"
    },
    {
     "data": {
      "image/png": "[encoded data removed]",
      "text/plain": [
       "<Figure size 432x288 with 1 Axes>"
      ]
     },
     "metadata": {
      "needs_background": "light"
     },
     "output_type": "display_data"
    }
   ],
   "source": [
    "# DIAGRAMAS DE BARRAS\n",
    "color_base = sns.color_palette()[4]\n",
    "sns.countplot(data= df, x = 'Real Face',color = color_base)"
   ]
  },
  {
   "cell_type": "code",
   "execution_count": 153,
   "id": "658273c1",
   "metadata": {},
   "outputs": [
    {
     "data": {
      "text/html": [
       "<svg  width=\"550\" height=\"55\"><rect x=\"0\" y=\"0\" width=\"55\" height=\"55\" style=\"fill:#1f77b4;stroke-width:2;stroke:rgb(255,255,255)\"/><rect x=\"55\" y=\"0\" width=\"55\" height=\"55\" style=\"fill:#ff7f0e;stroke-width:2;stroke:rgb(255,255,255)\"/><rect x=\"110\" y=\"0\" width=\"55\" height=\"55\" style=\"fill:#2ca02c;stroke-width:2;stroke:rgb(255,255,255)\"/><rect x=\"165\" y=\"0\" width=\"55\" height=\"55\" style=\"fill:#d62728;stroke-width:2;stroke:rgb(255,255,255)\"/><rect x=\"220\" y=\"0\" width=\"55\" height=\"55\" style=\"fill:#9467bd;stroke-width:2;stroke:rgb(255,255,255)\"/><rect x=\"275\" y=\"0\" width=\"55\" height=\"55\" style=\"fill:#8c564b;stroke-width:2;stroke:rgb(255,255,255)\"/><rect x=\"330\" y=\"0\" width=\"55\" height=\"55\" style=\"fill:#e377c2;stroke-width:2;stroke:rgb(255,255,255)\"/><rect x=\"385\" y=\"0\" width=\"55\" height=\"55\" style=\"fill:#7f7f7f;stroke-width:2;stroke:rgb(255,255,255)\"/><rect x=\"440\" y=\"0\" width=\"55\" height=\"55\" style=\"fill:#bcbd22;stroke-width:2;stroke:rgb(255,255,255)\"/><rect x=\"495\" y=\"0\" width=\"55\" height=\"55\" style=\"fill:#17becf;stroke-width:2;stroke:rgb(255,255,255)\"/></svg>"
      ],
      "text/plain": [
       "[(0.12156862745098039, 0.4666666666666667, 0.7058823529411765),\n",
       " (1.0, 0.4980392156862745, 0.054901960784313725),\n",
       " (0.17254901960784313, 0.6274509803921569, 0.17254901960784313),\n",
       " (0.8392156862745098, 0.15294117647058825, 0.1568627450980392),\n",
       " (0.5803921568627451, 0.403921568627451, 0.7411764705882353),\n",
       " (0.5490196078431373, 0.33725490196078434, 0.29411764705882354),\n",
       " (0.8901960784313725, 0.4666666666666667, 0.7607843137254902),\n",
       " (0.4980392156862745, 0.4980392156862745, 0.4980392156862745),\n",
       " (0.7372549019607844, 0.7411764705882353, 0.13333333333333333),\n",
       " (0.09019607843137255, 0.7450980392156863, 0.8117647058823529)]"
      ]
     },
     "execution_count": 153,
     "metadata": {},
     "output_type": "execute_result"
    }
   ],
   "source": [
    "#colores\n",
    "sns.color_palette()"
   ]
  },
  {
   "cell_type": "code",
   "execution_count": 154,
   "id": "98c4fb1b",
   "metadata": {},
   "outputs": [],
   "source": [
    "\n",
    "order_position = df['Position'].value_counts().index"
   ]
  },
  {
   "cell_type": "code",
   "execution_count": 155,
   "id": "e9a4dbb9",
   "metadata": {},
   "outputs": [
    {
     "data": {
      "text/plain": [
       "(array([ 0,  1,  2,  3,  4,  5,  6,  7,  8,  9, 10, 11, 12, 13, 14, 15, 16,\n",
       "        17, 18, 19, 20, 21, 22, 23, 24, 25, 26]),\n",
       " [Text(0, 0, 'ST'),\n",
       "  Text(1, 0, 'GK'),\n",
       "  Text(2, 0, 'CB'),\n",
       "  Text(3, 0, 'CM'),\n",
       "  Text(4, 0, 'LB'),\n",
       "  Text(5, 0, 'RB'),\n",
       "  Text(6, 0, 'RM'),\n",
       "  Text(7, 0, 'LM'),\n",
       "  Text(8, 0, 'CAM'),\n",
       "  Text(9, 0, 'CDM'),\n",
       "  Text(10, 0, 'RCB'),\n",
       "  Text(11, 0, 'LCB'),\n",
       "  Text(12, 0, 'LCM'),\n",
       "  Text(13, 0, 'RCM'),\n",
       "  Text(14, 0, 'LW'),\n",
       "  Text(15, 0, 'RW'),\n",
       "  Text(16, 0, 'RDM'),\n",
       "  Text(17, 0, 'LDM'),\n",
       "  Text(18, 0, 'LS'),\n",
       "  Text(19, 0, 'RS'),\n",
       "  Text(20, 0, 'RWB'),\n",
       "  Text(21, 0, 'LWB'),\n",
       "  Text(22, 0, 'CF'),\n",
       "  Text(23, 0, 'LAM'),\n",
       "  Text(24, 0, 'RAM'),\n",
       "  Text(25, 0, 'RF'),\n",
       "  Text(26, 0, 'LF')])"
      ]
     },
     "execution_count": 155,
     "metadata": {},
     "output_type": "execute_result"
    },
    {
     "data": {
      "image/png": "[encoded data removed]",
      "text/plain": [
       "<Figure size 432x288 with 1 Axes>"
      ]
     },
     "metadata": {
      "needs_background": "light"
     },
     "output_type": "display_data"
    }
   ],
   "source": [
    "sns.countplot(data=df, x= \"Position\",color= color_base,order = order_position)\n",
    "plt.xticks(rotation = 90)"
   ]
  },
  {
   "cell_type": "code",
   "execution_count": 156,
   "id": "4dca0e1e",
   "metadata": {},
   "outputs": [
    {
     "data": {
      "text/html": [
       "<div>\n",
       "<style scoped>\n",
       "    .dataframe tbody tr th:only-of-type {\n",
       "        vertical-align: middle;\n",
       "    }\n",
       "\n",
       "    .dataframe tbody tr th {\n",
       "        vertical-align: top;\n",
       "    }\n",
       "\n",
       "    .dataframe thead th {\n",
       "        text-align: right;\n",
       "    }\n",
       "</style>\n",
       "<table border=\"1\" class=\"dataframe\">\n",
       "  <thead>\n",
       "    <tr style=\"text-align: right;\">\n",
       "      <th></th>\n",
       "      <th>Unnamed: 0</th>\n",
       "      <th>ID</th>\n",
       "      <th>Name</th>\n",
       "      <th>Age</th>\n",
       "      <th>Photo</th>\n",
       "      <th>Nationality</th>\n",
       "      <th>Flag</th>\n",
       "      <th>Overall</th>\n",
       "      <th>Potential</th>\n",
       "      <th>Club</th>\n",
       "      <th>...</th>\n",
       "      <th>Composure</th>\n",
       "      <th>Marking</th>\n",
       "      <th>StandingTackle</th>\n",
       "      <th>SlidingTackle</th>\n",
       "      <th>GKDiving</th>\n",
       "      <th>GKHandling</th>\n",
       "      <th>GKKicking</th>\n",
       "      <th>GKPositioning</th>\n",
       "      <th>GKReflexes</th>\n",
       "      <th>Release Clause</th>\n",
       "    </tr>\n",
       "  </thead>\n",
       "  <tbody>\n",
       "    <tr>\n",
       "      <th>0</th>\n",
       "      <td>0</td>\n",
       "      <td>158023</td>\n",
       "      <td>L. Messi</td>\n",
       "      <td>31</td>\n",
       "      <td>https://cdn.sofifa.org/players/4/19/158023.png</td>\n",
       "      <td>Argentina</td>\n",
       "      <td>https://cdn.sofifa.org/flags/52.png</td>\n",
       "      <td>94</td>\n",
       "      <td>94</td>\n",
       "      <td>FC Barcelona</td>\n",
       "      <td>...</td>\n",
       "      <td>96.0</td>\n",
       "      <td>33.0</td>\n",
       "      <td>28.0</td>\n",
       "      <td>26.0</td>\n",
       "      <td>6.0</td>\n",
       "      <td>11.0</td>\n",
       "      <td>15.0</td>\n",
       "      <td>14.0</td>\n",
       "      <td>8.0</td>\n",
       "      <td>€226.5M</td>\n",
       "    </tr>\n",
       "    <tr>\n",
       "      <th>1</th>\n",
       "      <td>1</td>\n",
       "      <td>20801</td>\n",
       "      <td>Cristiano Ronaldo</td>\n",
       "      <td>33</td>\n",
       "      <td>https://cdn.sofifa.org/players/4/19/20801.png</td>\n",
       "      <td>Portugal</td>\n",
       "      <td>https://cdn.sofifa.org/flags/38.png</td>\n",
       "      <td>94</td>\n",
       "      <td>94</td>\n",
       "      <td>Juventus</td>\n",
       "      <td>...</td>\n",
       "      <td>95.0</td>\n",
       "      <td>28.0</td>\n",
       "      <td>31.0</td>\n",
       "      <td>23.0</td>\n",
       "      <td>7.0</td>\n",
       "      <td>11.0</td>\n",
       "      <td>15.0</td>\n",
       "      <td>14.0</td>\n",
       "      <td>11.0</td>\n",
       "      <td>€127.1M</td>\n",
       "    </tr>\n",
       "    <tr>\n",
       "      <th>2</th>\n",
       "      <td>2</td>\n",
       "      <td>190871</td>\n",
       "      <td>Neymar Jr</td>\n",
       "      <td>26</td>\n",
       "      <td>https://cdn.sofifa.org/players/4/19/190871.png</td>\n",
       "      <td>Brazil</td>\n",
       "      <td>https://cdn.sofifa.org/flags/54.png</td>\n",
       "      <td>92</td>\n",
       "      <td>93</td>\n",
       "      <td>Paris Saint-Germain</td>\n",
       "      <td>...</td>\n",
       "      <td>94.0</td>\n",
       "      <td>27.0</td>\n",
       "      <td>24.0</td>\n",
       "      <td>33.0</td>\n",
       "      <td>9.0</td>\n",
       "      <td>9.0</td>\n",
       "      <td>15.0</td>\n",
       "      <td>15.0</td>\n",
       "      <td>11.0</td>\n",
       "      <td>€228.1M</td>\n",
       "    </tr>\n",
       "    <tr>\n",
       "      <th>3</th>\n",
       "      <td>3</td>\n",
       "      <td>193080</td>\n",
       "      <td>De Gea</td>\n",
       "      <td>27</td>\n",
       "      <td>https://cdn.sofifa.org/players/4/19/193080.png</td>\n",
       "      <td>Spain</td>\n",
       "      <td>https://cdn.sofifa.org/flags/45.png</td>\n",
       "      <td>91</td>\n",
       "      <td>93</td>\n",
       "      <td>Manchester United</td>\n",
       "      <td>...</td>\n",
       "      <td>68.0</td>\n",
       "      <td>15.0</td>\n",
       "      <td>21.0</td>\n",
       "      <td>13.0</td>\n",
       "      <td>90.0</td>\n",
       "      <td>85.0</td>\n",
       "      <td>87.0</td>\n",
       "      <td>88.0</td>\n",
       "      <td>94.0</td>\n",
       "      <td>€138.6M</td>\n",
       "    </tr>\n",
       "  </tbody>\n",
       "</table>\n",
       "<p>4 rows × 89 columns</p>\n",
       "</div>"
      ],
      "text/plain": [
       "   Unnamed: 0      ID               Name  Age  \\\n",
       "0           0  158023           L. Messi   31   \n",
       "1           1   20801  Cristiano Ronaldo   33   \n",
       "2           2  190871          Neymar Jr   26   \n",
       "3           3  193080             De Gea   27   \n",
       "\n",
       "                                            Photo Nationality  \\\n",
       "0  https://cdn.sofifa.org/players/4/19/158023.png   Argentina   \n",
       "1   https://cdn.sofifa.org/players/4/19/20801.png    Portugal   \n",
       "2  https://cdn.sofifa.org/players/4/19/190871.png      Brazil   \n",
       "3  https://cdn.sofifa.org/players/4/19/193080.png       Spain   \n",
       "\n",
       "                                  Flag  Overall  Potential  \\\n",
       "0  https://cdn.sofifa.org/flags/52.png       94         94   \n",
       "1  https://cdn.sofifa.org/flags/38.png       94         94   \n",
       "2  https://cdn.sofifa.org/flags/54.png       92         93   \n",
       "3  https://cdn.sofifa.org/flags/45.png       91         93   \n",
       "\n",
       "                  Club  ... Composure Marking StandingTackle  SlidingTackle  \\\n",
       "0         FC Barcelona  ...      96.0    33.0           28.0           26.0   \n",
       "1             Juventus  ...      95.0    28.0           31.0           23.0   \n",
       "2  Paris Saint-Germain  ...      94.0    27.0           24.0           33.0   \n",
       "3    Manchester United  ...      68.0    15.0           21.0           13.0   \n",
       "\n",
       "  GKDiving  GKHandling  GKKicking  GKPositioning GKReflexes Release Clause  \n",
       "0      6.0        11.0       15.0           14.0        8.0        €226.5M  \n",
       "1      7.0        11.0       15.0           14.0       11.0        €127.1M  \n",
       "2      9.0         9.0       15.0           15.0       11.0        €228.1M  \n",
       "3     90.0        85.0       87.0           88.0       94.0        €138.6M  \n",
       "\n",
       "[4 rows x 89 columns]"
      ]
     },
     "execution_count": 156,
     "metadata": {},
     "output_type": "execute_result"
    }
   ],
   "source": [
    "df.head(4)"
   ]
  },
  {
   "cell_type": "code",
   "execution_count": 157,
   "id": "c2987168",
   "metadata": {},
   "outputs": [
    {
     "name": "stdout",
     "output_type": "stream",
     "text": [
      "Index(['Unnamed: 0', 'ID', 'Name', 'Age', 'Photo', 'Nationality', 'Flag',\n",
      "       'Overall', 'Potential', 'Club', 'Club Logo', 'Value', 'Wage', 'Special',\n",
      "       'Preferred Foot', 'International Reputation', 'Weak Foot',\n",
      "       'Skill Moves', 'Work Rate', 'Body Type', 'Real Face', 'Position',\n",
      "       'Jersey Number', 'Joined', 'Loaned From', 'Contract Valid Until',\n",
      "       'Height', 'Weight', 'LS', 'ST', 'RS', 'LW', 'LF', 'CF', 'RF', 'RW',\n",
      "       'LAM', 'CAM', 'RAM', 'LM', 'LCM', 'CM', 'RCM', 'RM', 'LWB', 'LDM',\n",
      "       'CDM', 'RDM', 'RWB', 'LB', 'LCB', 'CB', 'RCB', 'RB', 'Crossing',\n",
      "       'Finishing', 'HeadingAccuracy', 'ShortPassing', 'Volleys', 'Dribbling',\n",
      "       'Curve', 'FKAccuracy', 'LongPassing', 'BallControl', 'Acceleration',\n",
      "       'SprintSpeed', 'Agility', 'Reactions', 'Balance', 'ShotPower',\n",
      "       'Jumping', 'Stamina', 'Strength', 'LongShots', 'Aggression',\n",
      "       'Interceptions', 'Positioning', 'Vision', 'Penalties', 'Composure',\n",
      "       'Marking', 'StandingTackle', 'SlidingTackle', 'GKDiving', 'GKHandling',\n",
      "       'GKKicking', 'GKPositioning', 'GKReflexes', 'Release Clause'],\n",
      "      dtype='object')\n"
     ]
    }
   ],
   "source": [
    "print(df.columns)"
   ]
  },
  {
   "cell_type": "code",
   "execution_count": 158,
   "id": "b7fc691f",
   "metadata": {},
   "outputs": [
    {
     "name": "stdout",
     "output_type": "stream",
     "text": [
      "No     16505\n",
      "Yes     1654\n",
      "Name: Real Face, dtype: int64\n",
      "<class 'pandas.core.series.Series'>\n"
     ]
    },
    {
     "data": {
      "image/png": "[encoded data removed]",
      "text/plain": [
       "<Figure size 432x288 with 1 Axes>"
      ]
     },
     "metadata": {},
     "output_type": "display_data"
    }
   ],
   "source": [
    "sorted_values = df['Real Face'].value_counts()\n",
    "print(sorted_values)\n",
    "print(type(sorted_values))\n",
    "plt.pie(sorted_values,labels = sorted_values.index, startangle =90, counterclock = False);"
   ]
  },
  {
   "cell_type": "code",
   "execution_count": 159,
   "id": "0b31d3c0",
   "metadata": {},
   "outputs": [
    {
     "data": {
      "image/png": "[encoded data removed]",
      "text/plain": [
       "<Figure size 432x288 with 1 Axes>"
      ]
     },
     "metadata": {},
     "output_type": "display_data"
    }
   ],
   "source": [
    "plt.axis('square');\n",
    "plt.pie(sorted_values,labels = sorted_values.index, startangle =90, counterclock = False);"
   ]
  },
  {
   "cell_type": "code",
   "execution_count": 160,
   "id": "e029b82e",
   "metadata": {},
   "outputs": [
    {
     "data": {
      "image/png": "[encoded data removed]",
      "text/plain": [
       "<Figure size 432x288 with 1 Axes>"
      ]
     },
     "metadata": {},
     "output_type": "display_data"
    }
   ],
   "source": [
    "sorted_values = df['Position'].value_counts()\n",
    "plt.pie(sorted_values,labels = sorted_values.index, startangle =90, counterclock = False);"
   ]
  },
  {
   "cell_type": "code",
   "execution_count": 161,
   "id": "78b477b0",
   "metadata": {},
   "outputs": [
    {
     "data": {
      "image/png": "[encoded data removed]",
      "text/plain": [
       "<Figure size 432x288 with 1 Axes>"
      ]
     },
     "metadata": {},
     "output_type": "display_data"
    }
   ],
   "source": [
    "# NO ES RECOEMNDABLE POR ENDE USAR UN GRÁFICO CIRCULAR CON MUCHOS DATOS\n",
    "sorted_values = df['Real Face'].value_counts()\n",
    "plt.pie(sorted_values,labels = sorted_values.index, startangle =90, counterclock = False,wedgeprops = {'width': 0.4})\n",
    "plt.axis('square');"
   ]
  },
  {
   "cell_type": "code",
   "execution_count": 162,
   "id": "7706923c",
   "metadata": {},
   "outputs": [
    {
     "data": {
      "image/png": "[encoded data removed]",
      "text/plain": [
       "<Figure size 432x288 with 1 Axes>"
      ]
     },
     "metadata": {},
     "output_type": "display_data"
    }
   ],
   "source": [
    "plt.pie(sorted_values,labels = sorted_values.index, startangle =90, counterclock = False,wedgeprops = {'width': 0.8});"
   ]
  },
  {
   "cell_type": "markdown",
   "id": "2047e101",
   "metadata": {},
   "source": [
    "<h4> ¿CÓMO CREAR UN HISTOGRAMA USANDO MATPLOTLIB? </h4>"
   ]
  },
  {
   "cell_type": "code",
   "execution_count": 163,
   "id": "c9d0ad3b",
   "metadata": {},
   "outputs": [
    {
     "name": "stdout",
     "output_type": "stream",
     "text": [
      "[ 45  48  51  54  57  60  63  66  69  72  75  78  81  84  87  90  93  96\n",
      "  99 102]\n"
     ]
    },
    {
     "data": {
      "image/png": "[encoded data removed]",
      "text/plain": [
       "<Figure size 432x288 with 1 Axes>"
      ]
     },
     "metadata": {
      "needs_background": "light"
     },
     "output_type": "display_data"
    }
   ],
   "source": [
    "import numpy as np\n",
    "bins_base = np.arange(45,df['Potential'].max() + 10,3)\n",
    "print(bins_base)\n",
    "#print(df['Potential'].describe())\n",
    "plt.hist(data= df, x= 'Potential',bins= bins_base );"
   ]
  },
  {
   "cell_type": "code",
   "execution_count": 164,
   "id": "1109c75a",
   "metadata": {},
   "outputs": [
    {
     "data": {
      "text/plain": [
       "<seaborn.axisgrid.FacetGrid at 0x1efd56ec340>"
      ]
     },
     "execution_count": 164,
     "metadata": {},
     "output_type": "execute_result"
    },
    {
     "data": {
      "image/png": "[encoded data removed]",
      "text/plain": [
       "<Figure size 360x360 with 1 Axes>"
      ]
     },
     "metadata": {
      "needs_background": "light"
     },
     "output_type": "display_data"
    }
   ],
   "source": [
    "sns.displot(df['Potential'])"
   ]
  },
  {
   "cell_type": "code",
   "execution_count": 165,
   "id": "88be00df",
   "metadata": {},
   "outputs": [
    {
     "data": {
      "text/plain": [
       "<AxesSubplot:xlabel='Potential', ylabel='Count'>"
      ]
     },
     "execution_count": 165,
     "metadata": {},
     "output_type": "execute_result"
    },
    {
     "data": {
      "image/png": "[encoded data removed]",
      "text/plain": [
       "<Figure size 432x288 with 1 Axes>"
      ]
     },
     "metadata": {
      "needs_background": "light"
     },
     "output_type": "display_data"
    }
   ],
   "source": [
    "sns.histplot(df['Potential'])"
   ]
  },
  {
   "cell_type": "code",
   "execution_count": 166,
   "id": "db3bf6ef",
   "metadata": {},
   "outputs": [
    {
     "name": "stderr",
     "output_type": "stream",
     "text": [
      "C:\\Users\\andre\\anaconda3\\lib\\site-packages\\seaborn\\distributions.py:2619: FutureWarning: `distplot` is a deprecated function and will be removed in a future version. Please adapt your code to use either `displot` (a figure-level function with similar flexibility) or `histplot` (an axes-level function for histograms).\n",
      "  warnings.warn(msg, FutureWarning)\n"
     ]
    },
    {
     "data": {
      "text/plain": [
       "<AxesSubplot:xlabel='Potential', ylabel='Density'>"
      ]
     },
     "execution_count": 166,
     "metadata": {},
     "output_type": "execute_result"
    },
    {
     "data": {
      "image/png": "[encoded data removed]",
      "text/plain": [
       "<Figure size 432x288 with 1 Axes>"
      ]
     },
     "metadata": {
      "needs_background": "light"
     },
     "output_type": "display_data"
    }
   ],
   "source": [
    "sns.distplot(df['Potential'])"
   ]
  },
  {
   "cell_type": "code",
   "execution_count": 167,
   "id": "948e42eb",
   "metadata": {},
   "outputs": [
    {
     "name": "stderr",
     "output_type": "stream",
     "text": [
      "C:\\Users\\andre\\anaconda3\\lib\\site-packages\\seaborn\\distributions.py:2619: FutureWarning: `distplot` is a deprecated function and will be removed in a future version. Please adapt your code to use either `displot` (a figure-level function with similar flexibility) or `histplot` (an axes-level function for histograms).\n",
      "  warnings.warn(msg, FutureWarning)\n"
     ]
    },
    {
     "data": {
      "text/plain": [
       "<AxesSubplot:xlabel='Potential'>"
      ]
     },
     "execution_count": 167,
     "metadata": {},
     "output_type": "execute_result"
    },
    {
     "data": {
      "image/png": "[encoded data removed]",
      "text/plain": [
       "<Figure size 432x288 with 1 Axes>"
      ]
     },
     "metadata": {
      "needs_background": "light"
     },
     "output_type": "display_data"
    }
   ],
   "source": [
    "sns.distplot(df['Potential'], kde= False)"
   ]
  },
  {
   "cell_type": "markdown",
   "id": "b762e66b",
   "metadata": {},
   "source": [
    "<h2> GRÁFICO DE DISPERSIÓN </h2>\n"
   ]
  },
  {
   "cell_type": "code",
   "execution_count": 168,
   "id": "3fde2ce0",
   "metadata": {},
   "outputs": [
    {
     "data": {
      "text/plain": [
       "Index(['Unnamed: 0', 'ID', 'Name', 'Age', 'Photo', 'Nationality', 'Flag',\n",
       "       'Overall', 'Potential', 'Club', 'Club Logo', 'Value', 'Wage', 'Special',\n",
       "       'Preferred Foot', 'International Reputation', 'Weak Foot',\n",
       "       'Skill Moves', 'Work Rate', 'Body Type', 'Real Face', 'Position',\n",
       "       'Jersey Number', 'Joined', 'Loaned From', 'Contract Valid Until',\n",
       "       'Height', 'Weight', 'LS', 'ST', 'RS', 'LW', 'LF', 'CF', 'RF', 'RW',\n",
       "       'LAM', 'CAM', 'RAM', 'LM', 'LCM', 'CM', 'RCM', 'RM', 'LWB', 'LDM',\n",
       "       'CDM', 'RDM', 'RWB', 'LB', 'LCB', 'CB', 'RCB', 'RB', 'Crossing',\n",
       "       'Finishing', 'HeadingAccuracy', 'ShortPassing', 'Volleys', 'Dribbling',\n",
       "       'Curve', 'FKAccuracy', 'LongPassing', 'BallControl', 'Acceleration',\n",
       "       'SprintSpeed', 'Agility', 'Reactions', 'Balance', 'ShotPower',\n",
       "       'Jumping', 'Stamina', 'Strength', 'LongShots', 'Aggression',\n",
       "       'Interceptions', 'Positioning', 'Vision', 'Penalties', 'Composure',\n",
       "       'Marking', 'StandingTackle', 'SlidingTackle', 'GKDiving', 'GKHandling',\n",
       "       'GKKicking', 'GKPositioning', 'GKReflexes', 'Release Clause'],\n",
       "      dtype='object')"
      ]
     },
     "execution_count": 168,
     "metadata": {},
     "output_type": "execute_result"
    }
   ],
   "source": [
    "df.columns"
   ]
  },
  {
   "cell_type": "code",
   "execution_count": 173,
   "id": "d618f6ad",
   "metadata": {},
   "outputs": [
    {
     "data": {
      "text/plain": [
       "<matplotlib.collections.PathCollection at 0x1efda3b2e50>"
      ]
     },
     "execution_count": 173,
     "metadata": {},
     "output_type": "execute_result"
    },
    {
     "data": {
      "image/png": "[encoded data removed]",
      "text/plain": [
       "<Figure size 432x288 with 1 Axes>"
      ]
     },
     "metadata": {
      "needs_background": "light"
     },
     "output_type": "display_data"
    }
   ],
   "source": [
    "# RELACIÓN DE DRIBBLING CON BALL CONTROL\n",
    "plt.scatter(data = df , x= 'BallControl', y = 'Dribbling')\n"
   ]
  },
  {
   "cell_type": "code",
   "execution_count": 180,
   "id": "bdefb3b9",
   "metadata": {},
   "outputs": [
    {
     "data": {
      "text/plain": [
       "Text(0, 0.5, 'Dribbling')"
      ]
     },
     "execution_count": 180,
     "metadata": {},
     "output_type": "execute_result"
    },
    {
     "data": {
      "image/png": "[encoded data removed]",
      "text/plain": [
       "<Figure size 432x288 with 1 Axes>"
      ]
     },
     "metadata": {
      "needs_background": "light"
     },
     "output_type": "display_data"
    }
   ],
   "source": [
    "plt.scatter(data = df , x= 'BallControl', y = 'Dribbling')\n",
    "plt.xlabel('BallControl')\n",
    "plt.ylabel('Dribbling')"
   ]
  },
  {
   "cell_type": "code",
   "execution_count": 183,
   "id": "63b40a6a",
   "metadata": {},
   "outputs": [
    {
     "data": {
      "image/png": "[encoded data removed]",
      "text/plain": [
       "<Figure size 432x288 with 1 Axes>"
      ]
     },
     "metadata": {
      "needs_background": "light"
     },
     "output_type": "display_data"
    }
   ],
   "source": [
    "sns.regplot(data = df , x= 'BallControl', y = 'Dribbling')\n",
    "plt.xlabel('BallControl')\n",
    "plt.ylabel('Dribbling');"
   ]
  },
  {
   "cell_type": "markdown",
   "id": "dcef9135",
   "metadata": {},
   "source": [
    "<h3> MAPA DE CALOR </h3>"
   ]
  },
  {
   "cell_type": "code",
   "execution_count": 201,
   "id": "d47c89ef",
   "metadata": {},
   "outputs": [
    {
     "data": {
      "image/png": "[encoded data removed]",
      "text/plain": [
       "<Figure size 432x288 with 2 Axes>"
      ]
     },
     "metadata": {
      "needs_background": "light"
     },
     "output_type": "display_data"
    }
   ],
   "source": [
    "import numpy as np\n",
    "bins_potential = np.arange(48,df['Potential'].max() + 5,5)\n",
    "bins_age = np.arange(16,45 + 5,5)\n",
    "#print(bins_base)\n",
    "#print(df['Potential'].describe())\n",
    "plt.hist2d(data= df, x= 'Potential', y='Age', bins = [bins_potential,bins_age]);\n",
    "plt.xlabel('Potential')\n",
    "plt.ylabel('Age')\n",
    "plt.colorbar();"
   ]
  },
  {
   "cell_type": "code",
   "execution_count": 189,
   "id": "e620f4a2",
   "metadata": {},
   "outputs": [
    {
     "data": {
      "text/plain": [
       "count    18207.000000\n",
       "mean        71.307299\n",
       "std          6.136496\n",
       "min         48.000000\n",
       "25%         67.000000\n",
       "50%         71.000000\n",
       "75%         75.000000\n",
       "max         95.000000\n",
       "Name: Potential, dtype: float64"
      ]
     },
     "execution_count": 189,
     "metadata": {},
     "output_type": "execute_result"
    }
   ],
   "source": [
    "df['Potential'].describe()"
   ]
  },
  {
   "cell_type": "code",
   "execution_count": 191,
   "id": "3080cb87",
   "metadata": {},
   "outputs": [
    {
     "data": {
      "text/plain": [
       "count    18207.000000\n",
       "mean        25.122206\n",
       "std          4.669943\n",
       "min         16.000000\n",
       "25%         21.000000\n",
       "50%         25.000000\n",
       "75%         28.000000\n",
       "max         45.000000\n",
       "Name: Age, dtype: float64"
      ]
     },
     "execution_count": 191,
     "metadata": {},
     "output_type": "execute_result"
    }
   ],
   "source": [
    "df['Age'].describe()"
   ]
  },
  {
   "cell_type": "markdown",
   "id": "57ff1554",
   "metadata": {},
   "source": [
    "<h3> DIAGRAMA DE CAJA </h3>"
   ]
  },
  {
   "cell_type": "code",
   "execution_count": 208,
   "id": "e3b6d570",
   "metadata": {},
   "outputs": [
    {
     "data": {
      "image/png": "[encoded data removed]",
      "text/plain": [
       "<Figure size 432x288 with 1 Axes>"
      ]
     },
     "metadata": {
      "needs_background": "light"
     },
     "output_type": "display_data"
    }
   ],
   "source": [
    "#plt.figure(figsize = [10,5])\n",
    "sns.boxplot(data = df , x= 'Age', y = 'Potential');"
   ]
  },
  {
   "cell_type": "code",
   "execution_count": 209,
   "id": "564483e7",
   "metadata": {},
   "outputs": [
    {
     "data": {
      "image/png": "[encoded data removed]",
      "text/plain": [
       "<Figure size 720x360 with 1 Axes>"
      ]
     },
     "metadata": {
      "needs_background": "light"
     },
     "output_type": "display_data"
    }
   ],
   "source": [
    "plt.figure(figsize = [10,5])\n",
    "sns.boxplot(data = df , x= 'Age', y = 'Potential');"
   ]
  },
  {
   "cell_type": "code",
   "execution_count": 210,
   "id": "4fe34f57",
   "metadata": {},
   "outputs": [
    {
     "data": {
      "text/plain": [
       "count    18207.000000\n",
       "mean        71.307299\n",
       "std          6.136496\n",
       "min         48.000000\n",
       "25%         67.000000\n",
       "50%         71.000000\n",
       "75%         75.000000\n",
       "max         95.000000\n",
       "Name: Potential, dtype: float64"
      ]
     },
     "execution_count": 210,
     "metadata": {},
     "output_type": "execute_result"
    }
   ],
   "source": [
    "df['Potential'].describe()"
   ]
  },
  {
   "cell_type": "code",
   "execution_count": 213,
   "id": "cace02fd",
   "metadata": {},
   "outputs": [
    {
     "data": {
      "text/html": [
       "<div>\n",
       "<style scoped>\n",
       "    .dataframe tbody tr th:only-of-type {\n",
       "        vertical-align: middle;\n",
       "    }\n",
       "\n",
       "    .dataframe tbody tr th {\n",
       "        vertical-align: top;\n",
       "    }\n",
       "\n",
       "    .dataframe thead th {\n",
       "        text-align: right;\n",
       "    }\n",
       "</style>\n",
       "<table border=\"1\" class=\"dataframe\">\n",
       "  <thead>\n",
       "    <tr style=\"text-align: right;\">\n",
       "      <th></th>\n",
       "      <th>Unnamed: 0</th>\n",
       "      <th>ID</th>\n",
       "      <th>Name</th>\n",
       "      <th>Age</th>\n",
       "      <th>Photo</th>\n",
       "      <th>Nationality</th>\n",
       "      <th>Flag</th>\n",
       "      <th>Overall</th>\n",
       "      <th>Potential</th>\n",
       "      <th>Club</th>\n",
       "      <th>...</th>\n",
       "      <th>Composure</th>\n",
       "      <th>Marking</th>\n",
       "      <th>StandingTackle</th>\n",
       "      <th>SlidingTackle</th>\n",
       "      <th>GKDiving</th>\n",
       "      <th>GKHandling</th>\n",
       "      <th>GKKicking</th>\n",
       "      <th>GKPositioning</th>\n",
       "      <th>GKReflexes</th>\n",
       "      <th>Release Clause</th>\n",
       "    </tr>\n",
       "  </thead>\n",
       "  <tbody>\n",
       "    <tr>\n",
       "      <th>25</th>\n",
       "      <td>25</td>\n",
       "      <td>231747</td>\n",
       "      <td>K. Mbappé</td>\n",
       "      <td>19</td>\n",
       "      <td>https://cdn.sofifa.org/players/4/19/231747.png</td>\n",
       "      <td>France</td>\n",
       "      <td>https://cdn.sofifa.org/flags/18.png</td>\n",
       "      <td>88</td>\n",
       "      <td>95</td>\n",
       "      <td>Paris Saint-Germain</td>\n",
       "      <td>...</td>\n",
       "      <td>86.0</td>\n",
       "      <td>34.0</td>\n",
       "      <td>34.0</td>\n",
       "      <td>32.0</td>\n",
       "      <td>13.0</td>\n",
       "      <td>5.0</td>\n",
       "      <td>7.0</td>\n",
       "      <td>11.0</td>\n",
       "      <td>6.0</td>\n",
       "      <td>€166.1M</td>\n",
       "    </tr>\n",
       "  </tbody>\n",
       "</table>\n",
       "<p>1 rows × 89 columns</p>\n",
       "</div>"
      ],
      "text/plain": [
       "    Unnamed: 0      ID       Name  Age  \\\n",
       "25          25  231747  K. Mbappé   19   \n",
       "\n",
       "                                             Photo Nationality  \\\n",
       "25  https://cdn.sofifa.org/players/4/19/231747.png      France   \n",
       "\n",
       "                                   Flag  Overall  Potential  \\\n",
       "25  https://cdn.sofifa.org/flags/18.png       88         95   \n",
       "\n",
       "                   Club  ... Composure Marking StandingTackle  SlidingTackle  \\\n",
       "25  Paris Saint-Germain  ...      86.0    34.0           34.0           32.0   \n",
       "\n",
       "   GKDiving  GKHandling  GKKicking  GKPositioning GKReflexes Release Clause  \n",
       "25     13.0         5.0        7.0           11.0        6.0        €166.1M  \n",
       "\n",
       "[1 rows x 89 columns]"
      ]
     },
     "execution_count": 213,
     "metadata": {},
     "output_type": "execute_result"
    }
   ],
   "source": [
    "df[df['Potential'] == df['Potential'].max()]"
   ]
  },
  {
   "cell_type": "code",
   "execution_count": null,
   "id": "65f40083",
   "metadata": {},
   "outputs": [],
   "source": []
  }
 ],
 "metadata": {
  "kernelspec": {
   "display_name": "Python 3 (ipykernel)",
   "language": "python",
   "name": "python3"
  },
  "language_info": {
   "codemirror_mode": {
    "name": "ipython",
    "version": 3
   },
   "file_extension": ".py",
   "mimetype": "text/x-python",
   "name": "python",
   "nbconvert_exporter": "python",
   "pygments_lexer": "ipython3",
   "version": "3.9.12"
  }
 },
 "nbformat": 4,
 "nbformat_minor": 5
}
