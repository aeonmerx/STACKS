{
 "cells": [
  {
   "cell_type": "markdown",
   "id": "fba1763e-adb7-496d-aa29-10c8e32aa21f",
   "metadata": {},
   "source": [
    "<img src=\"https://cdn.pixabay.com/photo/2019/08/06/22/48/artificial-intelligence-4389372_960_720.jpg\">"
   ]
  },
  {
   "cell_type": "raw",
   "id": "0f2e3141-8c57-472c-adde-6b3de3635210",
   "metadata": {},
   "source": [
    "Python es uno de los lenguajes de programación dinámicos más populares que existen entre los que se encuentran Java, Javascript, Go y C#. Aunque es considerado a menudo como un lenguaje \"scripting\", es realmente un lenguaje de propósito general. En la actualidad, Python es usado para todo, desde simples \"scripts\", hasta grandes servidores web que proveen servicio ininterrumpido 24×7. Es utilizado para la programación de interfaces gráficas y bases de datos, programación web tanto en el cliente como en el servidor (véase Django o Flask) y \"testing\" de aplicaciones. Además tiene una amplia aceptación por científicos que hacen aplicaciones para las supercomputadores más rápidas del mundo y por los niños que recién están comenzando a programar.\n",
    "\n",
    "La historia del lenguaje de programación Python se remonta hacia finales de los 80s y principio de los 90s,1​ su implementación comenzó en diciembre de 19892​ cuando en Navidad Guido Van Rossum que trabajaba en el (CWI) (un centro de investigación holandés de carácter oficial que, entre otras cosas, actualmente alberga la oficina central del W3C) decidió empezar el proyecto como un pasatiempo dándole continuidad al lenguaje de programación ABC del que había formado parte del equipo de desarrollo en el CWI,3​ dicho lenguaje se enfocaba en ser fácil de usar y aprender manteniendo potencia en su desempeño pero el hardware disponible en la época de su creación hacía difícil su uso y el proyecto no trascendió como se esperaba. Van Rossum es por tanto el autor principal de Python y continúa ejerciendo un rol central decidiendo la dirección del lenguaje, en la comunidad de Python se le conoce como Benevolente Dictador Vitalicio (en inglés: Benevolent Dictator for Life, BDFL). El nombre \"Python\" viene dado por la afición de Van Rossum al grupo Monty Python.\n",
    "\n",
    "El lenguaje de programación Python fue originalmente desarrollado para el sistema operativo Amoeba"
   ]
  },
  {
   "cell_type": "raw",
   "id": "51e88d4f-2c1e-4143-a329-6f077914c2d6",
   "metadata": {},
   "source": [
    "OBTENER DATOS CON PYTHON CON LA FUNCIÓN INPUT"
   ]
  },
  {
   "cell_type": "code",
   "execution_count": 1,
   "id": "d3116b2e-de7e-47b3-a16d-34a5c6633c58",
   "metadata": {},
   "outputs": [
    {
     "name": "stdout",
     "output_type": "stream",
     "text": [
      "Escribe tu nombreJuana\n",
      "Escribe tu edad12\n",
      "Hola Juana  tu edad es:  12\n"
     ]
    }
   ],
   "source": [
    "nombre = input(\"Escribe tu nombre\")\n",
    "edad = input(\"Escribe tu edad\")\n",
    "print(\"Hola\",nombre,\" tu edad es: \",edad)"
   ]
  },
  {
   "cell_type": "raw",
   "id": "40bd8bb4-19f9-432a-9fbd-fe4fdd3fa1d3",
   "metadata": {},
   "source": [
    "PEQUEÑO CHATEADOR\n"
   ]
  },
  {
   "cell_type": "code",
   "execution_count": 2,
   "id": "a7ca9779-fe44-48c6-957c-8f4508649f8f",
   "metadata": {
    "tags": []
   },
   "outputs": [],
   "source": [
    "\n",
    "#Obtener datos con python\n",
    "#CHATEADOR QUE UTILIZA DOS LISTAS \n",
    "informacion = [\n",
    "\"APRENDE A PROGRAMAR CON AEON\",\n",
    "\"APRENDE SEXUALIDAD CON AEON\",\n",
    "\"APRENDE LENGUAS CON AEON\"\n",
    "]\n",
    "cursos =[\n",
    "\"1.PROGRAMAR\",\n",
    "\"2.SEXUALIDAD\",\n",
    "\"3.LENGUAS\"\n",
    "  ]\n",
    "linkCompra= \"https://www.mercadopago.com.co/checkout/v1/payment/redirect/?source=link&preference-id=705767226-dc0e4460-5e4e-40cb-9c3f-52a98d2cf27b&router-request-id=ac39a6cf-2b80-455c-8a76-43de5ac59d2a\""
   ]
  },
  {
   "cell_type": "code",
   "execution_count": 3,
   "id": "34cf39dd-4026-4980-9dac-2e1d2196242f",
   "metadata": {},
   "outputs": [
    {
     "name": "stdout",
     "output_type": "stream",
     "text": [
      "Escribe tu nombreJuana\n",
      "Juana Escoge un curso:\n",
      "1.PROGRAMAR 2.SEXUALIDAD 3.LENGUAS\n",
      "Escoge un curso2\n",
      "APRENDE SEXUALIDAD CON AEON\n",
      "Escribe 0 para salir y 1 para comprar==>1\n",
      "Este es el link de compra, gracias por preferirnos ==>\n",
      "https://www.mercadopago.com.co/checkout/v1/payment/redirect/?source=link&preference-id=705767226-dc0e4460-5e4e-40cb-9c3f-52a98d2cf27b&router-request-id=ac39a6cf-2b80-455c-8a76-43de5ac59d2a\n"
     ]
    }
   ],
   "source": [
    "\n",
    "name= input(\"Escribe tu nombre\")\n",
    "print(name,\"Escoge un curso:\")\n",
    "print(cursos[0],cursos[1],cursos[2])\n",
    "usuario= int(input(\"Escoge un curso\"))\n",
    "#1.Le preguntamos el curso que quiere el cliente\n",
    "if usuario == 1:\n",
    "    print(informacion[0])\n",
    "if  usuario == 2:\n",
    "    print(informacion[1])\n",
    "if usuario == 3:\n",
    "    print(informacion[2])\n",
    "#SEGUNDO PROCESO: PREGUNTARLE SI ESTA INTERESADO EN EL CURSO O NO\n",
    "mensaje = int(input(\"Escribe 0 para salir y 1 para comprar==>\"))\n",
    "if mensaje == 1:\n",
    "    print(\"Este es el link de compra, gracias por preferirnos ==>\")\n",
    "    print(linkCompra)\n",
    "if mensaje == 0:\n",
    "    print(\"Hasta pronto sigue educandote con Aeon Merx\")\n",
    "  "
   ]
  },
  {
   "cell_type": "markdown",
   "id": "447fe6ee-535f-4035-97bd-8f82125902c1",
   "metadata": {
    "tags": []
   },
   "source": [
    "<h1 style=\"text-align:center;\"> PYTHON CLASS FOR I.A </h1>\n"
   ]
  },
  {
   "cell_type": "markdown",
   "id": "bfb8e1cc-65aa-43de-9852-e10cb3d79f79",
   "metadata": {},
   "source": [
    "<h4 style=\"color: red; text-align:center;\"> TIPOS DE DATOS </h4> "
   ]
  },
  {
   "cell_type": "raw",
   "id": "de64a9f6-d27a-438b-bf62-25513caa62c1",
   "metadata": {},
   "source": [
    "CADA LENGUAJE DE PROGRAMACIÓN TIENE CIERTOS TIPOS DE DATOS QUE PUEDE ALMACENAR, Y CON LOS CUALES EL LENGUAJE DE PROGRAMACIÓN OPERA.\n",
    "CUANDO GUARDAMOS INFORMACIÓN EN UNA VARIABLE ESTA INFORMACIÓN ES UN TIPO DE DATO DE PYTHON O VARIOS TIPOS ESPECÍFICOS.\n",
    "ES IMPORTANTE CONOCER COMO SE ESTRUCTURA ESTE BONITO LENGUAJE."
   ]
  },
  {
   "cell_type": "markdown",
   "id": "eb093716-f530-4b10-bf8b-2535ffca32f2",
   "metadata": {},
   "source": [
    "<p> EN LA TABLA SIGUIENTE OBSERVAREMOS TODOS LOS TIPOS DE DATOS EN PYTHON </p>"
   ]
  },
  {
   "cell_type": "markdown",
   "id": "9038206c-86dd-4b27-b5e9-5ef0a20ee85f",
   "metadata": {},
   "source": [
    "<img src=\"https://image.slidesharecdn.com/python1-140515085114-phpapp01/95/introduccion-a-python-clase-1-8-638.jpg?cb=1400143933\">\n"
   ]
  },
  {
   "cell_type": "markdown",
   "id": "932f14ed-33d5-44bd-a5c0-8848ffff8aca",
   "metadata": {},
   "source": [
    "<h2> LOS 4 TIPOS DE DATOS MAS IMPORTANTES QUE DEBES SABER SON </h2>\n",
    "-ENTERO\n",
    "-DECIMAL O FLOTANTE\n",
    "-STRING O CADENA DE CARACTERES\n",
    "-BOOLEANO O LÓGICO DONDE SUS POSIBLES VALORES SON FALSO O VERDADERO"
   ]
  },
  {
   "cell_type": "code",
   "execution_count": 4,
   "id": "0c52230b-f6fd-4dd5-8e01-b467ac7e51e6",
   "metadata": {},
   "outputs": [
    {
     "name": "stdout",
     "output_type": "stream",
     "text": [
      "<class 'float'> <class 'int'>\n",
      "Este es: 6\n",
      "Este es: 4.5\n",
      "Este es: palabrita\n",
      "Este es: True\n"
     ]
    }
   ],
   "source": [
    "# int , float, string , bool\n",
    "x = 4.5\n",
    "y = 4\n",
    "entero,decimal,caracteres,booleano = 6, 4.5, \"palabrita\",True\n",
    "print(type(x), type(y))\n",
    "print(\"Este es:\",entero)\n",
    "print(\"Este es:\",decimal)\n",
    "print(\"Este es:\",caracteres)\n",
    "print(\"Este es:\",booleano)"
   ]
  },
  {
   "cell_type": "raw",
   "id": "b6ad76d1-7b74-4453-b3bd-2de781153d8a",
   "metadata": {},
   "source": [
    "OPERADORES:"
   ]
  },
  {
   "cell_type": "code",
   "execution_count": 5,
   "id": "e3f17163-1daa-4557-b8be-a156e5d71d67",
   "metadata": {},
   "outputs": [
    {
     "name": "stdout",
     "output_type": "stream",
     "text": [
      "True\n",
      "False\n",
      "True\n",
      "False\n",
      "False\n"
     ]
    }
   ],
   "source": [
    "# > < >= <= == !=\n",
    "print(None==None)\n",
    "print(None==0)\n",
    "print(\"Hi\" >\"Hello\")\n",
    "print(\"Hi\" <\"Hello\")\n",
    "print(4.5 <= 3.5)"
   ]
  },
  {
   "cell_type": "markdown",
   "id": "8e14245d-450e-4dfa-9229-eaf8203edbc5",
   "metadata": {},
   "source": [
    "<H2 style=\"text-align:center;\"> CONVERSION A STRING </H2>"
   ]
  },
  {
   "cell_type": "code",
   "execution_count": 6,
   "id": "09bed8c2-9dd9-4666-8b8a-054f1b1a59a9",
   "metadata": {},
   "outputs": [
    {
     "name": "stdout",
     "output_type": "stream",
     "text": [
      "hola5\n",
      "11\n",
      "5.0\n",
      "False\n",
      "True\n",
      "True\n"
     ]
    }
   ],
   "source": [
    "\n",
    "#CONVERSION A STRING\n",
    "print(\"hola\"+ str(5))\n",
    "#CONVERSIÓN A ENTERO\n",
    "print(int(\"5\") + 6)\n",
    "#CONVERSIÓN A DECIMAL O FLOTANTE\n",
    "print(float(5))\n",
    "#CONVERSIÓN A BOOLEANO\n",
    "print(bool(0))\n",
    "print(bool(1))\n",
    "print(bool(\"hola\"))"
   ]
  },
  {
   "cell_type": "markdown",
   "id": "3b947b58-78af-40ec-94fd-bcfb0b4712b8",
   "metadata": {},
   "source": [
    "<h3 style=\"text-align:center; color: green;\"> OPERADORES ARITMÉTICOS </h3>"
   ]
  },
  {
   "cell_type": "code",
   "execution_count": 7,
   "id": "f9677229-3456-4f54-8879-ee90f112a4c9",
   "metadata": {},
   "outputs": [
    {
     "name": "stdout",
     "output_type": "stream",
     "text": [
      "10\n",
      "4\n",
      "12\n",
      "5.0\n",
      "5.5\n",
      "5\n",
      "125\n"
     ]
    }
   ],
   "source": [
    "#OPERADORES ARITMÈTICOS\n",
    "print(4+6)\n",
    "print(6-2)\n",
    "print(6*2)\n",
    "print(10/2)\n",
    "print(11/2)\n",
    "print(11//2)\n",
    "print(5**3)\n",
    "\n"
   ]
  },
  {
   "cell_type": "code",
   "execution_count": 8,
   "id": "785bd76b-0634-4bbf-b171-006cbc952403",
   "metadata": {},
   "outputs": [
    {
     "name": "stdout",
     "output_type": "stream",
     "text": [
      "6\n",
      "5\n",
      "4\n",
      "3\n",
      "True\n",
      "False\n",
      "nan\n"
     ]
    }
   ],
   "source": [
    "#LIBRERÍA MATH\n",
    "import math\n",
    "# Devuelve el entero más próximo mayor o igual que x.\n",
    "print(math.ceil(5.4))\n",
    "# Devuelve el entero más próximo menor o igual que x.\n",
    "print(math.floor(5.4))\n",
    "# Devuelve el máximo común divisor  de los números a y b.\n",
    "print(math.gcd(12,16))\n",
    "print(math.gcd(21,6))\n",
    "# Devuelve el booleano True si x es un NaN (\"Not a Number\").--PENDIENTE*\n",
    "print(math.isnan(math.nan))\n",
    "print(math.isnan(5))\n",
    "#Valor equivalente a no es un número\n",
    "print(math.nan)\n",
    "#Variables\n",
    "\n",
    "      "
   ]
  },
  {
   "cell_type": "code",
   "execution_count": 9,
   "id": "3274a26d-42b8-400c-b870-0c5aea94a365",
   "metadata": {},
   "outputs": [
    {
     "name": "stdout",
     "output_type": "stream",
     "text": [
      "2.718281828459045\n",
      "3.141592653589793\n",
      "2.6020599913279625\n"
     ]
    }
   ],
   "source": [
    "# Número de Euler\n",
    "print(math.e)\n",
    "#Número Pi\n",
    "print(math.pi)\n",
    "# math log10(x): Devuelve el logaritmo en base 10 de x.\n",
    "print(math.log10(400))\n"
   ]
  },
  {
   "cell_type": "code",
   "execution_count": 10,
   "id": "5a7d57bc-c4b3-4b9a-8f72-c5d9317405ac",
   "metadata": {},
   "outputs": [
    {
     "name": "stdout",
     "output_type": "stream",
     "text": [
      "0.9960851708717215\n",
      "-0.044242678085070965\n",
      "1.3386902103511544\n",
      "15469.860468532228\n",
      "1.5707963267948966\n"
     ]
    }
   ],
   "source": [
    "#Funciones trigonométricas\n",
    "#math.cos(x): Devuelve el coseno de x.\n",
    " #math.sin(x): Devuelve el seno de x. \n",
    " #math.tan(x): Devuelve la tangente de x.\n",
    "print(math.cos(220))\n",
    "print(math.sin(110))\n",
    "print(math.tan(180))\n",
    "#math.degrees(x): Convierte un ángulo de grados sexagesimales a radianes.\n",
    "print(math.degrees(270))\n",
    "#math.radians(x): Convierte un ángulo de radianes a grados sexagesimales\n",
    "print(math.radians(90))\n"
   ]
  },
  {
   "cell_type": "code",
   "execution_count": 11,
   "id": "a10fea62-53ac-4d70-a8d0-088de33fdc08",
   "metadata": {},
   "outputs": [
    {
     "name": "stdout",
     "output_type": "stream",
     "text": [
      "1\n",
      "True\n",
      "False\n",
      "False\n",
      "True\n",
      "False\n"
     ]
    }
   ],
   "source": [
    "print(10%3)\n",
    "print(1<3)\n",
    "print(1>5)\n",
    "print(1<=0)\n",
    "print(1!=3)\n",
    "print(5==6)\n"
   ]
  },
  {
   "cell_type": "markdown",
   "id": "1b9eabd1-8552-419e-990e-2e9bc78039ec",
   "metadata": {},
   "source": [
    "<h3 style=\"text-align:center; color: green;\">OPERADORES LÒGICOS </h3>"
   ]
  },
  {
   "cell_type": "code",
   "execution_count": 12,
   "id": "d84de47d-042d-4259-be0a-d80829012b4c",
   "metadata": {},
   "outputs": [
    {
     "name": "stdout",
     "output_type": "stream",
     "text": [
      "False\n"
     ]
    }
   ],
   "source": [
    "user , password = \"root\",\"123\"\n",
    "is_login = user ==\"admin\" and password == \"123\"\n",
    "print(is_login)"
   ]
  },
  {
   "cell_type": "code",
   "execution_count": 13,
   "id": "885956d3",
   "metadata": {},
   "outputs": [
    {
     "name": "stdout",
     "output_type": "stream",
     "text": [
      "True\n"
     ]
    }
   ],
   "source": [
    "#and\n",
    "age = 40\n",
    "is_adult = age >16 and age <60\n",
    "print(is_adult)\n"
   ]
  },
  {
   "cell_type": "code",
   "execution_count": 14,
   "id": "18ecd175-4e25-410a-870e-bea10b184172",
   "metadata": {},
   "outputs": [
    {
     "name": "stdout",
     "output_type": "stream",
     "text": [
      "False\n",
      "True\n"
     ]
    }
   ],
   "source": [
    "#not \n",
    "is_not_adult = not(is_adult)\n",
    "is_not_allow = not(is_login)\n",
    "print(is_not_adult)\n",
    "print(is_not_allow)"
   ]
  },
  {
   "cell_type": "code",
   "execution_count": 15,
   "id": "46a4670e-29aa-439f-a303-233bc14628cc",
   "metadata": {},
   "outputs": [
    {
     "name": "stdout",
     "output_type": "stream",
     "text": [
      "True\n"
     ]
    }
   ],
   "source": [
    "name = \"Paul\"\n",
    "is_student = name==\"Paul\" or name==\"Mark\"\n",
    "print(is_student)"
   ]
  },
  {
   "cell_type": "code",
   "execution_count": 16,
   "id": "ff894f83-ef63-426b-89bf-cd34a4aa678c",
   "metadata": {},
   "outputs": [
    {
     "name": "stdout",
     "output_type": "stream",
     "text": [
      "Welcome to \"Mcdonald's\"  Amigo\n"
     ]
    }
   ],
   "source": [
    "word = \"Amigo\"\n",
    "palabra = 'Welcome to \"Mcdonald\\'s\" '\n",
    "print(palabra,word)"
   ]
  },
  {
   "cell_type": "code",
   "execution_count": 17,
   "id": "82f96d3e-18a7-49a7-b209-b16f5e691eff",
   "metadata": {},
   "outputs": [
    {
     "name": "stdout",
     "output_type": "stream",
     "text": [
      "False\n",
      "True\n",
      "True\n",
      "True\n"
     ]
    }
   ],
   "source": [
    "print(1<4 and 1>5)\n",
    "print(1<2 and 1<7)\n",
    "print(1<4 or 22>11)\n",
    "print(1<2 or 1>8)"
   ]
  },
  {
   "cell_type": "markdown",
   "id": "a0e817a3-e697-42ed-9f58-13b0296af4d1",
   "metadata": {},
   "source": [
    "<h2 style=\"text-align:center; color: purple;\"> CALCULADORA </h2>"
   ]
  },
  {
   "cell_type": "code",
   "execution_count": 18,
   "id": "99754c23-6829-48f3-ba43-517a9096a559",
   "metadata": {},
   "outputs": [
    {
     "name": "stdout",
     "output_type": "stream",
     "text": [
      "Escribe un numero56\n",
      "Escribe otro número65\n",
      "['+', '-', '*', '/']\n",
      "Elige el signo según la operación+\n",
      "El resultado es : 121\n"
     ]
    }
   ],
   "source": [
    "numero1 = int(input(\"Escribe un numero\"))\n",
    "numero2 = int(input(\"Escribe otro número\"))\n",
    "elecciones = [\n",
    "    \"+\",\"-\",\"*\",\"/\"\n",
    "    ]\n",
    "print(elecciones)\n",
    "decision=input(\"Elige el signo según la operación\")\n",
    "if decision==\"+\":\n",
    "    print(\"El resultado es :\" , numero1+numero2)\n",
    "elif decision == \"-\":\n",
    "    print(\"El resultado es: \",numero1-numero2)\n",
    "elif decision == \"*\":\n",
    "    print(\"El resultado es: \",numero1*numero2)\n",
    "elif decision == \"/\":\n",
    "    print(\"El resultado es: \",numero1/numero2)\n"
   ]
  },
  {
   "cell_type": "markdown",
   "id": "8c3f8bc8-1153-4534-a881-cc5744588db7",
   "metadata": {},
   "source": [
    "<h3> FUNCIONES </h3>"
   ]
  },
  {
   "cell_type": "code",
   "execution_count": 19,
   "id": "0d88917b-22cb-4844-8bdd-915222226524",
   "metadata": {},
   "outputs": [
    {
     "name": "stdout",
     "output_type": "stream",
     "text": [
      "hello here\n",
      "False\n"
     ]
    }
   ],
   "source": [
    "#lower\n",
    "word = \"Hello here\"\n",
    "print(word.lower())\n",
    "print(word.islower())"
   ]
  },
  {
   "cell_type": "code",
   "execution_count": 20,
   "id": "92037d94-04d9-4b13-a7e4-77246bc388c4",
   "metadata": {},
   "outputs": [
    {
     "name": "stdout",
     "output_type": "stream",
     "text": [
      "3\n",
      "1\n"
     ]
    }
   ],
   "source": [
    "#count\n",
    "print(word.count('e'))\n",
    "print(word.find('e'))"
   ]
  },
  {
   "cell_type": "code",
   "execution_count": 21,
   "id": "700653b6-0fc7-4458-8282-c444adf06a55",
   "metadata": {},
   "outputs": [
    {
     "name": "stdout",
     "output_type": "stream",
     "text": [
      "Welcome Paul to the AI course\n",
      "Mary has 5 pets \n"
     ]
    }
   ],
   "source": [
    "#format\n",
    "print('Welcome {} to the AI course'.format('Paul'))\n",
    "print(\"{} has {} pets \".format('Mary',5))"
   ]
  },
  {
   "cell_type": "code",
   "execution_count": 22,
   "id": "c4693bb3-3b27-4193-80fc-ff10186a6a60",
   "metadata": {},
   "outputs": [
    {
     "name": "stdout",
     "output_type": "stream",
     "text": [
      "['I', 'like', 'extreme', 'sports']\n",
      "['I', 'like', 'extreme sports']\n"
     ]
    }
   ],
   "source": [
    "#split\n",
    "new_word = \"I like extreme sports\"\n",
    "print(new_word.split())\n",
    "print(new_word.split(' ',2))"
   ]
  },
  {
   "cell_type": "markdown",
   "id": "b12dbe4c-fe8a-4e54-8b5f-f79ab7ddc9fe",
   "metadata": {},
   "source": [
    "<h1 style=\"text-align:center;\">ESTRUCTURA DE DATOS </h1>"
   ]
  },
  {
   "cell_type": "raw",
   "id": "11f04ea0-21c9-4511-8e68-85086497520f",
   "metadata": {},
   "source": [
    "LISTAS "
   ]
  },
  {
   "cell_type": "markdown",
   "id": "b55e5ede-5d32-47c1-9068-a772027b8842",
   "metadata": {},
   "source": [
    "<p style=\"text-align:center;color: orangered;\"> El primer elemento de una lista tiene indice 0 </p>"
   ]
  },
  {
   "cell_type": "code",
   "execution_count": 23,
   "id": "778b3615-9e78-4c7f-8de3-9f5bb97f0523",
   "metadata": {},
   "outputs": [
    {
     "name": "stdout",
     "output_type": "stream",
     "text": [
      "[60, 7.8, 'string', True, 'ultimo']\n",
      "7.8\n",
      "ultimo\n",
      "[60, 7.8, 'string']\n",
      "[60, 7.8, 'string']\n",
      "[True]\n",
      "[True, 'ultimo']\n"
     ]
    }
   ],
   "source": [
    "list_things = [60,7.8,\"string\",True,\"ultimo\"]\n",
    "print(list_things)\n",
    "print(list_things[1])\n",
    "print(list_things[-1])\n",
    "#Slicing\n",
    "print(list_things[0:3])\n",
    "print(list_things[:3])\n",
    "print(list_things[3:4])\n",
    "print(list_things[3:])"
   ]
  },
  {
   "cell_type": "code",
   "execution_count": 24,
   "id": "1cfcad5d-aa3c-4c34-9433-07328aab9863",
   "metadata": {},
   "outputs": [
    {
     "name": "stdout",
     "output_type": "stream",
     "text": [
      "False\n",
      "True\n"
     ]
    }
   ],
   "source": [
    " # not in , in \n",
    "list_numbers = [ 1,2,3,4,5]\n",
    "print(10 in list_numbers)\n",
    "print(10 not in list_numbers)"
   ]
  },
  {
   "cell_type": "code",
   "execution_count": 25,
   "id": "3aed2ce5-71d4-42db-9108-f83498ec2084",
   "metadata": {},
   "outputs": [
    {
     "name": "stdout",
     "output_type": "stream",
     "text": [
      "['tres', 4, 5, 6]\n",
      "p\n"
     ]
    }
   ],
   "source": [
    "# Mutability\n",
    "numbers  = [3,4,5,6]\n",
    "numbers[0] = \"tres\"\n",
    "print(numbers)\n",
    "\n",
    "word = \"palabra\"\n",
    "print(word[0])\n",
    "# word[0] = \"J\" ----ESTO GENERA ERROR, CON LOS STRINGS NO HAY MUTABILIDAD-------"
   ]
  },
  {
   "cell_type": "code",
   "execution_count": 26,
   "id": "ee8689e8-7c02-4733-91fa-6fbfdc24413a",
   "metadata": {},
   "outputs": [
    {
     "name": "stdout",
     "output_type": "stream",
     "text": [
      "4\n",
      "a\n"
     ]
    }
   ],
   "source": [
    "#Order\n",
    "print(numbers[1])\n",
    "print(word[1])"
   ]
  },
  {
   "cell_type": "markdown",
   "id": "604f11d0-05ca-4e8d-847d-fc2dbae1af4c",
   "metadata": {},
   "source": [
    "<h4> FUNCIONES DE LISTAS </h4>"
   ]
  },
  {
   "cell_type": "code",
   "execution_count": 27,
   "id": "0f1cd415-2e16-47b6-bb58-1de66cfe38bb",
   "metadata": {},
   "outputs": [
    {
     "name": "stdout",
     "output_type": "stream",
     "text": [
      "6\n",
      "4\n"
     ]
    }
   ],
   "source": [
    "#len\n",
    "#CALCULA LA LONGITUD DE LA LISTA\n",
    "numbers = [1,20,3,4,5,6]\n",
    "letters = [\"a\",\"b\",\"c\",\"d\"]\n",
    "print(len(numbers))\n",
    "print(len(letters))"
   ]
  },
  {
   "cell_type": "code",
   "execution_count": 28,
   "id": "2bf700a5-a949-4a00-93dd-99bb05c8d5c6",
   "metadata": {},
   "outputs": [
    {
     "name": "stdout",
     "output_type": "stream",
     "text": [
      "20\n",
      "d\n"
     ]
    }
   ],
   "source": [
    "#max\n",
    "print(max(numbers))\n",
    "print(max(letters))\n",
    " # ESTO NOS DA ERROR POR SER DE DIVEROS TIPOS print(max(list_mix))"
   ]
  },
  {
   "cell_type": "code",
   "execution_count": 29,
   "id": "63e1f16f",
   "metadata": {},
   "outputs": [
    {
     "name": "stdout",
     "output_type": "stream",
     "text": [
      "1\n",
      "d\n"
     ]
    }
   ],
   "source": [
    "#min\n",
    "print(min(numbers))\n",
    "print(max(letters))"
   ]
  },
  {
   "cell_type": "code",
   "execution_count": 30,
   "id": "90063820",
   "metadata": {
    "scrolled": true
   },
   "outputs": [
    {
     "name": "stdout",
     "output_type": "stream",
     "text": [
      "[1, 3, 4, 5, 6, 20]\n",
      "[1, 20, 3, 4, 5, 6]\n"
     ]
    }
   ],
   "source": [
    "#sorted retorna una copia de lista ordenada de mayor a menor\n",
    "print(sorted(numbers))\n",
    "print(numbers)"
   ]
  },
  {
   "cell_type": "code",
   "execution_count": 31,
   "id": "88fa6d80",
   "metadata": {},
   "outputs": [
    {
     "name": "stdout",
     "output_type": "stream",
     "text": [
      "Steven - Paul - John\n",
      "Ana & Andrea & Nicoll\n"
     ]
    }
   ],
   "source": [
    "#join\n",
    "print(' - '.join(['Steven','Paul','John']))\n",
    "print(' & '.join(['Ana','Andrea','Nicoll']))"
   ]
  },
  {
   "cell_type": "code",
   "execution_count": 32,
   "id": "bb51f07e",
   "metadata": {},
   "outputs": [
    {
     "name": "stdout",
     "output_type": "stream",
     "text": [
      "['a', 'b', 'c', 'd', 'g', 'm', 5]\n",
      "['a', 'b', 'c', 'd', 'g', 'm', 5, 'z', 'h']\n"
     ]
    }
   ],
   "source": [
    "#append añade un elemento al final de la lista\n",
    "#Podemos agregar cualquier tipo de dato\n",
    "letters = ['a','b','c','d','g']\n",
    "letters.append('m')\n",
    "#letters.append(['n,x'])\n",
    "letters.append(5)\n",
    "print(letters)\n",
    "#Si queremos agregar dos elementos o más\n",
    "#extend \n",
    "letters.extend(['z','h'])\n",
    "print(letters)"
   ]
  },
  {
   "cell_type": "code",
   "execution_count": 33,
   "id": "3c616307",
   "metadata": {},
   "outputs": [
    {
     "name": "stdout",
     "output_type": "stream",
     "text": [
      "['a', 'b', 'c', 'd', 'g', 'm', 5, 'h']\n",
      "['b', 'c', 'd', 'g', 'm', 5, 'h']\n"
     ]
    }
   ],
   "source": [
    "#remove \n",
    "letters.remove('z')\n",
    "print(letters)\n",
    "#pop\n",
    "letters.pop(0)\n",
    "print(letters)"
   ]
  },
  {
   "cell_type": "code",
   "execution_count": 34,
   "id": "d7ffb73e",
   "metadata": {},
   "outputs": [
    {
     "name": "stdout",
     "output_type": "stream",
     "text": [
      "['b', 'c', 'd', 'g', 'm', 5]\n"
     ]
    }
   ],
   "source": [
    "#Eliminar el último elemento\n",
    "letters.pop(-1)\n",
    "print(letters)"
   ]
  },
  {
   "cell_type": "markdown",
   "id": "7599fbe8-b27c-4516-83dc-8f3c02265b64",
   "metadata": {},
   "source": [
    "<h4 style=\"text-align:center; color: green;\"> TUPLAS </h4>"
   ]
  },
  {
   "cell_type": "raw",
   "id": "4d2451f4-72bf-4f2a-8d40-a115686765ca",
   "metadata": {},
   "source": [
    "LAS TUPLAS NO SOPORTAN CAMBIOS EN SUS ELEMENTOS\n",
    "NO SON MUTABLES"
   ]
  },
  {
   "cell_type": "code",
   "execution_count": 35,
   "id": "c2fa3f49-10c1-4088-819a-2a270bbbfdf8",
   "metadata": {},
   "outputs": [
    {
     "name": "stdout",
     "output_type": "stream",
     "text": [
      "34.567\n",
      "dimensions length: 45 width: 67 height : 90 \n"
     ]
    }
   ],
   "source": [
    "location_home = (34.567,56.890)\n",
    "print(location_home[0])\n",
    "#location_home[0] = 78.78\n",
    "dimensions = (45,67,90)\n",
    "#Los valores de las tuplas pueden ser asignados a otras variables\n",
    "lenght,width,height =  dimensions\n",
    "#Recordando lo ya visto con la funcion format()\n",
    "print('dimensions length: {} width: {} height : {} '.format(lenght,width,height))\n",
    "#CUANDO USAR UNA TUPLA?\n",
    "#CUANDO LOS AVLORES ESTEN RELACIONADOS Y QUE NO LOS VAMOS A CAMBIAR"
   ]
  },
  {
   "cell_type": "markdown",
   "id": "7746f180-7fd5-43c0-a4da-53d905ea5f5a",
   "metadata": {},
   "source": [
    "<h3 style=\"text-align:center; color:blue\">SETS </h3>"
   ]
  },
  {
   "cell_type": "raw",
   "id": "87542e5c-1ec9-4b9b-83e5-f35a31873977",
   "metadata": {},
   "source": [
    "UN SET ES UNA COLECCIÓN DE ELEMENTOS ÚNICOS QUE NO ESTAN ORDENADOS, LOS ELEMENTOS DUPLICADOS DE LA LISTA VAN A SER ELIMINADOS"
   ]
  },
  {
   "cell_type": "code",
   "execution_count": 36,
   "id": "4c768807-03f2-4418-8df3-576dda57f86a",
   "metadata": {},
   "outputs": [
    {
     "name": "stdout",
     "output_type": "stream",
     "text": [
      "{4, 6, 8, 9, 10}\n"
     ]
    }
   ],
   "source": [
    "#SET ELIMINA Y AÑADE DATOS DE MANERA RANDOM\n",
    "numbers = [4,6,8,8,9,10,10]\n",
    "unique_numbers = set(numbers)\n",
    "print(unique_numbers)\n",
    "# Los números duplicados han sido eliminados\n"
   ]
  },
  {
   "cell_type": "raw",
   "id": "e24b2dcd-b7fa-4434-afa5-d0333920f2c7",
   "metadata": {},
   "source": [
    "CREEMOS UN SET"
   ]
  },
  {
   "cell_type": "code",
   "execution_count": 37,
   "id": "87d62281-fa22-41cb-88a7-5c9bbaef28a3",
   "metadata": {},
   "outputs": [
    {
     "name": "stdout",
     "output_type": "stream",
     "text": [
      "False\n"
     ]
    }
   ],
   "source": [
    "fruits = {'banana','apple','orange'}\n",
    "print('mango' in fruits)"
   ]
  },
  {
   "cell_type": "code",
   "execution_count": 38,
   "id": "e5917bb2-171f-452c-9026-6364ab1b15fc",
   "metadata": {},
   "outputs": [
    {
     "name": "stdout",
     "output_type": "stream",
     "text": [
      "{'orange', 'banana', 'mango', 'apple'}\n",
      "{'orange', 'apple', 'pera', 'banana', 'mango'}\n"
     ]
    }
   ],
   "source": [
    "#AGREGAR ELEMENTOS DENTRO DE UN SET\n",
    "#FUNCIÓN ADD\n",
    "fruits.add('mango')\n",
    "print(fruits)\n",
    "#LO AÑADE EN CUALQUIER POSICIÓN\n",
    "fruits.add('pera')\n",
    "print(fruits)"
   ]
  },
  {
   "cell_type": "code",
   "execution_count": 39,
   "id": "15a56199-9b7e-4b87-b997-6cff7035aa74",
   "metadata": {},
   "outputs": [
    {
     "name": "stdout",
     "output_type": "stream",
     "text": [
      "{'apple', 'pera', 'banana', 'mango'}\n"
     ]
    }
   ],
   "source": [
    "#ELIMINAR ELEMENTOS\n",
    "\n",
    "fruits.pop()\n",
    "print(fruits)"
   ]
  },
  {
   "cell_type": "markdown",
   "id": "b73ffde9-4446-499c-8957-c722e42d2eb0",
   "metadata": {},
   "source": [
    "<h3 style=\"background-color: red; color: white; text-align:center;\"> DICCIONARIOS </h3>"
   ]
  },
  {
   "cell_type": "raw",
   "id": "b9ab9914-99a6-45d3-9b0a-e160ea7f83f8",
   "metadata": {},
   "source": [
    "SON UN TIPO DE ESTRUCTURA DE DATOS QUE NOS PERMITEN\n",
    "GUARDAR ELEMENTOS CONFORMADOS POR CLAVE Y VALOR\n"
   ]
  },
  {
   "cell_type": "code",
   "execution_count": 40,
   "id": "ef6aaaa5-feda-4046-a344-2f9dcf2ddfce",
   "metadata": {},
   "outputs": [
    {
     "name": "stdout",
     "output_type": "stream",
     "text": [
      "Mark\n",
      "30\n"
     ]
    }
   ],
   "source": [
    "elements = {'name': 'Mark','lastname': 'Harris','age': 30}\n",
    "print(elements['name'])\n",
    "print(elements['age'])\n",
    "#LOS DICCIONARIOS NO SE LLAMAN POR SU POSICIÓN COMO LAS LISTAS"
   ]
  },
  {
   "cell_type": "code",
   "execution_count": 41,
   "id": "a64126fc-5b8a-4251-b1ce-125d6ace9847",
   "metadata": {},
   "outputs": [
    {
     "name": "stdout",
     "output_type": "stream",
     "text": [
      "404 Not found\n"
     ]
    }
   ],
   "source": [
    "# Si no nos acordamos la clave\n",
    "# get\n",
    "# 1 argumento la clave que buscamos \n",
    "# 2 argumento mensaje si no lo encuentra\n",
    "print(elements.get('hobbie','404 Not found'))"
   ]
  },
  {
   "cell_type": "code",
   "execution_count": 42,
   "id": "8b09f50c-7e07-4f3e-8071-45370000bac3",
   "metadata": {},
   "outputs": [
    {
     "name": "stdout",
     "output_type": "stream",
     "text": [
      "Steven\n"
     ]
    }
   ],
   "source": [
    "dic_students = {1:'Steven', 2: 'John', 3: 'Paul'}\n",
    "print(dic_students.get(1))"
   ]
  },
  {
   "cell_type": "raw",
   "id": "4ef45fd8-a049-4dab-940c-aca1072e77cc",
   "metadata": {},
   "source": [
    "NO SE ESTA REFIRIENDO A UNO COMO POSICIÓN \n",
    "SINO COMO CLAVE "
   ]
  },
  {
   "cell_type": "code",
   "execution_count": 43,
   "id": "159c4797-a198-4555-a76f-9f1cdd074f60",
   "metadata": {},
   "outputs": [
    {
     "name": "stdout",
     "output_type": "stream",
     "text": [
      "New York\n"
     ]
    }
   ],
   "source": [
    "# USAR TUPLAS COMO CLAVE \n",
    "dic_coordenadas = {(100,400): 'New York', (300,500):'Miami'}\n",
    "print(dic_coordenadas.get((100,400)))\n",
    "#EL VALOR SE OBTIENE CON LA CLAVE \n",
    "#EN ESTE CASO LA CLAVE ES UNA TUPLA"
   ]
  },
  {
   "cell_type": "code",
   "execution_count": 44,
   "id": "edac79bc-6b75-4b30-a01d-85b2be657aa6",
   "metadata": {},
   "outputs": [
    {
     "name": "stdout",
     "output_type": "stream",
     "text": [
      "{1: 'Juan', 2: 'Juliana'}\n",
      "{1: 'Juan', 2: 'Juliana', 3: 'Mariana'}\n"
     ]
    }
   ],
   "source": [
    "# AÑADIR ELEMENTOS A DICCIONARIOS\n",
    "dic_workers = {1:'Juan',2:'Juliana'}\n",
    "print(dic_workers)\n",
    "dic_workers[3] = 'Mariana'\n",
    "print(dic_workers)"
   ]
  },
  {
   "cell_type": "code",
   "execution_count": 45,
   "id": "a6927a90-3f18-4993-8ac6-6015d9959d31",
   "metadata": {},
   "outputs": [
    {
     "name": "stdout",
     "output_type": "stream",
     "text": [
      "{2: 'Juliana', 3: 'Mariana'}\n"
     ]
    }
   ],
   "source": [
    "#PARA ELIMINAR ELEMENTOS OPERAMOS CON SU CLAVE\n",
    "dic_workers.pop(1)\n",
    "print(dic_workers)"
   ]
  },
  {
   "cell_type": "code",
   "execution_count": 46,
   "id": "55e43499-b1ed-4fa9-bef7-b5c1617c09a8",
   "metadata": {},
   "outputs": [
    {
     "name": "stdout",
     "output_type": "stream",
     "text": [
      "False\n",
      "True\n",
      "True\n",
      "True\n"
     ]
    }
   ],
   "source": [
    "# not in , in\n",
    "#VERIFICAR SI LA CLAVE O EL VALOR ESTÁN EN LA LISTA\n",
    "#PARA LA CLAVE\n",
    "print(1 in dic_workers)\n",
    "print(2 in dic_workers)\n",
    "#PARA EL VALOR\n",
    "print('Juliana' in dic_workers.values())\n",
    "#VERIFICAR SI NO ESTÁ EN LA LISTA\n",
    "print('Karen' not in dic_workers.values())"
   ]
  },
  {
   "cell_type": "raw",
   "id": "40d5b8fb-56c9-4d5a-bd7c-c82b547c7bf9",
   "metadata": {},
   "source": [
    "CONVERTIR  DE JSON A PYTHON"
   ]
  },
  {
   "cell_type": "code",
   "execution_count": 47,
   "id": "be45dc79-93b4-41ac-95aa-6982be2227e5",
   "metadata": {},
   "outputs": [
    {
     "name": "stdout",
     "output_type": "stream",
     "text": [
      "30\n"
     ]
    }
   ],
   "source": [
    "import json\n",
    "\n",
    "# some JSON:\n",
    "x = '{ \"name\":\"John\", \"age\":30, \"city\":\"New York\"}'\n",
    "\n",
    "# parse x:\n",
    "y = json.loads(x)\n",
    "\n",
    "# el resultado es un diccionario de python\n",
    "print(y[\"age\"])\n"
   ]
  },
  {
   "cell_type": "raw",
   "id": "e72d6f32-a515-4f21-8044-1ac817618d36",
   "metadata": {},
   "source": [
    "CONVERTIR  DE PYTHON  A JSON"
   ]
  },
  {
   "cell_type": "code",
   "execution_count": 48,
   "id": "b6f9e4c3-5ebe-44d4-8ab8-e04a93fa529f",
   "metadata": {},
   "outputs": [
    {
     "name": "stdout",
     "output_type": "stream",
     "text": [
      "{\"name\": \"John\", \"age\": 30, \"city\": \"New York\"}\n"
     ]
    }
   ],
   "source": [
    "import json\n",
    "\n",
    "# UN OBJETO PYTHON (OSEA UN DICCIONARIO) A CONTINUACIÓN:\n",
    "x = {\n",
    "  \"name\": \"John\",\n",
    "  \"age\": 30,\n",
    "  \"city\": \"New York\"\n",
    "}\n",
    "\n",
    "# Convertir en JSON\n",
    "y = json.dumps(x)\n",
    "\n",
    "# el resultado es un JSON string\n",
    "print(y)"
   ]
  },
  {
   "cell_type": "markdown",
   "id": "8102423a-a2da-46d9-886e-cde1598c3c27",
   "metadata": {},
   "source": [
    "<h1 style=\"text-align:center;\"> CONDICIONALES </h1>"
   ]
  },
  {
   "cell_type": "raw",
   "id": "c9f01a95-75c9-4302-bd69-63c709da91fe",
   "metadata": {},
   "source": [
    "CONTROL DE FLUJO\n",
    "ES UN BLOQUE DE CÓDIGO DONDE PODEMOS AGREGAR VARIAS INSTRUCCIONES"
   ]
  },
  {
   "cell_type": "raw",
   "id": "8e610f70-eb34-4d61-bf53-34d864938c88",
   "metadata": {},
   "source": [
    "CONDICIONAL IF \n",
    "Si se evalua verdadera se ejecuta la instrucción \n",
    "ELIF es la contracción entre else e if \n",
    "ELSE si las condiciones evaluadas en IF y ELIF son falsas se ejecuta"
   ]
  },
  {
   "cell_type": "code",
   "execution_count": 49,
   "id": "16d90f16-8215-40fc-858e-7f1b328ed16c",
   "metadata": {},
   "outputs": [
    {
     "name": "stdout",
     "output_type": "stream",
     "text": [
      "17 es mayor a 16\n"
     ]
    }
   ],
   "source": [
    "# if \n",
    "x , y = 17, 16\n",
    "if x > y :\n",
    "    print('{} es mayor a {}'.format(x,y))"
   ]
  },
  {
   "cell_type": "code",
   "execution_count": 50,
   "id": "1cee1fc2-d159-43e8-a55e-6556bb82b08d",
   "metadata": {},
   "outputs": [
    {
     "name": "stdout",
     "output_type": "stream",
     "text": [
      "Go to the beach\n"
     ]
    }
   ],
   "source": [
    "season = 'summer'\n",
    "list_friends = []\n",
    "beach_name = ''\n",
    "if season == 'summer':\n",
    "    print('Go to the beach')\n",
    "    list_friends = ['Carmen','Jose']\n",
    "    beach_name = 'Río de Janeiro'\n",
    "else:\n",
    "    print('Stay home')\n",
    "    #print(list_friends)\n",
    "#print(beach_name)"
   ]
  },
  {
   "cell_type": "code",
   "execution_count": 51,
   "id": "d64f7dd4-9428-437a-9635-657aada68ab9",
   "metadata": {},
   "outputs": [
    {
     "name": "stdout",
     "output_type": "stream",
     "text": [
      "Presupuesto total 2000\n"
     ]
    }
   ],
   "source": [
    "badget = 500\n",
    "holidays = 'India'\n",
    "if holidays =='New York':\n",
    "    badget = 1000\n",
    "elif holidays == 'India':\n",
    "    badget = 2000\n",
    "elif holidays == 'Brazil':\n",
    "    badget = 1500\n",
    "else:\n",
    "    badget = 50 \n",
    "    \n",
    "print('Presupuesto total {}'.format(badget))"
   ]
  },
  {
   "cell_type": "markdown",
   "id": "8b67a318-3ef4-4a77-a640-58f629a3e2a7",
   "metadata": {},
   "source": [
    "<H3 style=\"text-align:center; color:red;\"> FOR </H3>"
   ]
  },
  {
   "cell_type": "raw",
   "id": "45a265ea-25fc-4acd-9ba1-bce5b758e6b3",
   "metadata": {},
   "source": [
    "CICLO FOR EN UNA LISTA"
   ]
  },
  {
   "cell_type": "code",
   "execution_count": 52,
   "id": "3309dda7-429d-4e8d-bec6-7a955c3ef1de",
   "metadata": {},
   "outputs": [
    {
     "name": "stdout",
     "output_type": "stream",
     "text": [
      "1\n",
      "2\n",
      "3\n",
      "4\n",
      "\n",
      "Otro ejercicio\n",
      "\n",
      "1\n",
      "3\n"
     ]
    }
   ],
   "source": [
    "\n",
    "numbers = [1,2,3,4]\n",
    "for number in numbers:\n",
    "    print(number)\n",
    "#range\n",
    "#range(0,5,1)\n",
    "print('')\n",
    "print(\"Otro ejercicio\")\n",
    "print('')\n",
    "\n",
    "for number in range(1,4,2):\n",
    "    print(number)"
   ]
  },
  {
   "cell_type": "code",
   "execution_count": 53,
   "id": "766f8957-eccf-41f7-8e7d-dcbf43549df7",
   "metadata": {},
   "outputs": [
    {
     "name": "stdout",
     "output_type": "stream",
     "text": [
      "['white', 'black', 'red']\n",
      "['WHITE', 'BLACK', 'RED']\n"
     ]
    }
   ],
   "source": [
    "# FOR QUE CONVIERTE LOS ELEMENTOS EN MAYÚSCULAS O MINÚSCULAS\n",
    "#LUEGO LOS AGREGA A UNA LISTA VACÍA \n",
    "colors = ['White','Black','Red']\n",
    "lower_colors = []\n",
    "capitalized_colors = []\n",
    "for color in colors:\n",
    "    lower_colors.append(color.lower())\n",
    "    capitalized_colors.append(color.upper())\n",
    "print(lower_colors)\n",
    "print(capitalized_colors)"
   ]
  },
  {
   "cell_type": "raw",
   "id": "1422b1d7-d28b-4c5f-b732-faf6d7755590",
   "metadata": {},
   "source": [
    "CICLO FOR EN UN DICCIONARIO\n"
   ]
  },
  {
   "cell_type": "code",
   "execution_count": 54,
   "id": "f91f5c7a-72cc-460c-86e4-44dfb123b557",
   "metadata": {},
   "outputs": [
    {
     "name": "stdout",
     "output_type": "stream",
     "text": [
      "39\n",
      "45\n",
      "Mary\n",
      "Pablo\n",
      "Mary 39\n",
      "Pablo 45\n"
     ]
    }
   ],
   "source": [
    "# FOR USADO PARA IMPRIMIR ELEMENTOS DE UN DICCIONARIO\n",
    "#FOR USADO PARA IMPRIMIR CLAVES D EUN DICCIONARIO\n",
    "\n",
    "students = {'Mary': 39 , 'Pablo':45}\n",
    "for student in students.values():\n",
    "    print(student)\n",
    "for student in students:\n",
    "    print(student)\n",
    "for name,age  in students.items():\n",
    "    print(name,age)\n"
   ]
  },
  {
   "cell_type": "code",
   "execution_count": 3,
   "id": "c6a78e74-e548-4eb6-80c8-c439c20276f7",
   "metadata": {},
   "outputs": [
    {
     "name": "stdout",
     "output_type": "stream",
     "text": [
      "44\n"
     ]
    }
   ],
   "source": [
    "# EL CICLO FOR USADO PARA SUMAR VALORES DE DICCIONARIOS\n",
    "frutas = {'naranja':19 ,'manzanas':10,'limones':5, 'papaya': 10}\n",
    "count = 0\n",
    "for element in frutas.values():\n",
    "    count +=  element\n",
    "print(count)"
   ]
  },
  {
   "cell_type": "markdown",
   "id": "c552514f-178d-41cf-8ce8-f4433b2108b4",
   "metadata": {},
   "source": [
    "<h3 style=\"color:purple; background-color:black; font-size:50px; text-align:center;\"> CICLO WHILE (MIENTRAS) </h3>"
   ]
  },
  {
   "cell_type": "code",
   "execution_count": 56,
   "id": "86883168-142d-4d2c-810e-9bd8b6531f76",
   "metadata": {},
   "outputs": [
    {
     "name": "stdout",
     "output_type": "stream",
     "text": [
      "count 0\n",
      "count 1\n",
      "count 2\n",
      "count 3\n",
      "count 4\n"
     ]
    }
   ],
   "source": [
    "   #contador\n",
    "count = 0\n",
    "while count <5:\n",
    "        print('count {}'.format(count))\n",
    "        count += 1\n",
    "    \n"
   ]
  },
  {
   "cell_type": "code",
   "execution_count": 57,
   "id": "cd5abc84-9d72-4f3a-8289-1bb1bfef9391",
   "metadata": {},
   "outputs": [
    {
     "name": "stdout",
     "output_type": "stream",
     "text": [
      "[13, 8]\n"
     ]
    }
   ],
   "source": [
    "# JUEGO DE 21 DE CARTAS \n",
    "cards = [4,2,8,13]\n",
    "my_cards =  []\n",
    "\n",
    "while sum(my_cards)<21:\n",
    "    my_cards.append(cards.pop())\n",
    "print(my_cards)"
   ]
  },
  {
   "cell_type": "raw",
   "id": "aa111c3e-46cf-4b57-8149-bb94d5371aa4",
   "metadata": {},
   "source": [
    "¿CUANDO USAR FOR Y CUANDO USAR WHILE?\n",
    "#FOR : CANTIDAD DE ITERACIONES ES CONOCIDA\n",
    "#WHILE : CUANDO LA CANTIDAD DE ITERACIONES NO ES CONOCIDA\n"
   ]
  },
  {
   "cell_type": "markdown",
   "id": "40afe9ac-4db3-4d53-9433-cadc7c03d7e5",
   "metadata": {},
   "source": [
    "<strong> ¿COMO PODEMOS SALIR DE ESTOS CICLOS WHILE Y FOR? </strong>"
   ]
  },
  {
   "cell_type": "raw",
   "id": "25e519e4-1673-4fff-9ddf-9093634ea928",
   "metadata": {},
   "source": [
    "--break: salir del bucle\n",
    "--continue : salta una iteraciòn \n",
    "\n"
   ]
  },
  {
   "cell_type": "code",
   "execution_count": 58,
   "id": "a071ce2c-7e66-4fd0-87a5-3b1bf0445090",
   "metadata": {},
   "outputs": [
    {
     "name": "stdout",
     "output_type": "stream",
     "text": [
      "April 610\n"
     ]
    }
   ],
   "source": [
    "#break \n",
    "future_savings = {'January':130,'February': 160,'March':180,'April':140,'May':90}\n",
    "final_mounth = ''\n",
    "total = 0\n",
    "#mounth itera las claves osea los meses\n",
    "#money itera los valores osea los nùmeros\n",
    "#por medio de la funciòn items en este diccionario\n",
    "for mounth,money in future_savings.items():\n",
    "    #total es igual a la suma en cada iteraciòn de los valores numèricos\n",
    "    total  += money \n",
    "    #si total es mayor o igual a 500 \n",
    "    # final_mounth sera igual a mounth osea el mes en el que tendremos el dinero\n",
    "    if total >= 500:\n",
    "        final_mounth = mounth \n",
    "        #break rompe el ciclo cuando eso suceda \n",
    "        break\n",
    "        #imprimir las dos variables\n",
    "print(final_mounth,total)"
   ]
  },
  {
   "cell_type": "code",
   "execution_count": 59,
   "id": "5de99999-1337-4a66-89fb-a774b4fd1c5a",
   "metadata": {},
   "outputs": [
    {
     "name": "stdout",
     "output_type": "stream",
     "text": [
      " 520\n"
     ]
    }
   ],
   "source": [
    "# continue\n",
    "future_savings = {'January':130,'February': 160,'March':180,'April':140,'May':90}\n",
    "final_mounth = ''\n",
    "total = 0\n",
    "\n",
    "for mounth, money in future_savings.items():\n",
    "    if mounth == 'March':\n",
    "        continue\n",
    "    total += money \n",
    "print(final_mounth,total)"
   ]
  },
  {
   "cell_type": "raw",
   "id": "39a62d31-a2d8-4b0c-b610-087a99790920",
   "metadata": {},
   "source": [
    "OTRO EJEMPLO PARA QUE QUEDE MÀS CLARO \n"
   ]
  },
  {
   "cell_type": "code",
   "execution_count": 60,
   "id": "cc21ace4-9707-426d-948f-fc7c1776a129",
   "metadata": {},
   "outputs": [
    {
     "name": "stdout",
     "output_type": "stream",
     "text": [
      "0\n",
      "1\n",
      "2\n",
      "4\n",
      "5\n",
      "6\n",
      "7\n",
      "8\n"
     ]
    }
   ],
   "source": [
    "#Omita la iteración si la variable i es 3, pero continúe con la siguiente iteración:\n",
    "for i in range(9):\n",
    "    if i == 3:\n",
    "        continue\n",
    "    print(i)"
   ]
  },
  {
   "cell_type": "raw",
   "id": "e0a21362-50d0-4989-9498-4327d3bb20cd",
   "metadata": {},
   "source": [
    "La palabra clave se utiliza para finalizar la iteración actual en un bucle (o un bucle) y continúa hasta la siguiente iteración."
   ]
  },
  {
   "cell_type": "code",
   "execution_count": 61,
   "id": "fa163505-7268-4dc2-9e51-6c0920a5d0d5",
   "metadata": {},
   "outputs": [
    {
     "name": "stdout",
     "output_type": "stream",
     "text": [
      "1\n",
      "2\n",
      "4\n",
      "5\n",
      "6\n",
      "7\n",
      "8\n",
      "9\n"
     ]
    }
   ],
   "source": [
    "i = 0\n",
    "while i < 9:\n",
    "    i += 1\n",
    "    if i == 3:\n",
    "        continue\n",
    "    print(i)\n"
   ]
  },
  {
   "cell_type": "code",
   "execution_count": 62,
   "id": "70af2e12-7037-4da2-ae17-4e200705dd56",
   "metadata": {},
   "outputs": [
    {
     "name": "stdout",
     "output_type": "stream",
     "text": [
      "['HTTP OK', 'HTTP NOT FOUND'] ['main.html', 'index.html']\n",
      "HTTP OK main.html\n",
      "HTTP NOT FOUND index.html\n",
      "[('HTTP OK', 'main.html'), ('HTTP NOT FOUND', 'index.html')]\n",
      "('HTTP OK', 'HTTP NOT FOUND') ('main.html', 'index.html')\n"
     ]
    }
   ],
   "source": [
    "#zip \n",
    "# retorna un objeto iterable de tuplas \n",
    "status_logs = ['HTTP OK', 'HTTP NOT FOUND']\n",
    "page_logs = ['main.html','index.html']\n",
    "print(status_logs,page_logs)\n",
    "\n",
    "for status,page in zip(status_logs,page_logs):\n",
    "    print(status,page)\n",
    "    \n",
    "list_logs = list(zip(status_logs,page_logs))\n",
    "print(list_logs)\n",
    "\n",
    "tuple_status, tuple_page = zip(*list_logs)\n",
    "print(tuple_status,tuple_page)\n",
    "\n"
   ]
  },
  {
   "cell_type": "code",
   "execution_count": 63,
   "id": "a577a1fc-08d0-4ea9-a424-f80998dfef2b",
   "metadata": {},
   "outputs": [
    {
     "name": "stdout",
     "output_type": "stream",
     "text": [
      "Brazil Brazilia\n",
      "Chile Santiago\n",
      "China Pekin\n"
     ]
    }
   ],
   "source": [
    "countries = ['Brazil', 'Chile','China']\n",
    "capital = ['Brazilia','Santiago','Pekin']\n",
    "\n",
    "for country,capital in zip(countries,capital):\n",
    "    print(country,capital)"
   ]
  },
  {
   "cell_type": "raw",
   "id": "5ad5ebc9-c139-48e4-9d84-698833aa26d5",
   "metadata": {},
   "source": [
    "¿CUANDO USAR ZIP?\n",
    "ZIP OCUPA MUY POCA MEMORIA\n",
    "SI QUEREMOS RECORRER LISTAS MUY LARGAS PODEMOS USAR ZIP YA QUE ES MUY RÀPIDO\n"
   ]
  },
  {
   "cell_type": "code",
   "execution_count": 64,
   "id": "950622b8-67bf-4d27-a1e2-16cee0643956",
   "metadata": {},
   "outputs": [
    {
     "name": "stdout",
     "output_type": "stream",
     "text": [
      "0 Mary\n",
      "1 Carol\n",
      "2 Luis\n"
     ]
    }
   ],
   "source": [
    "#enumerate\n",
    "# es muy parecida a zip\n",
    "# solo necesitamos una lista\n",
    "students = ['Mary','Carol','Luis']\n",
    "for index, name in enumerate(students):\n",
    "    print(index,name)\n"
   ]
  },
  {
   "cell_type": "raw",
   "id": "6ec687c7-46d7-4e4c-b4e9-e837cbc050b5",
   "metadata": {},
   "source": [
    "LA ANTERIOR FUNCIÒN ES SUPER ÙTIL\n",
    "YA QUE NO TENEMOS QUE CREAR UNA VARIABLE PARA LOS INDICES Y ESTAR SUMANDO\n",
    "SOLO USAR ENUMERATE\n"
   ]
  },
  {
   "cell_type": "code",
   "execution_count": 65,
   "id": "2345d9ea-6f1b-4982-8094-c7d680d673a0",
   "metadata": {},
   "outputs": [
    {
     "name": "stdout",
     "output_type": "stream",
     "text": [
      "0 laptop\n",
      "1 celular\n",
      "2 desktop\n",
      "3 book\n"
     ]
    }
   ],
   "source": [
    "things = ['laptop','celular','desktop','book']\n",
    "for index, name in enumerate(things):\n",
    "    print(index,name)"
   ]
  },
  {
   "cell_type": "raw",
   "id": "5b78c2b3-800a-40d4-b359-6b37fc968d1e",
   "metadata": {},
   "source": [
    "ESTA ES LA ÙLTIMA PARTE DE CONTROL DE FLUJO"
   ]
  },
  {
   "cell_type": "markdown",
   "id": "cfeffd45-56e1-4bc5-a1c8-566393e8c1ac",
   "metadata": {},
   "source": [
    "<h1 style=\"text-align:center; color: orangered;\"> FUNCIONES </h1>"
   ]
  },
  {
   "cell_type": "raw",
   "id": "083509dd-f747-4b41-8da8-d03e4409cc0c",
   "metadata": {},
   "source": [
    "PARA CREAR UNA FUNCIÒN DEBEMOS INICIARLA CON LA PALABRA DEF "
   ]
  },
  {
   "cell_type": "raw",
   "id": "835d270e-4939-4e55-a68c-5675d10066c8",
   "metadata": {},
   "source": [
    "LAS FUNCIONES PUEDEN RETORNAR UN VALOR O IMPRIMIR UN VALOR\n",
    "PUEDEN TENER O NO ARGUMENTOS"
   ]
  },
  {
   "cell_type": "code",
   "execution_count": 66,
   "id": "7e96c3bb-e6ba-42dc-9e63-66d79e8305e2",
   "metadata": {},
   "outputs": [
    {
     "name": "stdout",
     "output_type": "stream",
     "text": [
      "Hello\n"
     ]
    }
   ],
   "source": [
    "#def \n",
    "\n",
    "def greetings():\n",
    "    print(\"Hello\")\n",
    "    \n",
    "greetings()"
   ]
  },
  {
   "cell_type": "raw",
   "id": "8f24a3be-218c-4e8a-bd52-8dd67f2e5ef4",
   "metadata": {},
   "source": [
    "CREAREMOS UNA FUNCIÒN CON ARGUMENTOS\n",
    "\n"
   ]
  },
  {
   "cell_type": "code",
   "execution_count": 67,
   "id": "21991164-5984-4e08-a616-b5684bfbd67a",
   "metadata": {},
   "outputs": [
    {
     "data": {
      "text/plain": [
       "100"
      ]
     },
     "execution_count": 67,
     "metadata": {},
     "output_type": "execute_result"
    }
   ],
   "source": [
    "def square_area(lado):\n",
    "    return lado **2\n",
    "square_area(10)"
   ]
  },
  {
   "cell_type": "raw",
   "id": "deb96ed2-f96b-4142-88ae-12fb6bd69505",
   "metadata": {},
   "source": [
    "CALCULAR EL ÀREA DEL CÌRCULO"
   ]
  },
  {
   "cell_type": "code",
   "execution_count": 68,
   "id": "a4ebbaf6-f2dc-400c-8699-2b4eb91be3c5",
   "metadata": {},
   "outputs": [
    {
     "data": {
      "text/plain": [
       "50.2656"
      ]
     },
     "execution_count": 68,
     "metadata": {},
     "output_type": "execute_result"
    }
   ],
   "source": [
    "def circle_area(radio):\n",
    "    pi = 3.1416 \n",
    "    return pi*radio**2\n",
    "# print(pi) esto nos darìa error\n",
    "#tratar de imprimir la variable fuera de la funciòn \n",
    "# solo se puede acceder en la funciòn \n",
    "circle_area(4)"
   ]
  },
  {
   "cell_type": "code",
   "execution_count": 69,
   "id": "47f04862-2621-43ad-9635-25fa6bbd0c93",
   "metadata": {},
   "outputs": [
    {
     "name": "stdout",
     "output_type": "stream",
     "text": [
      "4 28.2744\n"
     ]
    }
   ],
   "source": [
    "def square_area(lado):\n",
    "    return lado **2\n",
    "\n",
    "def circle_area(radio):\n",
    "    pi = 3.1416 \n",
    "    return(pi*radio**2)\n",
    "my_function = square_area(2)\n",
    "my_function_ = circle_area(3)\n",
    "print(my_function,my_function_)"
   ]
  },
  {
   "cell_type": "code",
   "execution_count": 70,
   "id": "75cad07e-b340-4baf-90b4-504b76e0e2ac",
   "metadata": {},
   "outputs": [
    {
     "name": "stdout",
     "output_type": "stream",
     "text": [
      "4\n",
      "None 28.2744\n"
     ]
    }
   ],
   "source": [
    "#AHORA MIRA EL RESULTADO DE LA MISMA FUNCIÒN\n",
    "#SOLO QUE EN VEZ DE RETURN USAREMOS PRINT\n",
    "#FUNCIÒN SIN RETORNAR\n",
    "def square_area(lado):\n",
    "    print(lado **2)\n",
    "\n",
    "def circle_area(radio):\n",
    "    pi = 3.1416 \n",
    "    return(pi*radio**2)\n",
    "my_function = square_area(2)\n",
    "my_function_ = circle_area(3)\n",
    "print(my_function,my_function_)\n"
   ]
  },
  {
   "cell_type": "code",
   "execution_count": 71,
   "id": "4b7c83d9-2632-4c63-9391-f362d80e8e33",
   "metadata": {},
   "outputs": [
    {
     "name": "stdout",
     "output_type": "stream",
     "text": [
      "16\n"
     ]
    }
   ],
   "source": [
    "square_area(lado = 4)\n",
    "#square_area(4)"
   ]
  },
  {
   "cell_type": "code",
   "execution_count": 72,
   "id": "24fe5d05-72eb-4c00-8285-9179a7a9253c",
   "metadata": {},
   "outputs": [],
   "source": [
    "def square_area(lado=5):\n",
    "    return lado **2"
   ]
  },
  {
   "cell_type": "code",
   "execution_count": 73,
   "id": "ee2d1e16-3737-410f-857d-35b25c34a272",
   "metadata": {},
   "outputs": [
    {
     "data": {
      "text/plain": [
       "25"
      ]
     },
     "execution_count": 73,
     "metadata": {},
     "output_type": "execute_result"
    }
   ],
   "source": [
    "square_area()"
   ]
  },
  {
   "cell_type": "markdown",
   "id": "a99333a8-74f9-4ca9-b5e1-38b4d070e08b",
   "metadata": {},
   "source": [
    "<h1> FUNCIONES LAMBDA </h1>\n"
   ]
  },
  {
   "cell_type": "raw",
   "id": "2f8b02f3-fabd-49af-8f5c-e24640878142",
   "metadata": {},
   "source": [
    "LAS FUNCIONES LAMBDA SONA QUELLAS QUE NO TIENEN NOMBRE\n",
    "SON MÙY UTILES PARA ESCRIBIR FUNCIONES  CORTAS"
   ]
  },
  {
   "cell_type": "code",
   "execution_count": 74,
   "id": "f967e5f5-6953-412d-ad53-26bd8258e841",
   "metadata": {},
   "outputs": [
    {
     "data": {
      "text/plain": [
       "15"
      ]
     },
     "execution_count": 74,
     "metadata": {},
     "output_type": "execute_result"
    }
   ],
   "source": [
    "def multiply(x):\n",
    "    return x*5\n",
    "multiply(3)"
   ]
  },
  {
   "cell_type": "code",
   "execution_count": 75,
   "id": "a9e1b62d-16e3-4eb1-b802-1c83347f6a90",
   "metadata": {},
   "outputs": [
    {
     "data": {
      "text/plain": [
       "15"
      ]
     },
     "execution_count": 75,
     "metadata": {},
     "output_type": "execute_result"
    }
   ],
   "source": [
    "multiply_lambda= lambda x: x*5 \n",
    "multiply_lambda(3)"
   ]
  },
  {
   "cell_type": "code",
   "execution_count": 76,
   "id": "4392684f-dee9-49c5-9fd6-303abfb41eba",
   "metadata": {},
   "outputs": [
    {
     "data": {
      "text/plain": [
       "True"
      ]
     },
     "execution_count": 76,
     "metadata": {},
     "output_type": "execute_result"
    }
   ],
   "source": [
    "# FUNCIÒN LAMBDA QUE CALCULA SI UN NÙMERO ES DIVISIBLE EN OTRO\n",
    "divisible = lambda x,y: x % y == 0\n",
    "divisible(30,5)"
   ]
  },
  {
   "cell_type": "code",
   "execution_count": 77,
   "id": "d53897c4-1e50-4096-bbed-1413821f133b",
   "metadata": {},
   "outputs": [
    {
     "data": {
      "text/plain": [
       "[4, 6, 2]"
      ]
     },
     "execution_count": 77,
     "metadata": {},
     "output_type": "execute_result"
    }
   ],
   "source": [
    "# filter\n",
    "numbers = [4,6,9,2]\n",
    "def multiple_dos(x):\n",
    "    return x %2 == 0\n",
    "list(filter(multiple_dos,numbers))\n",
    "\n",
    "# Ahora escribamos esa funciòn normal como funciòn lambda\n",
    "list(filter(lambda x: x % 2 == 0, numbers))"
   ]
  },
  {
   "cell_type": "code",
   "execution_count": 78,
   "id": "48a39ac5-2482-4550-9ed4-9a1b0d257f00",
   "metadata": {},
   "outputs": [
    {
     "data": {
      "text/plain": [
       "[True, True, False, True]"
      ]
     },
     "execution_count": 78,
     "metadata": {},
     "output_type": "execute_result"
    }
   ],
   "source": [
    "# map \n",
    "# Es parecido a filter \n",
    "# la diferencia es que mapa evalua uno a uno los elementos y retorne un objeto\n",
    "# para cada posiciòn pero nod escarta ninguno a diferencia de filter\n",
    "def multiple_dos(x):\n",
    "    return x % 2 == 0\n",
    "#list(map(multiple_dos,numbers))\n",
    "\n",
    "list(map(lambda x: x % 2 == 0,numbers))"
   ]
  },
  {
   "cell_type": "code",
   "execution_count": 79,
   "id": "c9055063-8eae-437e-bcd3-c853f5889680",
   "metadata": {},
   "outputs": [
    {
     "data": {
      "text/plain": [
       "[24, 36, 54, 12]"
      ]
     },
     "execution_count": 79,
     "metadata": {},
     "output_type": "execute_result"
    }
   ],
   "source": [
    "def multiple_dos(x):\n",
    "    return x % 2 == 0\n",
    "#list(map(multiple_dos,numbers))\n",
    "\n",
    "list(map(lambda x: x *6 ,numbers))"
   ]
  },
  {
   "cell_type": "raw",
   "id": "63698ed3-07fb-4d70-9caa-265685cf1340",
   "metadata": {},
   "source": [
    "MAP LO QUE HACE ES COLOCAR CADA RESULTADO EN LA LISTA"
   ]
  },
  {
   "cell_type": "raw",
   "id": "54e8e226-2f95-42b8-8191-52ba9eab52ba",
   "metadata": {},
   "source": [
    "VEAMOS OTRO EJEMPLO"
   ]
  },
  {
   "cell_type": "code",
   "execution_count": 80,
   "id": "e2e33f49-54ed-4961-95c4-3a6e1053abbe",
   "metadata": {},
   "outputs": [
    {
     "name": "stdout",
     "output_type": "stream",
     "text": [
      "['Mary', 'Jose']\n"
     ]
    }
   ],
   "source": [
    "things = ['Mary','food','laptop','Jose']\n",
    "#filter\n",
    "#filter solo deja los elementos que cumplen esta condiciòn\n",
    "\n",
    "names = list(filter(lambda x: x[0].isupper(),things))\n",
    "print(names)\n"
   ]
  },
  {
   "cell_type": "code",
   "execution_count": 81,
   "id": "9aa20b95-6ded-48ad-8169-7fa11f994675",
   "metadata": {},
   "outputs": [
    {
     "name": "stdout",
     "output_type": "stream",
     "text": [
      "[True, False, False, True]\n"
     ]
    }
   ],
   "source": [
    "#map\n",
    "#map deja todos los elementos y solo los evalua\n",
    "\n",
    "check_names = list(map(lambda x: x[0].isupper(),things))\n",
    "print(check_names)"
   ]
  },
  {
   "cell_type": "markdown",
   "id": "98f2e00e-e108-428d-8b8c-bf6209003aa8",
   "metadata": {},
   "source": [
    "<h1 style=\"text-align:center; color: orange; font-size: 100px;\">POO </h1>\n",
    "<strong> PROGRAMACIÒN ORIENTADA A OBJETOS </strong>"
   ]
  },
  {
   "cell_type": "raw",
   "id": "0c1dd39e-a5a3-4862-8953-be33903b7128",
   "metadata": {},
   "source": [
    "ES UNA PARADIGMA DE PROGRAMACIÒN QUE NOS PERMITE CREAR GRANDES PROGRAMAS QUE SEAN MODULARES Y EXTENDERLOS\n"
   ]
  },
  {
   "cell_type": "markdown",
   "id": "202381bb-ecea-4548-8b06-6eb23d731ace",
   "metadata": {},
   "source": [
    "<h6>  CLASES </h6>"
   ]
  },
  {
   "cell_type": "raw",
   "id": "efc06570-a049-4870-af56-1626eadc8fd0",
   "metadata": {},
   "source": [
    "UNA CLASE ES UNA FORMA DE ENPAQUETAR ATRIBUTOS, MÈTODOS DE ALGO QUE PODEMOS\n",
    "REPRESENTAR EN EL MUNDO REAL\n",
    "UNA CLASE PUEDE  SER:\n",
    "ESTUDIANTES, PROFESIONES, ANIMALES\n",
    "UN OBJETO:\n",
    "UN OBJETO ES UNA INSTANCIA DE UNA CLASE \n",
    "LA CLASE PUEDE SER ANIMALES\n",
    "Y EL OBJETO ES UN PERRO\n",
    "LA CLASE APARATOS\n",
    "EL OBJETO COMPUTADORA\n",
    "ATRIBUTOS SOND ESCRIPCIONES DE UNA CARACTERÌZTICA\n",
    "UN PERRO :\n",
    "SU PESO\n",
    "SU RAZA\n",
    "UN MÈTODO SON ACCIONES QUE UN OBJETO PUEDE UTILIZAR\n",
    ": CORRER\n",
    "COMER\n",
    "LADRAR\n"
   ]
  },
  {
   "cell_type": "raw",
   "id": "6b8616ee-df65-494b-865b-9d7fd7cbd705",
   "metadata": {},
   "source": [
    "UN CONSTRUCTOR ES UN MÈTODO QUE SE LLAMA PARA CREAR UN OBJETO DE ESA CLASE"
   ]
  },
  {
   "cell_type": "code",
   "execution_count": 82,
   "id": "0447b032-8503-4479-9627-89886dc7b2ec",
   "metadata": {},
   "outputs": [],
   "source": [
    "class Worker : \n",
    "    # INICIALIZADOR\n",
    "    # self hace referencia a la misma clase\n",
    "    def __init__(self,name,age):\n",
    "        self.name = name\n",
    "        self.age = age \n",
    "        # setters : actualizan un valor dentro de la clase\n",
    "    def set_salary(self,salary):\n",
    "        self.salary = salary \n",
    "        #getters: obtener valor\n",
    "    def get_net_salary(self):\n",
    "        return 0.9 *  self.salary\n",
    "\n",
    "    \n",
    "        "
   ]
  },
  {
   "cell_type": "code",
   "execution_count": 83,
   "id": "fa21c562-171a-4425-b9d0-73c9648677df",
   "metadata": {},
   "outputs": [
    {
     "name": "stdout",
     "output_type": "stream",
     "text": [
      "Juan\n",
      "40\n",
      "400\n",
      "360.0\n"
     ]
    }
   ],
   "source": [
    "worker_one = Worker('Juan', 40)\n",
    "#print(worker_one)\n",
    "print(worker_one.name)\n",
    "print(worker_one.age)\n",
    "# ERROR SI EJECUTO ESTO: print(worker_one.salary)\n",
    "#POR ENDE DEBO LLAMAR A SET\n",
    "\n",
    "worker_one.set_salary(400)\n",
    "print(worker_one.salary)\n",
    "print(worker_one.get_net_salary())\n"
   ]
  },
  {
   "cell_type": "raw",
   "id": "3da57c87-2fe5-4d7c-8681-5728169caebd",
   "metadata": {},
   "source": [
    "AHORA VEAMOS COMO MODIFICAR O ACTUALIZAR LOS ATRIBUTOS DE UNA CLASE"
   ]
  },
  {
   "cell_type": "raw",
   "id": "5235b24b-07b6-4a47-a35b-2048a109c282",
   "metadata": {},
   "source": [
    "SI YO QUIERO ACTUALIZAR EL NOMBRE DE WORKER ONE"
   ]
  },
  {
   "cell_type": "code",
   "execution_count": 84,
   "id": "83f18ad9-5a6b-4a67-99b3-98a414b7dba5",
   "metadata": {},
   "outputs": [
    {
     "name": "stdout",
     "output_type": "stream",
     "text": [
      "Laura\n",
      "66\n",
      "668\n"
     ]
    }
   ],
   "source": [
    "worker_one.name = 'Laura'\n",
    "print(worker_one.name)\n",
    "worker_one.age = 66\n",
    "print(worker_one.age)\n",
    "worker_one.salary = 668\n",
    "print(worker_one.salary)\n",
    "\n"
   ]
  },
  {
   "cell_type": "markdown",
   "id": "afa1cfa7-22b1-4e52-b3b0-8dcb9b2184dc",
   "metadata": {},
   "source": [
    "<h3> HERENCIA </h3>"
   ]
  },
  {
   "cell_type": "raw",
   "id": "6239b75b-1932-4948-a914-f1599303fad2",
   "metadata": {},
   "source": [
    "LA HERENCIA NOS VA A SERVIR PARA CREAR CLASES NUEVAS \n",
    "A PARTIR DE CLASES EXISTENTES\n",
    "LA CLASE PADRE DE DOCTOR ES WORKER"
   ]
  },
  {
   "cell_type": "code",
   "execution_count": 85,
   "id": "c2ccbe87-02be-4f24-b8dd-04c307732cea",
   "metadata": {},
   "outputs": [],
   "source": [
    "class Doctor(Worker):\n",
    "    def __init__(self,name,age,especialidad):\n",
    "        Worker.__init__(self,name,age)\n",
    "        self.especialidad = especialidad\n",
    "    def schedule_operation(self):\n",
    "        if self.especialidad == 'cardiologo':\n",
    "            return '8 am'\n",
    "        elif self.especialidad == 'neurólogo':\n",
    "            return '4pm'\n",
    "        else:\n",
    "            return '12pm'\n",
    "    def get_net_salary(self):\n",
    "        Worker.set_salary(self,1000)\n",
    "        \n",
    "        if self.especialidad == 'cardiologo':\n",
    "             return self.salary * 1.5\n",
    "        elif self.especialidad == 'neurólogo':\n",
    "            return self.salary * 2\n",
    "        else:\n",
    "            return self.salary\n",
    "        "
   ]
  },
  {
   "cell_type": "code",
   "execution_count": 86,
   "id": "2f0f8527-4dd0-4a35-9d6f-284304ecb66f",
   "metadata": {},
   "outputs": [
    {
     "name": "stdout",
     "output_type": "stream",
     "text": [
      "45\n",
      "8 am\n",
      "1500.0\n"
     ]
    }
   ],
   "source": [
    "doctor = Doctor('Luis',45,'cardiologo')\n",
    "print(doctor.age)\n",
    "print(doctor.schedule_operation())\n",
    "print(doctor.get_net_salary())"
   ]
  },
  {
   "cell_type": "markdown",
   "id": "278e4488-2861-4778-a042-eb3bb201e45c",
   "metadata": {},
   "source": [
    "<h1> FELICIDADES </h1>\n",
    "<p>\n",
    "    CON ESTOS CONCEPTOS YA PUEDES EMPEZAR CON ALGORITMOS DE\n",
    "    INTELIGENCIA ARTIFICIAL\n",
    "    </p>\n",
    "    "
   ]
  },
  {
   "cell_type": "markdown",
   "id": "c49bf009-e676-4a5e-ab2e-66aaf766b6ba",
   "metadata": {},
   "source": [
    "<a href=\"CLASEDOS.html\"> SIGUIENTES LECCIONES </a>"
   ]
  },
  {
   "cell_type": "markdown",
   "id": "4345136d-3c8c-4123-b392-9dc261268cef",
   "metadata": {},
   "source": [
    "<img src=\"https://aeonmerx.com/assets/about.png\">"
   ]
  },
  {
   "cell_type": "markdown",
   "id": "8e62af43-d07a-4072-b75a-8f6656d11a70",
   "metadata": {},
   "source": [
    " <h2> SOMOS AEON MERX GRACIAS POR ASISTIR </h2>\n",
    " "
   ]
  },
  {
   "cell_type": "raw",
   "id": "0ba489ae-129e-48fa-8585-421d67f3dd3f",
   "metadata": {},
   "source": [
    "DUDAS ESCRIBIR A: william.rativa4@misena.edu.co"
   ]
  }
 ],
 "metadata": {
  "kernelspec": {
   "display_name": "Python 3 (ipykernel)",
   "language": "python",
   "name": "python3"
  },
  "language_info": {
   "codemirror_mode": {
    "name": "ipython",
    "version": 3
   },
   "file_extension": ".py",
   "mimetype": "text/x-python",
   "name": "python",
   "nbconvert_exporter": "python",
   "pygments_lexer": "ipython3",
   "version": "3.9.12"
  },
  "toc-autonumbering": false,
  "toc-showcode": false,
  "toc-showmarkdowntxt": false
 },
 "nbformat": 4,
 "nbformat_minor": 5
}
